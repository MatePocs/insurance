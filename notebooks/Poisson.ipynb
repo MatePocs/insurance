{
 "cells": [
  {
   "cell_type": "markdown",
   "id": "c0810520",
   "metadata": {},
   "source": [
    "# Intro"
   ]
  },
  {
   "cell_type": "markdown",
   "id": "e46494fb",
   "metadata": {},
   "source": [
    "Purpose of this notebook: \n",
    "- summarise Poisson distribution\n",
    "- visualisations\n",
    "- demonstrate maximum likelihood method\n",
    "- debunking myth: frequency of claim number realisations should be Poisson\n",
    "\n",
    "- log-link function calculations\n",
    "\n",
    "Please note that this is a self-contained notebook, not using any of my functions. "
   ]
  },
  {
   "cell_type": "code",
   "execution_count": 24,
   "id": "2bfc1efa",
   "metadata": {},
   "outputs": [],
   "source": [
    "import numpy as np\n",
    "import pandas as pd\n",
    "from scipy.special import factorial # for elementwise factorial calc of array\n",
    "\n",
    "from matplotlib import pyplot as plt\n",
    "import seaborn as sns"
   ]
  },
  {
   "cell_type": "markdown",
   "id": "c1054138",
   "metadata": {},
   "source": [
    "# Poisson Theory"
   ]
  },
  {
   "cell_type": "markdown",
   "id": "85904ad2",
   "metadata": {},
   "source": [
    "For reference: [wikipedia page](https://en.wikipedia.org/wiki/Poisson_distribution), lots of extra information there (like assumptions, real-life examples, etc.)"
   ]
  },
  {
   "cell_type": "markdown",
   "id": "b0fd5062",
   "metadata": {},
   "source": [
    "__Parameters__: $\\lambda \\in (0, \\infty)$, this is the mean and variance as well  \n",
    "__Probability Mass Function__: $Pr(X=k) = \\displaystyle \\frac{\\lambda ^ {k} e ^ {- \\lambda}} {k!}$"
   ]
  },
  {
   "cell_type": "code",
   "execution_count": 1,
   "id": "00b3aa90",
   "metadata": {},
   "outputs": [],
   "source": [
    "def poisson_likelihood(actu, pred):\n",
    "    # the factorial is from the scipy package\n",
    "    return (np.power(pred, actu)) * np.exp(-pred) / factorial(actu)\n",
    "\n",
    "def poisson_loglikelihood(actu, pred):\n",
    "    return np.log(poisson_likelihood(actu, pred))"
   ]
  },
  {
   "cell_type": "code",
   "execution_count": 13,
   "id": "fa9081c8",
   "metadata": {},
   "outputs": [
    {
     "data": {
      "text/plain": [
       "True"
      ]
     },
     "execution_count": 13,
     "metadata": {},
     "output_type": "execute_result"
    }
   ],
   "source": [
    "poisson_likelihood(2, 0.5) == 0.5 ** 2 * np.exp(-0.5) / np.math.factorial(2)"
   ]
  },
  {
   "cell_type": "code",
   "execution_count": 14,
   "id": "9b4b6cbb",
   "metadata": {},
   "outputs": [
    {
     "data": {
      "text/plain": [
       "0.07581633246407918"
      ]
     },
     "execution_count": 14,
     "metadata": {},
     "output_type": "execute_result"
    }
   ],
   "source": [
    "poisson_likelihood(2, 0.5)"
   ]
  },
  {
   "cell_type": "code",
   "execution_count": 15,
   "id": "53e25edf",
   "metadata": {},
   "outputs": [
    {
     "data": {
      "text/plain": [
       "-2.5794415416798357"
      ]
     },
     "execution_count": 15,
     "metadata": {},
     "output_type": "execute_result"
    }
   ],
   "source": [
    "poisson_loglikelihood(2, 0.5)"
   ]
  },
  {
   "cell_type": "markdown",
   "id": "a6c642be",
   "metadata": {},
   "source": [
    "# Generate Data"
   ]
  },
  {
   "cell_type": "code",
   "execution_count": 58,
   "id": "013eca36",
   "metadata": {},
   "outputs": [],
   "source": [
    "# variables\n",
    "lambda1 = 0.85\n",
    "n1 = 100000"
   ]
  },
  {
   "cell_type": "code",
   "execution_count": 59,
   "id": "5713cfdb",
   "metadata": {},
   "outputs": [],
   "source": [
    "# df1: simple simulated Poisson\n",
    "df1 = pd.DataFrame.from_dict({'target': np.random.poisson(lambda1, n1)})"
   ]
  },
  {
   "cell_type": "code",
   "execution_count": 60,
   "id": "d56eb825",
   "metadata": {},
   "outputs": [],
   "source": [
    "# df2: probabilities\n",
    "df2 = pd.DataFrame.from_dict({'target' : range(10)})\n",
    "df2['likelihood'] = poisson_likelihood(df2['target'], lambda1)"
   ]
  },
  {
   "cell_type": "code",
   "execution_count": null,
   "id": "e630aa8d",
   "metadata": {},
   "outputs": [],
   "source": [
    "claim_freq = "
   ]
  },
  {
   "cell_type": "markdown",
   "id": "601e6eef",
   "metadata": {},
   "source": [
    "# Visualisations"
   ]
  },
  {
   "cell_type": "markdown",
   "id": "d0ffe896",
   "metadata": {},
   "source": [
    "## Simulation"
   ]
  },
  {
   "cell_type": "code",
   "execution_count": 61,
   "id": "e18bb0d1",
   "metadata": {},
   "outputs": [
    {
     "data": {
      "image/png": "[encoded data removed]",
      "text/plain": [
       "<Figure size 360x360 with 1 Axes>"
      ]
     },
     "metadata": {
      "needs_background": "light"
     },
     "output_type": "display_data"
    }
   ],
   "source": [
    "sns.displot(df1['target'])\n",
    "plt.show()"
   ]
  },
  {
   "cell_type": "markdown",
   "id": "25c6a933",
   "metadata": {},
   "source": [
    "## Likelihood"
   ]
  },
  {
   "cell_type": "code",
   "execution_count": 62,
   "id": "dcd9edaa",
   "metadata": {},
   "outputs": [
    {
     "data": {
      "image/png": "[encoded data removed]",
      "text/plain": [
       "<Figure size 432x288 with 1 Axes>"
      ]
     },
     "metadata": {
      "needs_background": "light"
     },
     "output_type": "display_data"
    }
   ],
   "source": [
    "sns.barplot(x = df2['target'], y = df2['likelihood'])\n",
    "plt.show()"
   ]
  },
  {
   "cell_type": "markdown",
   "id": "34e54151",
   "metadata": {},
   "source": [
    "TODO: make these plots match in style. "
   ]
  },
  {
   "cell_type": "markdown",
   "id": "ccf79af2",
   "metadata": {},
   "source": [
    "# Maximum Likelihood Demonstration"
   ]
  },
  {
   "cell_type": "markdown",
   "id": "511c779f",
   "metadata": {},
   "source": [
    "Goal here: demonstrate that the highest likelihood is achieved with simply average. Meaning the maximum likelihood estimation is also the method of moments. "
   ]
  },
  {
   "cell_type": "code",
   "execution_count": 72,
   "id": "6c82ac0c",
   "metadata": {},
   "outputs": [],
   "source": [
    "ml1 = pd.DataFrame({'lambda':np.linspace(0.01,1,100)})"
   ]
  },
  {
   "cell_type": "code",
   "execution_count": 73,
   "id": "e087e4b8",
   "metadata": {},
   "outputs": [],
   "source": [
    "ml1['poisson_loglikelihood'] = ml1['lambda'].apply(lambda x: np.mean(poisson_loglikelihood(df1['target'], x)))"
   ]
  },
  {
   "cell_type": "code",
   "execution_count": 76,
   "id": "dd194202",
   "metadata": {},
   "outputs": [
    {
     "data": {
      "text/html": [
       "<div>\n",
       "<style scoped>\n",
       "    .dataframe tbody tr th:only-of-type {\n",
       "        vertical-align: middle;\n",
       "    }\n",
       "\n",
       "    .dataframe tbody tr th {\n",
       "        vertical-align: top;\n",
       "    }\n",
       "\n",
       "    .dataframe thead th {\n",
       "        text-align: right;\n",
       "    }\n",
       "</style>\n",
       "<table border=\"1\" class=\"dataframe\">\n",
       "  <thead>\n",
       "    <tr style=\"text-align: right;\">\n",
       "      <th></th>\n",
       "      <th>lambda</th>\n",
       "      <th>poisson_loglikelihood</th>\n",
       "    </tr>\n",
       "  </thead>\n",
       "  <tbody>\n",
       "    <tr>\n",
       "      <th>0</th>\n",
       "      <td>0.01</td>\n",
       "      <td>-4.174989</td>\n",
       "    </tr>\n",
       "    <tr>\n",
       "      <th>1</th>\n",
       "      <td>0.02</td>\n",
       "      <td>-3.592320</td>\n",
       "    </tr>\n",
       "    <tr>\n",
       "      <th>2</th>\n",
       "      <td>0.03</td>\n",
       "      <td>-3.255631</td>\n",
       "    </tr>\n",
       "    <tr>\n",
       "      <th>3</th>\n",
       "      <td>0.04</td>\n",
       "      <td>-3.019651</td>\n",
       "    </tr>\n",
       "    <tr>\n",
       "      <th>4</th>\n",
       "      <td>0.05</td>\n",
       "      <td>-2.838855</td>\n",
       "    </tr>\n",
       "    <tr>\n",
       "      <th>...</th>\n",
       "      <td>...</td>\n",
       "      <td>...</td>\n",
       "    </tr>\n",
       "    <tr>\n",
       "      <th>87</th>\n",
       "      <td>0.88</td>\n",
       "      <td>-1.216687</td>\n",
       "    </tr>\n",
       "    <tr>\n",
       "      <th>83</th>\n",
       "      <td>0.84</td>\n",
       "      <td>-1.216463</td>\n",
       "    </tr>\n",
       "    <tr>\n",
       "      <th>86</th>\n",
       "      <td>0.87</td>\n",
       "      <td>-1.216459</td>\n",
       "    </tr>\n",
       "    <tr>\n",
       "      <th>84</th>\n",
       "      <td>0.85</td>\n",
       "      <td>-1.216344</td>\n",
       "    </tr>\n",
       "    <tr>\n",
       "      <th>85</th>\n",
       "      <td>0.86</td>\n",
       "      <td>-1.216344</td>\n",
       "    </tr>\n",
       "  </tbody>\n",
       "</table>\n",
       "<p>100 rows × 2 columns</p>\n",
       "</div>"
      ],
      "text/plain": [
       "    lambda  poisson_loglikelihood\n",
       "0     0.01              -4.174989\n",
       "1     0.02              -3.592320\n",
       "2     0.03              -3.255631\n",
       "3     0.04              -3.019651\n",
       "4     0.05              -2.838855\n",
       "..     ...                    ...\n",
       "87    0.88              -1.216687\n",
       "83    0.84              -1.216463\n",
       "86    0.87              -1.216459\n",
       "84    0.85              -1.216344\n",
       "85    0.86              -1.216344\n",
       "\n",
       "[100 rows x 2 columns]"
      ]
     },
     "execution_count": 76,
     "metadata": {},
     "output_type": "execute_result"
    }
   ],
   "source": [
    "ml1.sort_values('poisson_loglikelihood')"
   ]
  },
  {
   "cell_type": "code",
   "execution_count": 79,
   "id": "2c54d7bf",
   "metadata": {},
   "outputs": [
    {
     "data": {
      "text/plain": [
       "0.85504"
      ]
     },
     "execution_count": 79,
     "metadata": {},
     "output_type": "execute_result"
    }
   ],
   "source": [
    "np.mean(df1['target'])"
   ]
  },
  {
   "cell_type": "code",
   "execution_count": null,
   "id": "a0b0eea5",
   "metadata": {},
   "outputs": [],
   "source": []
  },
  {
   "cell_type": "code",
   "execution_count": null,
   "id": "08a3ce74",
   "metadata": {},
   "outputs": [],
   "source": []
  },
  {
   "cell_type": "markdown",
   "id": "e2d40730",
   "metadata": {},
   "source": [
    "# Claim Occurence Table is not Poisson"
   ]
  },
  {
   "cell_type": "markdown",
   "id": "05babd49",
   "metadata": {},
   "source": [
    "how often a certain number of claim occurs is not in itself Poisson - it's not adding Poisson numbers"
   ]
  },
  {
   "cell_type": "code",
   "execution_count": null,
   "id": "c0148a1e",
   "metadata": {},
   "outputs": [],
   "source": []
  },
  {
   "cell_type": "code",
   "execution_count": null,
   "id": "5b8808af",
   "metadata": {},
   "outputs": [],
   "source": []
  },
  {
   "cell_type": "markdown",
   "id": "d0c7b7ac",
   "metadata": {},
   "source": [
    "# Log-link calculations"
   ]
  },
  {
   "cell_type": "markdown",
   "id": "f7e071c6",
   "metadata": {},
   "source": [
    "canonical log-link for stuff like GLM, GBM, etc: log-link, how does it work, and how can we derive gradient and hessian? "
   ]
  },
  {
   "cell_type": "code",
   "execution_count": null,
   "id": "cdbdc936",
   "metadata": {},
   "outputs": [],
   "source": []
  },
  {
   "cell_type": "code",
   "execution_count": null,
   "id": "d2a5a454",
   "metadata": {},
   "outputs": [],
   "source": []
  },
  {
   "cell_type": "code",
   "execution_count": null,
   "id": "a03504ba",
   "metadata": {},
   "outputs": [],
   "source": []
  },
  {
   "cell_type": "code",
   "execution_count": null,
   "id": "2c3b721a",
   "metadata": {},
   "outputs": [],
   "source": []
  },
  {
   "cell_type": "code",
   "execution_count": null,
   "id": "dc10ba75",
   "metadata": {},
   "outputs": [],
   "source": []
  }
 ],
 "metadata": {
  "kernelspec": {
   "display_name": "Python 3 (ipykernel)",
   "language": "python",
   "name": "python3"
  },
  "language_info": {
   "codemirror_mode": {
    "name": "ipython",
    "version": 3
   },
   "file_extension": ".py",
   "mimetype": "text/x-python",
   "name": "python",
   "nbconvert_exporter": "python",
   "pygments_lexer": "ipython3",
   "version": "3.9.12"
  },
  "toc": {
   "base_numbering": 1,
   "nav_menu": {},
   "number_sections": true,
   "sideBar": true,
   "skip_h1_title": false,
   "title_cell": "Table of Contents",
   "title_sidebar": "Contents",
   "toc_cell": false,
   "toc_position": {},
   "toc_section_display": true,
   "toc_window_display": true
  },
  "varInspector": {
   "cols": {
    "lenName": 16,
    "lenType": 16,
    "lenVar": 40
   },
   "kernels_config": {
    "python": {
     "delete_cmd_postfix": "",
     "delete_cmd_prefix": "del ",
     "library": "var_list.py",
     "varRefreshCmd": "print(var_dic_list())"
    },
    "r": {
     "delete_cmd_postfix": ") ",
     "delete_cmd_prefix": "rm(",
     "library": "var_list.r",
     "varRefreshCmd": "cat(var_dic_list()) "
    }
   },
   "types_to_exclude": [
    "module",
    "function",
    "builtin_function_or_method",
    "instance",
    "_Feature"
   ],
   "window_display": false
  }
 },
 "nbformat": 4,
 "nbformat_minor": 5
}
