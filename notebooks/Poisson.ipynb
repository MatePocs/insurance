{
 "cells": [
  {
   "cell_type": "markdown",
   "id": "c0810520",
   "metadata": {},
   "source": [
    "# Intro"
   ]
  },
  {
   "cell_type": "markdown",
   "id": "e46494fb",
   "metadata": {},
   "source": [
    "Goal of this notebook: \n",
    "- summarise Poisson distribution\n",
    "- visualisations\n",
    "- demonstrate maximum likelihood method\n",
    "- debunking myth: frequency of claim number realisations should be Poisson\n",
    "\n",
    "- log-link function calculations\n",
    "\n",
    "Please note that this is a self-contained notebook, not using any of my functions. "
   ]
  },
  {
   "cell_type": "code",
   "execution_count": 20,
   "id": "2bfc1efa",
   "metadata": {},
   "outputs": [],
   "source": [
    "import numpy as np\n",
    "import pandas as pd\n",
    "from scipy.special import factorial # for elementwise factorial calc of array\n",
    "\n",
    "from matplotlib import pyplot as plt\n",
    "import seaborn as sns"
   ]
  },
  {
   "cell_type": "markdown",
   "id": "c1054138",
   "metadata": {},
   "source": [
    "# Poisson Summary"
   ]
  },
  {
   "cell_type": "markdown",
   "id": "85904ad2",
   "metadata": {},
   "source": [
    "For reference: [wikipedia page](https://en.wikipedia.org/wiki/Poisson_distribution), lots of extra information there (like assumptions, real-life examples, etc.)"
   ]
  },
  {
   "cell_type": "markdown",
   "id": "b0fd5062",
   "metadata": {},
   "source": [
    "__Parameters__: $\\lambda \\in (0, \\infty)$, this is the mean and variance as well  \n",
    "<br>\n",
    "__Probability Mass Function__: $Pr(X=k) = \\displaystyle \\frac{\\lambda ^ {k} e ^ {- \\lambda}} {k!}$\n",
    "<br>\n",
    "\n",
    "The following likelihood functions are the 'standard' approach, so we have observations from one specific distribution. \n",
    "\n",
    "__Likelihood__: $L(\\lambda, x _{1}, ..., x _{n}) = \\displaystyle \\prod _{j=1} ^{n} \\displaystyle \\frac{\\lambda ^ {x _{j}} e ^ {- \\lambda}} {x _{j} !}$\n",
    "\n",
    "__Log-likelihood__: $l(\\lambda, x _{1}, ..., x _{n}) =  log(L(\\lambda, x _{1}, ..., x _{n})) = log(\\displaystyle \\prod _{j=1} ^{n} \\displaystyle \\frac{\\lambda ^ {x _{j}} e ^ {- \\lambda}} {x _{j} !}) = \\sum \\limits _{j=1} ^{n} log (\\displaystyle \\frac{\\lambda ^ {x _{j}} e ^ {- \\lambda}} {x _{j} !}) = $\n",
    "<br>\n",
    "$ = log(\\lambda) \\sum \\limits _{j=1} ^{n} x _{j} - n \\lambda - \\sum \\limits _{j=1} ^{n} log(x _{j}!) $\n",
    "\n",
    "However, in insurance, we basically need to calculate likelihoods row-wise, so there's not much point in writing formulas that assume the same predicted value (a.k.a. lambda). I think it's better to work with this approach, and know that the likelihoods should be multiplied, while the individual log-likelihoods should be summed. \n",
    "\n",
    "With that, the functions I am going to use will assume two scalar inputs. \n",
    "\n",
    "__Likelihood__: $L(\\lambda, k) = \\displaystyle \\frac{\\lambda ^ {k} e ^ {- \\lambda}} {k!}$\n",
    "<br>\n",
    "\n",
    "__Log-likelihood__: $l(\\lambda, k) = log(L(\\lambda, k)) = k * log(\\lambda) -\\lambda - log(k!)$"
   ]
  },
  {
   "cell_type": "code",
   "execution_count": 20,
   "id": "37a06866",
   "metadata": {},
   "outputs": [
    {
     "data": {
      "text/plain": [
       "2.70805020110221"
      ]
     },
     "execution_count": 20,
     "metadata": {},
     "output_type": "execute_result"
    }
   ],
   "source": [
    "np.log(3) + np.log(5)"
   ]
  },
  {
   "cell_type": "code",
   "execution_count": 21,
   "id": "8ac03f25",
   "metadata": {},
   "outputs": [
    {
     "data": {
      "text/plain": [
       "2.70805020110221"
      ]
     },
     "execution_count": 21,
     "metadata": {},
     "output_type": "execute_result"
    }
   ],
   "source": [
    "np.log(15)"
   ]
  },
  {
   "cell_type": "code",
   "execution_count": 18,
   "id": "00b3aa90",
   "metadata": {},
   "outputs": [],
   "source": [
    "def poisson_likelihood(actu, pred):\n",
    "    # the factorial is from the scipy package\n",
    "    return (np.power(pred, actu)) * np.exp(-pred) / factorial(actu)\n",
    "\n",
    "def poisson_loglikelihood(actu, pred):\n",
    "    return np.log(poisson_likelihood(actu, pred))\n",
    "\n",
    "def poisson_loglikelihood2(actu, pred):\n",
    "    # just a demonstration to make sure my formulas work\n",
    "    return actu * np.log(pred) - pred - np.log(factorial(actu))"
   ]
  },
  {
   "cell_type": "code",
   "execution_count": 23,
   "id": "fa9081c8",
   "metadata": {},
   "outputs": [
    {
     "data": {
      "text/plain": [
       "True"
      ]
     },
     "execution_count": 23,
     "metadata": {},
     "output_type": "execute_result"
    }
   ],
   "source": [
    "poisson_likelihood(2, 0.5) == 0.5 ** 2 * np.exp(-0.5) / np.math.factorial(2)"
   ]
  },
  {
   "cell_type": "code",
   "execution_count": 24,
   "id": "9b4b6cbb",
   "metadata": {},
   "outputs": [
    {
     "data": {
      "text/plain": [
       "0.07581633246407918"
      ]
     },
     "execution_count": 24,
     "metadata": {},
     "output_type": "execute_result"
    }
   ],
   "source": [
    "poisson_likelihood(2, 0.5)"
   ]
  },
  {
   "cell_type": "code",
   "execution_count": 25,
   "id": "53e25edf",
   "metadata": {},
   "outputs": [
    {
     "data": {
      "text/plain": [
       "-2.5794415416798357"
      ]
     },
     "execution_count": 25,
     "metadata": {},
     "output_type": "execute_result"
    }
   ],
   "source": [
    "poisson_loglikelihood(2, 0.5)"
   ]
  },
  {
   "cell_type": "code",
   "execution_count": 26,
   "id": "d62b5957",
   "metadata": {},
   "outputs": [
    {
     "data": {
      "text/plain": [
       "-2.5794415416798357"
      ]
     },
     "execution_count": 26,
     "metadata": {},
     "output_type": "execute_result"
    }
   ],
   "source": [
    "poisson_loglikelihood2(2, 0.5)"
   ]
  },
  {
   "cell_type": "markdown",
   "id": "eba6e2da",
   "metadata": {},
   "source": [
    "## Deviance"
   ]
  },
  {
   "cell_type": "markdown",
   "id": "9ed69f9f",
   "metadata": {},
   "source": [
    "Testing the formula found here: https://scikit-learn.org/stable/modules/linear_model.html#generalized-linear-models\n",
    "\n",
    "More accurately, see the p=1 mean_tweedie_deviance here, because the log needs special care when the actual is 0: https://github.com/scikit-learn/scikit-learn/blob/364c77e04/sklearn/metrics/_regression.py#L1095"
   ]
  },
  {
   "cell_type": "code",
   "execution_count": 6,
   "id": "903927a9",
   "metadata": {},
   "outputs": [],
   "source": [
    "from scipy.special import xlogy"
   ]
  },
  {
   "cell_type": "code",
   "execution_count": 12,
   "id": "36a4922a",
   "metadata": {},
   "outputs": [],
   "source": [
    "def my_poisson_deviance(actu, pred):\n",
    "    return(2 * (xlogy(actu, actu / pred) - actu + pred))"
   ]
  },
  {
   "cell_type": "code",
   "execution_count": 10,
   "id": "fdf2259f",
   "metadata": {},
   "outputs": [
    {
     "data": {
      "text/plain": [
       "1.4260151319598084"
      ]
     },
     "execution_count": 10,
     "metadata": {},
     "output_type": "execute_result"
    }
   ],
   "source": [
    "from sklearn.metrics import mean_poisson_deviance\n",
    "y_true = [2, 0, 1, 4]\n",
    "y_pred = [0.5, 0.5, 2., 2.]\n",
    "mean_poisson_deviance(y_true, y_pred)"
   ]
  },
  {
   "cell_type": "code",
   "execution_count": 15,
   "id": "601a4496",
   "metadata": {},
   "outputs": [
    {
     "data": {
      "text/plain": [
       "array([2.54517744, 1.        , 0.61370564, 1.54517744])"
      ]
     },
     "execution_count": 15,
     "metadata": {},
     "output_type": "execute_result"
    }
   ],
   "source": [
    "my_poisson_deviance(np.array(y_true), np.array(y_pred))"
   ]
  },
  {
   "cell_type": "code",
   "execution_count": 14,
   "id": "49e95554",
   "metadata": {},
   "outputs": [],
   "source": [
    "def my_mean_poisson_deviance(actu, pred):\n",
    "    return(np.sum(my_poisson_deviance(actu,pred)) / len(actu))"
   ]
  },
  {
   "cell_type": "code",
   "execution_count": 16,
   "id": "45c3ecbd",
   "metadata": {},
   "outputs": [
    {
     "data": {
      "text/plain": [
       "1.4260151319598084"
      ]
     },
     "execution_count": 16,
     "metadata": {},
     "output_type": "execute_result"
    }
   ],
   "source": [
    "my_mean_poisson_deviance(np.array(y_true), np.array(y_pred))"
   ]
  },
  {
   "cell_type": "markdown",
   "id": "45a5d7dc",
   "metadata": {},
   "source": [
    "And now let's check how deviance is derived from likelihood. "
   ]
  },
  {
   "cell_type": "code",
   "execution_count": 17,
   "id": "a333a0a1",
   "metadata": {},
   "outputs": [
    {
     "data": {
      "text/plain": [
       "2.5451774444795623"
      ]
     },
     "execution_count": 17,
     "metadata": {},
     "output_type": "execute_result"
    }
   ],
   "source": [
    "my_poisson_deviance(2,0.5)"
   ]
  },
  {
   "cell_type": "code",
   "execution_count": 21,
   "id": "59a8c61e",
   "metadata": {},
   "outputs": [
    {
     "data": {
      "text/plain": [
       "2.5451774444795623"
      ]
     },
     "execution_count": 21,
     "metadata": {},
     "output_type": "execute_result"
    }
   ],
   "source": [
    "-2 * (poisson_loglikelihood(2, 0.5) - poisson_loglikelihood(2,2))"
   ]
  },
  {
   "cell_type": "code",
   "execution_count": null,
   "id": "e16a74fa",
   "metadata": {},
   "outputs": [],
   "source": []
  },
  {
   "cell_type": "code",
   "execution_count": null,
   "id": "5844a411",
   "metadata": {},
   "outputs": [],
   "source": []
  },
  {
   "cell_type": "markdown",
   "id": "a6c642be",
   "metadata": {},
   "source": [
    "# Generate Data"
   ]
  },
  {
   "cell_type": "code",
   "execution_count": 6,
   "id": "013eca36",
   "metadata": {},
   "outputs": [],
   "source": [
    "# variables\n",
    "lambda1 = 0.85\n",
    "n1 = 100000"
   ]
  },
  {
   "cell_type": "code",
   "execution_count": 7,
   "id": "5713cfdb",
   "metadata": {},
   "outputs": [],
   "source": [
    "# df1: simple simulated Poisson\n",
    "df1 = pd.DataFrame.from_dict({'target': np.random.poisson(lambda1, n1)})"
   ]
  },
  {
   "cell_type": "code",
   "execution_count": 11,
   "id": "d56eb825",
   "metadata": {},
   "outputs": [],
   "source": [
    "# df2: probabilities (likelihoods)\n",
    "df2 = pd.DataFrame.from_dict({'target' : range(10)})\n",
    "df2['likelihood'] = poisson_likelihood(df2['target'], lambda1)"
   ]
  },
  {
   "cell_type": "code",
   "execution_count": null,
   "id": "1231ba08",
   "metadata": {},
   "outputs": [],
   "source": []
  },
  {
   "cell_type": "code",
   "execution_count": null,
   "id": "49de1c02",
   "metadata": {},
   "outputs": [],
   "source": []
  },
  {
   "cell_type": "markdown",
   "id": "601e6eef",
   "metadata": {},
   "source": [
    "# Visualisations"
   ]
  },
  {
   "cell_type": "markdown",
   "id": "d0ffe896",
   "metadata": {},
   "source": [
    "## Simulation"
   ]
  },
  {
   "cell_type": "code",
   "execution_count": 9,
   "id": "e18bb0d1",
   "metadata": {},
   "outputs": [
    {
     "data": {
      "image/png": "[encoded data removed]",
      "text/plain": [
       "<Figure size 360x360 with 1 Axes>"
      ]
     },
     "metadata": {
      "needs_background": "light"
     },
     "output_type": "display_data"
    }
   ],
   "source": [
    "sns.displot(df1['target'])\n",
    "plt.show()"
   ]
  },
  {
   "cell_type": "markdown",
   "id": "25c6a933",
   "metadata": {},
   "source": [
    "## Likelihood"
   ]
  },
  {
   "cell_type": "code",
   "execution_count": 10,
   "id": "dcd9edaa",
   "metadata": {},
   "outputs": [
    {
     "data": {
      "image/png": "[encoded data removed]",
      "text/plain": [
       "<Figure size 432x288 with 1 Axes>"
      ]
     },
     "metadata": {
      "needs_background": "light"
     },
     "output_type": "display_data"
    }
   ],
   "source": [
    "sns.barplot(x = df2['target'], y = df2['likelihood'])\n",
    "plt.show()"
   ]
  },
  {
   "cell_type": "markdown",
   "id": "ccf79af2",
   "metadata": {},
   "source": [
    "# Maximum Likelihood Demonstration"
   ]
  },
  {
   "cell_type": "markdown",
   "id": "511c779f",
   "metadata": {},
   "source": [
    "Goal here: demonstrate that the highest likelihood is achieved with simply taking the average of observations. Meaning the maximum likelihood estimation is also the method of moments for a Poisson distribution. \n",
    "\n",
    "Of course, not proving anything, this is just a demonstration. Although the proof is not complicated either. "
   ]
  },
  {
   "cell_type": "markdown",
   "id": "82df74f0",
   "metadata": {},
   "source": [
    "__Poisson MLE__: $\\hat{\\lambda}_{n} = \\displaystyle \\frac{1} {n} \n",
    "\\sum \\limits _{j=1} ^{n} X_{n}   $"
   ]
  },
  {
   "cell_type": "code",
   "execution_count": 15,
   "id": "6c82ac0c",
   "metadata": {},
   "outputs": [
    {
     "data": {
      "text/html": [
       "<div>\n",
       "<style scoped>\n",
       "    .dataframe tbody tr th:only-of-type {\n",
       "        vertical-align: middle;\n",
       "    }\n",
       "\n",
       "    .dataframe tbody tr th {\n",
       "        vertical-align: top;\n",
       "    }\n",
       "\n",
       "    .dataframe thead th {\n",
       "        text-align: right;\n",
       "    }\n",
       "</style>\n",
       "<table border=\"1\" class=\"dataframe\">\n",
       "  <thead>\n",
       "    <tr style=\"text-align: right;\">\n",
       "      <th></th>\n",
       "      <th>lambda</th>\n",
       "      <th>poisson_loglikelihood</th>\n",
       "    </tr>\n",
       "  </thead>\n",
       "  <tbody>\n",
       "    <tr>\n",
       "      <th>0</th>\n",
       "      <td>0.01</td>\n",
       "      <td>-4.126825</td>\n",
       "    </tr>\n",
       "    <tr>\n",
       "      <th>1</th>\n",
       "      <td>0.02</td>\n",
       "      <td>-3.550797</td>\n",
       "    </tr>\n",
       "    <tr>\n",
       "      <th>2</th>\n",
       "      <td>0.03</td>\n",
       "      <td>-3.217992</td>\n",
       "    </tr>\n",
       "    <tr>\n",
       "      <th>3</th>\n",
       "      <td>0.04</td>\n",
       "      <td>-2.984768</td>\n",
       "    </tr>\n",
       "    <tr>\n",
       "      <th>4</th>\n",
       "      <td>0.05</td>\n",
       "      <td>-2.806110</td>\n",
       "    </tr>\n",
       "    <tr>\n",
       "      <th>...</th>\n",
       "      <td>...</td>\n",
       "      <td>...</td>\n",
       "    </tr>\n",
       "    <tr>\n",
       "      <th>86</th>\n",
       "      <td>0.87</td>\n",
       "      <td>-1.211078</td>\n",
       "    </tr>\n",
       "    <tr>\n",
       "      <th>82</th>\n",
       "      <td>0.83</td>\n",
       "      <td>-1.210872</td>\n",
       "    </tr>\n",
       "    <tr>\n",
       "      <th>85</th>\n",
       "      <td>0.86</td>\n",
       "      <td>-1.210852</td>\n",
       "    </tr>\n",
       "    <tr>\n",
       "      <th>83</th>\n",
       "      <td>0.84</td>\n",
       "      <td>-1.210747</td>\n",
       "    </tr>\n",
       "    <tr>\n",
       "      <th>84</th>\n",
       "      <td>0.85</td>\n",
       "      <td>-1.210741</td>\n",
       "    </tr>\n",
       "  </tbody>\n",
       "</table>\n",
       "<p>150 rows × 2 columns</p>\n",
       "</div>"
      ],
      "text/plain": [
       "    lambda  poisson_loglikelihood\n",
       "0     0.01              -4.126825\n",
       "1     0.02              -3.550797\n",
       "2     0.03              -3.217992\n",
       "3     0.04              -2.984768\n",
       "4     0.05              -2.806110\n",
       "..     ...                    ...\n",
       "86    0.87              -1.211078\n",
       "82    0.83              -1.210872\n",
       "85    0.86              -1.210852\n",
       "83    0.84              -1.210747\n",
       "84    0.85              -1.210741\n",
       "\n",
       "[150 rows x 2 columns]"
      ]
     },
     "execution_count": 15,
     "metadata": {},
     "output_type": "execute_result"
    }
   ],
   "source": [
    "ml1 = pd.DataFrame({'lambda':np.linspace(0.01,1.5,150)})\n",
    "\n",
    "ml1['poisson_loglikelihood'] = ml1['lambda'].apply(lambda x: np.mean(poisson_loglikelihood(df1['target'], x)))\n",
    "\n",
    "ml1.sort_values('poisson_loglikelihood')"
   ]
  },
  {
   "cell_type": "code",
   "execution_count": 16,
   "id": "2c54d7bf",
   "metadata": {},
   "outputs": [
    {
     "data": {
      "text/plain": [
       "0.85"
      ]
     },
     "execution_count": 16,
     "metadata": {},
     "output_type": "execute_result"
    }
   ],
   "source": [
    "np.round(np.mean(df1['target']),2)"
   ]
  },
  {
   "cell_type": "code",
   "execution_count": 18,
   "id": "a0b0eea5",
   "metadata": {},
   "outputs": [
    {
     "data": {
      "image/png": "[encoded data removed]",
      "text/plain": [
       "<Figure size 432x288 with 1 Axes>"
      ]
     },
     "metadata": {
      "needs_background": "light"
     },
     "output_type": "display_data"
    }
   ],
   "source": [
    "sns.lineplot(x = ml1['lambda'], y = ml1['poisson_loglikelihood'])\n",
    "plt.show()"
   ]
  },
  {
   "cell_type": "code",
   "execution_count": null,
   "id": "7ce065cf",
   "metadata": {},
   "outputs": [],
   "source": []
  },
  {
   "cell_type": "code",
   "execution_count": null,
   "id": "08a3ce74",
   "metadata": {},
   "outputs": [],
   "source": []
  },
  {
   "cell_type": "markdown",
   "id": "e2d40730",
   "metadata": {},
   "source": [
    "# Claim Occurence Table is not Poisson"
   ]
  },
  {
   "cell_type": "markdown",
   "id": "05babd49",
   "metadata": {},
   "source": [
    "how often a certain number of claim occurs is not in itself Poisson - it's not adding Poisson numbers"
   ]
  },
  {
   "cell_type": "code",
   "execution_count": null,
   "id": "157a7400",
   "metadata": {},
   "outputs": [],
   "source": []
  },
  {
   "cell_type": "code",
   "execution_count": null,
   "id": "c0148a1e",
   "metadata": {},
   "outputs": [],
   "source": []
  },
  {
   "cell_type": "code",
   "execution_count": null,
   "id": "5b8808af",
   "metadata": {},
   "outputs": [],
   "source": []
  },
  {
   "cell_type": "markdown",
   "id": "d0c7b7ac",
   "metadata": {},
   "source": [
    "# Log-link Calculations"
   ]
  },
  {
   "cell_type": "markdown",
   "id": "f7e071c6",
   "metadata": {},
   "source": [
    "The canonical link function for a Poisson regression (regardless of whether GLM or GBM) is the logarithm. \n",
    "\n",
    "This means that rather than predicting lambda itself, the model estimates a _raw_score_ in a linear fashion from the features, and then the final prediction is the exponential of this _raw_score_. \n",
    "\n",
    "This doesn't change the fact that we are maximising the sum of the log-likelihood, just by another format of the same variable. "
   ]
  },
  {
   "cell_type": "markdown",
   "id": "05e9e60c",
   "metadata": {},
   "source": [
    "## Gradient and Hessian"
   ]
  },
  {
   "cell_type": "markdown",
   "id": "26d6417c",
   "metadata": {},
   "source": [
    "The gradient and hessian used in the gradient descent methods is the first and second order derivative of the log-likelihood function with respect to the predicted value. The important tweak is that this is the predicted raw score, not the final predicted value. \n",
    "\n",
    "First, we have to re-work the log-likelihood function. "
   ]
  },
  {
   "cell_type": "markdown",
   "id": "80022895",
   "metadata": {},
   "source": [
    "if $\\lambda _{raw} = log(\\lambda) $, then $\\lambda = e ^{\\lambda _{raw}}$, and we can re-write the log-likelihood formula: \n",
    "\n",
    "$l(\\lambda, k) = log(L(\\lambda, k)) = k * log(\\lambda) -\\lambda - log(k!) = k * log(e ^{\\lambda _{raw}}) -e ^{\\lambda _{raw}} - log(k!) = k * \\lambda _{raw} - e ^{\\lambda _{raw}} - log(k!)$\n",
    "<br>\n",
    "<br>\n",
    "The gradient is going to be the derivative by $\\lambda _{raw}$\n",
    "<br>\n",
    "$G(\\lambda _{raw}, k) = \\displaystyle \\frac {d(l(\\lambda _{raw}, k))} {d \\lambda _{raw}} = k - e ^{\\lambda _{raw}} = k - \\lambda$\n",
    "<br>\n",
    "This is the usual actu - pred result. \n",
    "Hessian is one additional derivation, which is going to be simply $\\lambda$, so pred. Need to be careful with the signs though!"
   ]
  },
  {
   "cell_type": "code",
   "execution_count": null,
   "id": "3c6e2b73",
   "metadata": {},
   "outputs": [],
   "source": []
  },
  {
   "cell_type": "code",
   "execution_count": null,
   "id": "357e1b90",
   "metadata": {},
   "outputs": [],
   "source": []
  },
  {
   "cell_type": "markdown",
   "id": "1b14a314",
   "metadata": {},
   "source": [
    "# TODO"
   ]
  },
  {
   "cell_type": "markdown",
   "id": "6daffaaf",
   "metadata": {},
   "source": [
    "- Make charts nicer, match in style, etc. \n",
    "- Demonstrate why claim occurence table is not in itself Poisson. "
   ]
  },
  {
   "cell_type": "code",
   "execution_count": null,
   "id": "f846f04c",
   "metadata": {},
   "outputs": [],
   "source": []
  }
 ],
 "metadata": {
  "kernelspec": {
   "display_name": "Python 3 (ipykernel)",
   "language": "python",
   "name": "python3"
  },
  "language_info": {
   "codemirror_mode": {
    "name": "ipython",
    "version": 3
   },
   "file_extension": ".py",
   "mimetype": "text/x-python",
   "name": "python",
   "nbconvert_exporter": "python",
   "pygments_lexer": "ipython3",
   "version": "3.9.12"
  },
  "toc": {
   "base_numbering": 1,
   "nav_menu": {},
   "number_sections": true,
   "sideBar": true,
   "skip_h1_title": false,
   "title_cell": "Table of Contents",
   "title_sidebar": "Contents",
   "toc_cell": false,
   "toc_position": {},
   "toc_section_display": true,
   "toc_window_display": true
  },
  "varInspector": {
   "cols": {
    "lenName": 16,
    "lenType": 16,
    "lenVar": 40
   },
   "kernels_config": {
    "python": {
     "delete_cmd_postfix": "",
     "delete_cmd_prefix": "del ",
     "library": "var_list.py",
     "varRefreshCmd": "print(var_dic_list())"
    },
    "r": {
     "delete_cmd_postfix": ") ",
     "delete_cmd_prefix": "rm(",
     "library": "var_list.r",
     "varRefreshCmd": "cat(var_dic_list()) "
    }
   },
   "types_to_exclude": [
    "module",
    "function",
    "builtin_function_or_method",
    "instance",
    "_Feature"
   ],
   "window_display": false
  }
 },
 "nbformat": 4,
 "nbformat_minor": 5
}
