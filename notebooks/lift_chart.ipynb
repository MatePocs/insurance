{
 "cells": [
  {
   "cell_type": "markdown",
   "id": "13936d27",
   "metadata": {},
   "source": [
    "TODO: \n",
    "- get better data, this is not realistic (predictions are too wild)\n",
    "- build in exposure"
   ]
  },
  {
   "cell_type": "markdown",
   "id": "3aba9285",
   "metadata": {},
   "source": [
    "# Intro"
   ]
  },
  {
   "cell_type": "markdown",
   "id": "b9b1264c",
   "metadata": {},
   "source": [
    "Goal: create a function that draws lift charts. "
   ]
  },
  {
   "cell_type": "code",
   "execution_count": 1,
   "id": "2706d678",
   "metadata": {},
   "outputs": [],
   "source": [
    "import numpy as np\n",
    "import pandas as pd\n",
    "\n",
    "import seaborn as sns\n",
    "from matplotlib import pyplot as plt\n",
    "\n",
    "import tweedie # for tweedie random sample"
   ]
  },
  {
   "cell_type": "markdown",
   "id": "afa907a1",
   "metadata": {},
   "source": [
    "# Chart Summary"
   ]
  },
  {
   "cell_type": "markdown",
   "id": "04545708",
   "metadata": {},
   "source": [
    "lift chart shows two lines: one for predicted and one for actual\n",
    "\n",
    "first, the data is sorted by the predicted values\n",
    "\n",
    "then, we sum up the actual and predicted values in a number of bins\n",
    "\n",
    "cutoff points should be by policy level (an alternative approach would be to keep the sum of insured years constant across the groups)\n",
    "\n",
    "the predicted line will be monotonic, and the actual will be a jagged line along it"
   ]
  },
  {
   "cell_type": "code",
   "execution_count": null,
   "id": "2afd96ee",
   "metadata": {},
   "outputs": [],
   "source": []
  },
  {
   "cell_type": "markdown",
   "id": "e998f46f",
   "metadata": {},
   "source": [
    "# Sample Data Generation"
   ]
  },
  {
   "cell_type": "markdown",
   "id": "89daadb6",
   "metadata": {},
   "source": [
    "Create 100 groups with different tweedie distributions, and make the predictions kinda align with the group averages, but with a large enough random adjustment to make it imperfect. "
   ]
  },
  {
   "cell_type": "code",
   "execution_count": 2,
   "id": "124609d1",
   "metadata": {},
   "outputs": [],
   "source": [
    "df = pd.DataFrame.from_dict({'feature' : np.repeat(range(1,21),100)})\n",
    "df['feature'] = df['feature'] * 1000"
   ]
  },
  {
   "cell_type": "code",
   "execution_count": 3,
   "id": "161658ff",
   "metadata": {},
   "outputs": [],
   "source": [
    "# note: this takes a bit of time even with only 10k rows\n",
    "df['actu'] = df.apply(lambda row : tweedie.tweedie(mu=row['feature'], p=1.5, phi=20).rvs(1)[0], axis = 1)"
   ]
  },
  {
   "cell_type": "code",
   "execution_count": 4,
   "id": "af5b3d41",
   "metadata": {},
   "outputs": [
    {
     "data": {
      "text/html": [
       "<div>\n",
       "<style scoped>\n",
       "    .dataframe tbody tr th:only-of-type {\n",
       "        vertical-align: middle;\n",
       "    }\n",
       "\n",
       "    .dataframe tbody tr th {\n",
       "        vertical-align: top;\n",
       "    }\n",
       "\n",
       "    .dataframe thead th {\n",
       "        text-align: right;\n",
       "    }\n",
       "</style>\n",
       "<table border=\"1\" class=\"dataframe\">\n",
       "  <thead>\n",
       "    <tr style=\"text-align: right;\">\n",
       "      <th></th>\n",
       "      <th>actu</th>\n",
       "    </tr>\n",
       "    <tr>\n",
       "      <th>feature</th>\n",
       "      <th></th>\n",
       "    </tr>\n",
       "  </thead>\n",
       "  <tbody>\n",
       "    <tr>\n",
       "      <th>1000</th>\n",
       "      <td>960.239373</td>\n",
       "    </tr>\n",
       "    <tr>\n",
       "      <th>2000</th>\n",
       "      <td>2112.033350</td>\n",
       "    </tr>\n",
       "    <tr>\n",
       "      <th>3000</th>\n",
       "      <td>2802.249305</td>\n",
       "    </tr>\n",
       "    <tr>\n",
       "      <th>4000</th>\n",
       "      <td>4381.507939</td>\n",
       "    </tr>\n",
       "    <tr>\n",
       "      <th>5000</th>\n",
       "      <td>4917.105920</td>\n",
       "    </tr>\n",
       "    <tr>\n",
       "      <th>6000</th>\n",
       "      <td>5806.088495</td>\n",
       "    </tr>\n",
       "    <tr>\n",
       "      <th>7000</th>\n",
       "      <td>7062.043227</td>\n",
       "    </tr>\n",
       "    <tr>\n",
       "      <th>8000</th>\n",
       "      <td>8273.955519</td>\n",
       "    </tr>\n",
       "    <tr>\n",
       "      <th>9000</th>\n",
       "      <td>9514.596472</td>\n",
       "    </tr>\n",
       "    <tr>\n",
       "      <th>10000</th>\n",
       "      <td>9727.625838</td>\n",
       "    </tr>\n",
       "    <tr>\n",
       "      <th>11000</th>\n",
       "      <td>10939.026229</td>\n",
       "    </tr>\n",
       "    <tr>\n",
       "      <th>12000</th>\n",
       "      <td>12411.571360</td>\n",
       "    </tr>\n",
       "    <tr>\n",
       "      <th>13000</th>\n",
       "      <td>12185.445190</td>\n",
       "    </tr>\n",
       "    <tr>\n",
       "      <th>14000</th>\n",
       "      <td>13315.689068</td>\n",
       "    </tr>\n",
       "    <tr>\n",
       "      <th>15000</th>\n",
       "      <td>15107.890814</td>\n",
       "    </tr>\n",
       "    <tr>\n",
       "      <th>16000</th>\n",
       "      <td>17032.765097</td>\n",
       "    </tr>\n",
       "    <tr>\n",
       "      <th>17000</th>\n",
       "      <td>16359.614555</td>\n",
       "    </tr>\n",
       "    <tr>\n",
       "      <th>18000</th>\n",
       "      <td>17234.636325</td>\n",
       "    </tr>\n",
       "    <tr>\n",
       "      <th>19000</th>\n",
       "      <td>18382.612425</td>\n",
       "    </tr>\n",
       "    <tr>\n",
       "      <th>20000</th>\n",
       "      <td>20006.162231</td>\n",
       "    </tr>\n",
       "  </tbody>\n",
       "</table>\n",
       "</div>"
      ],
      "text/plain": [
       "                 actu\n",
       "feature              \n",
       "1000       960.239373\n",
       "2000      2112.033350\n",
       "3000      2802.249305\n",
       "4000      4381.507939\n",
       "5000      4917.105920\n",
       "6000      5806.088495\n",
       "7000      7062.043227\n",
       "8000      8273.955519\n",
       "9000      9514.596472\n",
       "10000     9727.625838\n",
       "11000    10939.026229\n",
       "12000    12411.571360\n",
       "13000    12185.445190\n",
       "14000    13315.689068\n",
       "15000    15107.890814\n",
       "16000    17032.765097\n",
       "17000    16359.614555\n",
       "18000    17234.636325\n",
       "19000    18382.612425\n",
       "20000    20006.162231"
      ]
     },
     "execution_count": 4,
     "metadata": {},
     "output_type": "execute_result"
    }
   ],
   "source": [
    "averages = df.groupby('feature').agg({'actu': np.mean})\n",
    "averages"
   ]
  },
  {
   "cell_type": "code",
   "execution_count": 6,
   "id": "998fffc2",
   "metadata": {},
   "outputs": [],
   "source": [
    "df['pred_error'] = np.random.normal(loc = 0, scale = 2000, size = 2000)"
   ]
  },
  {
   "cell_type": "code",
   "execution_count": 7,
   "id": "a87e69f3",
   "metadata": {},
   "outputs": [],
   "source": [
    "df['pred'] = df['feature'] + df['pred_error']"
   ]
  },
  {
   "cell_type": "code",
   "execution_count": 8,
   "id": "94c6ae15",
   "metadata": {},
   "outputs": [],
   "source": [
    "df['pred'] = df['pred'].clip(100,None)"
   ]
  },
  {
   "cell_type": "markdown",
   "id": "17d7e44b",
   "metadata": {},
   "source": [
    "# Functions"
   ]
  },
  {
   "cell_type": "markdown",
   "id": "d0d8d370",
   "metadata": {},
   "source": [
    "First, we need a function that converts the data into a lift chart table."
   ]
  },
  {
   "cell_type": "code",
   "execution_count": 38,
   "id": "9d52641a",
   "metadata": {},
   "outputs": [],
   "source": [
    "def get_liftchart_table(actu, pred, number_of_bins):\n",
    "    \"\"\"\n",
    "    Sorts the table by predicted values, assigns the data into bins.\n",
    "    Sums up the values by bin number. \n",
    "    Returns a pandas DataFrame.\n",
    "    \"\"\"\n",
    "    \n",
    "    liftchart_df = pd.DataFrame.from_dict({'actu': actu, 'pred': pred})\n",
    "    liftchart_df.sort_values('pred', inplace = True)\n",
    "    liftchart_df['rank'] = range(1,len(liftchart_df['pred'])+1)\n",
    "    liftchart_df['bin'] = ((liftchart_df['rank'] - 1) / len(liftchart_df['rank']) * number_of_bins) // 1 + 1\n",
    "    liftchart_df = liftchart_df.groupby('bin').agg({'actu': np.sum, 'pred': np.sum})\n",
    "    \n",
    "    liftchart_df.reset_index(inplace = True)\n",
    "    \n",
    "    return liftchart_df\n",
    "    "
   ]
  },
  {
   "cell_type": "code",
   "execution_count": 39,
   "id": "3ea289e3",
   "metadata": {},
   "outputs": [],
   "source": [
    "liftchart_df = get_liftchart_table(df['actu'], df['pred'], 15)"
   ]
  },
  {
   "cell_type": "code",
   "execution_count": 40,
   "id": "157f0db7",
   "metadata": {},
   "outputs": [
    {
     "data": {
      "text/html": [
       "<div>\n",
       "<style scoped>\n",
       "    .dataframe tbody tr th:only-of-type {\n",
       "        vertical-align: middle;\n",
       "    }\n",
       "\n",
       "    .dataframe tbody tr th {\n",
       "        vertical-align: top;\n",
       "    }\n",
       "\n",
       "    .dataframe thead th {\n",
       "        text-align: right;\n",
       "    }\n",
       "</style>\n",
       "<table border=\"1\" class=\"dataframe\">\n",
       "  <thead>\n",
       "    <tr style=\"text-align: right;\">\n",
       "      <th></th>\n",
       "      <th>bin</th>\n",
       "      <th>actu</th>\n",
       "      <th>pred</th>\n",
       "    </tr>\n",
       "  </thead>\n",
       "  <tbody>\n",
       "    <tr>\n",
       "      <th>0</th>\n",
       "      <td>1.0</td>\n",
       "      <td>2.491687e+05</td>\n",
       "      <td>6.144317e+04</td>\n",
       "    </tr>\n",
       "    <tr>\n",
       "      <th>1</th>\n",
       "      <td>2.0</td>\n",
       "      <td>3.804341e+05</td>\n",
       "      <td>3.033783e+05</td>\n",
       "    </tr>\n",
       "    <tr>\n",
       "      <th>2</th>\n",
       "      <td>3.0</td>\n",
       "      <td>5.692142e+05</td>\n",
       "      <td>5.059746e+05</td>\n",
       "    </tr>\n",
       "    <tr>\n",
       "      <th>3</th>\n",
       "      <td>4.0</td>\n",
       "      <td>6.841322e+05</td>\n",
       "      <td>6.758990e+05</td>\n",
       "    </tr>\n",
       "    <tr>\n",
       "      <th>4</th>\n",
       "      <td>5.0</td>\n",
       "      <td>8.779178e+05</td>\n",
       "      <td>8.588469e+05</td>\n",
       "    </tr>\n",
       "    <tr>\n",
       "      <th>5</th>\n",
       "      <td>6.0</td>\n",
       "      <td>1.057859e+06</td>\n",
       "      <td>1.031182e+06</td>\n",
       "    </tr>\n",
       "    <tr>\n",
       "      <th>6</th>\n",
       "      <td>7.0</td>\n",
       "      <td>1.215911e+06</td>\n",
       "      <td>1.211266e+06</td>\n",
       "    </tr>\n",
       "    <tr>\n",
       "      <th>7</th>\n",
       "      <td>8.0</td>\n",
       "      <td>1.471264e+06</td>\n",
       "      <td>1.375213e+06</td>\n",
       "    </tr>\n",
       "    <tr>\n",
       "      <th>8</th>\n",
       "      <td>9.0</td>\n",
       "      <td>1.525786e+06</td>\n",
       "      <td>1.555551e+06</td>\n",
       "    </tr>\n",
       "    <tr>\n",
       "      <th>9</th>\n",
       "      <td>10.0</td>\n",
       "      <td>1.739862e+06</td>\n",
       "      <td>1.751492e+06</td>\n",
       "    </tr>\n",
       "    <tr>\n",
       "      <th>10</th>\n",
       "      <td>11.0</td>\n",
       "      <td>1.953065e+06</td>\n",
       "      <td>1.929203e+06</td>\n",
       "    </tr>\n",
       "    <tr>\n",
       "      <th>11</th>\n",
       "      <td>12.0</td>\n",
       "      <td>2.038420e+06</td>\n",
       "      <td>2.110507e+06</td>\n",
       "    </tr>\n",
       "    <tr>\n",
       "      <th>12</th>\n",
       "      <td>13.0</td>\n",
       "      <td>2.256162e+06</td>\n",
       "      <td>2.305822e+06</td>\n",
       "    </tr>\n",
       "    <tr>\n",
       "      <th>13</th>\n",
       "      <td>14.0</td>\n",
       "      <td>2.326233e+06</td>\n",
       "      <td>2.478047e+06</td>\n",
       "    </tr>\n",
       "    <tr>\n",
       "      <th>14</th>\n",
       "      <td>15.0</td>\n",
       "      <td>2.507856e+06</td>\n",
       "      <td>2.785412e+06</td>\n",
       "    </tr>\n",
       "  </tbody>\n",
       "</table>\n",
       "</div>"
      ],
      "text/plain": [
       "     bin          actu          pred\n",
       "0    1.0  2.491687e+05  6.144317e+04\n",
       "1    2.0  3.804341e+05  3.033783e+05\n",
       "2    3.0  5.692142e+05  5.059746e+05\n",
       "3    4.0  6.841322e+05  6.758990e+05\n",
       "4    5.0  8.779178e+05  8.588469e+05\n",
       "5    6.0  1.057859e+06  1.031182e+06\n",
       "6    7.0  1.215911e+06  1.211266e+06\n",
       "7    8.0  1.471264e+06  1.375213e+06\n",
       "8    9.0  1.525786e+06  1.555551e+06\n",
       "9   10.0  1.739862e+06  1.751492e+06\n",
       "10  11.0  1.953065e+06  1.929203e+06\n",
       "11  12.0  2.038420e+06  2.110507e+06\n",
       "12  13.0  2.256162e+06  2.305822e+06\n",
       "13  14.0  2.326233e+06  2.478047e+06\n",
       "14  15.0  2.507856e+06  2.785412e+06"
      ]
     },
     "execution_count": 40,
     "metadata": {},
     "output_type": "execute_result"
    }
   ],
   "source": [
    "liftchart_df"
   ]
  },
  {
   "cell_type": "code",
   "execution_count": 42,
   "id": "c998e8f5",
   "metadata": {},
   "outputs": [
    {
     "data": {
      "image/png": "[encoded data removed]",
      "text/plain": [
       "<Figure size 432x288 with 1 Axes>"
      ]
     },
     "metadata": {
      "needs_background": "light"
     },
     "output_type": "display_data"
    }
   ],
   "source": [
    "sns.lineplot(x = liftchart_df['bin'], y = liftchart_df['actu'])\n",
    "sns.lineplot(x = liftchart_df['bin'], y = liftchart_df['pred'])\n",
    "plt.show()"
   ]
  },
  {
   "cell_type": "code",
   "execution_count": 22,
   "id": "b3c3c550",
   "metadata": {},
   "outputs": [],
   "source": []
  },
  {
   "cell_type": "code",
   "execution_count": null,
   "id": "95e3fe3a",
   "metadata": {},
   "outputs": [],
   "source": []
  },
  {
   "cell_type": "code",
   "execution_count": null,
   "id": "54c15f1e",
   "metadata": {},
   "outputs": [],
   "source": []
  }
 ],
 "metadata": {
  "kernelspec": {
   "display_name": "Python 3 (ipykernel)",
   "language": "python",
   "name": "python3"
  },
  "language_info": {
   "codemirror_mode": {
    "name": "ipython",
    "version": 3
   },
   "file_extension": ".py",
   "mimetype": "text/x-python",
   "name": "python",
   "nbconvert_exporter": "python",
   "pygments_lexer": "ipython3",
   "version": "3.9.12"
  },
  "toc": {
   "base_numbering": 1,
   "nav_menu": {},
   "number_sections": true,
   "sideBar": true,
   "skip_h1_title": false,
   "title_cell": "Table of Contents",
   "title_sidebar": "Contents",
   "toc_cell": false,
   "toc_position": {},
   "toc_section_display": true,
   "toc_window_display": false
  },
  "varInspector": {
   "cols": {
    "lenName": 16,
    "lenType": 16,
    "lenVar": 40
   },
   "kernels_config": {
    "python": {
     "delete_cmd_postfix": "",
     "delete_cmd_prefix": "del ",
     "library": "var_list.py",
     "varRefreshCmd": "print(var_dic_list())"
    },
    "r": {
     "delete_cmd_postfix": ") ",
     "delete_cmd_prefix": "rm(",
     "library": "var_list.r",
     "varRefreshCmd": "cat(var_dic_list()) "
    }
   },
   "types_to_exclude": [
    "module",
    "function",
    "builtin_function_or_method",
    "instance",
    "_Feature"
   ],
   "window_display": false
  }
 },
 "nbformat": 4,
 "nbformat_minor": 5
}
