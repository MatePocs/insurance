{
 "cells": [
  {
   "cell_type": "markdown",
   "id": "13936d27",
   "metadata": {},
   "source": [
    "TODO: \n",
    "- get better data, this is not realistic (predictions are too wild)"
   ]
  },
  {
   "cell_type": "markdown",
   "id": "3aba9285",
   "metadata": {},
   "source": [
    "# Intro"
   ]
  },
  {
   "cell_type": "markdown",
   "id": "b9b1264c",
   "metadata": {},
   "source": [
    "Goal: create a function that draws lift charts. "
   ]
  },
  {
   "cell_type": "code",
   "execution_count": 4,
   "id": "2706d678",
   "metadata": {},
   "outputs": [],
   "source": [
    "import numpy as np\n",
    "import pandas as pd\n",
    "\n",
    "import seaborn as sns\n",
    "from matplotlib import pyplot as plt\n",
    "\n",
    "import tweedie # for tweedie random sample"
   ]
  },
  {
   "cell_type": "markdown",
   "id": "afa907a1",
   "metadata": {},
   "source": [
    "# Chart Summary"
   ]
  },
  {
   "cell_type": "markdown",
   "id": "04545708",
   "metadata": {},
   "source": [
    "lift chart shows two lines: one for predicted and one for actual\n",
    "\n",
    "first, the data is sorted by the predicted values\n",
    "\n",
    "then, we sum up the actual and predicted values in a number of bins\n",
    "\n",
    "cutoff points should be by policy level (an alternative approach would be to keep the sum of insured years constant across the groups)\n",
    "\n",
    "the predicted line will be monotonic, and the actual will be a jagged line along it"
   ]
  },
  {
   "cell_type": "code",
   "execution_count": null,
   "id": "2afd96ee",
   "metadata": {},
   "outputs": [],
   "source": []
  },
  {
   "cell_type": "markdown",
   "id": "e998f46f",
   "metadata": {},
   "source": [
    "# Sample Data Generation"
   ]
  },
  {
   "cell_type": "markdown",
   "id": "89daadb6",
   "metadata": {},
   "source": [
    "Create 100 groups with different tweedie distributions, and make the predictions kinda align with the group averages, but with a large enough random adjustment to make it imperfect. "
   ]
  },
  {
   "cell_type": "code",
   "execution_count": 38,
   "id": "124609d1",
   "metadata": {},
   "outputs": [],
   "source": [
    "df = pd.DataFrame.from_dict({'feature' : np.repeat(range(1,101),100)})\n",
    "df['feature'] = df['feature'] * 1000"
   ]
  },
  {
   "cell_type": "code",
   "execution_count": 39,
   "id": "09b23d8f",
   "metadata": {},
   "outputs": [
    {
     "data": {
      "text/plain": [
       "0.0"
      ]
     },
     "execution_count": 39,
     "metadata": {},
     "output_type": "execute_result"
    }
   ],
   "source": [
    "tweedie.tweedie(mu=10, p=1.5, phi=20).rvs(1)[0]"
   ]
  },
  {
   "cell_type": "code",
   "execution_count": 40,
   "id": "161658ff",
   "metadata": {},
   "outputs": [],
   "source": [
    "# note: this takes a bit of time even with only 10k rows\n",
    "df['actu'] = df.apply(lambda row : tweedie.tweedie(mu=row['feature'], p=1.5, phi=20).rvs(1)[0], axis = 1)"
   ]
  },
  {
   "cell_type": "code",
   "execution_count": 43,
   "id": "af5b3d41",
   "metadata": {},
   "outputs": [
    {
     "data": {
      "text/html": [
       "<div>\n",
       "<style scoped>\n",
       "    .dataframe tbody tr th:only-of-type {\n",
       "        vertical-align: middle;\n",
       "    }\n",
       "\n",
       "    .dataframe tbody tr th {\n",
       "        vertical-align: top;\n",
       "    }\n",
       "\n",
       "    .dataframe thead th {\n",
       "        text-align: right;\n",
       "    }\n",
       "</style>\n",
       "<table border=\"1\" class=\"dataframe\">\n",
       "  <thead>\n",
       "    <tr style=\"text-align: right;\">\n",
       "      <th></th>\n",
       "      <th>actu</th>\n",
       "    </tr>\n",
       "    <tr>\n",
       "      <th>feature</th>\n",
       "      <th></th>\n",
       "    </tr>\n",
       "  </thead>\n",
       "  <tbody>\n",
       "    <tr>\n",
       "      <th>1000</th>\n",
       "      <td>1023.858586</td>\n",
       "    </tr>\n",
       "    <tr>\n",
       "      <th>2000</th>\n",
       "      <td>1992.885585</td>\n",
       "    </tr>\n",
       "    <tr>\n",
       "      <th>3000</th>\n",
       "      <td>3050.272427</td>\n",
       "    </tr>\n",
       "    <tr>\n",
       "      <th>4000</th>\n",
       "      <td>3929.129012</td>\n",
       "    </tr>\n",
       "    <tr>\n",
       "      <th>5000</th>\n",
       "      <td>5057.273470</td>\n",
       "    </tr>\n",
       "    <tr>\n",
       "      <th>...</th>\n",
       "      <td>...</td>\n",
       "    </tr>\n",
       "    <tr>\n",
       "      <th>96000</th>\n",
       "      <td>97158.874094</td>\n",
       "    </tr>\n",
       "    <tr>\n",
       "      <th>97000</th>\n",
       "      <td>95024.913990</td>\n",
       "    </tr>\n",
       "    <tr>\n",
       "      <th>98000</th>\n",
       "      <td>98969.703627</td>\n",
       "    </tr>\n",
       "    <tr>\n",
       "      <th>99000</th>\n",
       "      <td>96244.027236</td>\n",
       "    </tr>\n",
       "    <tr>\n",
       "      <th>100000</th>\n",
       "      <td>97067.747221</td>\n",
       "    </tr>\n",
       "  </tbody>\n",
       "</table>\n",
       "<p>100 rows × 1 columns</p>\n",
       "</div>"
      ],
      "text/plain": [
       "                 actu\n",
       "feature              \n",
       "1000      1023.858586\n",
       "2000      1992.885585\n",
       "3000      3050.272427\n",
       "4000      3929.129012\n",
       "5000      5057.273470\n",
       "...               ...\n",
       "96000    97158.874094\n",
       "97000    95024.913990\n",
       "98000    98969.703627\n",
       "99000    96244.027236\n",
       "100000   97067.747221\n",
       "\n",
       "[100 rows x 1 columns]"
      ]
     },
     "execution_count": 43,
     "metadata": {},
     "output_type": "execute_result"
    }
   ],
   "source": [
    "averages = df.groupby('feature').agg({'actu': np.mean})\n",
    "averages"
   ]
  },
  {
   "cell_type": "code",
   "execution_count": 73,
   "id": "998fffc2",
   "metadata": {},
   "outputs": [],
   "source": [
    "df['pred_error'] = np.random.normal(loc = 0, scale = 2000, size = 10000)"
   ]
  },
  {
   "cell_type": "code",
   "execution_count": 74,
   "id": "a87e69f3",
   "metadata": {},
   "outputs": [],
   "source": [
    "df['pred'] = df['feature'] + df['pred_error']"
   ]
  },
  {
   "cell_type": "code",
   "execution_count": 75,
   "id": "94c6ae15",
   "metadata": {},
   "outputs": [],
   "source": [
    "df['pred'] = df['pred'].clip(100,None)"
   ]
  },
  {
   "cell_type": "markdown",
   "id": "17d7e44b",
   "metadata": {},
   "source": [
    "# Functions"
   ]
  },
  {
   "cell_type": "markdown",
   "id": "d0d8d370",
   "metadata": {},
   "source": [
    "First, we need a function that converts the data into a lift chart table."
   ]
  },
  {
   "cell_type": "code",
   "execution_count": 76,
   "id": "96304b36",
   "metadata": {},
   "outputs": [],
   "source": [
    "input_df = df.copy()"
   ]
  },
  {
   "cell_type": "code",
   "execution_count": 77,
   "id": "3ea289e3",
   "metadata": {},
   "outputs": [],
   "source": [
    "input_df.sort_values('pred', inplace = True)"
   ]
  },
  {
   "cell_type": "code",
   "execution_count": null,
   "id": "d74ab9ca",
   "metadata": {},
   "outputs": [],
   "source": [
    "number_of_bins = 15"
   ]
  },
  {
   "cell_type": "code",
   "execution_count": 81,
   "id": "157f0db7",
   "metadata": {},
   "outputs": [],
   "source": [
    "input_df['rank'] = range(1,len(input_df['pred'])+1)"
   ]
  },
  {
   "cell_type": "code",
   "execution_count": null,
   "id": "c998e8f5",
   "metadata": {},
   "outputs": [],
   "source": [
    "input_df['']"
   ]
  },
  {
   "cell_type": "code",
   "execution_count": 82,
   "id": "f3f2a294",
   "metadata": {},
   "outputs": [
    {
     "data": {
      "text/html": [
       "<div>\n",
       "<style scoped>\n",
       "    .dataframe tbody tr th:only-of-type {\n",
       "        vertical-align: middle;\n",
       "    }\n",
       "\n",
       "    .dataframe tbody tr th {\n",
       "        vertical-align: top;\n",
       "    }\n",
       "\n",
       "    .dataframe thead th {\n",
       "        text-align: right;\n",
       "    }\n",
       "</style>\n",
       "<table border=\"1\" class=\"dataframe\">\n",
       "  <thead>\n",
       "    <tr style=\"text-align: right;\">\n",
       "      <th></th>\n",
       "      <th>feature</th>\n",
       "      <th>actu</th>\n",
       "      <th>pred_error</th>\n",
       "      <th>pred</th>\n",
       "      <th>rank</th>\n",
       "    </tr>\n",
       "  </thead>\n",
       "  <tbody>\n",
       "    <tr>\n",
       "      <th>0</th>\n",
       "      <td>1000</td>\n",
       "      <td>1023.624935</td>\n",
       "      <td>-1120.102032</td>\n",
       "      <td>100.000000</td>\n",
       "      <td>1</td>\n",
       "    </tr>\n",
       "    <tr>\n",
       "      <th>93</th>\n",
       "      <td>1000</td>\n",
       "      <td>542.400908</td>\n",
       "      <td>-1158.711480</td>\n",
       "      <td>100.000000</td>\n",
       "      <td>2</td>\n",
       "    </tr>\n",
       "    <tr>\n",
       "      <th>89</th>\n",
       "      <td>1000</td>\n",
       "      <td>717.396669</td>\n",
       "      <td>-3434.656762</td>\n",
       "      <td>100.000000</td>\n",
       "      <td>3</td>\n",
       "    </tr>\n",
       "    <tr>\n",
       "      <th>88</th>\n",
       "      <td>1000</td>\n",
       "      <td>0.000000</td>\n",
       "      <td>-2001.593506</td>\n",
       "      <td>100.000000</td>\n",
       "      <td>4</td>\n",
       "    </tr>\n",
       "    <tr>\n",
       "      <th>87</th>\n",
       "      <td>1000</td>\n",
       "      <td>67.632094</td>\n",
       "      <td>-1694.769381</td>\n",
       "      <td>100.000000</td>\n",
       "      <td>5</td>\n",
       "    </tr>\n",
       "    <tr>\n",
       "      <th>...</th>\n",
       "      <td>...</td>\n",
       "      <td>...</td>\n",
       "      <td>...</td>\n",
       "      <td>...</td>\n",
       "      <td>...</td>\n",
       "    </tr>\n",
       "    <tr>\n",
       "      <th>9912</th>\n",
       "      <td>100000</td>\n",
       "      <td>122516.144185</td>\n",
       "      <td>3429.872431</td>\n",
       "      <td>103429.872431</td>\n",
       "      <td>9996</td>\n",
       "    </tr>\n",
       "    <tr>\n",
       "      <th>9938</th>\n",
       "      <td>100000</td>\n",
       "      <td>77520.432484</td>\n",
       "      <td>3569.111428</td>\n",
       "      <td>103569.111428</td>\n",
       "      <td>9997</td>\n",
       "    </tr>\n",
       "    <tr>\n",
       "      <th>9926</th>\n",
       "      <td>100000</td>\n",
       "      <td>78856.186105</td>\n",
       "      <td>3853.043002</td>\n",
       "      <td>103853.043002</td>\n",
       "      <td>9998</td>\n",
       "    </tr>\n",
       "    <tr>\n",
       "      <th>9970</th>\n",
       "      <td>100000</td>\n",
       "      <td>46016.090236</td>\n",
       "      <td>4216.360666</td>\n",
       "      <td>104216.360666</td>\n",
       "      <td>9999</td>\n",
       "    </tr>\n",
       "    <tr>\n",
       "      <th>9829</th>\n",
       "      <td>99000</td>\n",
       "      <td>80729.691204</td>\n",
       "      <td>5429.973163</td>\n",
       "      <td>104429.973163</td>\n",
       "      <td>10000</td>\n",
       "    </tr>\n",
       "  </tbody>\n",
       "</table>\n",
       "<p>10000 rows × 5 columns</p>\n",
       "</div>"
      ],
      "text/plain": [
       "      feature           actu   pred_error           pred   rank\n",
       "0        1000    1023.624935 -1120.102032     100.000000      1\n",
       "93       1000     542.400908 -1158.711480     100.000000      2\n",
       "89       1000     717.396669 -3434.656762     100.000000      3\n",
       "88       1000       0.000000 -2001.593506     100.000000      4\n",
       "87       1000      67.632094 -1694.769381     100.000000      5\n",
       "...       ...            ...          ...            ...    ...\n",
       "9912   100000  122516.144185  3429.872431  103429.872431   9996\n",
       "9938   100000   77520.432484  3569.111428  103569.111428   9997\n",
       "9926   100000   78856.186105  3853.043002  103853.043002   9998\n",
       "9970   100000   46016.090236  4216.360666  104216.360666   9999\n",
       "9829    99000   80729.691204  5429.973163  104429.973163  10000\n",
       "\n",
       "[10000 rows x 5 columns]"
      ]
     },
     "execution_count": 82,
     "metadata": {},
     "output_type": "execute_result"
    }
   ],
   "source": [
    "input_df"
   ]
  },
  {
   "cell_type": "code",
   "execution_count": null,
   "id": "54c15f1e",
   "metadata": {},
   "outputs": [],
   "source": []
  }
 ],
 "metadata": {
  "kernelspec": {
   "display_name": "Python 3 (ipykernel)",
   "language": "python",
   "name": "python3"
  },
  "language_info": {
   "codemirror_mode": {
    "name": "ipython",
    "version": 3
   },
   "file_extension": ".py",
   "mimetype": "text/x-python",
   "name": "python",
   "nbconvert_exporter": "python",
   "pygments_lexer": "ipython3",
   "version": "3.9.12"
  },
  "toc": {
   "base_numbering": 1,
   "nav_menu": {},
   "number_sections": true,
   "sideBar": true,
   "skip_h1_title": false,
   "title_cell": "Table of Contents",
   "title_sidebar": "Contents",
   "toc_cell": false,
   "toc_position": {},
   "toc_section_display": true,
   "toc_window_display": false
  },
  "varInspector": {
   "cols": {
    "lenName": 16,
    "lenType": 16,
    "lenVar": 40
   },
   "kernels_config": {
    "python": {
     "delete_cmd_postfix": "",
     "delete_cmd_prefix": "del ",
     "library": "var_list.py",
     "varRefreshCmd": "print(var_dic_list())"
    },
    "r": {
     "delete_cmd_postfix": ") ",
     "delete_cmd_prefix": "rm(",
     "library": "var_list.r",
     "varRefreshCmd": "cat(var_dic_list()) "
    }
   },
   "types_to_exclude": [
    "module",
    "function",
    "builtin_function_or_method",
    "instance",
    "_Feature"
   ],
   "window_display": false
  }
 },
 "nbformat": 4,
 "nbformat_minor": 5
}
