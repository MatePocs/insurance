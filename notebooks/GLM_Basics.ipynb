{
 "cells": [
  {
   "cell_type": "markdown",
   "id": "792b6db2",
   "metadata": {},
   "source": [
    "# Intro"
   ]
  },
  {
   "cell_type": "markdown",
   "id": "9f3cfd56",
   "metadata": {},
   "source": [
    "Goal: \n",
    "\n",
    "- trying out basic GLM on simulated data\n",
    "- demonstrate what happens if there is a linear or log relationship with a feature"
   ]
  },
  {
   "cell_type": "code",
   "execution_count": 2,
   "id": "3d7079ad",
   "metadata": {},
   "outputs": [],
   "source": [
    "import numpy as np\n",
    "import pandas as pd\n",
    "\n",
    "from sklearn.linear_model import PoissonRegressor"
   ]
  },
  {
   "cell_type": "code",
   "execution_count": null,
   "id": "a4fe39e2",
   "metadata": {},
   "outputs": [],
   "source": []
  },
  {
   "cell_type": "markdown",
   "id": "6117dda7",
   "metadata": {},
   "source": [
    "# Poisson One Cont. Feature"
   ]
  },
  {
   "cell_type": "markdown",
   "id": "c5a6b39d",
   "metadata": {},
   "source": [
    "Mistakes you can make: \n",
    "- not applying a log transformation\n",
    "- leaving alpha at default\n",
    "- "
   ]
  },
  {
   "cell_type": "markdown",
   "id": "ee3a0637",
   "metadata": {},
   "source": [
    "TODO: \n",
    "- it seems like the tol is the maximum of the gradient, but then what's the point...? that's very loose\n",
    "- recalculate likelihoods\n",
    "- GLM from scratch? "
   ]
  },
  {
   "cell_type": "code",
   "execution_count": 83,
   "id": "c3c0ce82",
   "metadata": {},
   "outputs": [],
   "source": [
    "# generate data\n",
    "# we have one feature, feature_1, and Poisson lambda is going to be linear by it\n",
    "\n",
    "df = pd.DataFrame.from_dict({'feature_1' : np.repeat(range(1000,10001),100)})\n",
    "df['lambda'] = df['feature_1'] / 10000\n",
    "df['claim_number'] = np.random.poisson(df['lambda'])\n",
    "df['log_feature_1'] = np.log(df['feature_1'])"
   ]
  },
  {
   "cell_type": "code",
   "execution_count": 84,
   "id": "d369aa11",
   "metadata": {},
   "outputs": [
    {
     "data": {
      "text/plain": [
       "495054.99999998964"
      ]
     },
     "execution_count": 84,
     "metadata": {},
     "output_type": "execute_result"
    }
   ],
   "source": [
    "sum(df['lambda'])"
   ]
  },
  {
   "cell_type": "code",
   "execution_count": 85,
   "id": "f17ba466",
   "metadata": {},
   "outputs": [
    {
     "data": {
      "text/plain": [
       "494539"
      ]
     },
     "execution_count": 85,
     "metadata": {},
     "output_type": "execute_result"
    }
   ],
   "source": [
    "sum(df['claim_number'])"
   ]
  },
  {
   "cell_type": "code",
   "execution_count": 97,
   "id": "503425e1",
   "metadata": {},
   "outputs": [],
   "source": [
    "mdl = PoissonRegressor()\n",
    "\n",
    "mdl = PoissonRegressor(alpha = 0) # OK, this was it actually"
   ]
  },
  {
   "cell_type": "code",
   "execution_count": 98,
   "id": "bbc57128",
   "metadata": {},
   "outputs": [],
   "source": [
    "X = df[['log_feature_1']]\n",
    "y = df['claim_number']"
   ]
  },
  {
   "cell_type": "code",
   "execution_count": 99,
   "id": "45fbf68d",
   "metadata": {},
   "outputs": [
    {
     "data": {
      "text/plain": [
       "PoissonRegressor(alpha=0)"
      ]
     },
     "execution_count": 99,
     "metadata": {},
     "output_type": "execute_result"
    }
   ],
   "source": [
    "mdl.fit(X, y)"
   ]
  },
  {
   "cell_type": "code",
   "execution_count": 100,
   "id": "a98343f1",
   "metadata": {},
   "outputs": [],
   "source": [
    "df['pred_claim_number'] = mdl.predict(X)"
   ]
  },
  {
   "cell_type": "code",
   "execution_count": 102,
   "id": "9eba721e",
   "metadata": {},
   "outputs": [
    {
     "data": {
      "text/html": [
       "<div>\n",
       "<style scoped>\n",
       "    .dataframe tbody tr th:only-of-type {\n",
       "        vertical-align: middle;\n",
       "    }\n",
       "\n",
       "    .dataframe tbody tr th {\n",
       "        vertical-align: top;\n",
       "    }\n",
       "\n",
       "    .dataframe thead th {\n",
       "        text-align: right;\n",
       "    }\n",
       "</style>\n",
       "<table border=\"1\" class=\"dataframe\">\n",
       "  <thead>\n",
       "    <tr style=\"text-align: right;\">\n",
       "      <th></th>\n",
       "      <th>feature_1</th>\n",
       "      <th>lambda</th>\n",
       "      <th>claim_number</th>\n",
       "      <th>log_feature_1</th>\n",
       "      <th>pred_claim_number</th>\n",
       "    </tr>\n",
       "  </thead>\n",
       "  <tbody>\n",
       "    <tr>\n",
       "      <th>423765</th>\n",
       "      <td>5237</td>\n",
       "      <td>0.5237</td>\n",
       "      <td>0</td>\n",
       "      <td>8.563504</td>\n",
       "      <td>0.522730</td>\n",
       "    </tr>\n",
       "    <tr>\n",
       "      <th>61884</th>\n",
       "      <td>1618</td>\n",
       "      <td>0.1618</td>\n",
       "      <td>0</td>\n",
       "      <td>7.388946</td>\n",
       "      <td>0.160617</td>\n",
       "    </tr>\n",
       "    <tr>\n",
       "      <th>389163</th>\n",
       "      <td>4891</td>\n",
       "      <td>0.4891</td>\n",
       "      <td>1</td>\n",
       "      <td>8.495152</td>\n",
       "      <td>0.488038</td>\n",
       "    </tr>\n",
       "    <tr>\n",
       "      <th>203832</th>\n",
       "      <td>3038</td>\n",
       "      <td>0.3038</td>\n",
       "      <td>1</td>\n",
       "      <td>8.018955</td>\n",
       "      <td>0.302467</td>\n",
       "    </tr>\n",
       "    <tr>\n",
       "      <th>206152</th>\n",
       "      <td>3061</td>\n",
       "      <td>0.3061</td>\n",
       "      <td>0</td>\n",
       "      <td>8.026497</td>\n",
       "      <td>0.304768</td>\n",
       "    </tr>\n",
       "  </tbody>\n",
       "</table>\n",
       "</div>"
      ],
      "text/plain": [
       "        feature_1  lambda  claim_number  log_feature_1  pred_claim_number\n",
       "423765       5237  0.5237             0       8.563504           0.522730\n",
       "61884        1618  0.1618             0       7.388946           0.160617\n",
       "389163       4891  0.4891             1       8.495152           0.488038\n",
       "203832       3038  0.3038             1       8.018955           0.302467\n",
       "206152       3061  0.3061             0       8.026497           0.304768"
      ]
     },
     "execution_count": 102,
     "metadata": {},
     "output_type": "execute_result"
    }
   ],
   "source": [
    "df.sample(5)"
   ]
  },
  {
   "cell_type": "code",
   "execution_count": 103,
   "id": "4ad43c63",
   "metadata": {},
   "outputs": [
    {
     "data": {
      "text/plain": [
       "-9.252185049000621"
      ]
     },
     "execution_count": 103,
     "metadata": {},
     "output_type": "execute_result"
    }
   ],
   "source": [
    "mdl.intercept_"
   ]
  },
  {
   "cell_type": "code",
   "execution_count": 104,
   "id": "1c0845e2",
   "metadata": {},
   "outputs": [
    {
     "data": {
      "text/plain": [
       "array([1.00466994])"
      ]
     },
     "execution_count": 104,
     "metadata": {},
     "output_type": "execute_result"
    }
   ],
   "source": [
    "mdl.coef_"
   ]
  },
  {
   "cell_type": "code",
   "execution_count": 93,
   "id": "e0bc21e4",
   "metadata": {},
   "outputs": [
    {
     "data": {
      "text/plain": [
       "0.6011817406511082"
      ]
     },
     "execution_count": 93,
     "metadata": {},
     "output_type": "execute_result"
    }
   ],
   "source": [
    "np.exp(mdl.intercept_ + np.log(10000) * mdl.coef_[0])"
   ]
  },
  {
   "cell_type": "code",
   "execution_count": 94,
   "id": "2958e7ca",
   "metadata": {},
   "outputs": [
    {
     "data": {
      "text/plain": [
       "0.6011817406511081"
      ]
     },
     "execution_count": 94,
     "metadata": {},
     "output_type": "execute_result"
    }
   ],
   "source": [
    "np.exp(mdl.intercept_) * 10000 ** mdl.coef_[0]"
   ]
  },
  {
   "cell_type": "code",
   "execution_count": null,
   "id": "1d4a6625",
   "metadata": {},
   "outputs": [],
   "source": []
  },
  {
   "cell_type": "code",
   "execution_count": 95,
   "id": "365becc1",
   "metadata": {},
   "outputs": [
    {
     "data": {
      "text/plain": [
       "1.0"
      ]
     },
     "execution_count": 95,
     "metadata": {},
     "output_type": "execute_result"
    }
   ],
   "source": [
    "1 / 10000 * 10000 ** 1"
   ]
  },
  {
   "cell_type": "code",
   "execution_count": 96,
   "id": "319ca89b",
   "metadata": {},
   "outputs": [
    {
     "data": {
      "text/plain": [
       "-9.210340371976182"
      ]
     },
     "execution_count": 96,
     "metadata": {},
     "output_type": "execute_result"
    }
   ],
   "source": [
    "# so mdl_coef should be 1, while mdl_intercept should be log(1/10000)\n",
    "np.log(1/10000)"
   ]
  },
  {
   "cell_type": "code",
   "execution_count": null,
   "id": "6e217a39",
   "metadata": {},
   "outputs": [],
   "source": []
  },
  {
   "cell_type": "code",
   "execution_count": null,
   "id": "5f575e30",
   "metadata": {},
   "outputs": [],
   "source": []
  },
  {
   "cell_type": "markdown",
   "id": "cb8d184b",
   "metadata": {},
   "source": [
    "# Double-Log"
   ]
  },
  {
   "cell_type": "markdown",
   "id": "5623140e",
   "metadata": {},
   "source": [
    "What happens if the real-life relationship is already logarithmic. "
   ]
  },
  {
   "cell_type": "code",
   "execution_count": null,
   "id": "69d35028",
   "metadata": {},
   "outputs": [],
   "source": []
  },
  {
   "cell_type": "code",
   "execution_count": null,
   "id": "8e29ae2d",
   "metadata": {},
   "outputs": [],
   "source": []
  },
  {
   "cell_type": "code",
   "execution_count": null,
   "id": "f2418916",
   "metadata": {},
   "outputs": [],
   "source": []
  }
 ],
 "metadata": {
  "kernelspec": {
   "display_name": "Python 3 (ipykernel)",
   "language": "python",
   "name": "python3"
  },
  "language_info": {
   "codemirror_mode": {
    "name": "ipython",
    "version": 3
   },
   "file_extension": ".py",
   "mimetype": "text/x-python",
   "name": "python",
   "nbconvert_exporter": "python",
   "pygments_lexer": "ipython3",
   "version": "3.9.12"
  },
  "toc": {
   "base_numbering": 1,
   "nav_menu": {},
   "number_sections": true,
   "sideBar": true,
   "skip_h1_title": false,
   "title_cell": "Table of Contents",
   "title_sidebar": "Contents",
   "toc_cell": false,
   "toc_position": {},
   "toc_section_display": true,
   "toc_window_display": false
  },
  "varInspector": {
   "cols": {
    "lenName": 16,
    "lenType": 16,
    "lenVar": 40
   },
   "kernels_config": {
    "python": {
     "delete_cmd_postfix": "",
     "delete_cmd_prefix": "del ",
     "library": "var_list.py",
     "varRefreshCmd": "print(var_dic_list())"
    },
    "r": {
     "delete_cmd_postfix": ") ",
     "delete_cmd_prefix": "rm(",
     "library": "var_list.r",
     "varRefreshCmd": "cat(var_dic_list()) "
    }
   },
   "types_to_exclude": [
    "module",
    "function",
    "builtin_function_or_method",
    "instance",
    "_Feature"
   ],
   "window_display": false
  }
 },
 "nbformat": 4,
 "nbformat_minor": 5
}
