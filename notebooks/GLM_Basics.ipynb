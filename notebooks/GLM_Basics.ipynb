{
 "cells": [
  {
   "cell_type": "markdown",
   "id": "792b6db2",
   "metadata": {},
   "source": [
    "# Intro"
   ]
  },
  {
   "cell_type": "markdown",
   "id": "9f3cfd56",
   "metadata": {},
   "source": [
    "Goal: \n",
    "\n",
    "- trying out basic GLM on simulated data\n",
    "- demonstrate what happens if there is a linear or log relationship with a feature"
   ]
  },
  {
   "cell_type": "code",
   "execution_count": 36,
   "id": "3d7079ad",
   "metadata": {},
   "outputs": [],
   "source": [
    "import numpy as np\n",
    "import pandas as pd\n",
    "\n",
    "from sklearn.linear_model import PoissonRegressor\n",
    "from sklearn.metrics import mean_poisson_deviance"
   ]
  },
  {
   "cell_type": "markdown",
   "id": "ee3a0637",
   "metadata": {},
   "source": [
    "TODO: \n",
    "- it seems like the tol is the maximum of the gradient, but then what's the point...? that's very loose\n",
    "- recalculate likelihoods, how does it work with a regularisation factor? \n",
    "- GLM from scratch? "
   ]
  },
  {
   "cell_type": "markdown",
   "id": "6117dda7",
   "metadata": {},
   "source": [
    "# Poisson 1"
   ]
  },
  {
   "cell_type": "markdown",
   "id": "c5a6b39d",
   "metadata": {},
   "source": [
    "We have one continuous feature. The lambda parameter has a linear relationship with the feature. \n",
    "\n",
    "Mistakes you can make: \n",
    "- not applying a log transformation\n",
    "- leaving alpha at default"
   ]
  },
  {
   "cell_type": "code",
   "execution_count": 2,
   "id": "c3c0ce82",
   "metadata": {},
   "outputs": [],
   "source": [
    "# generate data\n",
    "# we have one feature, feature_1, and Poisson lambda is going to be linear by it\n",
    "\n",
    "df = pd.DataFrame.from_dict({'feature_1' : np.repeat(range(1000,10001),100)})\n",
    "df['lambda'] = df['feature_1'] / 10000\n",
    "df['claim_number'] = np.random.poisson(df['lambda'])\n",
    "df['log_feature_1'] = np.log(df['feature_1'])"
   ]
  },
  {
   "cell_type": "code",
   "execution_count": 3,
   "id": "d369aa11",
   "metadata": {},
   "outputs": [
    {
     "data": {
      "text/plain": [
       "495054.99999998964"
      ]
     },
     "execution_count": 3,
     "metadata": {},
     "output_type": "execute_result"
    }
   ],
   "source": [
    "sum(df['lambda'])"
   ]
  },
  {
   "cell_type": "code",
   "execution_count": 4,
   "id": "f17ba466",
   "metadata": {},
   "outputs": [
    {
     "data": {
      "text/plain": [
       "495351"
      ]
     },
     "execution_count": 4,
     "metadata": {},
     "output_type": "execute_result"
    }
   ],
   "source": [
    "sum(df['claim_number'])"
   ]
  },
  {
   "cell_type": "code",
   "execution_count": 11,
   "id": "147016bb",
   "metadata": {},
   "outputs": [
    {
     "data": {
      "text/plain": [
       "-9.210340371976182"
      ]
     },
     "execution_count": 11,
     "metadata": {},
     "output_type": "execute_result"
    }
   ],
   "source": [
    "# In log-link GLM turns, what we want is so this: \n",
    "# predicted = 1/10000 * feature_1 ^ 1\n",
    "# mdl_coef should be 1, while mdl_intercept should be log(1/10000)\n",
    "np.log(1/10000)"
   ]
  },
  {
   "cell_type": "markdown",
   "id": "e912234d",
   "metadata": {},
   "source": [
    "## Without Log Transformation"
   ]
  },
  {
   "cell_type": "markdown",
   "id": "24efdd25",
   "metadata": {},
   "source": [
    "Let's see what happens if we try to put in the feature as it is. "
   ]
  },
  {
   "cell_type": "code",
   "execution_count": null,
   "id": "e4b229d2",
   "metadata": {},
   "outputs": [],
   "source": []
  },
  {
   "cell_type": "code",
   "execution_count": null,
   "id": "76ab08f0",
   "metadata": {},
   "outputs": [],
   "source": []
  },
  {
   "cell_type": "markdown",
   "id": "78e1f3aa",
   "metadata": {},
   "source": [
    "## With Default 1 Regularisation"
   ]
  },
  {
   "cell_type": "code",
   "execution_count": 25,
   "id": "a1753bbf",
   "metadata": {},
   "outputs": [],
   "source": [
    "mdl = PoissonRegressor()\n",
    "X = df[['log_feature_1']]\n",
    "y = df['claim_number']\n",
    "mdl.fit(X, y)\n",
    "df['pred_claim_number'] = mdl.predict(X)"
   ]
  },
  {
   "cell_type": "code",
   "execution_count": 26,
   "id": "9eba721e",
   "metadata": {},
   "outputs": [
    {
     "data": {
      "text/html": [
       "<div>\n",
       "<style scoped>\n",
       "    .dataframe tbody tr th:only-of-type {\n",
       "        vertical-align: middle;\n",
       "    }\n",
       "\n",
       "    .dataframe tbody tr th {\n",
       "        vertical-align: top;\n",
       "    }\n",
       "\n",
       "    .dataframe thead th {\n",
       "        text-align: right;\n",
       "    }\n",
       "</style>\n",
       "<table border=\"1\" class=\"dataframe\">\n",
       "  <thead>\n",
       "    <tr style=\"text-align: right;\">\n",
       "      <th></th>\n",
       "      <th>feature_1</th>\n",
       "      <th>lambda</th>\n",
       "      <th>claim_number</th>\n",
       "      <th>log_feature_1</th>\n",
       "      <th>pred_claim_number</th>\n",
       "    </tr>\n",
       "  </thead>\n",
       "  <tbody>\n",
       "    <tr>\n",
       "      <th>753624</th>\n",
       "      <td>8536</td>\n",
       "      <td>0.8536</td>\n",
       "      <td>1</td>\n",
       "      <td>9.052048</td>\n",
       "      <td>0.590219</td>\n",
       "    </tr>\n",
       "    <tr>\n",
       "      <th>640748</th>\n",
       "      <td>7407</td>\n",
       "      <td>0.7407</td>\n",
       "      <td>0</td>\n",
       "      <td>8.910181</td>\n",
       "      <td>0.579935</td>\n",
       "    </tr>\n",
       "    <tr>\n",
       "      <th>668588</th>\n",
       "      <td>7685</td>\n",
       "      <td>0.7685</td>\n",
       "      <td>0</td>\n",
       "      <td>8.947026</td>\n",
       "      <td>0.582589</td>\n",
       "    </tr>\n",
       "    <tr>\n",
       "      <th>88205</th>\n",
       "      <td>1882</td>\n",
       "      <td>0.1882</td>\n",
       "      <td>0</td>\n",
       "      <td>7.540090</td>\n",
       "      <td>0.489386</td>\n",
       "    </tr>\n",
       "    <tr>\n",
       "      <th>528165</th>\n",
       "      <td>6281</td>\n",
       "      <td>0.6281</td>\n",
       "      <td>1</td>\n",
       "      <td>8.745284</td>\n",
       "      <td>0.568206</td>\n",
       "    </tr>\n",
       "  </tbody>\n",
       "</table>\n",
       "</div>"
      ],
      "text/plain": [
       "        feature_1  lambda  claim_number  log_feature_1  pred_claim_number\n",
       "753624       8536  0.8536             1       9.052048           0.590219\n",
       "640748       7407  0.7407             0       8.910181           0.579935\n",
       "668588       7685  0.7685             0       8.947026           0.582589\n",
       "88205        1882  0.1882             0       7.540090           0.489386\n",
       "528165       6281  0.6281             1       8.745284           0.568206"
      ]
     },
     "execution_count": 26,
     "metadata": {},
     "output_type": "execute_result"
    }
   ],
   "source": [
    "df.sample(5)"
   ]
  },
  {
   "cell_type": "code",
   "execution_count": 27,
   "id": "eb40f390",
   "metadata": {},
   "outputs": [
    {
     "data": {
      "text/plain": [
       "-1.6488745873364938"
      ]
     },
     "execution_count": 27,
     "metadata": {},
     "output_type": "execute_result"
    }
   ],
   "source": [
    "mdl.intercept_"
   ]
  },
  {
   "cell_type": "code",
   "execution_count": 28,
   "id": "83aa1563",
   "metadata": {},
   "outputs": [
    {
     "data": {
      "text/plain": [
       "array([0.12390718])"
      ]
     },
     "execution_count": 28,
     "metadata": {},
     "output_type": "execute_result"
    }
   ],
   "source": [
    "mdl.coef_"
   ]
  },
  {
   "cell_type": "code",
   "execution_count": 29,
   "id": "327aa0cd",
   "metadata": {},
   "outputs": [
    {
     "data": {
      "text/html": [
       "<div>\n",
       "<style scoped>\n",
       "    .dataframe tbody tr th:only-of-type {\n",
       "        vertical-align: middle;\n",
       "    }\n",
       "\n",
       "    .dataframe tbody tr th {\n",
       "        vertical-align: top;\n",
       "    }\n",
       "\n",
       "    .dataframe thead th {\n",
       "        text-align: right;\n",
       "    }\n",
       "</style>\n",
       "<table border=\"1\" class=\"dataframe\">\n",
       "  <thead>\n",
       "    <tr style=\"text-align: right;\">\n",
       "      <th></th>\n",
       "      <th>feature_1</th>\n",
       "      <th>lambda</th>\n",
       "      <th>claim_number</th>\n",
       "      <th>log_feature_1</th>\n",
       "      <th>pred_claim_number</th>\n",
       "    </tr>\n",
       "  </thead>\n",
       "  <tbody>\n",
       "    <tr>\n",
       "      <th>900000</th>\n",
       "      <td>10000</td>\n",
       "      <td>1.0</td>\n",
       "      <td>1</td>\n",
       "      <td>9.21034</td>\n",
       "      <td>0.60191</td>\n",
       "    </tr>\n",
       "  </tbody>\n",
       "</table>\n",
       "</div>"
      ],
      "text/plain": [
       "        feature_1  lambda  claim_number  log_feature_1  pred_claim_number\n",
       "900000      10000     1.0             1        9.21034            0.60191"
      ]
     },
     "execution_count": 29,
     "metadata": {},
     "output_type": "execute_result"
    }
   ],
   "source": [
    "df[df.feature_1 == 10000][:1]"
   ]
  },
  {
   "cell_type": "code",
   "execution_count": 30,
   "id": "abba06de",
   "metadata": {},
   "outputs": [
    {
     "data": {
      "text/plain": [
       "0.6019100525328023"
      ]
     },
     "execution_count": 30,
     "metadata": {},
     "output_type": "execute_result"
    }
   ],
   "source": [
    "np.exp(mdl.intercept_ + np.log(10000) * mdl.coef_[0])"
   ]
  },
  {
   "cell_type": "code",
   "execution_count": 31,
   "id": "2ac33d17",
   "metadata": {},
   "outputs": [
    {
     "data": {
      "text/plain": [
       "0.6019100525328022"
      ]
     },
     "execution_count": 31,
     "metadata": {},
     "output_type": "execute_result"
    }
   ],
   "source": [
    "# alternatively: \n",
    "np.exp(mdl.intercept_) * 10000 ** mdl.coef_[0]"
   ]
  },
  {
   "cell_type": "markdown",
   "id": "26b63b5c",
   "metadata": {},
   "source": [
    "The reason of course is the regularisation parameter. Let's try to demonstrate why this is the maximum intercept - coef pair under regularisation parameter 1. \n",
    "\n",
    "$\\alpha$ is supposed to be the L2 regularisation. \n",
    "\n",
    "Handy summary of the model objective function here: https://scikit-learn.org/stable/modules/linear_model.html#generalized-linear-models"
   ]
  },
  {
   "cell_type": "code",
   "execution_count": 24,
   "id": "eba91ac9",
   "metadata": {},
   "outputs": [],
   "source": [
    "def predict_lambda(log_feature_1, intercept, coef):\n",
    "    return np.exp(intercept + log_feature_1 * coef)"
   ]
  },
  {
   "cell_type": "code",
   "execution_count": 33,
   "id": "6c63c47c",
   "metadata": {},
   "outputs": [],
   "source": [
    "my_pred = predict_lambda(df['log_feature_1'], mdl.intercept_, mdl.coef_)\n",
    "\n",
    "df['my_pred'] = my_pred"
   ]
  },
  {
   "cell_type": "code",
   "execution_count": 35,
   "id": "4cc5ca23",
   "metadata": {},
   "outputs": [
    {
     "data": {
      "text/html": [
       "<div>\n",
       "<style scoped>\n",
       "    .dataframe tbody tr th:only-of-type {\n",
       "        vertical-align: middle;\n",
       "    }\n",
       "\n",
       "    .dataframe tbody tr th {\n",
       "        vertical-align: top;\n",
       "    }\n",
       "\n",
       "    .dataframe thead th {\n",
       "        text-align: right;\n",
       "    }\n",
       "</style>\n",
       "<table border=\"1\" class=\"dataframe\">\n",
       "  <thead>\n",
       "    <tr style=\"text-align: right;\">\n",
       "      <th></th>\n",
       "      <th>feature_1</th>\n",
       "      <th>lambda</th>\n",
       "      <th>claim_number</th>\n",
       "      <th>log_feature_1</th>\n",
       "      <th>pred_claim_number</th>\n",
       "      <th>my_pred</th>\n",
       "    </tr>\n",
       "  </thead>\n",
       "  <tbody>\n",
       "    <tr>\n",
       "      <th>567423</th>\n",
       "      <td>6674</td>\n",
       "      <td>0.6674</td>\n",
       "      <td>0</td>\n",
       "      <td>8.805975</td>\n",
       "      <td>0.572495</td>\n",
       "      <td>0.572495</td>\n",
       "    </tr>\n",
       "    <tr>\n",
       "      <th>195288</th>\n",
       "      <td>2952</td>\n",
       "      <td>0.2952</td>\n",
       "      <td>0</td>\n",
       "      <td>7.990238</td>\n",
       "      <td>0.517458</td>\n",
       "      <td>0.517458</td>\n",
       "    </tr>\n",
       "    <tr>\n",
       "      <th>776553</th>\n",
       "      <td>8765</td>\n",
       "      <td>0.8765</td>\n",
       "      <td>0</td>\n",
       "      <td>9.078522</td>\n",
       "      <td>0.592159</td>\n",
       "      <td>0.592159</td>\n",
       "    </tr>\n",
       "  </tbody>\n",
       "</table>\n",
       "</div>"
      ],
      "text/plain": [
       "        feature_1  lambda  claim_number  log_feature_1  pred_claim_number  \\\n",
       "567423       6674  0.6674             0       8.805975           0.572495   \n",
       "195288       2952  0.2952             0       7.990238           0.517458   \n",
       "776553       8765  0.8765             0       9.078522           0.592159   \n",
       "\n",
       "         my_pred  \n",
       "567423  0.572495  \n",
       "195288  0.517458  \n",
       "776553  0.592159  "
      ]
     },
     "execution_count": 35,
     "metadata": {},
     "output_type": "execute_result"
    }
   ],
   "source": [
    "df.sample(3)"
   ]
  },
  {
   "cell_type": "code",
   "execution_count": 37,
   "id": "e0002afa",
   "metadata": {},
   "outputs": [],
   "source": [
    "def calculate_model_objective(actu, log_feature_1, intercept, coef, alpha):\n",
    "    my_pred = predict_lambda(log_feature_1, intercept, coef)\n",
    "    return (1/2 * mean_poisson_deviance(actu, my_pred)) + (alpha/2 * (coef ** 2))"
   ]
  },
  {
   "cell_type": "code",
   "execution_count": 38,
   "id": "00e9a865",
   "metadata": {},
   "outputs": [
    {
     "data": {
      "text/plain": [
       "array([0.54145969])"
      ]
     },
     "execution_count": 38,
     "metadata": {},
     "output_type": "execute_result"
    }
   ],
   "source": [
    "calculate_model_objective(df['claim_number'], df['log_feature_1'], mdl.intercept_, mdl.coef_, 1)"
   ]
  },
  {
   "cell_type": "code",
   "execution_count": 44,
   "id": "efa232e3",
   "metadata": {},
   "outputs": [],
   "source": [
    "curr_min_objective_value = 999\n",
    "optimal_intercept = None\n",
    "optimal_coef = None\n",
    "\n",
    "for intercept in np.arange(-1.75, -1.55, 0.01):\n",
    "    for coef in np.arange(0.03, 0.23, 0.01):\n",
    "        curr_objective_value = calculate_model_objective(\n",
    "            df['claim_number'], df['log_feature_1'], intercept, coef, 1)\n",
    "        if(curr_objective_value < curr_min_objective_value):\n",
    "            curr_min_objective_value = curr_objective_value\n",
    "            optimal_intercept = intercept\n",
    "            optimal_coef = coef"
   ]
  },
  {
   "cell_type": "code",
   "execution_count": 46,
   "id": "e7842010",
   "metadata": {},
   "outputs": [
    {
     "data": {
      "text/plain": [
       "-1.62"
      ]
     },
     "execution_count": 46,
     "metadata": {},
     "output_type": "execute_result"
    }
   ],
   "source": [
    "round(optimal_intercept,2)"
   ]
  },
  {
   "cell_type": "code",
   "execution_count": 47,
   "id": "40dd6f5e",
   "metadata": {},
   "outputs": [
    {
     "data": {
      "text/plain": [
       "0.12"
      ]
     },
     "execution_count": 47,
     "metadata": {},
     "output_type": "execute_result"
    }
   ],
   "source": [
    "round(optimal_coef,2)"
   ]
  },
  {
   "cell_type": "code",
   "execution_count": 48,
   "id": "bb4be093",
   "metadata": {},
   "outputs": [
    {
     "data": {
      "text/plain": [
       "array([0.54145969])"
      ]
     },
     "execution_count": 48,
     "metadata": {},
     "output_type": "execute_result"
    }
   ],
   "source": [
    "calculate_model_objective(df['claim_number'], df['log_feature_1'], mdl.intercept_, mdl.coef_, 1)"
   ]
  },
  {
   "cell_type": "code",
   "execution_count": 49,
   "id": "60d8face",
   "metadata": {},
   "outputs": [
    {
     "data": {
      "text/plain": [
       "0.5414739455585038"
      ]
     },
     "execution_count": 49,
     "metadata": {},
     "output_type": "execute_result"
    }
   ],
   "source": [
    "calculate_model_objective(df['claim_number'], df['log_feature_1'], optimal_intercept, optimal_coef, 1)"
   ]
  },
  {
   "cell_type": "code",
   "execution_count": 50,
   "id": "80d9a154",
   "metadata": {},
   "outputs": [
    {
     "data": {
      "text/plain": [
       "0.9842972255248361"
      ]
     },
     "execution_count": 50,
     "metadata": {},
     "output_type": "execute_result"
    }
   ],
   "source": [
    "calculate_model_objective(df['claim_number'], df['log_feature_1'], np.log(1/10000), 1, 1)"
   ]
  },
  {
   "cell_type": "markdown",
   "id": "09925fe7",
   "metadata": {},
   "source": [
    "## With No Regularisation"
   ]
  },
  {
   "cell_type": "markdown",
   "id": "2744a9ce",
   "metadata": {},
   "source": [
    "If we take out regularisation in this simple example, we expect to get exactly the parameters used in simulation. "
   ]
  },
  {
   "cell_type": "code",
   "execution_count": 18,
   "id": "503425e1",
   "metadata": {},
   "outputs": [],
   "source": [
    "mdl = PoissonRegressor(alpha = 0)\n",
    "X = df[['log_feature_1']]\n",
    "y = df['claim_number']\n",
    "mdl.fit(X, y)\n",
    "df['pred_claim_number'] = mdl.predict(X)"
   ]
  },
  {
   "cell_type": "code",
   "execution_count": 19,
   "id": "4ad43c63",
   "metadata": {},
   "outputs": [
    {
     "data": {
      "text/plain": [
       "-9.175760280526253"
      ]
     },
     "execution_count": 19,
     "metadata": {},
     "output_type": "execute_result"
    }
   ],
   "source": [
    "mdl.intercept_"
   ]
  },
  {
   "cell_type": "code",
   "execution_count": 20,
   "id": "1c0845e2",
   "metadata": {},
   "outputs": [
    {
     "data": {
      "text/plain": [
       "array([0.99610799])"
      ]
     },
     "execution_count": 20,
     "metadata": {},
     "output_type": "execute_result"
    }
   ],
   "source": [
    "mdl.coef_"
   ]
  },
  {
   "cell_type": "code",
   "execution_count": 23,
   "id": "e44535d1",
   "metadata": {},
   "outputs": [
    {
     "data": {
      "text/html": [
       "<div>\n",
       "<style scoped>\n",
       "    .dataframe tbody tr th:only-of-type {\n",
       "        vertical-align: middle;\n",
       "    }\n",
       "\n",
       "    .dataframe tbody tr th {\n",
       "        vertical-align: top;\n",
       "    }\n",
       "\n",
       "    .dataframe thead th {\n",
       "        text-align: right;\n",
       "    }\n",
       "</style>\n",
       "<table border=\"1\" class=\"dataframe\">\n",
       "  <thead>\n",
       "    <tr style=\"text-align: right;\">\n",
       "      <th></th>\n",
       "      <th>feature_1</th>\n",
       "      <th>lambda</th>\n",
       "      <th>claim_number</th>\n",
       "      <th>log_feature_1</th>\n",
       "      <th>pred_claim_number</th>\n",
       "    </tr>\n",
       "  </thead>\n",
       "  <tbody>\n",
       "    <tr>\n",
       "      <th>0</th>\n",
       "      <td>1000</td>\n",
       "      <td>0.1</td>\n",
       "      <td>1</td>\n",
       "      <td>6.907755</td>\n",
       "      <td>0.100772</td>\n",
       "    </tr>\n",
       "  </tbody>\n",
       "</table>\n",
       "</div>"
      ],
      "text/plain": [
       "   feature_1  lambda  claim_number  log_feature_1  pred_claim_number\n",
       "0       1000     0.1             1       6.907755           0.100772"
      ]
     },
     "execution_count": 23,
     "metadata": {},
     "output_type": "execute_result"
    }
   ],
   "source": [
    "df[df.feature_1 == 1000][:1]"
   ]
  },
  {
   "cell_type": "code",
   "execution_count": 21,
   "id": "6e217a39",
   "metadata": {},
   "outputs": [
    {
     "data": {
      "text/html": [
       "<div>\n",
       "<style scoped>\n",
       "    .dataframe tbody tr th:only-of-type {\n",
       "        vertical-align: middle;\n",
       "    }\n",
       "\n",
       "    .dataframe tbody tr th {\n",
       "        vertical-align: top;\n",
       "    }\n",
       "\n",
       "    .dataframe thead th {\n",
       "        text-align: right;\n",
       "    }\n",
       "</style>\n",
       "<table border=\"1\" class=\"dataframe\">\n",
       "  <thead>\n",
       "    <tr style=\"text-align: right;\">\n",
       "      <th></th>\n",
       "      <th>feature_1</th>\n",
       "      <th>lambda</th>\n",
       "      <th>claim_number</th>\n",
       "      <th>log_feature_1</th>\n",
       "      <th>pred_claim_number</th>\n",
       "    </tr>\n",
       "  </thead>\n",
       "  <tbody>\n",
       "    <tr>\n",
       "      <th>900000</th>\n",
       "      <td>10000</td>\n",
       "      <td>1.0</td>\n",
       "      <td>1</td>\n",
       "      <td>9.21034</td>\n",
       "      <td>0.998734</td>\n",
       "    </tr>\n",
       "  </tbody>\n",
       "</table>\n",
       "</div>"
      ],
      "text/plain": [
       "        feature_1  lambda  claim_number  log_feature_1  pred_claim_number\n",
       "900000      10000     1.0             1        9.21034           0.998734"
      ]
     },
     "execution_count": 21,
     "metadata": {},
     "output_type": "execute_result"
    }
   ],
   "source": [
    "df[df.feature_1 == 10000][:1]"
   ]
  },
  {
   "cell_type": "markdown",
   "id": "cb8d184b",
   "metadata": {},
   "source": [
    "# Double-Log"
   ]
  },
  {
   "cell_type": "markdown",
   "id": "5623140e",
   "metadata": {},
   "source": [
    "What happens if the real-life relationship is already logarithmic between the feature and the lambda parameter. "
   ]
  },
  {
   "cell_type": "code",
   "execution_count": null,
   "id": "69d35028",
   "metadata": {},
   "outputs": [],
   "source": []
  },
  {
   "cell_type": "code",
   "execution_count": null,
   "id": "8e29ae2d",
   "metadata": {},
   "outputs": [],
   "source": []
  },
  {
   "cell_type": "code",
   "execution_count": null,
   "id": "f2418916",
   "metadata": {},
   "outputs": [],
   "source": []
  }
 ],
 "metadata": {
  "kernelspec": {
   "display_name": "Python 3 (ipykernel)",
   "language": "python",
   "name": "python3"
  },
  "language_info": {
   "codemirror_mode": {
    "name": "ipython",
    "version": 3
   },
   "file_extension": ".py",
   "mimetype": "text/x-python",
   "name": "python",
   "nbconvert_exporter": "python",
   "pygments_lexer": "ipython3",
   "version": "3.9.12"
  },
  "toc": {
   "base_numbering": 1,
   "nav_menu": {},
   "number_sections": true,
   "sideBar": true,
   "skip_h1_title": false,
   "title_cell": "Table of Contents",
   "title_sidebar": "Contents",
   "toc_cell": false,
   "toc_position": {},
   "toc_section_display": true,
   "toc_window_display": false
  },
  "varInspector": {
   "cols": {
    "lenName": 16,
    "lenType": 16,
    "lenVar": 40
   },
   "kernels_config": {
    "python": {
     "delete_cmd_postfix": "",
     "delete_cmd_prefix": "del ",
     "library": "var_list.py",
     "varRefreshCmd": "print(var_dic_list())"
    },
    "r": {
     "delete_cmd_postfix": ") ",
     "delete_cmd_prefix": "rm(",
     "library": "var_list.r",
     "varRefreshCmd": "cat(var_dic_list()) "
    }
   },
   "types_to_exclude": [
    "module",
    "function",
    "builtin_function_or_method",
    "instance",
    "_Feature"
   ],
   "window_display": false
  }
 },
 "nbformat": 4,
 "nbformat_minor": 5
}
