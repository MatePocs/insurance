{
 "cells": [
  {
   "cell_type": "markdown",
   "id": "792b6db2",
   "metadata": {},
   "source": [
    "# Intro"
   ]
  },
  {
   "cell_type": "markdown",
   "id": "9f3cfd56",
   "metadata": {},
   "source": [
    "Goal: \n",
    "\n",
    "- trying out basic GLM on simulated data\n",
    "- demonstrate what happens if there is a linear or log relationship with a feature\n",
    "- how annualised models work - what happens if we have a time factor with an assumed linear relationship with expected value? "
   ]
  },
  {
   "cell_type": "code",
   "execution_count": 1,
   "id": "3d7079ad",
   "metadata": {},
   "outputs": [],
   "source": [
    "import numpy as np\n",
    "import pandas as pd\n",
    "\n",
    "from sklearn.linear_model import PoissonRegressor\n",
    "from sklearn.metrics import mean_poisson_deviance"
   ]
  },
  {
   "cell_type": "markdown",
   "id": "ee3a0637",
   "metadata": {},
   "source": [
    "TODO: \n",
    "- it seems like the tol is the maximum of the gradient, but then what's the point...? that's very loose\n",
    "- recalculate likelihoods, how does it work with a regularisation factor? \n",
    "- GLM from scratch? "
   ]
  },
  {
   "cell_type": "markdown",
   "id": "6117dda7",
   "metadata": {},
   "source": [
    "# Poisson 1"
   ]
  },
  {
   "cell_type": "markdown",
   "id": "c5a6b39d",
   "metadata": {},
   "source": [
    "We have one continuous feature. The lambda parameter has a linear relationship with the feature. \n",
    "\n",
    "Mistakes you can make: \n",
    "- not applying a log transformation\n",
    "- leaving alpha at default"
   ]
  },
  {
   "cell_type": "code",
   "execution_count": 2,
   "id": "c3c0ce82",
   "metadata": {},
   "outputs": [],
   "source": [
    "# generate data\n",
    "# we have one feature, feature_1, and Poisson lambda is going to be linear by it\n",
    "\n",
    "df = pd.DataFrame.from_dict({'feature_1' : np.repeat(range(1000,10001),100)})\n",
    "df['lambda'] = df['feature_1'] / 10000\n",
    "df['claim_number'] = np.random.poisson(df['lambda'])\n",
    "df['log_feature_1'] = np.log(df['feature_1'])"
   ]
  },
  {
   "cell_type": "code",
   "execution_count": 3,
   "id": "d369aa11",
   "metadata": {},
   "outputs": [
    {
     "data": {
      "text/plain": [
       "495054.99999998964"
      ]
     },
     "execution_count": 3,
     "metadata": {},
     "output_type": "execute_result"
    }
   ],
   "source": [
    "sum(df['lambda'])"
   ]
  },
  {
   "cell_type": "code",
   "execution_count": 4,
   "id": "f17ba466",
   "metadata": {},
   "outputs": [
    {
     "data": {
      "text/plain": [
       "495070"
      ]
     },
     "execution_count": 4,
     "metadata": {},
     "output_type": "execute_result"
    }
   ],
   "source": [
    "sum(df['claim_number'])"
   ]
  },
  {
   "cell_type": "code",
   "execution_count": 5,
   "id": "147016bb",
   "metadata": {},
   "outputs": [
    {
     "data": {
      "text/plain": [
       "-9.210340371976182"
      ]
     },
     "execution_count": 5,
     "metadata": {},
     "output_type": "execute_result"
    }
   ],
   "source": [
    "# In log-link GLM turns, what we want is so this: \n",
    "# predicted = 1/10000 * feature_1 ^ 1\n",
    "# mdl_coef should be 1, while mdl_intercept should be log(1/10000)\n",
    "np.log(1/10000)"
   ]
  },
  {
   "cell_type": "markdown",
   "id": "e912234d",
   "metadata": {},
   "source": [
    "## Without Log Transformation"
   ]
  },
  {
   "cell_type": "markdown",
   "id": "24efdd25",
   "metadata": {},
   "source": [
    "Let's see what happens if we try to put in the feature as it is. "
   ]
  },
  {
   "cell_type": "code",
   "execution_count": null,
   "id": "e4b229d2",
   "metadata": {},
   "outputs": [],
   "source": []
  },
  {
   "cell_type": "code",
   "execution_count": null,
   "id": "76ab08f0",
   "metadata": {},
   "outputs": [],
   "source": []
  },
  {
   "cell_type": "markdown",
   "id": "78e1f3aa",
   "metadata": {},
   "source": [
    "## With Default 1 Regularisation"
   ]
  },
  {
   "cell_type": "code",
   "execution_count": 6,
   "id": "a1753bbf",
   "metadata": {},
   "outputs": [],
   "source": [
    "mdl = PoissonRegressor()\n",
    "X = df[['log_feature_1']]\n",
    "y = df['claim_number']\n",
    "mdl.fit(X, y)\n",
    "df['pred_claim_number'] = mdl.predict(X)"
   ]
  },
  {
   "cell_type": "code",
   "execution_count": 7,
   "id": "9eba721e",
   "metadata": {},
   "outputs": [
    {
     "data": {
      "text/html": [
       "<div>\n",
       "<style scoped>\n",
       "    .dataframe tbody tr th:only-of-type {\n",
       "        vertical-align: middle;\n",
       "    }\n",
       "\n",
       "    .dataframe tbody tr th {\n",
       "        vertical-align: top;\n",
       "    }\n",
       "\n",
       "    .dataframe thead th {\n",
       "        text-align: right;\n",
       "    }\n",
       "</style>\n",
       "<table border=\"1\" class=\"dataframe\">\n",
       "  <thead>\n",
       "    <tr style=\"text-align: right;\">\n",
       "      <th></th>\n",
       "      <th>feature_1</th>\n",
       "      <th>lambda</th>\n",
       "      <th>claim_number</th>\n",
       "      <th>log_feature_1</th>\n",
       "      <th>pred_claim_number</th>\n",
       "    </tr>\n",
       "  </thead>\n",
       "  <tbody>\n",
       "    <tr>\n",
       "      <th>195983</th>\n",
       "      <td>2959</td>\n",
       "      <td>0.2959</td>\n",
       "      <td>1</td>\n",
       "      <td>7.992607</td>\n",
       "      <td>0.517219</td>\n",
       "    </tr>\n",
       "    <tr>\n",
       "      <th>513139</th>\n",
       "      <td>6131</td>\n",
       "      <td>0.6131</td>\n",
       "      <td>1</td>\n",
       "      <td>8.721113</td>\n",
       "      <td>0.566230</td>\n",
       "    </tr>\n",
       "    <tr>\n",
       "      <th>581012</th>\n",
       "      <td>6810</td>\n",
       "      <td>0.6810</td>\n",
       "      <td>1</td>\n",
       "      <td>8.826147</td>\n",
       "      <td>0.573669</td>\n",
       "    </tr>\n",
       "    <tr>\n",
       "      <th>733705</th>\n",
       "      <td>8337</td>\n",
       "      <td>0.8337</td>\n",
       "      <td>0</td>\n",
       "      <td>9.028459</td>\n",
       "      <td>0.588275</td>\n",
       "    </tr>\n",
       "    <tr>\n",
       "      <th>47582</th>\n",
       "      <td>1475</td>\n",
       "      <td>0.1475</td>\n",
       "      <td>0</td>\n",
       "      <td>7.296413</td>\n",
       "      <td>0.474351</td>\n",
       "    </tr>\n",
       "  </tbody>\n",
       "</table>\n",
       "</div>"
      ],
      "text/plain": [
       "        feature_1  lambda  claim_number  log_feature_1  pred_claim_number\n",
       "195983       2959  0.2959             1       7.992607           0.517219\n",
       "513139       6131  0.6131             1       8.721113           0.566230\n",
       "581012       6810  0.6810             1       8.826147           0.573669\n",
       "733705       8337  0.8337             0       9.028459           0.588275\n",
       "47582        1475  0.1475             0       7.296413           0.474351"
      ]
     },
     "execution_count": 7,
     "metadata": {},
     "output_type": "execute_result"
    }
   ],
   "source": [
    "df.sample(5)"
   ]
  },
  {
   "cell_type": "code",
   "execution_count": 8,
   "id": "eb40f390",
   "metadata": {},
   "outputs": [
    {
     "data": {
      "text/plain": [
       "-1.652554084043818"
      ]
     },
     "execution_count": 8,
     "metadata": {},
     "output_type": "execute_result"
    }
   ],
   "source": [
    "mdl.intercept_"
   ]
  },
  {
   "cell_type": "code",
   "execution_count": 9,
   "id": "83aa1563",
   "metadata": {},
   "outputs": [
    {
     "data": {
      "text/plain": [
       "array([0.12427297])"
      ]
     },
     "execution_count": 9,
     "metadata": {},
     "output_type": "execute_result"
    }
   ],
   "source": [
    "mdl.coef_"
   ]
  },
  {
   "cell_type": "code",
   "execution_count": 10,
   "id": "327aa0cd",
   "metadata": {},
   "outputs": [
    {
     "data": {
      "text/html": [
       "<div>\n",
       "<style scoped>\n",
       "    .dataframe tbody tr th:only-of-type {\n",
       "        vertical-align: middle;\n",
       "    }\n",
       "\n",
       "    .dataframe tbody tr th {\n",
       "        vertical-align: top;\n",
       "    }\n",
       "\n",
       "    .dataframe thead th {\n",
       "        text-align: right;\n",
       "    }\n",
       "</style>\n",
       "<table border=\"1\" class=\"dataframe\">\n",
       "  <thead>\n",
       "    <tr style=\"text-align: right;\">\n",
       "      <th></th>\n",
       "      <th>feature_1</th>\n",
       "      <th>lambda</th>\n",
       "      <th>claim_number</th>\n",
       "      <th>log_feature_1</th>\n",
       "      <th>pred_claim_number</th>\n",
       "    </tr>\n",
       "  </thead>\n",
       "  <tbody>\n",
       "    <tr>\n",
       "      <th>900000</th>\n",
       "      <td>10000</td>\n",
       "      <td>1.0</td>\n",
       "      <td>2</td>\n",
       "      <td>9.21034</td>\n",
       "      <td>0.601723</td>\n",
       "    </tr>\n",
       "  </tbody>\n",
       "</table>\n",
       "</div>"
      ],
      "text/plain": [
       "        feature_1  lambda  claim_number  log_feature_1  pred_claim_number\n",
       "900000      10000     1.0             2        9.21034           0.601723"
      ]
     },
     "execution_count": 10,
     "metadata": {},
     "output_type": "execute_result"
    }
   ],
   "source": [
    "df[df.feature_1 == 10000][:1]"
   ]
  },
  {
   "cell_type": "code",
   "execution_count": 11,
   "id": "abba06de",
   "metadata": {},
   "outputs": [
    {
     "data": {
      "text/plain": [
       "0.6017232160978054"
      ]
     },
     "execution_count": 11,
     "metadata": {},
     "output_type": "execute_result"
    }
   ],
   "source": [
    "np.exp(mdl.intercept_ + np.log(10000) * mdl.coef_[0])"
   ]
  },
  {
   "cell_type": "code",
   "execution_count": 12,
   "id": "2ac33d17",
   "metadata": {},
   "outputs": [
    {
     "data": {
      "text/plain": [
       "0.6017232160978053"
      ]
     },
     "execution_count": 12,
     "metadata": {},
     "output_type": "execute_result"
    }
   ],
   "source": [
    "# alternatively: \n",
    "np.exp(mdl.intercept_) * 10000 ** mdl.coef_[0]"
   ]
  },
  {
   "cell_type": "markdown",
   "id": "26b63b5c",
   "metadata": {},
   "source": [
    "The reason of course is the regularisation parameter. Let's try to demonstrate why this is the maximum intercept - coef pair under regularisation parameter 1. \n",
    "\n",
    "$\\alpha$ is supposed to be the L2 regularisation. \n",
    "\n",
    "Handy summary of the model objective function here: https://scikit-learn.org/stable/modules/linear_model.html#generalized-linear-models"
   ]
  },
  {
   "cell_type": "code",
   "execution_count": 13,
   "id": "eba91ac9",
   "metadata": {},
   "outputs": [],
   "source": [
    "def predict_lambda(log_feature_1, intercept, coef):\n",
    "    return np.exp(intercept + log_feature_1 * coef)"
   ]
  },
  {
   "cell_type": "code",
   "execution_count": 14,
   "id": "6c63c47c",
   "metadata": {},
   "outputs": [],
   "source": [
    "my_pred = predict_lambda(df['log_feature_1'], mdl.intercept_, mdl.coef_)\n",
    "\n",
    "df['my_pred'] = my_pred"
   ]
  },
  {
   "cell_type": "code",
   "execution_count": 15,
   "id": "4cc5ca23",
   "metadata": {},
   "outputs": [
    {
     "data": {
      "text/html": [
       "<div>\n",
       "<style scoped>\n",
       "    .dataframe tbody tr th:only-of-type {\n",
       "        vertical-align: middle;\n",
       "    }\n",
       "\n",
       "    .dataframe tbody tr th {\n",
       "        vertical-align: top;\n",
       "    }\n",
       "\n",
       "    .dataframe thead th {\n",
       "        text-align: right;\n",
       "    }\n",
       "</style>\n",
       "<table border=\"1\" class=\"dataframe\">\n",
       "  <thead>\n",
       "    <tr style=\"text-align: right;\">\n",
       "      <th></th>\n",
       "      <th>feature_1</th>\n",
       "      <th>lambda</th>\n",
       "      <th>claim_number</th>\n",
       "      <th>log_feature_1</th>\n",
       "      <th>pred_claim_number</th>\n",
       "      <th>my_pred</th>\n",
       "    </tr>\n",
       "  </thead>\n",
       "  <tbody>\n",
       "    <tr>\n",
       "      <th>523764</th>\n",
       "      <td>6237</td>\n",
       "      <td>0.6237</td>\n",
       "      <td>3</td>\n",
       "      <td>8.738255</td>\n",
       "      <td>0.567437</td>\n",
       "      <td>0.567437</td>\n",
       "    </tr>\n",
       "    <tr>\n",
       "      <th>597895</th>\n",
       "      <td>6978</td>\n",
       "      <td>0.6978</td>\n",
       "      <td>0</td>\n",
       "      <td>8.850518</td>\n",
       "      <td>0.575409</td>\n",
       "      <td>0.575409</td>\n",
       "    </tr>\n",
       "    <tr>\n",
       "      <th>22013</th>\n",
       "      <td>1220</td>\n",
       "      <td>0.1220</td>\n",
       "      <td>0</td>\n",
       "      <td>7.106606</td>\n",
       "      <td>0.463293</td>\n",
       "      <td>0.463293</td>\n",
       "    </tr>\n",
       "  </tbody>\n",
       "</table>\n",
       "</div>"
      ],
      "text/plain": [
       "        feature_1  lambda  claim_number  log_feature_1  pred_claim_number  \\\n",
       "523764       6237  0.6237             3       8.738255           0.567437   \n",
       "597895       6978  0.6978             0       8.850518           0.575409   \n",
       "22013        1220  0.1220             0       7.106606           0.463293   \n",
       "\n",
       "         my_pred  \n",
       "523764  0.567437  \n",
       "597895  0.575409  \n",
       "22013   0.463293  "
      ]
     },
     "execution_count": 15,
     "metadata": {},
     "output_type": "execute_result"
    }
   ],
   "source": [
    "df.sample(3)"
   ]
  },
  {
   "cell_type": "code",
   "execution_count": 16,
   "id": "e0002afa",
   "metadata": {},
   "outputs": [],
   "source": [
    "def calculate_model_objective(actu, log_feature_1, intercept, coef, alpha):\n",
    "    my_pred = predict_lambda(log_feature_1, intercept, coef)\n",
    "    return (1/2 * mean_poisson_deviance(actu, my_pred)) + (alpha/2 * (coef ** 2))"
   ]
  },
  {
   "cell_type": "code",
   "execution_count": 17,
   "id": "00e9a865",
   "metadata": {},
   "outputs": [
    {
     "data": {
      "text/plain": [
       "array([0.54215649])"
      ]
     },
     "execution_count": 17,
     "metadata": {},
     "output_type": "execute_result"
    }
   ],
   "source": [
    "calculate_model_objective(df['claim_number'], df['log_feature_1'], mdl.intercept_, mdl.coef_, 1)"
   ]
  },
  {
   "cell_type": "code",
   "execution_count": 18,
   "id": "efa232e3",
   "metadata": {},
   "outputs": [],
   "source": [
    "curr_min_objective_value = 999\n",
    "optimal_intercept = None\n",
    "optimal_coef = None\n",
    "\n",
    "for intercept in np.arange(-1.75, -1.55, 0.01):\n",
    "    for coef in np.arange(0.03, 0.23, 0.01):\n",
    "        curr_objective_value = calculate_model_objective(\n",
    "            df['claim_number'], df['log_feature_1'], intercept, coef, 1)\n",
    "        if(curr_objective_value < curr_min_objective_value):\n",
    "            curr_min_objective_value = curr_objective_value\n",
    "            optimal_intercept = intercept\n",
    "            optimal_coef = coef"
   ]
  },
  {
   "cell_type": "code",
   "execution_count": 19,
   "id": "e7842010",
   "metadata": {},
   "outputs": [
    {
     "data": {
      "text/plain": [
       "-1.62"
      ]
     },
     "execution_count": 19,
     "metadata": {},
     "output_type": "execute_result"
    }
   ],
   "source": [
    "round(optimal_intercept,2)"
   ]
  },
  {
   "cell_type": "code",
   "execution_count": 20,
   "id": "40dd6f5e",
   "metadata": {},
   "outputs": [
    {
     "data": {
      "text/plain": [
       "0.12"
      ]
     },
     "execution_count": 20,
     "metadata": {},
     "output_type": "execute_result"
    }
   ],
   "source": [
    "round(optimal_coef,2)"
   ]
  },
  {
   "cell_type": "code",
   "execution_count": 21,
   "id": "bb4be093",
   "metadata": {},
   "outputs": [
    {
     "data": {
      "text/plain": [
       "array([0.54215649])"
      ]
     },
     "execution_count": 21,
     "metadata": {},
     "output_type": "execute_result"
    }
   ],
   "source": [
    "calculate_model_objective(df['claim_number'], df['log_feature_1'], mdl.intercept_, mdl.coef_, 1)"
   ]
  },
  {
   "cell_type": "code",
   "execution_count": 22,
   "id": "60d8face",
   "metadata": {},
   "outputs": [
    {
     "data": {
      "text/plain": [
       "0.542171225889501"
      ]
     },
     "execution_count": 22,
     "metadata": {},
     "output_type": "execute_result"
    }
   ],
   "source": [
    "calculate_model_objective(df['claim_number'], df['log_feature_1'], optimal_intercept, optimal_coef, 1)"
   ]
  },
  {
   "cell_type": "code",
   "execution_count": 23,
   "id": "80d9a154",
   "metadata": {},
   "outputs": [
    {
     "data": {
      "text/plain": [
       "0.9845826120773442"
      ]
     },
     "execution_count": 23,
     "metadata": {},
     "output_type": "execute_result"
    }
   ],
   "source": [
    "calculate_model_objective(df['claim_number'], df['log_feature_1'], np.log(1/10000), 1, 1)"
   ]
  },
  {
   "cell_type": "markdown",
   "id": "09925fe7",
   "metadata": {},
   "source": [
    "## With No Regularisation"
   ]
  },
  {
   "cell_type": "markdown",
   "id": "2744a9ce",
   "metadata": {},
   "source": [
    "If we take out regularisation in this simple example, we expect to get exactly the parameters used in simulation. "
   ]
  },
  {
   "cell_type": "code",
   "execution_count": 24,
   "id": "503425e1",
   "metadata": {},
   "outputs": [],
   "source": [
    "mdl = PoissonRegressor(alpha = 0)\n",
    "X = df[['log_feature_1']]\n",
    "y = df['claim_number']\n",
    "mdl.fit(X, y)\n",
    "df['pred_claim_number'] = mdl.predict(X)"
   ]
  },
  {
   "cell_type": "code",
   "execution_count": 25,
   "id": "4ad43c63",
   "metadata": {},
   "outputs": [
    {
     "data": {
      "text/plain": [
       "-9.216809970567864"
      ]
     },
     "execution_count": 25,
     "metadata": {},
     "output_type": "execute_result"
    }
   ],
   "source": [
    "mdl.intercept_"
   ]
  },
  {
   "cell_type": "code",
   "execution_count": 26,
   "id": "1c0845e2",
   "metadata": {},
   "outputs": [
    {
     "data": {
      "text/plain": [
       "array([1.00074297])"
      ]
     },
     "execution_count": 26,
     "metadata": {},
     "output_type": "execute_result"
    }
   ],
   "source": [
    "mdl.coef_"
   ]
  },
  {
   "cell_type": "code",
   "execution_count": 27,
   "id": "e44535d1",
   "metadata": {},
   "outputs": [
    {
     "data": {
      "text/html": [
       "<div>\n",
       "<style scoped>\n",
       "    .dataframe tbody tr th:only-of-type {\n",
       "        vertical-align: middle;\n",
       "    }\n",
       "\n",
       "    .dataframe tbody tr th {\n",
       "        vertical-align: top;\n",
       "    }\n",
       "\n",
       "    .dataframe thead th {\n",
       "        text-align: right;\n",
       "    }\n",
       "</style>\n",
       "<table border=\"1\" class=\"dataframe\">\n",
       "  <thead>\n",
       "    <tr style=\"text-align: right;\">\n",
       "      <th></th>\n",
       "      <th>feature_1</th>\n",
       "      <th>lambda</th>\n",
       "      <th>claim_number</th>\n",
       "      <th>log_feature_1</th>\n",
       "      <th>pred_claim_number</th>\n",
       "      <th>my_pred</th>\n",
       "    </tr>\n",
       "  </thead>\n",
       "  <tbody>\n",
       "    <tr>\n",
       "      <th>0</th>\n",
       "      <td>1000</td>\n",
       "      <td>0.1</td>\n",
       "      <td>0</td>\n",
       "      <td>6.907755</td>\n",
       "      <td>0.099866</td>\n",
       "      <td>0.451985</td>\n",
       "    </tr>\n",
       "  </tbody>\n",
       "</table>\n",
       "</div>"
      ],
      "text/plain": [
       "   feature_1  lambda  claim_number  log_feature_1  pred_claim_number   my_pred\n",
       "0       1000     0.1             0       6.907755           0.099866  0.451985"
      ]
     },
     "execution_count": 27,
     "metadata": {},
     "output_type": "execute_result"
    }
   ],
   "source": [
    "df[df.feature_1 == 1000][:1]"
   ]
  },
  {
   "cell_type": "code",
   "execution_count": 28,
   "id": "6e217a39",
   "metadata": {},
   "outputs": [
    {
     "data": {
      "text/html": [
       "<div>\n",
       "<style scoped>\n",
       "    .dataframe tbody tr th:only-of-type {\n",
       "        vertical-align: middle;\n",
       "    }\n",
       "\n",
       "    .dataframe tbody tr th {\n",
       "        vertical-align: top;\n",
       "    }\n",
       "\n",
       "    .dataframe thead th {\n",
       "        text-align: right;\n",
       "    }\n",
       "</style>\n",
       "<table border=\"1\" class=\"dataframe\">\n",
       "  <thead>\n",
       "    <tr style=\"text-align: right;\">\n",
       "      <th></th>\n",
       "      <th>feature_1</th>\n",
       "      <th>lambda</th>\n",
       "      <th>claim_number</th>\n",
       "      <th>log_feature_1</th>\n",
       "      <th>pred_claim_number</th>\n",
       "      <th>my_pred</th>\n",
       "    </tr>\n",
       "  </thead>\n",
       "  <tbody>\n",
       "    <tr>\n",
       "      <th>900000</th>\n",
       "      <td>10000</td>\n",
       "      <td>1.0</td>\n",
       "      <td>2</td>\n",
       "      <td>9.21034</td>\n",
       "      <td>1.000373</td>\n",
       "      <td>0.601723</td>\n",
       "    </tr>\n",
       "  </tbody>\n",
       "</table>\n",
       "</div>"
      ],
      "text/plain": [
       "        feature_1  lambda  claim_number  log_feature_1  pred_claim_number  \\\n",
       "900000      10000     1.0             2        9.21034           1.000373   \n",
       "\n",
       "         my_pred  \n",
       "900000  0.601723  "
      ]
     },
     "execution_count": 28,
     "metadata": {},
     "output_type": "execute_result"
    }
   ],
   "source": [
    "df[df.feature_1 == 10000][:1]"
   ]
  },
  {
   "cell_type": "code",
   "execution_count": null,
   "id": "316a246b",
   "metadata": {},
   "outputs": [],
   "source": []
  },
  {
   "cell_type": "markdown",
   "id": "002a9a8a",
   "metadata": {},
   "source": [
    "# Poisson 2 - Time Factor"
   ]
  },
  {
   "cell_type": "code",
   "execution_count": 29,
   "id": "32bad813",
   "metadata": {},
   "outputs": [],
   "source": [
    "# generate data\n",
    "# difference from previous setup: we have an year_at_risk factor, which is between 0 and 1, \n",
    "# and the lambda is simply multiplied by it\n",
    "\n",
    "df2 = pd.DataFrame.from_dict({'feature_1' : np.repeat(range(1000,10001),100)})\n",
    "df2['years_at_risk'] = np.random.uniform(0.5,1, len(df2['feature_1']))\n",
    "df2['lambda'] = df2['feature_1'] * df2['years_at_risk'] / 10000\n",
    "df2['claim_number'] = np.random.poisson(df2['lambda'])\n",
    "df2['log_feature_1'] = np.log(df2['feature_1'])"
   ]
  },
  {
   "cell_type": "markdown",
   "id": "532b9d92",
   "metadata": {},
   "source": [
    "I try putting in a pre-defined intercept first. This would be similar to offset in stats terms, base_margin in XGBoost, or init_score in LightGBM. Sadly, there is no such input here..."
   ]
  },
  {
   "cell_type": "markdown",
   "id": "681c4bb7",
   "metadata": {},
   "source": [
    "The other option is to fit on the annualised claim_number, and apply the year_at_risk as weights. "
   ]
  },
  {
   "cell_type": "code",
   "execution_count": 30,
   "id": "6ebb3c3c",
   "metadata": {},
   "outputs": [],
   "source": [
    "df2['annualised_claim_number'] = df2['claim_number'] / df2['years_at_risk']"
   ]
  },
  {
   "cell_type": "code",
   "execution_count": 31,
   "id": "e3571f76",
   "metadata": {},
   "outputs": [],
   "source": [
    "mdl = PoissonRegressor(alpha = 0)\n",
    "X = df2[['log_feature_1']]\n",
    "y = df2['annualised_claim_number']\n",
    "sample_weight = df2['years_at_risk']\n",
    "mdl.fit(X, y, sample_weight)\n",
    "df2['pred_annualised_claim_number'] = mdl.predict(X)\n",
    "df2['pred_claim_number'] = df2['pred_annualised_claim_number'] *  df2['years_at_risk']"
   ]
  },
  {
   "cell_type": "code",
   "execution_count": 32,
   "id": "d3a021cb",
   "metadata": {},
   "outputs": [
    {
     "data": {
      "text/html": [
       "<div>\n",
       "<style scoped>\n",
       "    .dataframe tbody tr th:only-of-type {\n",
       "        vertical-align: middle;\n",
       "    }\n",
       "\n",
       "    .dataframe tbody tr th {\n",
       "        vertical-align: top;\n",
       "    }\n",
       "\n",
       "    .dataframe thead th {\n",
       "        text-align: right;\n",
       "    }\n",
       "</style>\n",
       "<table border=\"1\" class=\"dataframe\">\n",
       "  <thead>\n",
       "    <tr style=\"text-align: right;\">\n",
       "      <th></th>\n",
       "      <th>feature_1</th>\n",
       "      <th>years_at_risk</th>\n",
       "      <th>lambda</th>\n",
       "      <th>claim_number</th>\n",
       "      <th>log_feature_1</th>\n",
       "      <th>annualised_claim_number</th>\n",
       "      <th>pred_annualised_claim_number</th>\n",
       "      <th>pred_claim_number</th>\n",
       "    </tr>\n",
       "  </thead>\n",
       "  <tbody>\n",
       "    <tr>\n",
       "      <th>0</th>\n",
       "      <td>1000</td>\n",
       "      <td>0.790139</td>\n",
       "      <td>0.079014</td>\n",
       "      <td>0</td>\n",
       "      <td>6.907755</td>\n",
       "      <td>0.000000</td>\n",
       "      <td>0.099552</td>\n",
       "      <td>0.078660</td>\n",
       "    </tr>\n",
       "    <tr>\n",
       "      <th>1</th>\n",
       "      <td>1000</td>\n",
       "      <td>0.783181</td>\n",
       "      <td>0.078318</td>\n",
       "      <td>0</td>\n",
       "      <td>6.907755</td>\n",
       "      <td>0.000000</td>\n",
       "      <td>0.099552</td>\n",
       "      <td>0.077967</td>\n",
       "    </tr>\n",
       "    <tr>\n",
       "      <th>2</th>\n",
       "      <td>1000</td>\n",
       "      <td>0.978635</td>\n",
       "      <td>0.097864</td>\n",
       "      <td>0</td>\n",
       "      <td>6.907755</td>\n",
       "      <td>0.000000</td>\n",
       "      <td>0.099552</td>\n",
       "      <td>0.097425</td>\n",
       "    </tr>\n",
       "    <tr>\n",
       "      <th>3</th>\n",
       "      <td>1000</td>\n",
       "      <td>0.943063</td>\n",
       "      <td>0.094306</td>\n",
       "      <td>0</td>\n",
       "      <td>6.907755</td>\n",
       "      <td>0.000000</td>\n",
       "      <td>0.099552</td>\n",
       "      <td>0.093884</td>\n",
       "    </tr>\n",
       "    <tr>\n",
       "      <th>4</th>\n",
       "      <td>1000</td>\n",
       "      <td>0.868151</td>\n",
       "      <td>0.086815</td>\n",
       "      <td>1</td>\n",
       "      <td>6.907755</td>\n",
       "      <td>1.151873</td>\n",
       "      <td>0.099552</td>\n",
       "      <td>0.086426</td>\n",
       "    </tr>\n",
       "    <tr>\n",
       "      <th>...</th>\n",
       "      <td>...</td>\n",
       "      <td>...</td>\n",
       "      <td>...</td>\n",
       "      <td>...</td>\n",
       "      <td>...</td>\n",
       "      <td>...</td>\n",
       "      <td>...</td>\n",
       "      <td>...</td>\n",
       "    </tr>\n",
       "    <tr>\n",
       "      <th>900095</th>\n",
       "      <td>10000</td>\n",
       "      <td>0.998197</td>\n",
       "      <td>0.998197</td>\n",
       "      <td>1</td>\n",
       "      <td>9.210340</td>\n",
       "      <td>1.001807</td>\n",
       "      <td>1.000007</td>\n",
       "      <td>0.998204</td>\n",
       "    </tr>\n",
       "    <tr>\n",
       "      <th>900096</th>\n",
       "      <td>10000</td>\n",
       "      <td>0.868751</td>\n",
       "      <td>0.868751</td>\n",
       "      <td>1</td>\n",
       "      <td>9.210340</td>\n",
       "      <td>1.151077</td>\n",
       "      <td>1.000007</td>\n",
       "      <td>0.868758</td>\n",
       "    </tr>\n",
       "    <tr>\n",
       "      <th>900097</th>\n",
       "      <td>10000</td>\n",
       "      <td>0.927821</td>\n",
       "      <td>0.927821</td>\n",
       "      <td>0</td>\n",
       "      <td>9.210340</td>\n",
       "      <td>0.000000</td>\n",
       "      <td>1.000007</td>\n",
       "      <td>0.927828</td>\n",
       "    </tr>\n",
       "    <tr>\n",
       "      <th>900098</th>\n",
       "      <td>10000</td>\n",
       "      <td>0.960722</td>\n",
       "      <td>0.960722</td>\n",
       "      <td>1</td>\n",
       "      <td>9.210340</td>\n",
       "      <td>1.040884</td>\n",
       "      <td>1.000007</td>\n",
       "      <td>0.960729</td>\n",
       "    </tr>\n",
       "    <tr>\n",
       "      <th>900099</th>\n",
       "      <td>10000</td>\n",
       "      <td>0.536074</td>\n",
       "      <td>0.536074</td>\n",
       "      <td>0</td>\n",
       "      <td>9.210340</td>\n",
       "      <td>0.000000</td>\n",
       "      <td>1.000007</td>\n",
       "      <td>0.536078</td>\n",
       "    </tr>\n",
       "  </tbody>\n",
       "</table>\n",
       "<p>900100 rows × 8 columns</p>\n",
       "</div>"
      ],
      "text/plain": [
       "        feature_1  years_at_risk    lambda  claim_number  log_feature_1  \\\n",
       "0            1000       0.790139  0.079014             0       6.907755   \n",
       "1            1000       0.783181  0.078318             0       6.907755   \n",
       "2            1000       0.978635  0.097864             0       6.907755   \n",
       "3            1000       0.943063  0.094306             0       6.907755   \n",
       "4            1000       0.868151  0.086815             1       6.907755   \n",
       "...           ...            ...       ...           ...            ...   \n",
       "900095      10000       0.998197  0.998197             1       9.210340   \n",
       "900096      10000       0.868751  0.868751             1       9.210340   \n",
       "900097      10000       0.927821  0.927821             0       9.210340   \n",
       "900098      10000       0.960722  0.960722             1       9.210340   \n",
       "900099      10000       0.536074  0.536074             0       9.210340   \n",
       "\n",
       "        annualised_claim_number  pred_annualised_claim_number  \\\n",
       "0                      0.000000                      0.099552   \n",
       "1                      0.000000                      0.099552   \n",
       "2                      0.000000                      0.099552   \n",
       "3                      0.000000                      0.099552   \n",
       "4                      1.151873                      0.099552   \n",
       "...                         ...                           ...   \n",
       "900095                 1.001807                      1.000007   \n",
       "900096                 1.151077                      1.000007   \n",
       "900097                 0.000000                      1.000007   \n",
       "900098                 1.040884                      1.000007   \n",
       "900099                 0.000000                      1.000007   \n",
       "\n",
       "        pred_claim_number  \n",
       "0                0.078660  \n",
       "1                0.077967  \n",
       "2                0.097425  \n",
       "3                0.093884  \n",
       "4                0.086426  \n",
       "...                   ...  \n",
       "900095           0.998204  \n",
       "900096           0.868758  \n",
       "900097           0.927828  \n",
       "900098           0.960729  \n",
       "900099           0.536078  \n",
       "\n",
       "[900100 rows x 8 columns]"
      ]
     },
     "execution_count": 32,
     "metadata": {},
     "output_type": "execute_result"
    }
   ],
   "source": [
    "df2"
   ]
  },
  {
   "cell_type": "markdown",
   "id": "731ece11",
   "metadata": {},
   "source": [
    "OK, well, the good news is it seems to work. It's quite sad that we don't have the offset option though.\n",
    "\n",
    "Important to note that the original predictions are still going to be without the year_at_risk factor, need to manually multiply with them. "
   ]
  },
  {
   "cell_type": "code",
   "execution_count": null,
   "id": "3c8233b2",
   "metadata": {},
   "outputs": [],
   "source": []
  },
  {
   "cell_type": "markdown",
   "id": "c88148b7",
   "metadata": {},
   "source": [
    "Alternative solution: let's see what happens if we simply put in years_at_risk as a factor in the model. We expect a coef 1, similar to the feature_1. And, similar to feature_1, we actually have to put in the log. "
   ]
  },
  {
   "cell_type": "code",
   "execution_count": 33,
   "id": "58776540",
   "metadata": {},
   "outputs": [],
   "source": [
    "df2['log_years_at_risk'] = np.log(df2['years_at_risk'])"
   ]
  },
  {
   "cell_type": "code",
   "execution_count": 34,
   "id": "49295101",
   "metadata": {},
   "outputs": [],
   "source": [
    "mdl = PoissonRegressor(alpha = 0)\n",
    "X = df2[['log_feature_1', 'log_years_at_risk']]\n",
    "y = df2['claim_number']\n",
    "mdl.fit(X, y, sample_weight)\n",
    "df2['pred_claim_number_v2'] = mdl.predict(X)"
   ]
  },
  {
   "cell_type": "code",
   "execution_count": 35,
   "id": "33e5e1cc",
   "metadata": {},
   "outputs": [
    {
     "data": {
      "text/plain": [
       "array([1.00128243, 1.00730594])"
      ]
     },
     "execution_count": 35,
     "metadata": {},
     "output_type": "execute_result"
    }
   ],
   "source": [
    "mdl.coef_"
   ]
  },
  {
   "cell_type": "markdown",
   "id": "bcfb3ab7",
   "metadata": {},
   "source": [
    "Beautiful!"
   ]
  },
  {
   "cell_type": "code",
   "execution_count": 36,
   "id": "654881c0",
   "metadata": {},
   "outputs": [
    {
     "data": {
      "text/html": [
       "<div>\n",
       "<style scoped>\n",
       "    .dataframe tbody tr th:only-of-type {\n",
       "        vertical-align: middle;\n",
       "    }\n",
       "\n",
       "    .dataframe tbody tr th {\n",
       "        vertical-align: top;\n",
       "    }\n",
       "\n",
       "    .dataframe thead th {\n",
       "        text-align: right;\n",
       "    }\n",
       "</style>\n",
       "<table border=\"1\" class=\"dataframe\">\n",
       "  <thead>\n",
       "    <tr style=\"text-align: right;\">\n",
       "      <th></th>\n",
       "      <th>feature_1</th>\n",
       "      <th>years_at_risk</th>\n",
       "      <th>lambda</th>\n",
       "      <th>claim_number</th>\n",
       "      <th>log_feature_1</th>\n",
       "      <th>annualised_claim_number</th>\n",
       "      <th>pred_annualised_claim_number</th>\n",
       "      <th>pred_claim_number</th>\n",
       "      <th>log_years_at_risk</th>\n",
       "      <th>pred_claim_number_v2</th>\n",
       "    </tr>\n",
       "  </thead>\n",
       "  <tbody>\n",
       "    <tr>\n",
       "      <th>836908</th>\n",
       "      <td>9369</td>\n",
       "      <td>0.808076</td>\n",
       "      <td>0.757087</td>\n",
       "      <td>1</td>\n",
       "      <td>9.145162</td>\n",
       "      <td>1.237507</td>\n",
       "      <td>0.936788</td>\n",
       "      <td>0.756996</td>\n",
       "      <td>-0.213099</td>\n",
       "      <td>0.757058</td>\n",
       "    </tr>\n",
       "    <tr>\n",
       "      <th>272682</th>\n",
       "      <td>3726</td>\n",
       "      <td>0.959091</td>\n",
       "      <td>0.357357</td>\n",
       "      <td>1</td>\n",
       "      <td>8.223091</td>\n",
       "      <td>1.042654</td>\n",
       "      <td>0.371885</td>\n",
       "      <td>0.356671</td>\n",
       "      <td>-0.041770</td>\n",
       "      <td>0.357369</td>\n",
       "    </tr>\n",
       "    <tr>\n",
       "      <th>162061</th>\n",
       "      <td>2620</td>\n",
       "      <td>0.865758</td>\n",
       "      <td>0.226829</td>\n",
       "      <td>0</td>\n",
       "      <td>7.870930</td>\n",
       "      <td>0.000000</td>\n",
       "      <td>0.261317</td>\n",
       "      <td>0.226237</td>\n",
       "      <td>-0.144149</td>\n",
       "      <td>0.226564</td>\n",
       "    </tr>\n",
       "    <tr>\n",
       "      <th>433756</th>\n",
       "      <td>5337</td>\n",
       "      <td>0.649800</td>\n",
       "      <td>0.346799</td>\n",
       "      <td>0</td>\n",
       "      <td>8.582419</td>\n",
       "      <td>0.000000</td>\n",
       "      <td>0.533049</td>\n",
       "      <td>0.346376</td>\n",
       "      <td>-0.431090</td>\n",
       "      <td>0.345984</td>\n",
       "    </tr>\n",
       "    <tr>\n",
       "      <th>334716</th>\n",
       "      <td>4347</td>\n",
       "      <td>0.936307</td>\n",
       "      <td>0.407013</td>\n",
       "      <td>0</td>\n",
       "      <td>8.377241</td>\n",
       "      <td>0.000000</td>\n",
       "      <td>0.433996</td>\n",
       "      <td>0.406354</td>\n",
       "      <td>-0.065812</td>\n",
       "      <td>0.407034</td>\n",
       "    </tr>\n",
       "  </tbody>\n",
       "</table>\n",
       "</div>"
      ],
      "text/plain": [
       "        feature_1  years_at_risk    lambda  claim_number  log_feature_1  \\\n",
       "836908       9369       0.808076  0.757087             1       9.145162   \n",
       "272682       3726       0.959091  0.357357             1       8.223091   \n",
       "162061       2620       0.865758  0.226829             0       7.870930   \n",
       "433756       5337       0.649800  0.346799             0       8.582419   \n",
       "334716       4347       0.936307  0.407013             0       8.377241   \n",
       "\n",
       "        annualised_claim_number  pred_annualised_claim_number  \\\n",
       "836908                 1.237507                      0.936788   \n",
       "272682                 1.042654                      0.371885   \n",
       "162061                 0.000000                      0.261317   \n",
       "433756                 0.000000                      0.533049   \n",
       "334716                 0.000000                      0.433996   \n",
       "\n",
       "        pred_claim_number  log_years_at_risk  pred_claim_number_v2  \n",
       "836908           0.756996          -0.213099              0.757058  \n",
       "272682           0.356671          -0.041770              0.357369  \n",
       "162061           0.226237          -0.144149              0.226564  \n",
       "433756           0.346376          -0.431090              0.345984  \n",
       "334716           0.406354          -0.065812              0.407034  "
      ]
     },
     "execution_count": 36,
     "metadata": {},
     "output_type": "execute_result"
    }
   ],
   "source": [
    "df2.sample(5)"
   ]
  },
  {
   "cell_type": "markdown",
   "id": "cb8d184b",
   "metadata": {},
   "source": [
    "# Double-Log"
   ]
  },
  {
   "cell_type": "markdown",
   "id": "5623140e",
   "metadata": {},
   "source": [
    "What happens if the real-life relationship is already logarithmic between the feature and the lambda parameter. "
   ]
  },
  {
   "cell_type": "code",
   "execution_count": null,
   "id": "69d35028",
   "metadata": {},
   "outputs": [],
   "source": []
  },
  {
   "cell_type": "code",
   "execution_count": null,
   "id": "8e29ae2d",
   "metadata": {},
   "outputs": [],
   "source": []
  },
  {
   "cell_type": "code",
   "execution_count": null,
   "id": "f2418916",
   "metadata": {},
   "outputs": [],
   "source": []
  }
 ],
 "metadata": {
  "kernelspec": {
   "display_name": "Python 3 (ipykernel)",
   "language": "python",
   "name": "python3"
  },
  "language_info": {
   "codemirror_mode": {
    "name": "ipython",
    "version": 3
   },
   "file_extension": ".py",
   "mimetype": "text/x-python",
   "name": "python",
   "nbconvert_exporter": "python",
   "pygments_lexer": "ipython3",
   "version": "3.9.12"
  },
  "toc": {
   "base_numbering": 1,
   "nav_menu": {},
   "number_sections": true,
   "sideBar": true,
   "skip_h1_title": false,
   "title_cell": "Table of Contents",
   "title_sidebar": "Contents",
   "toc_cell": false,
   "toc_position": {},
   "toc_section_display": true,
   "toc_window_display": false
  },
  "varInspector": {
   "cols": {
    "lenName": 16,
    "lenType": 16,
    "lenVar": 40
   },
   "kernels_config": {
    "python": {
     "delete_cmd_postfix": "",
     "delete_cmd_prefix": "del ",
     "library": "var_list.py",
     "varRefreshCmd": "print(var_dic_list())"
    },
    "r": {
     "delete_cmd_postfix": ") ",
     "delete_cmd_prefix": "rm(",
     "library": "var_list.r",
     "varRefreshCmd": "cat(var_dic_list()) "
    }
   },
   "types_to_exclude": [
    "module",
    "function",
    "builtin_function_or_method",
    "instance",
    "_Feature"
   ],
   "window_display": false
  }
 },
 "nbformat": 4,
 "nbformat_minor": 5
}
