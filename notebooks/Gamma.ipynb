{
 "cells": [
  {
   "cell_type": "markdown",
   "id": "be379110",
   "metadata": {},
   "source": [
    "# Intro"
   ]
  },
  {
   "cell_type": "markdown",
   "id": "f620fade",
   "metadata": {},
   "source": [
    "Goal of this notebook: \n",
    "- familiarising myself with gamma parametrisation. "
   ]
  },
  {
   "cell_type": "code",
   "execution_count": 1,
   "id": "177c05ed",
   "metadata": {},
   "outputs": [],
   "source": [
    "import numpy as np\n",
    "import pandas as pd\n",
    "\n",
    "from matplotlib import pyplot as plt\n",
    "import seaborn as sns\n",
    "\n",
    "from sklearn.linear_model import GammaRegressor"
   ]
  },
  {
   "cell_type": "markdown",
   "id": "4e863041",
   "metadata": {},
   "source": [
    "# Gamma Summary"
   ]
  },
  {
   "cell_type": "markdown",
   "id": "a10ee4ca",
   "metadata": {},
   "source": [
    "For reference: https://en.wikipedia.org/wiki/Gamma_distribution."
   ]
  },
  {
   "cell_type": "markdown",
   "id": "9c2f4199",
   "metadata": {},
   "source": [
    "The numpy package's shape and scale parameter are the first parameter set, so $k$ and $\\theta$. Mean is $k \\theta$. "
   ]
  },
  {
   "cell_type": "code",
   "execution_count": null,
   "id": "eda07590",
   "metadata": {},
   "outputs": [],
   "source": []
  },
  {
   "cell_type": "code",
   "execution_count": null,
   "id": "1a710ca0",
   "metadata": {},
   "outputs": [],
   "source": []
  },
  {
   "cell_type": "markdown",
   "id": "9403984c",
   "metadata": {},
   "source": [
    "# Generate Data"
   ]
  },
  {
   "cell_type": "markdown",
   "id": "394bf05f",
   "metadata": {},
   "source": [
    "Goal is to visualise different gammas that share the same mean. "
   ]
  },
  {
   "cell_type": "code",
   "execution_count": 2,
   "id": "faea363a",
   "metadata": {},
   "outputs": [],
   "source": [
    "gamma_mean = 10000\n",
    "number_of_sample = 10000"
   ]
  },
  {
   "cell_type": "code",
   "execution_count": 11,
   "id": "1176ccbb",
   "metadata": {},
   "outputs": [],
   "source": [
    "shape = 1\n",
    "scale = gamma_mean/shape\n",
    "df1 = pd.DataFrame.from_dict({'target': np.random.gamma(shape, scale, number_of_sample), 'shape': shape})"
   ]
  },
  {
   "cell_type": "code",
   "execution_count": 12,
   "id": "8e15a978",
   "metadata": {},
   "outputs": [],
   "source": [
    "shape = 5\n",
    "scale = gamma_mean/shape\n",
    "df2 = pd.DataFrame.from_dict({'target': np.random.gamma(shape, scale, number_of_sample), 'shape': shape})"
   ]
  },
  {
   "cell_type": "code",
   "execution_count": 13,
   "id": "c81bec8d",
   "metadata": {},
   "outputs": [],
   "source": [
    "shape = 10\n",
    "scale = gamma_mean/shape\n",
    "df3 = pd.DataFrame.from_dict({'target': np.random.gamma(shape, scale, number_of_sample), 'shape': shape})"
   ]
  },
  {
   "cell_type": "code",
   "execution_count": 14,
   "id": "2180cf47",
   "metadata": {},
   "outputs": [],
   "source": [
    "shape = 20\n",
    "scale = gamma_mean/shape\n",
    "df4 = pd.DataFrame.from_dict({'target': np.random.gamma(shape, scale, number_of_sample), 'shape': shape})"
   ]
  },
  {
   "cell_type": "code",
   "execution_count": 15,
   "id": "f91dfc4b",
   "metadata": {},
   "outputs": [],
   "source": [
    "df = pd.concat([df1,df2,df3,df4], axis = 0).reset_index()"
   ]
  },
  {
   "cell_type": "markdown",
   "id": "307ab385",
   "metadata": {},
   "source": [
    "# Visualisation"
   ]
  },
  {
   "cell_type": "code",
   "execution_count": 16,
   "id": "b8b08141",
   "metadata": {},
   "outputs": [
    {
     "data": {
      "image/png": "[encoded data removed]",
      "text/plain": [
       "<Figure size 408.75x360 with 1 Axes>"
      ]
     },
     "metadata": {
      "needs_background": "light"
     },
     "output_type": "display_data"
    }
   ],
   "source": [
    "sns.displot(data = df, x = 'target', hue = 'shape', kind = 'kde')\n",
    "plt.show()"
   ]
  },
  {
   "cell_type": "markdown",
   "id": "17662e28",
   "metadata": {},
   "source": [
    "# Distribution Fitting"
   ]
  },
  {
   "cell_type": "markdown",
   "id": "2dde56fe",
   "metadata": {},
   "source": [
    "## Method of Moments"
   ]
  },
  {
   "cell_type": "markdown",
   "id": "c9dd37fc",
   "metadata": {},
   "source": [
    "The formula is quite simple, based on observed variance and mean. "
   ]
  },
  {
   "cell_type": "code",
   "execution_count": 17,
   "id": "dea01701",
   "metadata": {},
   "outputs": [
    {
     "data": {
      "text/plain": [
       "9983.503435554676"
      ]
     },
     "execution_count": 17,
     "metadata": {},
     "output_type": "execute_result"
    }
   ],
   "source": [
    "np.mean(df1.target)"
   ]
  },
  {
   "cell_type": "code",
   "execution_count": 18,
   "id": "ba8213d3",
   "metadata": {},
   "outputs": [
    {
     "data": {
      "text/plain": [
       "99873730.02015181"
      ]
     },
     "execution_count": 18,
     "metadata": {},
     "output_type": "execute_result"
    }
   ],
   "source": [
    "(np.std(df1.target)) ** 2"
   ]
  },
  {
   "cell_type": "code",
   "execution_count": 19,
   "id": "0dce1e76",
   "metadata": {},
   "outputs": [
    {
     "data": {
      "text/plain": [
       "0.997963536834173"
      ]
     },
     "execution_count": 19,
     "metadata": {},
     "output_type": "execute_result"
    }
   ],
   "source": [
    "estimated_shape = np.mean(df1.target) **  2 / (np.std(df1.target)) ** 2\n",
    "estimated_shape"
   ]
  },
  {
   "cell_type": "code",
   "execution_count": 20,
   "id": "167af22b",
   "metadata": {},
   "outputs": [
    {
     "data": {
      "text/plain": [
       "10003.875960463663"
      ]
     },
     "execution_count": 20,
     "metadata": {},
     "output_type": "execute_result"
    }
   ],
   "source": [
    "estimated_scale = (np.std(df1.target)) ** 2 / np.mean(df1.target)\n",
    "estimated_scale"
   ]
  },
  {
   "cell_type": "code",
   "execution_count": 21,
   "id": "7e883ec5",
   "metadata": {},
   "outputs": [
    {
     "data": {
      "text/plain": [
       "9983.503435554678"
      ]
     },
     "execution_count": 21,
     "metadata": {},
     "output_type": "execute_result"
    }
   ],
   "source": [
    "estimated_mean = estimated_shape * estimated_scale\n",
    "estimated_mean"
   ]
  },
  {
   "cell_type": "code",
   "execution_count": 22,
   "id": "1f4cbab6",
   "metadata": {},
   "outputs": [
    {
     "data": {
      "text/plain": [
       "99873730.02015182"
      ]
     },
     "execution_count": 22,
     "metadata": {},
     "output_type": "execute_result"
    }
   ],
   "source": [
    "estimated_variance = estimated_shape * estimated_scale ** 2\n",
    "estimated_variance"
   ]
  },
  {
   "cell_type": "markdown",
   "id": "8a3c60e5",
   "metadata": {},
   "source": [
    "OK, so this method seems to work. "
   ]
  },
  {
   "cell_type": "markdown",
   "id": "582ab8d3",
   "metadata": {},
   "source": [
    "However, this is not the MLE estimation, MLE should be biased for gamma. "
   ]
  },
  {
   "cell_type": "markdown",
   "id": "f0f79cda",
   "metadata": {},
   "source": [
    "## Maximum Likelihood Estimation"
   ]
  },
  {
   "cell_type": "markdown",
   "id": "a32df1e0",
   "metadata": {},
   "source": [
    "https://en.wikipedia.org/wiki/Gamma_distribution#Maximum_likelihood_estimation"
   ]
  },
  {
   "cell_type": "markdown",
   "id": "e7c23ed9",
   "metadata": {},
   "source": [
    "There is no closed formula, just an approximation. "
   ]
  },
  {
   "cell_type": "code",
   "execution_count": 23,
   "id": "438ebb42",
   "metadata": {},
   "outputs": [],
   "source": [
    "def get_gamma_mle_scale(mle_shape, sample):\n",
    "    # returns the estimated scale parameter, which is dependent on the estimated shape\n",
    "    return np.mean(sample) / mle_shape\n",
    "\n",
    "def get_gamma_approximate_mle_shape(sample):\n",
    "    # returns an approximation of shape parameter\n",
    "    s = np.log(np.mean(sample)) - np.mean(np.log(sample))\n",
    "    return (3 - s + ((s-3)**2 + 24 * s) ** 0.5) / (12 * s)"
   ]
  },
  {
   "cell_type": "code",
   "execution_count": 24,
   "id": "5113acd5",
   "metadata": {},
   "outputs": [
    {
     "data": {
      "text/plain": [
       "0.9703761471187989"
      ]
     },
     "execution_count": 24,
     "metadata": {},
     "output_type": "execute_result"
    }
   ],
   "source": [
    "mle_estimated_shape = get_gamma_approximate_mle_shape(df1.target)\n",
    "mle_estimated_shape"
   ]
  },
  {
   "cell_type": "code",
   "execution_count": 25,
   "id": "ddcf03b8",
   "metadata": {},
   "outputs": [
    {
     "data": {
      "text/plain": [
       "10288.281987554295"
      ]
     },
     "execution_count": 25,
     "metadata": {},
     "output_type": "execute_result"
    }
   ],
   "source": [
    "mle_estimated_scale = get_gamma_mle_scale(mle_estimated_shape, df1.target)\n",
    "mle_estimated_scale"
   ]
  },
  {
   "cell_type": "code",
   "execution_count": 26,
   "id": "5b1f07bb",
   "metadata": {},
   "outputs": [
    {
     "data": {
      "text/plain": [
       "9983.503435554676"
      ]
     },
     "execution_count": 26,
     "metadata": {},
     "output_type": "execute_result"
    }
   ],
   "source": [
    "mle_estimated_shape * mle_estimated_scale"
   ]
  },
  {
   "cell_type": "markdown",
   "id": "ca2e30dc",
   "metadata": {},
   "source": [
    "OK, so we get the expected value right (of course, because that is how the scale is set), just not the shape parameter itself."
   ]
  },
  {
   "cell_type": "code",
   "execution_count": 27,
   "id": "15adb794",
   "metadata": {},
   "outputs": [
    {
     "data": {
      "text/plain": [
       "102713098.5687036"
      ]
     },
     "execution_count": 27,
     "metadata": {},
     "output_type": "execute_result"
    }
   ],
   "source": [
    "mle_estimated_shape * mle_estimated_scale**2"
   ]
  },
  {
   "cell_type": "markdown",
   "id": "db3a56b2",
   "metadata": {},
   "source": [
    "The variance of the estimated is a bit higher than the actual. "
   ]
  },
  {
   "cell_type": "markdown",
   "id": "9a1cf080",
   "metadata": {},
   "source": [
    "# GLM - Sklearn"
   ]
  },
  {
   "cell_type": "markdown",
   "id": "4342d0d5",
   "metadata": {},
   "source": [
    "## Baseline"
   ]
  },
  {
   "cell_type": "markdown",
   "id": "4aa627b8",
   "metadata": {},
   "source": [
    "Let's see if we can fit the expected value. "
   ]
  },
  {
   "cell_type": "code",
   "execution_count": 28,
   "id": "0dbfd407",
   "metadata": {},
   "outputs": [
    {
     "data": {
      "text/plain": [
       "9983.503435554683"
      ]
     },
     "execution_count": 28,
     "metadata": {},
     "output_type": "execute_result"
    }
   ],
   "source": [
    "df1['dummy_feature'] = 1\n",
    "mdl = GammaRegressor(alpha = 0)\n",
    "mdl.fit(df1[['dummy_feature']], df1['target'])\n",
    "df1['pred'] = mdl.predict(df1[['dummy_feature']])\n",
    "df1.pred[0]"
   ]
  },
  {
   "cell_type": "markdown",
   "id": "1db71a50",
   "metadata": {},
   "source": [
    "## Linear Increase in Shape"
   ]
  },
  {
   "cell_type": "markdown",
   "id": "26f420c9",
   "metadata": {},
   "source": [
    "We need a new data, this time, we'll have a continuous feature. \n",
    "\n",
    "Expected value: feature_1 / 1000 * 20"
   ]
  },
  {
   "cell_type": "code",
   "execution_count": 29,
   "id": "a70697d3",
   "metadata": {},
   "outputs": [],
   "source": [
    "df_mdl = pd.DataFrame.from_dict({'feature_1' : np.repeat(range(1000,10001),100)})\n",
    "\n",
    "df_mdl['shape'] = df_mdl['feature_1'] / 1000\n",
    "df_mdl['scale'] = 20\n",
    "\n",
    "df_mdl['claim_amount'] = np.random.gamma(shape = df_mdl['shape'], scale = df_mdl['scale'])\n",
    "df_mdl['log_feature_1'] = np.log(df_mdl['feature_1'])"
   ]
  },
  {
   "cell_type": "code",
   "execution_count": 30,
   "id": "a2d77b9e",
   "metadata": {},
   "outputs": [],
   "source": [
    "df_mdl['expected_value'] = df_mdl['shape'] * df_mdl['scale']"
   ]
  },
  {
   "cell_type": "code",
   "execution_count": 31,
   "id": "66360923",
   "metadata": {},
   "outputs": [],
   "source": [
    "mdl = GammaRegressor(alpha = 0)\n",
    "X = df_mdl[['log_feature_1']]\n",
    "y = df_mdl['claim_amount']\n",
    "mdl.fit(X, y)\n",
    "df_mdl['pred_claim_amount'] = mdl.predict(X)"
   ]
  },
  {
   "cell_type": "code",
   "execution_count": 32,
   "id": "c4148537",
   "metadata": {},
   "outputs": [
    {
     "data": {
      "text/html": [
       "<div>\n",
       "<style scoped>\n",
       "    .dataframe tbody tr th:only-of-type {\n",
       "        vertical-align: middle;\n",
       "    }\n",
       "\n",
       "    .dataframe tbody tr th {\n",
       "        vertical-align: top;\n",
       "    }\n",
       "\n",
       "    .dataframe thead th {\n",
       "        text-align: right;\n",
       "    }\n",
       "</style>\n",
       "<table border=\"1\" class=\"dataframe\">\n",
       "  <thead>\n",
       "    <tr style=\"text-align: right;\">\n",
       "      <th></th>\n",
       "      <th>feature_1</th>\n",
       "      <th>shape</th>\n",
       "      <th>scale</th>\n",
       "      <th>claim_amount</th>\n",
       "      <th>log_feature_1</th>\n",
       "      <th>expected_value</th>\n",
       "      <th>pred_claim_amount</th>\n",
       "    </tr>\n",
       "  </thead>\n",
       "  <tbody>\n",
       "    <tr>\n",
       "      <th>620071</th>\n",
       "      <td>7200</td>\n",
       "      <td>7.200</td>\n",
       "      <td>20</td>\n",
       "      <td>107.923780</td>\n",
       "      <td>8.881836</td>\n",
       "      <td>144.00</td>\n",
       "      <td>143.994502</td>\n",
       "    </tr>\n",
       "    <tr>\n",
       "      <th>576928</th>\n",
       "      <td>6769</td>\n",
       "      <td>6.769</td>\n",
       "      <td>20</td>\n",
       "      <td>164.581054</td>\n",
       "      <td>8.820109</td>\n",
       "      <td>135.38</td>\n",
       "      <td>135.358699</td>\n",
       "    </tr>\n",
       "    <tr>\n",
       "      <th>789706</th>\n",
       "      <td>8897</td>\n",
       "      <td>8.897</td>\n",
       "      <td>20</td>\n",
       "      <td>141.819417</td>\n",
       "      <td>9.093469</td>\n",
       "      <td>177.94</td>\n",
       "      <td>178.005922</td>\n",
       "    </tr>\n",
       "    <tr>\n",
       "      <th>206130</th>\n",
       "      <td>3061</td>\n",
       "      <td>3.061</td>\n",
       "      <td>20</td>\n",
       "      <td>56.816208</td>\n",
       "      <td>8.026497</td>\n",
       "      <td>61.22</td>\n",
       "      <td>61.116654</td>\n",
       "    </tr>\n",
       "    <tr>\n",
       "      <th>10791</th>\n",
       "      <td>1107</td>\n",
       "      <td>1.107</td>\n",
       "      <td>20</td>\n",
       "      <td>26.325796</td>\n",
       "      <td>7.009409</td>\n",
       "      <td>22.14</td>\n",
       "      <td>22.059267</td>\n",
       "    </tr>\n",
       "  </tbody>\n",
       "</table>\n",
       "</div>"
      ],
      "text/plain": [
       "        feature_1  shape  scale  claim_amount  log_feature_1  expected_value  \\\n",
       "620071       7200  7.200     20    107.923780       8.881836          144.00   \n",
       "576928       6769  6.769     20    164.581054       8.820109          135.38   \n",
       "789706       8897  8.897     20    141.819417       9.093469          177.94   \n",
       "206130       3061  3.061     20     56.816208       8.026497           61.22   \n",
       "10791        1107  1.107     20     26.325796       7.009409           22.14   \n",
       "\n",
       "        pred_claim_amount  \n",
       "620071         143.994502  \n",
       "576928         135.358699  \n",
       "789706         178.005922  \n",
       "206130          61.116654  \n",
       "10791           22.059267  "
      ]
     },
     "execution_count": 32,
     "metadata": {},
     "output_type": "execute_result"
    }
   ],
   "source": [
    "df_mdl.sample(5)"
   ]
  },
  {
   "cell_type": "code",
   "execution_count": 33,
   "id": "f378192b",
   "metadata": {},
   "outputs": [
    {
     "data": {
      "text/plain": [
       "array([1.00193063])"
      ]
     },
     "execution_count": 33,
     "metadata": {},
     "output_type": "execute_result"
    }
   ],
   "source": [
    "mdl.coef_"
   ]
  },
  {
   "cell_type": "markdown",
   "id": "723496ce",
   "metadata": {},
   "source": [
    "## Linear Increase in Scale"
   ]
  },
  {
   "cell_type": "code",
   "execution_count": 34,
   "id": "463f71dc",
   "metadata": {},
   "outputs": [],
   "source": [
    "df_mdl = pd.DataFrame.from_dict({'feature_1' : np.repeat(range(1000,10001),100)})\n",
    "\n",
    "df_mdl['scale'] = df_mdl['feature_1'] / 1000\n",
    "df_mdl['shape'] = 20\n",
    "\n",
    "df_mdl['claim_amount'] = np.random.gamma(shape = df_mdl['shape'], scale = df_mdl['scale'])\n",
    "df_mdl['log_feature_1'] = np.log(df_mdl['feature_1'])"
   ]
  },
  {
   "cell_type": "code",
   "execution_count": 35,
   "id": "edfa3b8f",
   "metadata": {},
   "outputs": [],
   "source": [
    "df_mdl['expected_value'] = df_mdl['shape'] * df_mdl['scale']"
   ]
  },
  {
   "cell_type": "code",
   "execution_count": 36,
   "id": "890b0cc2",
   "metadata": {},
   "outputs": [],
   "source": [
    "mdl = GammaRegressor(alpha = 0)\n",
    "X = df_mdl[['log_feature_1']]\n",
    "y = df_mdl['claim_amount']\n",
    "mdl.fit(X, y)\n",
    "df_mdl['pred_claim_amount'] = mdl.predict(X)"
   ]
  },
  {
   "cell_type": "code",
   "execution_count": 37,
   "id": "2512d2dd",
   "metadata": {},
   "outputs": [
    {
     "data": {
      "text/html": [
       "<div>\n",
       "<style scoped>\n",
       "    .dataframe tbody tr th:only-of-type {\n",
       "        vertical-align: middle;\n",
       "    }\n",
       "\n",
       "    .dataframe tbody tr th {\n",
       "        vertical-align: top;\n",
       "    }\n",
       "\n",
       "    .dataframe thead th {\n",
       "        text-align: right;\n",
       "    }\n",
       "</style>\n",
       "<table border=\"1\" class=\"dataframe\">\n",
       "  <thead>\n",
       "    <tr style=\"text-align: right;\">\n",
       "      <th></th>\n",
       "      <th>feature_1</th>\n",
       "      <th>scale</th>\n",
       "      <th>shape</th>\n",
       "      <th>claim_amount</th>\n",
       "      <th>log_feature_1</th>\n",
       "      <th>expected_value</th>\n",
       "      <th>pred_claim_amount</th>\n",
       "    </tr>\n",
       "  </thead>\n",
       "  <tbody>\n",
       "    <tr>\n",
       "      <th>582630</th>\n",
       "      <td>6826</td>\n",
       "      <td>6.826</td>\n",
       "      <td>20</td>\n",
       "      <td>111.037102</td>\n",
       "      <td>8.828494</td>\n",
       "      <td>136.52</td>\n",
       "      <td>136.531739</td>\n",
       "    </tr>\n",
       "    <tr>\n",
       "      <th>804890</th>\n",
       "      <td>9048</td>\n",
       "      <td>9.048</td>\n",
       "      <td>20</td>\n",
       "      <td>196.492722</td>\n",
       "      <td>9.110299</td>\n",
       "      <td>180.96</td>\n",
       "      <td>180.987057</td>\n",
       "    </tr>\n",
       "    <tr>\n",
       "      <th>329599</th>\n",
       "      <td>4295</td>\n",
       "      <td>4.295</td>\n",
       "      <td>20</td>\n",
       "      <td>90.120579</td>\n",
       "      <td>8.365207</td>\n",
       "      <td>85.90</td>\n",
       "      <td>85.898415</td>\n",
       "    </tr>\n",
       "    <tr>\n",
       "      <th>604401</th>\n",
       "      <td>7044</td>\n",
       "      <td>7.044</td>\n",
       "      <td>20</td>\n",
       "      <td>143.820293</td>\n",
       "      <td>8.859931</td>\n",
       "      <td>140.88</td>\n",
       "      <td>140.893112</td>\n",
       "    </tr>\n",
       "    <tr>\n",
       "      <th>597444</th>\n",
       "      <td>6974</td>\n",
       "      <td>6.974</td>\n",
       "      <td>20</td>\n",
       "      <td>88.086301</td>\n",
       "      <td>8.849944</td>\n",
       "      <td>139.48</td>\n",
       "      <td>139.492668</td>\n",
       "    </tr>\n",
       "  </tbody>\n",
       "</table>\n",
       "</div>"
      ],
      "text/plain": [
       "        feature_1  scale  shape  claim_amount  log_feature_1  expected_value  \\\n",
       "582630       6826  6.826     20    111.037102       8.828494          136.52   \n",
       "804890       9048  9.048     20    196.492722       9.110299          180.96   \n",
       "329599       4295  4.295     20     90.120579       8.365207           85.90   \n",
       "604401       7044  7.044     20    143.820293       8.859931          140.88   \n",
       "597444       6974  6.974     20     88.086301       8.849944          139.48   \n",
       "\n",
       "        pred_claim_amount  \n",
       "582630         136.531739  \n",
       "804890         180.987057  \n",
       "329599          85.898415  \n",
       "604401         140.893112  \n",
       "597444         139.492668  "
      ]
     },
     "execution_count": 37,
     "metadata": {},
     "output_type": "execute_result"
    }
   ],
   "source": [
    "df_mdl.sample(5)"
   ]
  },
  {
   "cell_type": "code",
   "execution_count": 38,
   "id": "b3b3fe89",
   "metadata": {},
   "outputs": [
    {
     "data": {
      "text/plain": [
       "array([1.00022542])"
      ]
     },
     "execution_count": 38,
     "metadata": {},
     "output_type": "execute_result"
    }
   ],
   "source": [
    "mdl.coef_"
   ]
  },
  {
   "cell_type": "markdown",
   "id": "70379e02",
   "metadata": {},
   "source": [
    "## Constant Mean, but Changing Parameters"
   ]
  },
  {
   "cell_type": "markdown",
   "id": "b3acee1b",
   "metadata": {},
   "source": [
    "Main question: will GLM realise that the expected value remains constant if we increase one parameter and decrease the other? "
   ]
  },
  {
   "cell_type": "code",
   "execution_count": 39,
   "id": "dc5fbcea",
   "metadata": {},
   "outputs": [],
   "source": [
    "expected_value = 1000\n",
    "\n",
    "df_mdl = pd.DataFrame.from_dict({'feature_1' : np.repeat(range(1000,10001),100)})\n",
    "\n",
    "df_mdl['scale'] = df_mdl['feature_1'] / 1000\n",
    "df_mdl['shape'] = expected_value / df_mdl['scale']\n",
    "\n",
    "df_mdl['claim_amount'] = np.random.gamma(shape = df_mdl['shape'], scale = df_mdl['scale'])\n",
    "df_mdl['log_feature_1'] = np.log(df_mdl['feature_1'])"
   ]
  },
  {
   "cell_type": "code",
   "execution_count": 40,
   "id": "b4a481c6",
   "metadata": {},
   "outputs": [],
   "source": [
    "df_mdl['expected_value'] = df_mdl['shape'] * df_mdl['scale']"
   ]
  },
  {
   "cell_type": "code",
   "execution_count": 41,
   "id": "94d66a5f",
   "metadata": {},
   "outputs": [],
   "source": [
    "mdl = GammaRegressor(alpha = 0)\n",
    "X = df_mdl[['log_feature_1']]\n",
    "y = df_mdl['claim_amount']\n",
    "mdl.fit(X, y)\n",
    "df_mdl['pred_claim_amount'] = mdl.predict(X)"
   ]
  },
  {
   "cell_type": "code",
   "execution_count": 42,
   "id": "a57618bc",
   "metadata": {},
   "outputs": [
    {
     "data": {
      "text/html": [
       "<div>\n",
       "<style scoped>\n",
       "    .dataframe tbody tr th:only-of-type {\n",
       "        vertical-align: middle;\n",
       "    }\n",
       "\n",
       "    .dataframe tbody tr th {\n",
       "        vertical-align: top;\n",
       "    }\n",
       "\n",
       "    .dataframe thead th {\n",
       "        text-align: right;\n",
       "    }\n",
       "</style>\n",
       "<table border=\"1\" class=\"dataframe\">\n",
       "  <thead>\n",
       "    <tr style=\"text-align: right;\">\n",
       "      <th></th>\n",
       "      <th>feature_1</th>\n",
       "      <th>scale</th>\n",
       "      <th>shape</th>\n",
       "      <th>claim_amount</th>\n",
       "      <th>log_feature_1</th>\n",
       "      <th>expected_value</th>\n",
       "      <th>pred_claim_amount</th>\n",
       "    </tr>\n",
       "  </thead>\n",
       "  <tbody>\n",
       "    <tr>\n",
       "      <th>683456</th>\n",
       "      <td>7834</td>\n",
       "      <td>7.834</td>\n",
       "      <td>127.648711</td>\n",
       "      <td>1000.306546</td>\n",
       "      <td>8.966229</td>\n",
       "      <td>1000.0</td>\n",
       "      <td>999.943717</td>\n",
       "    </tr>\n",
       "    <tr>\n",
       "      <th>431936</th>\n",
       "      <td>5319</td>\n",
       "      <td>5.319</td>\n",
       "      <td>188.005264</td>\n",
       "      <td>1078.337376</td>\n",
       "      <td>8.579041</td>\n",
       "      <td>1000.0</td>\n",
       "      <td>999.943717</td>\n",
       "    </tr>\n",
       "    <tr>\n",
       "      <th>530442</th>\n",
       "      <td>6304</td>\n",
       "      <td>6.304</td>\n",
       "      <td>158.629442</td>\n",
       "      <td>977.362455</td>\n",
       "      <td>8.748940</td>\n",
       "      <td>1000.0</td>\n",
       "      <td>999.943717</td>\n",
       "    </tr>\n",
       "    <tr>\n",
       "      <th>144374</th>\n",
       "      <td>2443</td>\n",
       "      <td>2.443</td>\n",
       "      <td>409.332788</td>\n",
       "      <td>986.139408</td>\n",
       "      <td>7.800982</td>\n",
       "      <td>1000.0</td>\n",
       "      <td>999.943717</td>\n",
       "    </tr>\n",
       "    <tr>\n",
       "      <th>20104</th>\n",
       "      <td>1201</td>\n",
       "      <td>1.201</td>\n",
       "      <td>832.639467</td>\n",
       "      <td>1008.989318</td>\n",
       "      <td>7.090910</td>\n",
       "      <td>1000.0</td>\n",
       "      <td>999.943717</td>\n",
       "    </tr>\n",
       "  </tbody>\n",
       "</table>\n",
       "</div>"
      ],
      "text/plain": [
       "        feature_1  scale       shape  claim_amount  log_feature_1  \\\n",
       "683456       7834  7.834  127.648711   1000.306546       8.966229   \n",
       "431936       5319  5.319  188.005264   1078.337376       8.579041   \n",
       "530442       6304  6.304  158.629442    977.362455       8.748940   \n",
       "144374       2443  2.443  409.332788    986.139408       7.800982   \n",
       "20104        1201  1.201  832.639467   1008.989318       7.090910   \n",
       "\n",
       "        expected_value  pred_claim_amount  \n",
       "683456          1000.0         999.943717  \n",
       "431936          1000.0         999.943717  \n",
       "530442          1000.0         999.943717  \n",
       "144374          1000.0         999.943717  \n",
       "20104           1000.0         999.943717  "
      ]
     },
     "execution_count": 42,
     "metadata": {},
     "output_type": "execute_result"
    }
   ],
   "source": [
    "df_mdl.sample(5)"
   ]
  },
  {
   "cell_type": "code",
   "execution_count": 43,
   "id": "6438bb1f",
   "metadata": {},
   "outputs": [
    {
     "data": {
      "text/plain": [
       "array([0.])"
      ]
     },
     "execution_count": 43,
     "metadata": {},
     "output_type": "execute_result"
    }
   ],
   "source": [
    "mdl.coef_"
   ]
  },
  {
   "cell_type": "markdown",
   "id": "0b238f8a",
   "metadata": {},
   "source": [
    "## Shape and Scale Tied to Different Features"
   ]
  },
  {
   "cell_type": "code",
   "execution_count": 44,
   "id": "b7405ada",
   "metadata": {},
   "outputs": [],
   "source": [
    "number_of_sample = 10000"
   ]
  },
  {
   "cell_type": "code",
   "execution_count": 45,
   "id": "604121b4",
   "metadata": {},
   "outputs": [],
   "source": [
    "df_mdl = pd.DataFrame.from_dict({'feature_1' : np.random.uniform(low = 1, high = 10, size = number_of_sample),\n",
    "                                'feature_2' : np.random.uniform(low = 1000, high = 10000, size = number_of_sample)})"
   ]
  },
  {
   "cell_type": "code",
   "execution_count": 46,
   "id": "6017dadc",
   "metadata": {},
   "outputs": [],
   "source": [
    "df_mdl['shape'] = df_mdl['feature_1']\n",
    "df_mdl['scale'] = df_mdl['feature_2']\n",
    "\n",
    "df_mdl['log_feature_1'] = np.log(df_mdl['feature_1'])\n",
    "df_mdl['log_feature_2'] = np.log(df_mdl['feature_2'])\n",
    "\n",
    "df_mdl['claim_amount'] = np.random.gamma(shape = df_mdl['shape'], scale = df_mdl['scale'])"
   ]
  },
  {
   "cell_type": "code",
   "execution_count": 47,
   "id": "bbfb631d",
   "metadata": {},
   "outputs": [],
   "source": [
    "df_mdl['expected_value'] = df_mdl['shape'] * df_mdl['scale']"
   ]
  },
  {
   "cell_type": "code",
   "execution_count": 48,
   "id": "647e4e05",
   "metadata": {},
   "outputs": [],
   "source": [
    "mdl = GammaRegressor(alpha = 0)\n",
    "X = df_mdl[['log_feature_1', 'log_feature_2']]\n",
    "y = df_mdl['claim_amount']\n",
    "mdl.fit(X, y)\n",
    "df_mdl['pred_claim_amount'] = mdl.predict(X)"
   ]
  },
  {
   "cell_type": "code",
   "execution_count": 49,
   "id": "5e104aae",
   "metadata": {},
   "outputs": [
    {
     "data": {
      "text/html": [
       "<div>\n",
       "<style scoped>\n",
       "    .dataframe tbody tr th:only-of-type {\n",
       "        vertical-align: middle;\n",
       "    }\n",
       "\n",
       "    .dataframe tbody tr th {\n",
       "        vertical-align: top;\n",
       "    }\n",
       "\n",
       "    .dataframe thead th {\n",
       "        text-align: right;\n",
       "    }\n",
       "</style>\n",
       "<table border=\"1\" class=\"dataframe\">\n",
       "  <thead>\n",
       "    <tr style=\"text-align: right;\">\n",
       "      <th></th>\n",
       "      <th>feature_1</th>\n",
       "      <th>feature_2</th>\n",
       "      <th>shape</th>\n",
       "      <th>scale</th>\n",
       "      <th>log_feature_1</th>\n",
       "      <th>log_feature_2</th>\n",
       "      <th>claim_amount</th>\n",
       "      <th>expected_value</th>\n",
       "      <th>pred_claim_amount</th>\n",
       "    </tr>\n",
       "  </thead>\n",
       "  <tbody>\n",
       "    <tr>\n",
       "      <th>6721</th>\n",
       "      <td>9.320469</td>\n",
       "      <td>8726.002338</td>\n",
       "      <td>9.320469</td>\n",
       "      <td>8726.002338</td>\n",
       "      <td>2.232213</td>\n",
       "      <td>9.074063</td>\n",
       "      <td>61964.057696</td>\n",
       "      <td>81330.433768</td>\n",
       "      <td>80766.267253</td>\n",
       "    </tr>\n",
       "    <tr>\n",
       "      <th>2965</th>\n",
       "      <td>2.749151</td>\n",
       "      <td>2940.438002</td>\n",
       "      <td>2.749151</td>\n",
       "      <td>2940.438002</td>\n",
       "      <td>1.011292</td>\n",
       "      <td>7.986314</td>\n",
       "      <td>4826.932420</td>\n",
       "      <td>8083.708724</td>\n",
       "      <td>8208.021831</td>\n",
       "    </tr>\n",
       "    <tr>\n",
       "      <th>2766</th>\n",
       "      <td>6.938483</td>\n",
       "      <td>4052.003548</td>\n",
       "      <td>6.938483</td>\n",
       "      <td>4052.003548</td>\n",
       "      <td>1.937083</td>\n",
       "      <td>8.306967</td>\n",
       "      <td>17769.748810</td>\n",
       "      <td>28114.756973</td>\n",
       "      <td>28104.819813</td>\n",
       "    </tr>\n",
       "    <tr>\n",
       "      <th>520</th>\n",
       "      <td>9.084998</td>\n",
       "      <td>3040.939487</td>\n",
       "      <td>9.084998</td>\n",
       "      <td>3040.939487</td>\n",
       "      <td>2.206624</td>\n",
       "      <td>8.019922</td>\n",
       "      <td>25661.742183</td>\n",
       "      <td>27626.927999</td>\n",
       "      <td>27517.540490</td>\n",
       "    </tr>\n",
       "    <tr>\n",
       "      <th>6781</th>\n",
       "      <td>2.813952</td>\n",
       "      <td>3548.006882</td>\n",
       "      <td>2.813952</td>\n",
       "      <td>3548.006882</td>\n",
       "      <td>1.034590</td>\n",
       "      <td>8.174141</td>\n",
       "      <td>23604.639698</td>\n",
       "      <td>9983.921359</td>\n",
       "      <td>10129.009939</td>\n",
       "    </tr>\n",
       "  </tbody>\n",
       "</table>\n",
       "</div>"
      ],
      "text/plain": [
       "      feature_1    feature_2     shape        scale  log_feature_1  \\\n",
       "6721   9.320469  8726.002338  9.320469  8726.002338       2.232213   \n",
       "2965   2.749151  2940.438002  2.749151  2940.438002       1.011292   \n",
       "2766   6.938483  4052.003548  6.938483  4052.003548       1.937083   \n",
       "520    9.084998  3040.939487  9.084998  3040.939487       2.206624   \n",
       "6781   2.813952  3548.006882  2.813952  3548.006882       1.034590   \n",
       "\n",
       "      log_feature_2  claim_amount  expected_value  pred_claim_amount  \n",
       "6721       9.074063  61964.057696    81330.433768       80766.267253  \n",
       "2965       7.986314   4826.932420     8083.708724        8208.021831  \n",
       "2766       8.306967  17769.748810    28114.756973       28104.819813  \n",
       "520        8.019922  25661.742183    27626.927999       27517.540490  \n",
       "6781       8.174141  23604.639698     9983.921359       10129.009939  "
      ]
     },
     "execution_count": 49,
     "metadata": {},
     "output_type": "execute_result"
    }
   ],
   "source": [
    "df_mdl.sample(5)"
   ]
  },
  {
   "cell_type": "code",
   "execution_count": 50,
   "id": "ee759c7b",
   "metadata": {},
   "outputs": [
    {
     "data": {
      "text/plain": [
       "array([0.9839826 , 0.99754898])"
      ]
     },
     "execution_count": 50,
     "metadata": {},
     "output_type": "execute_result"
    }
   ],
   "source": [
    "mdl.coef_"
   ]
  },
  {
   "cell_type": "markdown",
   "id": "b1f9c42e",
   "metadata": {},
   "source": [
    "## Summary"
   ]
  },
  {
   "cell_type": "markdown",
   "id": "4f7197bd",
   "metadata": {},
   "source": [
    "Behaved as expected on all test cases. Which is good. "
   ]
  },
  {
   "cell_type": "markdown",
   "id": "12715c1b",
   "metadata": {},
   "source": [
    "# GLM - Statsmodels"
   ]
  },
  {
   "cell_type": "markdown",
   "id": "96aed402",
   "metadata": {},
   "source": [
    "Trying to decypher why we predict the mean value. Can we individually predict shape and scale...? "
   ]
  },
  {
   "cell_type": "markdown",
   "id": "84cd5e9e",
   "metadata": {},
   "source": [
    "Check out note: https://stackoverflow.com/questions/64174603/how-to-use-scale-and-shape-parameters-of-gamma-glm-in-statsmodels"
   ]
  },
  {
   "cell_type": "code",
   "execution_count": null,
   "id": "515f71cd",
   "metadata": {},
   "outputs": [],
   "source": []
  },
  {
   "cell_type": "code",
   "execution_count": null,
   "id": "ab3859ef",
   "metadata": {},
   "outputs": [],
   "source": []
  },
  {
   "cell_type": "code",
   "execution_count": null,
   "id": "aa94f65c",
   "metadata": {},
   "outputs": [],
   "source": []
  },
  {
   "cell_type": "code",
   "execution_count": null,
   "id": "745c45c2",
   "metadata": {},
   "outputs": [],
   "source": []
  }
 ],
 "metadata": {
  "kernelspec": {
   "display_name": "Python 3 (ipykernel)",
   "language": "python",
   "name": "python3"
  },
  "language_info": {
   "codemirror_mode": {
    "name": "ipython",
    "version": 3
   },
   "file_extension": ".py",
   "mimetype": "text/x-python",
   "name": "python",
   "nbconvert_exporter": "python",
   "pygments_lexer": "ipython3",
   "version": "3.9.12"
  },
  "toc": {
   "base_numbering": 1,
   "nav_menu": {},
   "number_sections": true,
   "sideBar": true,
   "skip_h1_title": false,
   "title_cell": "Table of Contents",
   "title_sidebar": "Contents",
   "toc_cell": false,
   "toc_position": {},
   "toc_section_display": true,
   "toc_window_display": true
  },
  "varInspector": {
   "cols": {
    "lenName": 16,
    "lenType": 16,
    "lenVar": 40
   },
   "kernels_config": {
    "python": {
     "delete_cmd_postfix": "",
     "delete_cmd_prefix": "del ",
     "library": "var_list.py",
     "varRefreshCmd": "print(var_dic_list())"
    },
    "r": {
     "delete_cmd_postfix": ") ",
     "delete_cmd_prefix": "rm(",
     "library": "var_list.r",
     "varRefreshCmd": "cat(var_dic_list()) "
    }
   },
   "types_to_exclude": [
    "module",
    "function",
    "builtin_function_or_method",
    "instance",
    "_Feature"
   ],
   "window_display": false
  }
 },
 "nbformat": 4,
 "nbformat_minor": 5
}
