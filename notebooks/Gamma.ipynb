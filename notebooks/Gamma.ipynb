{
 "cells": [
  {
   "cell_type": "markdown",
   "id": "be379110",
   "metadata": {},
   "source": [
    "# Intro"
   ]
  },
  {
   "cell_type": "markdown",
   "id": "f620fade",
   "metadata": {},
   "source": [
    "Goal of this notebook: \n",
    "- familiarising myself with gamma parametrisation. "
   ]
  },
  {
   "cell_type": "code",
   "execution_count": 51,
   "id": "177c05ed",
   "metadata": {},
   "outputs": [],
   "source": [
    "import numpy as np\n",
    "import pandas as pd\n",
    "\n",
    "from matplotlib import pyplot as plt\n",
    "import seaborn as sns\n",
    "\n",
    "from sklearn.linear_model import GammaRegressor\n"
   ]
  },
  {
   "cell_type": "markdown",
   "id": "4e863041",
   "metadata": {},
   "source": [
    "# Gamma Summary"
   ]
  },
  {
   "cell_type": "markdown",
   "id": "a10ee4ca",
   "metadata": {},
   "source": [
    "For reference: https://en.wikipedia.org/wiki/Gamma_distribution."
   ]
  },
  {
   "cell_type": "markdown",
   "id": "9c2f4199",
   "metadata": {},
   "source": [
    "The numpy package's shape and scale parameter are the first parameter set, so $k$ and $\\theta$. Mean is $k \\theta$. "
   ]
  },
  {
   "cell_type": "code",
   "execution_count": null,
   "id": "eda07590",
   "metadata": {},
   "outputs": [],
   "source": []
  },
  {
   "cell_type": "code",
   "execution_count": null,
   "id": "1a710ca0",
   "metadata": {},
   "outputs": [],
   "source": []
  },
  {
   "cell_type": "markdown",
   "id": "9403984c",
   "metadata": {},
   "source": [
    "# Generate Data"
   ]
  },
  {
   "cell_type": "code",
   "execution_count": 34,
   "id": "1176ccbb",
   "metadata": {},
   "outputs": [],
   "source": [
    "shape = 4\n",
    "scale = 10000\n",
    "n1 = 10000"
   ]
  },
  {
   "cell_type": "code",
   "execution_count": 35,
   "id": "8e15a978",
   "metadata": {},
   "outputs": [],
   "source": [
    "# df1: simple simulated Poisson\n",
    "df1 = pd.DataFrame.from_dict({'target': np.random.gamma(shape, scale, n1)})"
   ]
  },
  {
   "cell_type": "code",
   "execution_count": null,
   "id": "c81bec8d",
   "metadata": {},
   "outputs": [],
   "source": []
  },
  {
   "cell_type": "markdown",
   "id": "307ab385",
   "metadata": {},
   "source": [
    "# Visualisation"
   ]
  },
  {
   "cell_type": "code",
   "execution_count": 36,
   "id": "b8b08141",
   "metadata": {},
   "outputs": [
    {
     "data": {
      "image/png": "[encoded data removed]",
      "text/plain": [
       "<Figure size 360x360 with 1 Axes>"
      ]
     },
     "metadata": {
      "needs_background": "light"
     },
     "output_type": "display_data"
    }
   ],
   "source": [
    "sns.displot(df1.target, kind = 'kde')\n",
    "plt.show()"
   ]
  },
  {
   "cell_type": "code",
   "execution_count": null,
   "id": "ba65afd9",
   "metadata": {},
   "outputs": [],
   "source": []
  },
  {
   "cell_type": "markdown",
   "id": "17662e28",
   "metadata": {},
   "source": [
    "# Distribution Fitting"
   ]
  },
  {
   "cell_type": "markdown",
   "id": "2dde56fe",
   "metadata": {},
   "source": [
    "## Method of Moments"
   ]
  },
  {
   "cell_type": "markdown",
   "id": "c9dd37fc",
   "metadata": {},
   "source": [
    "The formula is quite simple, based on observed variance and mean. "
   ]
  },
  {
   "cell_type": "code",
   "execution_count": 37,
   "id": "dea01701",
   "metadata": {},
   "outputs": [
    {
     "data": {
      "text/plain": [
       "40075.16561970907"
      ]
     },
     "execution_count": 37,
     "metadata": {},
     "output_type": "execute_result"
    }
   ],
   "source": [
    "np.mean(df1.target)"
   ]
  },
  {
   "cell_type": "code",
   "execution_count": 40,
   "id": "ba8213d3",
   "metadata": {},
   "outputs": [
    {
     "data": {
      "text/plain": [
       "399487287.52669764"
      ]
     },
     "execution_count": 40,
     "metadata": {},
     "output_type": "execute_result"
    }
   ],
   "source": [
    "(np.std(df1.target)) ** 2"
   ]
  },
  {
   "cell_type": "code",
   "execution_count": 38,
   "id": "0dce1e76",
   "metadata": {},
   "outputs": [
    {
     "data": {
      "text/plain": [
       "4.020200265671237"
      ]
     },
     "execution_count": 38,
     "metadata": {},
     "output_type": "execute_result"
    }
   ],
   "source": [
    "estimated_shape = np.mean(df1.target) **  2 / (np.std(df1.target)) ** 2\n",
    "estimated_shape"
   ]
  },
  {
   "cell_type": "code",
   "execution_count": 39,
   "id": "167af22b",
   "metadata": {},
   "outputs": [
    {
     "data": {
      "text/plain": [
       "9968.450069991195"
      ]
     },
     "execution_count": 39,
     "metadata": {},
     "output_type": "execute_result"
    }
   ],
   "source": [
    "estimated_scale = (np.std(df1.target)) ** 2 / np.mean(df1.target)\n",
    "estimated_scale"
   ]
  },
  {
   "cell_type": "code",
   "execution_count": 41,
   "id": "7e883ec5",
   "metadata": {},
   "outputs": [
    {
     "data": {
      "text/plain": [
       "40075.16561970906"
      ]
     },
     "execution_count": 41,
     "metadata": {},
     "output_type": "execute_result"
    }
   ],
   "source": [
    "estimated_mean = estimated_shape * estimated_scale\n",
    "estimated_mean"
   ]
  },
  {
   "cell_type": "code",
   "execution_count": 42,
   "id": "1f4cbab6",
   "metadata": {},
   "outputs": [
    {
     "data": {
      "text/plain": [
       "399487287.5266975"
      ]
     },
     "execution_count": 42,
     "metadata": {},
     "output_type": "execute_result"
    }
   ],
   "source": [
    "estimated_variance = estimated_shape * estimated_scale ** 2\n",
    "estimated_variance"
   ]
  },
  {
   "cell_type": "markdown",
   "id": "8a3c60e5",
   "metadata": {},
   "source": [
    "OK, so this method seems to work. "
   ]
  },
  {
   "cell_type": "markdown",
   "id": "582ab8d3",
   "metadata": {},
   "source": [
    "However, this is not the MLE estimation, MLE should be biased for gamma. "
   ]
  },
  {
   "cell_type": "markdown",
   "id": "f0f79cda",
   "metadata": {},
   "source": [
    "## Maximum Likelihood Estimation"
   ]
  },
  {
   "cell_type": "markdown",
   "id": "a32df1e0",
   "metadata": {},
   "source": [
    "https://en.wikipedia.org/wiki/Gamma_distribution#Maximum_likelihood_estimation"
   ]
  },
  {
   "cell_type": "markdown",
   "id": "e7c23ed9",
   "metadata": {},
   "source": [
    "There is no closed formula, just an approximation. "
   ]
  },
  {
   "cell_type": "code",
   "execution_count": 43,
   "id": "438ebb42",
   "metadata": {},
   "outputs": [],
   "source": [
    "def get_gamma_mle_scale(mle_shape, sample):\n",
    "    # returns the estimated scale parameter, which is dependent on the estimated shape\n",
    "    return np.mean(sample) / mle_shape\n",
    "\n",
    "def get_gamma_approximate_mle_shape(sample):\n",
    "    # returns an approximation of shape parameter\n",
    "    s = np.log(np.mean(sample)) - np.mean(np.log(sample))\n",
    "    return (3 - s + ((s-3)**2 + 24 * s) ** 0.5) / (12 * s)"
   ]
  },
  {
   "cell_type": "code",
   "execution_count": 44,
   "id": "5113acd5",
   "metadata": {},
   "outputs": [
    {
     "data": {
      "text/plain": [
       "3.9704464373742985"
      ]
     },
     "execution_count": 44,
     "metadata": {},
     "output_type": "execute_result"
    }
   ],
   "source": [
    "mle_estimated_shape = get_gamma_approximate_mle_shape(df1.target)\n",
    "mle_estimated_shape"
   ]
  },
  {
   "cell_type": "code",
   "execution_count": 45,
   "id": "ddcf03b8",
   "metadata": {},
   "outputs": [
    {
     "data": {
      "text/plain": [
       "10093.365129542268"
      ]
     },
     "execution_count": 45,
     "metadata": {},
     "output_type": "execute_result"
    }
   ],
   "source": [
    "mle_estimated_scale = get_gamma_mle_scale(mle_estimated_shape, df1.target)\n",
    "mle_estimated_scale"
   ]
  },
  {
   "cell_type": "code",
   "execution_count": 46,
   "id": "5b1f07bb",
   "metadata": {},
   "outputs": [
    {
     "data": {
      "text/plain": [
       "40075.16561970907"
      ]
     },
     "execution_count": 46,
     "metadata": {},
     "output_type": "execute_result"
    }
   ],
   "source": [
    "mle_estimated_shape * mle_estimated_scale"
   ]
  },
  {
   "cell_type": "markdown",
   "id": "ca2e30dc",
   "metadata": {},
   "source": [
    "OK, so we get the expected value right, just not the shape parameter itself. "
   ]
  },
  {
   "cell_type": "code",
   "execution_count": null,
   "id": "e79e4fc2",
   "metadata": {},
   "outputs": [],
   "source": []
  },
  {
   "cell_type": "markdown",
   "id": "9a1cf080",
   "metadata": {},
   "source": [
    "# GLM"
   ]
  },
  {
   "cell_type": "markdown",
   "id": "4aa627b8",
   "metadata": {},
   "source": [
    "Let's see if we can fit the expected value. "
   ]
  },
  {
   "cell_type": "code",
   "execution_count": 52,
   "id": "669d885d",
   "metadata": {},
   "outputs": [],
   "source": [
    "df1['dummy_feature'] = 1"
   ]
  },
  {
   "cell_type": "code",
   "execution_count": 54,
   "id": "0dbfd407",
   "metadata": {},
   "outputs": [],
   "source": [
    "mdl = GammaRegressor(alpha = 0)"
   ]
  },
  {
   "cell_type": "code",
   "execution_count": 56,
   "id": "29058740",
   "metadata": {},
   "outputs": [
    {
     "data": {
      "text/plain": [
       "GammaRegressor(alpha=0)"
      ]
     },
     "execution_count": 56,
     "metadata": {},
     "output_type": "execute_result"
    }
   ],
   "source": [
    "mdl.fit(df1[['dummy_feature']], df1['target'])"
   ]
  },
  {
   "cell_type": "code",
   "execution_count": 58,
   "id": "108edf86",
   "metadata": {},
   "outputs": [],
   "source": [
    "df1['pred'] = mdl.predict(df1[['dummy_feature']])"
   ]
  },
  {
   "cell_type": "code",
   "execution_count": 59,
   "id": "b3866630",
   "metadata": {},
   "outputs": [
    {
     "data": {
      "text/plain": [
       "40075.16561970897"
      ]
     },
     "execution_count": 59,
     "metadata": {},
     "output_type": "execute_result"
    }
   ],
   "source": [
    "df1.pred[0]"
   ]
  },
  {
   "cell_type": "code",
   "execution_count": null,
   "id": "b4a481c6",
   "metadata": {},
   "outputs": [],
   "source": []
  }
 ],
 "metadata": {
  "kernelspec": {
   "display_name": "Python 3 (ipykernel)",
   "language": "python",
   "name": "python3"
  },
  "language_info": {
   "codemirror_mode": {
    "name": "ipython",
    "version": 3
   },
   "file_extension": ".py",
   "mimetype": "text/x-python",
   "name": "python",
   "nbconvert_exporter": "python",
   "pygments_lexer": "ipython3",
   "version": "3.9.12"
  },
  "toc": {
   "base_numbering": 1,
   "nav_menu": {},
   "number_sections": true,
   "sideBar": true,
   "skip_h1_title": false,
   "title_cell": "Table of Contents",
   "title_sidebar": "Contents",
   "toc_cell": false,
   "toc_position": {},
   "toc_section_display": true,
   "toc_window_display": false
  },
  "varInspector": {
   "cols": {
    "lenName": 16,
    "lenType": 16,
    "lenVar": 40
   },
   "kernels_config": {
    "python": {
     "delete_cmd_postfix": "",
     "delete_cmd_prefix": "del ",
     "library": "var_list.py",
     "varRefreshCmd": "print(var_dic_list())"
    },
    "r": {
     "delete_cmd_postfix": ") ",
     "delete_cmd_prefix": "rm(",
     "library": "var_list.r",
     "varRefreshCmd": "cat(var_dic_list()) "
    }
   },
   "types_to_exclude": [
    "module",
    "function",
    "builtin_function_or_method",
    "instance",
    "_Feature"
   ],
   "window_display": false
  }
 },
 "nbformat": 4,
 "nbformat_minor": 5
}
