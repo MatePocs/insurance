{
 "cells": [
  {
   "cell_type": "markdown",
   "id": "be379110",
   "metadata": {},
   "source": [
    "# Intro"
   ]
  },
  {
   "cell_type": "markdown",
   "id": "f620fade",
   "metadata": {},
   "source": [
    "Goal of this notebook: \n",
    "- familiarising myself with gamma parametrisation. "
   ]
  },
  {
   "cell_type": "code",
   "execution_count": 1,
   "id": "177c05ed",
   "metadata": {},
   "outputs": [],
   "source": [
    "import numpy as np\n",
    "import pandas as pd\n",
    "\n",
    "from matplotlib import pyplot as plt\n",
    "import seaborn as sns\n",
    "\n",
    "from sklearn.linear_model import GammaRegressor\n"
   ]
  },
  {
   "cell_type": "markdown",
   "id": "4e863041",
   "metadata": {},
   "source": [
    "# Gamma Summary"
   ]
  },
  {
   "cell_type": "markdown",
   "id": "a10ee4ca",
   "metadata": {},
   "source": [
    "For reference: https://en.wikipedia.org/wiki/Gamma_distribution."
   ]
  },
  {
   "cell_type": "markdown",
   "id": "9c2f4199",
   "metadata": {},
   "source": [
    "The numpy package's shape and scale parameter are the first parameter set, so $k$ and $\\theta$. Mean is $k \\theta$. "
   ]
  },
  {
   "cell_type": "code",
   "execution_count": null,
   "id": "eda07590",
   "metadata": {},
   "outputs": [],
   "source": []
  },
  {
   "cell_type": "code",
   "execution_count": null,
   "id": "1a710ca0",
   "metadata": {},
   "outputs": [],
   "source": []
  },
  {
   "cell_type": "markdown",
   "id": "9403984c",
   "metadata": {},
   "source": [
    "# Generate Data"
   ]
  },
  {
   "cell_type": "markdown",
   "id": "394bf05f",
   "metadata": {},
   "source": [
    "Goal is to visualise different gammas that share the same mean. "
   ]
  },
  {
   "cell_type": "code",
   "execution_count": 5,
   "id": "faea363a",
   "metadata": {},
   "outputs": [],
   "source": [
    "gamma_mean = 10000\n",
    "number_of_sample = 10000"
   ]
  },
  {
   "cell_type": "code",
   "execution_count": 13,
   "id": "1176ccbb",
   "metadata": {},
   "outputs": [],
   "source": [
    "shape = 1\n",
    "scale = gamma_mean/shape\n",
    "df1 = pd.DataFrame.from_dict({'target': np.random.gamma(shape, scale, number_of_sample), 'shape': shape})"
   ]
  },
  {
   "cell_type": "code",
   "execution_count": 14,
   "id": "8e15a978",
   "metadata": {},
   "outputs": [],
   "source": [
    "shape = 2\n",
    "scale = gamma_mean/shape\n",
    "df2 = pd.DataFrame.from_dict({'target': np.random.gamma(shape, scale, number_of_sample), 'shape': shape})"
   ]
  },
  {
   "cell_type": "code",
   "execution_count": 15,
   "id": "c81bec8d",
   "metadata": {},
   "outputs": [],
   "source": [
    "shape = 3\n",
    "scale = gamma_mean/shape\n",
    "df3 = pd.DataFrame.from_dict({'target': np.random.gamma(shape, scale, number_of_sample), 'shape': shape})"
   ]
  },
  {
   "cell_type": "code",
   "execution_count": 16,
   "id": "2180cf47",
   "metadata": {},
   "outputs": [],
   "source": [
    "shape = 4\n",
    "scale = gamma_mean/shape\n",
    "df4 = pd.DataFrame.from_dict({'target': np.random.gamma(shape, scale, number_of_sample), 'shape': shape})"
   ]
  },
  {
   "cell_type": "code",
   "execution_count": 32,
   "id": "f91dfc4b",
   "metadata": {},
   "outputs": [],
   "source": [
    "df = pd.concat([df1,df2,df3,df4], axis = 0).reset_index()"
   ]
  },
  {
   "cell_type": "code",
   "execution_count": null,
   "id": "1bbfaa8a",
   "metadata": {},
   "outputs": [],
   "source": []
  },
  {
   "cell_type": "code",
   "execution_count": null,
   "id": "86900508",
   "metadata": {},
   "outputs": [],
   "source": []
  },
  {
   "cell_type": "markdown",
   "id": "307ab385",
   "metadata": {},
   "source": [
    "# Visualisation"
   ]
  },
  {
   "cell_type": "code",
   "execution_count": 35,
   "id": "b8b08141",
   "metadata": {},
   "outputs": [
    {
     "data": {
      "image/png": "[encoded data removed]",
      "text/plain": [
       "<Figure size 402.375x360 with 1 Axes>"
      ]
     },
     "metadata": {
      "needs_background": "light"
     },
     "output_type": "display_data"
    }
   ],
   "source": [
    "sns.displot(data = df, x = 'target', hue = 'shape', kind = 'kde')\n",
    "plt.show()"
   ]
  },
  {
   "cell_type": "code",
   "execution_count": null,
   "id": "ba65afd9",
   "metadata": {},
   "outputs": [],
   "source": []
  },
  {
   "cell_type": "code",
   "execution_count": null,
   "id": "72027e23",
   "metadata": {},
   "outputs": [],
   "source": []
  },
  {
   "cell_type": "markdown",
   "id": "17662e28",
   "metadata": {},
   "source": [
    "# Distribution Fitting"
   ]
  },
  {
   "cell_type": "markdown",
   "id": "2dde56fe",
   "metadata": {},
   "source": [
    "## Method of Moments"
   ]
  },
  {
   "cell_type": "markdown",
   "id": "c9dd37fc",
   "metadata": {},
   "source": [
    "The formula is quite simple, based on observed variance and mean. "
   ]
  },
  {
   "cell_type": "code",
   "execution_count": 38,
   "id": "dea01701",
   "metadata": {},
   "outputs": [
    {
     "data": {
      "text/plain": [
       "9968.389169698938"
      ]
     },
     "execution_count": 38,
     "metadata": {},
     "output_type": "execute_result"
    }
   ],
   "source": [
    "np.mean(df1.target)"
   ]
  },
  {
   "cell_type": "code",
   "execution_count": 39,
   "id": "ba8213d3",
   "metadata": {},
   "outputs": [
    {
     "data": {
      "text/plain": [
       "100129238.087855"
      ]
     },
     "execution_count": 39,
     "metadata": {},
     "output_type": "execute_result"
    }
   ],
   "source": [
    "(np.std(df1.target)) ** 2"
   ]
  },
  {
   "cell_type": "code",
   "execution_count": 40,
   "id": "0dce1e76",
   "metadata": {},
   "outputs": [
    {
     "data": {
      "text/plain": [
       "0.9924052608028766"
      ]
     },
     "execution_count": 40,
     "metadata": {},
     "output_type": "execute_result"
    }
   ],
   "source": [
    "estimated_shape = np.mean(df1.target) **  2 / (np.std(df1.target)) ** 2\n",
    "estimated_shape"
   ]
  },
  {
   "cell_type": "code",
   "execution_count": 41,
   "id": "167af22b",
   "metadata": {},
   "outputs": [
    {
     "data": {
      "text/plain": [
       "10044.675863199578"
      ]
     },
     "execution_count": 41,
     "metadata": {},
     "output_type": "execute_result"
    }
   ],
   "source": [
    "estimated_scale = (np.std(df1.target)) ** 2 / np.mean(df1.target)\n",
    "estimated_scale"
   ]
  },
  {
   "cell_type": "code",
   "execution_count": 42,
   "id": "7e883ec5",
   "metadata": {},
   "outputs": [
    {
     "data": {
      "text/plain": [
       "9968.389169698938"
      ]
     },
     "execution_count": 42,
     "metadata": {},
     "output_type": "execute_result"
    }
   ],
   "source": [
    "estimated_mean = estimated_shape * estimated_scale\n",
    "estimated_mean"
   ]
  },
  {
   "cell_type": "code",
   "execution_count": 43,
   "id": "1f4cbab6",
   "metadata": {},
   "outputs": [
    {
     "data": {
      "text/plain": [
       "100129238.087855"
      ]
     },
     "execution_count": 43,
     "metadata": {},
     "output_type": "execute_result"
    }
   ],
   "source": [
    "estimated_variance = estimated_shape * estimated_scale ** 2\n",
    "estimated_variance"
   ]
  },
  {
   "cell_type": "markdown",
   "id": "8a3c60e5",
   "metadata": {},
   "source": [
    "OK, so this method seems to work. "
   ]
  },
  {
   "cell_type": "markdown",
   "id": "582ab8d3",
   "metadata": {},
   "source": [
    "However, this is not the MLE estimation, MLE should be biased for gamma. "
   ]
  },
  {
   "cell_type": "markdown",
   "id": "f0f79cda",
   "metadata": {},
   "source": [
    "## Maximum Likelihood Estimation"
   ]
  },
  {
   "cell_type": "markdown",
   "id": "a32df1e0",
   "metadata": {},
   "source": [
    "https://en.wikipedia.org/wiki/Gamma_distribution#Maximum_likelihood_estimation"
   ]
  },
  {
   "cell_type": "markdown",
   "id": "e7c23ed9",
   "metadata": {},
   "source": [
    "There is no closed formula, just an approximation. "
   ]
  },
  {
   "cell_type": "code",
   "execution_count": 44,
   "id": "438ebb42",
   "metadata": {},
   "outputs": [],
   "source": [
    "def get_gamma_mle_scale(mle_shape, sample):\n",
    "    # returns the estimated scale parameter, which is dependent on the estimated shape\n",
    "    return np.mean(sample) / mle_shape\n",
    "\n",
    "def get_gamma_approximate_mle_shape(sample):\n",
    "    # returns an approximation of shape parameter\n",
    "    s = np.log(np.mean(sample)) - np.mean(np.log(sample))\n",
    "    return (3 - s + ((s-3)**2 + 24 * s) ** 0.5) / (12 * s)"
   ]
  },
  {
   "cell_type": "code",
   "execution_count": 45,
   "id": "5113acd5",
   "metadata": {},
   "outputs": [
    {
     "data": {
      "text/plain": [
       "0.981757389494321"
      ]
     },
     "execution_count": 45,
     "metadata": {},
     "output_type": "execute_result"
    }
   ],
   "source": [
    "mle_estimated_shape = get_gamma_approximate_mle_shape(df1.target)\n",
    "mle_estimated_shape"
   ]
  },
  {
   "cell_type": "code",
   "execution_count": 46,
   "id": "ddcf03b8",
   "metadata": {},
   "outputs": [
    {
     "data": {
      "text/plain": [
       "10153.617661929093"
      ]
     },
     "execution_count": 46,
     "metadata": {},
     "output_type": "execute_result"
    }
   ],
   "source": [
    "mle_estimated_scale = get_gamma_mle_scale(mle_estimated_shape, df1.target)\n",
    "mle_estimated_scale"
   ]
  },
  {
   "cell_type": "code",
   "execution_count": 47,
   "id": "5b1f07bb",
   "metadata": {},
   "outputs": [
    {
     "data": {
      "text/plain": [
       "9968.389169698938"
      ]
     },
     "execution_count": 47,
     "metadata": {},
     "output_type": "execute_result"
    }
   ],
   "source": [
    "mle_estimated_shape * mle_estimated_scale"
   ]
  },
  {
   "cell_type": "markdown",
   "id": "ca2e30dc",
   "metadata": {},
   "source": [
    "OK, so we get the expected value right (of course, because that is how the scale is set), just not the shape parameter itself."
   ]
  },
  {
   "cell_type": "code",
   "execution_count": 48,
   "id": "15adb794",
   "metadata": {},
   "outputs": [
    {
     "data": {
      "text/plain": [
       "101215212.3344378"
      ]
     },
     "execution_count": 48,
     "metadata": {},
     "output_type": "execute_result"
    }
   ],
   "source": [
    "mle_estimated_shape * mle_estimated_scale**2"
   ]
  },
  {
   "cell_type": "markdown",
   "id": "db3a56b2",
   "metadata": {},
   "source": [
    "The variance of the estimated is a bit higher than the actual. "
   ]
  },
  {
   "cell_type": "code",
   "execution_count": null,
   "id": "e7c0d4c9",
   "metadata": {},
   "outputs": [],
   "source": []
  },
  {
   "cell_type": "code",
   "execution_count": null,
   "id": "1510e735",
   "metadata": {},
   "outputs": [],
   "source": []
  },
  {
   "cell_type": "markdown",
   "id": "9a1cf080",
   "metadata": {},
   "source": [
    "# GLM"
   ]
  },
  {
   "cell_type": "markdown",
   "id": "4342d0d5",
   "metadata": {},
   "source": [
    "## Baseline"
   ]
  },
  {
   "cell_type": "markdown",
   "id": "4aa627b8",
   "metadata": {},
   "source": [
    "Let's see if we can fit the expected value. "
   ]
  },
  {
   "cell_type": "code",
   "execution_count": 49,
   "id": "669d885d",
   "metadata": {},
   "outputs": [],
   "source": [
    "df1['dummy_feature'] = 1"
   ]
  },
  {
   "cell_type": "code",
   "execution_count": 50,
   "id": "0dbfd407",
   "metadata": {},
   "outputs": [],
   "source": [
    "mdl = GammaRegressor(alpha = 0)"
   ]
  },
  {
   "cell_type": "code",
   "execution_count": 51,
   "id": "29058740",
   "metadata": {},
   "outputs": [
    {
     "data": {
      "text/plain": [
       "GammaRegressor(alpha=0)"
      ]
     },
     "execution_count": 51,
     "metadata": {},
     "output_type": "execute_result"
    }
   ],
   "source": [
    "mdl.fit(df1[['dummy_feature']], df1['target'])"
   ]
  },
  {
   "cell_type": "code",
   "execution_count": 52,
   "id": "108edf86",
   "metadata": {},
   "outputs": [],
   "source": [
    "df1['pred'] = mdl.predict(df1[['dummy_feature']])"
   ]
  },
  {
   "cell_type": "code",
   "execution_count": 53,
   "id": "b3866630",
   "metadata": {},
   "outputs": [
    {
     "data": {
      "text/plain": [
       "9968.389169698925"
      ]
     },
     "execution_count": 53,
     "metadata": {},
     "output_type": "execute_result"
    }
   ],
   "source": [
    "df1.pred[0]"
   ]
  },
  {
   "cell_type": "markdown",
   "id": "1db71a50",
   "metadata": {},
   "source": [
    "## Linear Increase in Shape"
   ]
  },
  {
   "cell_type": "markdown",
   "id": "26f420c9",
   "metadata": {},
   "source": [
    "We need a new data, this time, we'll have a continuous feature. \n",
    "\n",
    "Expected value: feature_1 / 1000 * 20"
   ]
  },
  {
   "cell_type": "code",
   "execution_count": 56,
   "id": "a70697d3",
   "metadata": {},
   "outputs": [],
   "source": [
    "df_mdl = pd.DataFrame.from_dict({'feature_1' : np.repeat(range(1000,10001),100)})\n",
    "\n",
    "df_mdl['shape'] = df_mdl['feature_1'] / 1000\n",
    "df_mdl['scale'] = 20\n",
    "\n",
    "df_mdl['claim_amount'] = np.random.gamma(shape = df_mdl['shape'], scale = df_mdl['scale'])\n",
    "df_mdl['log_feature_1'] = np.log(df_mdl['feature_1'])"
   ]
  },
  {
   "cell_type": "code",
   "execution_count": 62,
   "id": "a2d77b9e",
   "metadata": {},
   "outputs": [],
   "source": [
    "df_mdl['expected_value'] = df_mdl['shape'] * df_mdl['scale']"
   ]
  },
  {
   "cell_type": "code",
   "execution_count": 59,
   "id": "66360923",
   "metadata": {},
   "outputs": [],
   "source": [
    "mdl = GammaRegressor(alpha = 0)\n",
    "X = df_mdl[['log_feature_1']]\n",
    "y = df_mdl['claim_amount']\n",
    "mdl.fit(X, y)\n",
    "df_mdl['pred_claim_amount'] = mdl.predict(X)"
   ]
  },
  {
   "cell_type": "code",
   "execution_count": 63,
   "id": "c4148537",
   "metadata": {},
   "outputs": [
    {
     "data": {
      "text/html": [
       "<div>\n",
       "<style scoped>\n",
       "    .dataframe tbody tr th:only-of-type {\n",
       "        vertical-align: middle;\n",
       "    }\n",
       "\n",
       "    .dataframe tbody tr th {\n",
       "        vertical-align: top;\n",
       "    }\n",
       "\n",
       "    .dataframe thead th {\n",
       "        text-align: right;\n",
       "    }\n",
       "</style>\n",
       "<table border=\"1\" class=\"dataframe\">\n",
       "  <thead>\n",
       "    <tr style=\"text-align: right;\">\n",
       "      <th></th>\n",
       "      <th>feature_1</th>\n",
       "      <th>shape</th>\n",
       "      <th>scale</th>\n",
       "      <th>claim_amount</th>\n",
       "      <th>log_feature_1</th>\n",
       "      <th>pred_claim_amount</th>\n",
       "      <th>expected_value</th>\n",
       "    </tr>\n",
       "  </thead>\n",
       "  <tbody>\n",
       "    <tr>\n",
       "      <th>154928</th>\n",
       "      <td>2549</td>\n",
       "      <td>0.2549</td>\n",
       "      <td>20</td>\n",
       "      <td>2.315253</td>\n",
       "      <td>7.843456</td>\n",
       "      <td>5.105743</td>\n",
       "      <td>5.098</td>\n",
       "    </tr>\n",
       "    <tr>\n",
       "      <th>853675</th>\n",
       "      <td>9536</td>\n",
       "      <td>0.9536</td>\n",
       "      <td>20</td>\n",
       "      <td>3.291487</td>\n",
       "      <td>9.162829</td>\n",
       "      <td>19.028179</td>\n",
       "      <td>19.072</td>\n",
       "    </tr>\n",
       "    <tr>\n",
       "      <th>496441</th>\n",
       "      <td>5964</td>\n",
       "      <td>0.5964</td>\n",
       "      <td>20</td>\n",
       "      <td>2.752717</td>\n",
       "      <td>8.693497</td>\n",
       "      <td>11.916767</td>\n",
       "      <td>11.928</td>\n",
       "    </tr>\n",
       "    <tr>\n",
       "      <th>396565</th>\n",
       "      <td>4965</td>\n",
       "      <td>0.4965</td>\n",
       "      <td>20</td>\n",
       "      <td>18.788054</td>\n",
       "      <td>8.510169</td>\n",
       "      <td>9.925913</td>\n",
       "      <td>9.930</td>\n",
       "    </tr>\n",
       "    <tr>\n",
       "      <th>99655</th>\n",
       "      <td>1996</td>\n",
       "      <td>0.1996</td>\n",
       "      <td>20</td>\n",
       "      <td>2.607379</td>\n",
       "      <td>7.598900</td>\n",
       "      <td>4.000894</td>\n",
       "      <td>3.992</td>\n",
       "    </tr>\n",
       "  </tbody>\n",
       "</table>\n",
       "</div>"
      ],
      "text/plain": [
       "        feature_1   shape  scale  claim_amount  log_feature_1  \\\n",
       "154928       2549  0.2549     20      2.315253       7.843456   \n",
       "853675       9536  0.9536     20      3.291487       9.162829   \n",
       "496441       5964  0.5964     20      2.752717       8.693497   \n",
       "396565       4965  0.4965     20     18.788054       8.510169   \n",
       "99655        1996  0.1996     20      2.607379       7.598900   \n",
       "\n",
       "        pred_claim_amount  expected_value  \n",
       "154928           5.105743           5.098  \n",
       "853675          19.028179          19.072  \n",
       "496441          11.916767          11.928  \n",
       "396565           9.925913           9.930  \n",
       "99655            4.000894           3.992  "
      ]
     },
     "execution_count": 63,
     "metadata": {},
     "output_type": "execute_result"
    }
   ],
   "source": [
    "df_mdl.sample(5)"
   ]
  },
  {
   "cell_type": "code",
   "execution_count": 64,
   "id": "f378192b",
   "metadata": {},
   "outputs": [
    {
     "data": {
      "text/plain": [
       "array([0.99710622])"
      ]
     },
     "execution_count": 64,
     "metadata": {},
     "output_type": "execute_result"
    }
   ],
   "source": [
    "mdl.coef_"
   ]
  },
  {
   "cell_type": "markdown",
   "id": "723496ce",
   "metadata": {},
   "source": [
    "## Linear Increase in Scale"
   ]
  },
  {
   "cell_type": "code",
   "execution_count": 65,
   "id": "463f71dc",
   "metadata": {},
   "outputs": [],
   "source": [
    "df_mdl = pd.DataFrame.from_dict({'feature_1' : np.repeat(range(1000,10001),100)})\n",
    "\n",
    "df_mdl['scale'] = df_mdl['feature_1'] / 1000\n",
    "df_mdl['shape'] = 20\n",
    "\n",
    "df_mdl['claim_amount'] = np.random.gamma(shape = df_mdl['shape'], scale = df_mdl['scale'])\n",
    "df_mdl['log_feature_1'] = np.log(df_mdl['feature_1'])"
   ]
  },
  {
   "cell_type": "code",
   "execution_count": 66,
   "id": "edfa3b8f",
   "metadata": {},
   "outputs": [],
   "source": [
    "df_mdl['expected_value'] = df_mdl['shape'] * df_mdl['scale']"
   ]
  },
  {
   "cell_type": "code",
   "execution_count": 67,
   "id": "890b0cc2",
   "metadata": {},
   "outputs": [],
   "source": [
    "mdl = GammaRegressor(alpha = 0)\n",
    "X = df_mdl[['log_feature_1']]\n",
    "y = df_mdl['claim_amount']\n",
    "mdl.fit(X, y)\n",
    "df_mdl['pred_claim_amount'] = mdl.predict(X)"
   ]
  },
  {
   "cell_type": "code",
   "execution_count": 68,
   "id": "2512d2dd",
   "metadata": {},
   "outputs": [
    {
     "data": {
      "text/html": [
       "<div>\n",
       "<style scoped>\n",
       "    .dataframe tbody tr th:only-of-type {\n",
       "        vertical-align: middle;\n",
       "    }\n",
       "\n",
       "    .dataframe tbody tr th {\n",
       "        vertical-align: top;\n",
       "    }\n",
       "\n",
       "    .dataframe thead th {\n",
       "        text-align: right;\n",
       "    }\n",
       "</style>\n",
       "<table border=\"1\" class=\"dataframe\">\n",
       "  <thead>\n",
       "    <tr style=\"text-align: right;\">\n",
       "      <th></th>\n",
       "      <th>feature_1</th>\n",
       "      <th>scale</th>\n",
       "      <th>shape</th>\n",
       "      <th>claim_amount</th>\n",
       "      <th>log_feature_1</th>\n",
       "      <th>expected_value</th>\n",
       "      <th>pred_claim_amount</th>\n",
       "    </tr>\n",
       "  </thead>\n",
       "  <tbody>\n",
       "    <tr>\n",
       "      <th>458968</th>\n",
       "      <td>5589</td>\n",
       "      <td>5.589</td>\n",
       "      <td>20</td>\n",
       "      <td>88.033767</td>\n",
       "      <td>8.628556</td>\n",
       "      <td>111.78</td>\n",
       "      <td>111.758697</td>\n",
       "    </tr>\n",
       "    <tr>\n",
       "      <th>786289</th>\n",
       "      <td>8862</td>\n",
       "      <td>8.862</td>\n",
       "      <td>20</td>\n",
       "      <td>237.639250</td>\n",
       "      <td>9.089528</td>\n",
       "      <td>177.24</td>\n",
       "      <td>177.210679</td>\n",
       "    </tr>\n",
       "    <tr>\n",
       "      <th>78386</th>\n",
       "      <td>1783</td>\n",
       "      <td>1.783</td>\n",
       "      <td>20</td>\n",
       "      <td>32.571123</td>\n",
       "      <td>7.486053</td>\n",
       "      <td>35.66</td>\n",
       "      <td>35.650982</td>\n",
       "    </tr>\n",
       "    <tr>\n",
       "      <th>512896</th>\n",
       "      <td>6128</td>\n",
       "      <td>6.128</td>\n",
       "      <td>20</td>\n",
       "      <td>138.083346</td>\n",
       "      <td>8.720624</td>\n",
       "      <td>122.56</td>\n",
       "      <td>122.537258</td>\n",
       "    </tr>\n",
       "    <tr>\n",
       "      <th>421563</th>\n",
       "      <td>5215</td>\n",
       "      <td>5.215</td>\n",
       "      <td>20</td>\n",
       "      <td>113.464873</td>\n",
       "      <td>8.559294</td>\n",
       "      <td>104.30</td>\n",
       "      <td>104.279729</td>\n",
       "    </tr>\n",
       "  </tbody>\n",
       "</table>\n",
       "</div>"
      ],
      "text/plain": [
       "        feature_1  scale  shape  claim_amount  log_feature_1  expected_value  \\\n",
       "458968       5589  5.589     20     88.033767       8.628556          111.78   \n",
       "786289       8862  8.862     20    237.639250       9.089528          177.24   \n",
       "78386        1783  1.783     20     32.571123       7.486053           35.66   \n",
       "512896       6128  6.128     20    138.083346       8.720624          122.56   \n",
       "421563       5215  5.215     20    113.464873       8.559294          104.30   \n",
       "\n",
       "        pred_claim_amount  \n",
       "458968         111.758697  \n",
       "786289         177.210679  \n",
       "78386           35.650982  \n",
       "512896         122.537258  \n",
       "421563         104.279729  "
      ]
     },
     "execution_count": 68,
     "metadata": {},
     "output_type": "execute_result"
    }
   ],
   "source": [
    "df_mdl.sample(5)"
   ]
  },
  {
   "cell_type": "code",
   "execution_count": 69,
   "id": "b3b3fe89",
   "metadata": {},
   "outputs": [
    {
     "data": {
      "text/plain": [
       "array([1.00005456])"
      ]
     },
     "execution_count": 69,
     "metadata": {},
     "output_type": "execute_result"
    }
   ],
   "source": [
    "mdl.coef_"
   ]
  },
  {
   "cell_type": "markdown",
   "id": "70379e02",
   "metadata": {},
   "source": [
    "## Constant Mean, but Changing Parameters"
   ]
  },
  {
   "cell_type": "markdown",
   "id": "b3acee1b",
   "metadata": {},
   "source": [
    "Main question: will GLM realise that the expected value remains constant if we increase one parameter and decrease the other? "
   ]
  },
  {
   "cell_type": "code",
   "execution_count": 70,
   "id": "dc5fbcea",
   "metadata": {},
   "outputs": [],
   "source": [
    "expected_value = 1000\n",
    "\n",
    "df_mdl = pd.DataFrame.from_dict({'feature_1' : np.repeat(range(1000,10001),100)})\n",
    "\n",
    "df_mdl['scale'] = df_mdl['feature_1'] / 1000\n",
    "df_mdl['shape'] = expected_value / df_mdl['scale']\n",
    "\n",
    "df_mdl['claim_amount'] = np.random.gamma(shape = df_mdl['shape'], scale = df_mdl['scale'])\n",
    "df_mdl['log_feature_1'] = np.log(df_mdl['feature_1'])"
   ]
  },
  {
   "cell_type": "code",
   "execution_count": 71,
   "id": "b4a481c6",
   "metadata": {},
   "outputs": [],
   "source": [
    "df_mdl['expected_value'] = df_mdl['shape'] * df_mdl['scale']"
   ]
  },
  {
   "cell_type": "code",
   "execution_count": 72,
   "id": "94d66a5f",
   "metadata": {},
   "outputs": [],
   "source": [
    "mdl = GammaRegressor(alpha = 0)\n",
    "X = df_mdl[['log_feature_1']]\n",
    "y = df_mdl['claim_amount']\n",
    "mdl.fit(X, y)\n",
    "df_mdl['pred_claim_amount'] = mdl.predict(X)"
   ]
  },
  {
   "cell_type": "code",
   "execution_count": 73,
   "id": "a57618bc",
   "metadata": {},
   "outputs": [
    {
     "data": {
      "text/html": [
       "<div>\n",
       "<style scoped>\n",
       "    .dataframe tbody tr th:only-of-type {\n",
       "        vertical-align: middle;\n",
       "    }\n",
       "\n",
       "    .dataframe tbody tr th {\n",
       "        vertical-align: top;\n",
       "    }\n",
       "\n",
       "    .dataframe thead th {\n",
       "        text-align: right;\n",
       "    }\n",
       "</style>\n",
       "<table border=\"1\" class=\"dataframe\">\n",
       "  <thead>\n",
       "    <tr style=\"text-align: right;\">\n",
       "      <th></th>\n",
       "      <th>feature_1</th>\n",
       "      <th>scale</th>\n",
       "      <th>shape</th>\n",
       "      <th>claim_amount</th>\n",
       "      <th>log_feature_1</th>\n",
       "      <th>expected_value</th>\n",
       "      <th>pred_claim_amount</th>\n",
       "    </tr>\n",
       "  </thead>\n",
       "  <tbody>\n",
       "    <tr>\n",
       "      <th>57971</th>\n",
       "      <td>1579</td>\n",
       "      <td>1.579</td>\n",
       "      <td>633.312223</td>\n",
       "      <td>974.863002</td>\n",
       "      <td>7.364547</td>\n",
       "      <td>1000.0</td>\n",
       "      <td>1000.034872</td>\n",
       "    </tr>\n",
       "    <tr>\n",
       "      <th>243894</th>\n",
       "      <td>3438</td>\n",
       "      <td>3.438</td>\n",
       "      <td>290.866783</td>\n",
       "      <td>1010.452274</td>\n",
       "      <td>8.142645</td>\n",
       "      <td>1000.0</td>\n",
       "      <td>1000.034872</td>\n",
       "    </tr>\n",
       "    <tr>\n",
       "      <th>852763</th>\n",
       "      <td>9527</td>\n",
       "      <td>9.527</td>\n",
       "      <td>104.964837</td>\n",
       "      <td>1127.751148</td>\n",
       "      <td>9.161885</td>\n",
       "      <td>1000.0</td>\n",
       "      <td>1000.034872</td>\n",
       "    </tr>\n",
       "    <tr>\n",
       "      <th>1469</th>\n",
       "      <td>1014</td>\n",
       "      <td>1.014</td>\n",
       "      <td>986.193294</td>\n",
       "      <td>1025.302285</td>\n",
       "      <td>6.921658</td>\n",
       "      <td>1000.0</td>\n",
       "      <td>1000.034872</td>\n",
       "    </tr>\n",
       "    <tr>\n",
       "      <th>190486</th>\n",
       "      <td>2904</td>\n",
       "      <td>2.904</td>\n",
       "      <td>344.352617</td>\n",
       "      <td>923.248651</td>\n",
       "      <td>7.973844</td>\n",
       "      <td>1000.0</td>\n",
       "      <td>1000.034872</td>\n",
       "    </tr>\n",
       "  </tbody>\n",
       "</table>\n",
       "</div>"
      ],
      "text/plain": [
       "        feature_1  scale       shape  claim_amount  log_feature_1  \\\n",
       "57971        1579  1.579  633.312223    974.863002       7.364547   \n",
       "243894       3438  3.438  290.866783   1010.452274       8.142645   \n",
       "852763       9527  9.527  104.964837   1127.751148       9.161885   \n",
       "1469         1014  1.014  986.193294   1025.302285       6.921658   \n",
       "190486       2904  2.904  344.352617    923.248651       7.973844   \n",
       "\n",
       "        expected_value  pred_claim_amount  \n",
       "57971           1000.0        1000.034872  \n",
       "243894          1000.0        1000.034872  \n",
       "852763          1000.0        1000.034872  \n",
       "1469            1000.0        1000.034872  \n",
       "190486          1000.0        1000.034872  "
      ]
     },
     "execution_count": 73,
     "metadata": {},
     "output_type": "execute_result"
    }
   ],
   "source": [
    "df_mdl.sample(5)"
   ]
  },
  {
   "cell_type": "code",
   "execution_count": 74,
   "id": "6438bb1f",
   "metadata": {},
   "outputs": [
    {
     "data": {
      "text/plain": [
       "array([0.])"
      ]
     },
     "execution_count": 74,
     "metadata": {},
     "output_type": "execute_result"
    }
   ],
   "source": [
    "mdl.coef_"
   ]
  },
  {
   "cell_type": "markdown",
   "id": "0b238f8a",
   "metadata": {},
   "source": [
    "## Shape and Scale Tied to Different Features"
   ]
  },
  {
   "cell_type": "code",
   "execution_count": 75,
   "id": "b7405ada",
   "metadata": {},
   "outputs": [],
   "source": [
    "number_of_sample = 10000"
   ]
  },
  {
   "cell_type": "code",
   "execution_count": 76,
   "id": "604121b4",
   "metadata": {},
   "outputs": [],
   "source": [
    "df_mdl = pd.DataFrame.from_dict({'feature_1' : np.random.uniform(low = 1, high = 10, size = number_of_sample),\n",
    "                                'feature_2' : np.random.uniform(low = 1000, high = 10000, size = number_of_sample)})"
   ]
  },
  {
   "cell_type": "code",
   "execution_count": 77,
   "id": "6017dadc",
   "metadata": {},
   "outputs": [],
   "source": [
    "df_mdl['shape'] = df_mdl['feature_1']\n",
    "df_mdl['scale'] = df_mdl['feature_2']\n",
    "\n",
    "df_mdl['log_feature_1'] = np.log(df_mdl['feature_1'])\n",
    "df_mdl['log_feature_2'] = np.log(df_mdl['feature_2'])\n",
    "\n",
    "df_mdl['claim_amount'] = np.random.gamma(shape = df_mdl['shape'], scale = df_mdl['scale'])"
   ]
  },
  {
   "cell_type": "code",
   "execution_count": 78,
   "id": "bbfb631d",
   "metadata": {},
   "outputs": [],
   "source": [
    "df_mdl['expected_value'] = df_mdl['shape'] * df_mdl['scale']"
   ]
  },
  {
   "cell_type": "code",
   "execution_count": 81,
   "id": "647e4e05",
   "metadata": {},
   "outputs": [],
   "source": [
    "mdl = GammaRegressor(alpha = 0)\n",
    "X = df_mdl[['log_feature_1', 'log_feature_2']]\n",
    "y = df_mdl['claim_amount']\n",
    "mdl.fit(X, y)\n",
    "df_mdl['pred_claim_amount'] = mdl.predict(X)"
   ]
  },
  {
   "cell_type": "code",
   "execution_count": 82,
   "id": "5e104aae",
   "metadata": {},
   "outputs": [
    {
     "data": {
      "text/html": [
       "<div>\n",
       "<style scoped>\n",
       "    .dataframe tbody tr th:only-of-type {\n",
       "        vertical-align: middle;\n",
       "    }\n",
       "\n",
       "    .dataframe tbody tr th {\n",
       "        vertical-align: top;\n",
       "    }\n",
       "\n",
       "    .dataframe thead th {\n",
       "        text-align: right;\n",
       "    }\n",
       "</style>\n",
       "<table border=\"1\" class=\"dataframe\">\n",
       "  <thead>\n",
       "    <tr style=\"text-align: right;\">\n",
       "      <th></th>\n",
       "      <th>feature_1</th>\n",
       "      <th>feature_2</th>\n",
       "      <th>shape</th>\n",
       "      <th>scale</th>\n",
       "      <th>log_feature_1</th>\n",
       "      <th>log_feature_2</th>\n",
       "      <th>claim_amount</th>\n",
       "      <th>expected_value</th>\n",
       "      <th>pred_claim_amount</th>\n",
       "    </tr>\n",
       "  </thead>\n",
       "  <tbody>\n",
       "    <tr>\n",
       "      <th>8553</th>\n",
       "      <td>8.900922</td>\n",
       "      <td>3205.779423</td>\n",
       "      <td>8.900922</td>\n",
       "      <td>3205.779423</td>\n",
       "      <td>2.186155</td>\n",
       "      <td>8.072711</td>\n",
       "      <td>41504.053944</td>\n",
       "      <td>28534.393358</td>\n",
       "      <td>29076.232031</td>\n",
       "    </tr>\n",
       "    <tr>\n",
       "      <th>1822</th>\n",
       "      <td>9.130342</td>\n",
       "      <td>3621.464193</td>\n",
       "      <td>9.130342</td>\n",
       "      <td>3621.464193</td>\n",
       "      <td>2.211603</td>\n",
       "      <td>8.194634</td>\n",
       "      <td>18500.363159</td>\n",
       "      <td>33065.205992</td>\n",
       "      <td>33676.748026</td>\n",
       "    </tr>\n",
       "    <tr>\n",
       "      <th>9632</th>\n",
       "      <td>7.110421</td>\n",
       "      <td>3294.432582</td>\n",
       "      <td>7.110421</td>\n",
       "      <td>3294.432582</td>\n",
       "      <td>1.961562</td>\n",
       "      <td>8.099989</td>\n",
       "      <td>26385.289317</td>\n",
       "      <td>23424.803992</td>\n",
       "      <td>23729.717022</td>\n",
       "    </tr>\n",
       "    <tr>\n",
       "      <th>5841</th>\n",
       "      <td>3.121922</td>\n",
       "      <td>7754.539967</td>\n",
       "      <td>3.121922</td>\n",
       "      <td>7754.539967</td>\n",
       "      <td>1.138449</td>\n",
       "      <td>8.956034</td>\n",
       "      <td>47008.452299</td>\n",
       "      <td>24209.066342</td>\n",
       "      <td>23835.026165</td>\n",
       "    </tr>\n",
       "    <tr>\n",
       "      <th>3648</th>\n",
       "      <td>1.084508</td>\n",
       "      <td>7649.422100</td>\n",
       "      <td>1.084508</td>\n",
       "      <td>7649.422100</td>\n",
       "      <td>0.081126</td>\n",
       "      <td>8.942385</td>\n",
       "      <td>667.744006</td>\n",
       "      <td>8295.858424</td>\n",
       "      <td>7955.155301</td>\n",
       "    </tr>\n",
       "  </tbody>\n",
       "</table>\n",
       "</div>"
      ],
      "text/plain": [
       "      feature_1    feature_2     shape        scale  log_feature_1  \\\n",
       "8553   8.900922  3205.779423  8.900922  3205.779423       2.186155   \n",
       "1822   9.130342  3621.464193  9.130342  3621.464193       2.211603   \n",
       "9632   7.110421  3294.432582  7.110421  3294.432582       1.961562   \n",
       "5841   3.121922  7754.539967  3.121922  7754.539967       1.138449   \n",
       "3648   1.084508  7649.422100  1.084508  7649.422100       0.081126   \n",
       "\n",
       "      log_feature_2  claim_amount  expected_value  pred_claim_amount  \n",
       "8553       8.072711  41504.053944    28534.393358       29076.232031  \n",
       "1822       8.194634  18500.363159    33065.205992       33676.748026  \n",
       "9632       8.099989  26385.289317    23424.803992       23729.717022  \n",
       "5841       8.956034  47008.452299    24209.066342       23835.026165  \n",
       "3648       8.942385    667.744006     8295.858424        7955.155301  "
      ]
     },
     "execution_count": 82,
     "metadata": {},
     "output_type": "execute_result"
    }
   ],
   "source": [
    "df_mdl.sample(5)"
   ]
  },
  {
   "cell_type": "code",
   "execution_count": 83,
   "id": "ee759c7b",
   "metadata": {},
   "outputs": [
    {
     "data": {
      "text/plain": [
       "array([1.02505466, 0.99079383])"
      ]
     },
     "execution_count": 83,
     "metadata": {},
     "output_type": "execute_result"
    }
   ],
   "source": [
    "mdl.coef_"
   ]
  },
  {
   "cell_type": "markdown",
   "id": "b1f9c42e",
   "metadata": {},
   "source": [
    "## Summary"
   ]
  },
  {
   "cell_type": "markdown",
   "id": "4f7197bd",
   "metadata": {},
   "source": [
    "Behaved as expected on all test cases. Which is good. "
   ]
  },
  {
   "cell_type": "code",
   "execution_count": null,
   "id": "06d665f3",
   "metadata": {},
   "outputs": [],
   "source": []
  }
 ],
 "metadata": {
  "kernelspec": {
   "display_name": "Python 3 (ipykernel)",
   "language": "python",
   "name": "python3"
  },
  "language_info": {
   "codemirror_mode": {
    "name": "ipython",
    "version": 3
   },
   "file_extension": ".py",
   "mimetype": "text/x-python",
   "name": "python",
   "nbconvert_exporter": "python",
   "pygments_lexer": "ipython3",
   "version": "3.9.12"
  },
  "toc": {
   "base_numbering": 1,
   "nav_menu": {},
   "number_sections": true,
   "sideBar": true,
   "skip_h1_title": false,
   "title_cell": "Table of Contents",
   "title_sidebar": "Contents",
   "toc_cell": false,
   "toc_position": {},
   "toc_section_display": true,
   "toc_window_display": false
  },
  "varInspector": {
   "cols": {
    "lenName": 16,
    "lenType": 16,
    "lenVar": 40
   },
   "kernels_config": {
    "python": {
     "delete_cmd_postfix": "",
     "delete_cmd_prefix": "del ",
     "library": "var_list.py",
     "varRefreshCmd": "print(var_dic_list())"
    },
    "r": {
     "delete_cmd_postfix": ") ",
     "delete_cmd_prefix": "rm(",
     "library": "var_list.r",
     "varRefreshCmd": "cat(var_dic_list()) "
    }
   },
   "types_to_exclude": [
    "module",
    "function",
    "builtin_function_or_method",
    "instance",
    "_Feature"
   ],
   "window_display": false
  }
 },
 "nbformat": 4,
 "nbformat_minor": 5
}
