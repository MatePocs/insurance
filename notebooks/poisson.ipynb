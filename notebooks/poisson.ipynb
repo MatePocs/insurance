{
 "cells": [
  {
   "cell_type": "markdown",
   "id": "1b14a314",
   "metadata": {},
   "source": [
    "# TODO"
   ]
  },
  {
   "cell_type": "markdown",
   "id": "6daffaaf",
   "metadata": {},
   "source": [
    "- Make charts nicer, match in style, etc. "
   ]
  },
  {
   "cell_type": "markdown",
   "id": "c0810520",
   "metadata": {},
   "source": [
    "# Intro"
   ]
  },
  {
   "cell_type": "markdown",
   "id": "e46494fb",
   "metadata": {},
   "source": [
    "Goal of this notebook: \n",
    "- summarise Poisson distribution\n",
    "- visualisations\n",
    "- demonstrate maximum likelihood method\n",
    "- debunking myth: frequency of claim number realisations should be Poisson\n",
    "\n",
    "- log-link function calculations"
   ]
  },
  {
   "cell_type": "code",
   "execution_count": 1,
   "id": "2bfc1efa",
   "metadata": {},
   "outputs": [],
   "source": [
    "import numpy as np\n",
    "import pandas as pd\n",
    "from scipy.special import factorial # for elementwise factorial calc of array\n",
    "from scipy.special import xlogy # for special care with 0 log\n",
    "\n",
    "from matplotlib import pyplot as plt\n",
    "import seaborn as sns\n",
    "\n",
    "from sklearn.metrics import mean_poisson_deviance"
   ]
  },
  {
   "cell_type": "code",
   "execution_count": 2,
   "id": "4efe1ecf",
   "metadata": {},
   "outputs": [],
   "source": [
    "from functions import poisson_likelihood, poisson_loglikelihood, poisson_loglikelihood2"
   ]
  },
  {
   "cell_type": "markdown",
   "id": "c1054138",
   "metadata": {},
   "source": [
    "# Poisson Summary"
   ]
  },
  {
   "cell_type": "markdown",
   "id": "85904ad2",
   "metadata": {},
   "source": [
    "For reference: [wikipedia page](https://en.wikipedia.org/wiki/Poisson_distribution), lots of extra information there (like assumptions, real-life examples, etc.)"
   ]
  },
  {
   "cell_type": "markdown",
   "id": "b0fd5062",
   "metadata": {},
   "source": [
    "__Parameters__: $\\lambda \\in (0, \\infty)$, this is the mean and variance as well  \n",
    "<br>\n",
    "__Probability Mass Function__: $Pr(X=k) = \\displaystyle \\frac{\\lambda ^ {k} e ^ {- \\lambda}} {k!}$\n",
    "<br>\n",
    "\n",
    "The following likelihood functions are the 'standard' approach, so we have observations from one specific distribution. \n",
    "\n",
    "__Likelihood__: $L(\\lambda, x _{1}, ..., x _{n}) = \\displaystyle \\prod _{j=1} ^{n} \\displaystyle \\frac{\\lambda ^ {x _{j}} e ^ {- \\lambda}} {x _{j} !}$\n",
    "\n",
    "__Log-likelihood__: $l(\\lambda, x _{1}, ..., x _{n}) =  log(L(\\lambda, x _{1}, ..., x _{n})) = log(\\displaystyle \\prod _{j=1} ^{n} \\displaystyle \\frac{\\lambda ^ {x _{j}} e ^ {- \\lambda}} {x _{j} !}) = \\sum \\limits _{j=1} ^{n} log (\\displaystyle \\frac{\\lambda ^ {x _{j}} e ^ {- \\lambda}} {x _{j} !}) = $\n",
    "<br>\n",
    "$ = log(\\lambda) \\sum \\limits _{j=1} ^{n} x _{j} - n \\lambda - \\sum \\limits _{j=1} ^{n} log(x _{j}!) $\n",
    "\n",
    "However, in insurance, we basically need to calculate likelihoods row-wise, so there's not much point in writing formulas that assume the same predicted value (a.k.a. lambda). I think it's better to work with the following approach, and know that the likelihoods should be multiplied, while the individual log-likelihoods should be summed. \n",
    "\n",
    "With that, the functions I am going to use will assume two scalar inputs. \n",
    "\n",
    "__Likelihood__: $L(\\lambda, k) = \\displaystyle \\frac{\\lambda ^ {k} e ^ {- \\lambda}} {k!}$\n",
    "<br>\n",
    "\n",
    "__Log-likelihood__: $l(\\lambda, k) = log(L(\\lambda, k)) = k * log(\\lambda) -\\lambda - log(k!)$"
   ]
  },
  {
   "cell_type": "code",
   "execution_count": 3,
   "id": "37a06866",
   "metadata": {},
   "outputs": [
    {
     "data": {
      "text/plain": [
       "2.70805020110221"
      ]
     },
     "execution_count": 3,
     "metadata": {},
     "output_type": "execute_result"
    }
   ],
   "source": [
    "np.log(3) + np.log(5)"
   ]
  },
  {
   "cell_type": "code",
   "execution_count": 4,
   "id": "8ac03f25",
   "metadata": {},
   "outputs": [
    {
     "data": {
      "text/plain": [
       "2.70805020110221"
      ]
     },
     "execution_count": 4,
     "metadata": {},
     "output_type": "execute_result"
    }
   ],
   "source": [
    "np.log(15)"
   ]
  },
  {
   "cell_type": "code",
   "execution_count": 5,
   "id": "fa9081c8",
   "metadata": {},
   "outputs": [
    {
     "data": {
      "text/plain": [
       "True"
      ]
     },
     "execution_count": 5,
     "metadata": {},
     "output_type": "execute_result"
    }
   ],
   "source": [
    "poisson_likelihood(2, 0.5) == 0.5 ** 2 * np.exp(-0.5) / np.math.factorial(2)"
   ]
  },
  {
   "cell_type": "code",
   "execution_count": 6,
   "id": "9b4b6cbb",
   "metadata": {},
   "outputs": [
    {
     "data": {
      "text/plain": [
       "0.07581633246407918"
      ]
     },
     "execution_count": 6,
     "metadata": {},
     "output_type": "execute_result"
    }
   ],
   "source": [
    "poisson_likelihood(2, 0.5)"
   ]
  },
  {
   "cell_type": "code",
   "execution_count": 7,
   "id": "53e25edf",
   "metadata": {},
   "outputs": [
    {
     "data": {
      "text/plain": [
       "-2.5794415416798357"
      ]
     },
     "execution_count": 7,
     "metadata": {},
     "output_type": "execute_result"
    }
   ],
   "source": [
    "poisson_loglikelihood(2, 0.5)"
   ]
  },
  {
   "cell_type": "code",
   "execution_count": 8,
   "id": "d62b5957",
   "metadata": {},
   "outputs": [
    {
     "data": {
      "text/plain": [
       "-2.5794415416798357"
      ]
     },
     "execution_count": 8,
     "metadata": {},
     "output_type": "execute_result"
    }
   ],
   "source": [
    "poisson_loglikelihood2(2, 0.5)"
   ]
  },
  {
   "cell_type": "markdown",
   "id": "eba6e2da",
   "metadata": {},
   "source": [
    "## Deviance"
   ]
  },
  {
   "cell_type": "markdown",
   "id": "9ed69f9f",
   "metadata": {},
   "source": [
    "Testing the formula found here: https://scikit-learn.org/stable/modules/linear_model.html#generalized-linear-models\n",
    "\n",
    "More accurately, see the p = 1 mean_tweedie_deviance here, because the log needs special care when the actual is 0: https://github.com/scikit-learn/scikit-learn/blob/364c77e04/sklearn/metrics/_regression.py#L1095"
   ]
  },
  {
   "cell_type": "code",
   "execution_count": 9,
   "id": "36a4922a",
   "metadata": {},
   "outputs": [],
   "source": [
    "def my_poisson_deviance(actu, pred):\n",
    "    return(2 * (xlogy(actu, actu / pred) - actu + pred))"
   ]
  },
  {
   "cell_type": "code",
   "execution_count": 10,
   "id": "fdf2259f",
   "metadata": {},
   "outputs": [
    {
     "data": {
      "text/plain": [
       "1.4260151319598084"
      ]
     },
     "execution_count": 10,
     "metadata": {},
     "output_type": "execute_result"
    }
   ],
   "source": [
    "y_true = [2, 0, 1, 4]\n",
    "y_pred = [0.5, 0.5, 2., 2.]\n",
    "mean_poisson_deviance(y_true, y_pred)"
   ]
  },
  {
   "cell_type": "code",
   "execution_count": 11,
   "id": "601a4496",
   "metadata": {},
   "outputs": [
    {
     "data": {
      "text/plain": [
       "array([2.54517744, 1.        , 0.61370564, 1.54517744])"
      ]
     },
     "execution_count": 11,
     "metadata": {},
     "output_type": "execute_result"
    }
   ],
   "source": [
    "my_poisson_deviance(np.array(y_true), np.array(y_pred))"
   ]
  },
  {
   "cell_type": "code",
   "execution_count": 12,
   "id": "49e95554",
   "metadata": {},
   "outputs": [],
   "source": [
    "def my_mean_poisson_deviance(actu, pred):\n",
    "    return(np.sum(my_poisson_deviance(actu,pred)) / len(actu))"
   ]
  },
  {
   "cell_type": "code",
   "execution_count": 13,
   "id": "45c3ecbd",
   "metadata": {},
   "outputs": [
    {
     "data": {
      "text/plain": [
       "1.4260151319598084"
      ]
     },
     "execution_count": 13,
     "metadata": {},
     "output_type": "execute_result"
    }
   ],
   "source": [
    "my_mean_poisson_deviance(np.array(y_true), np.array(y_pred))"
   ]
  },
  {
   "cell_type": "markdown",
   "id": "45a5d7dc",
   "metadata": {},
   "source": [
    "And now let's check how deviance is derived from likelihood. "
   ]
  },
  {
   "cell_type": "code",
   "execution_count": 14,
   "id": "a333a0a1",
   "metadata": {},
   "outputs": [
    {
     "data": {
      "text/plain": [
       "2.5451774444795623"
      ]
     },
     "execution_count": 14,
     "metadata": {},
     "output_type": "execute_result"
    }
   ],
   "source": [
    "my_poisson_deviance(2,0.5)"
   ]
  },
  {
   "cell_type": "code",
   "execution_count": 15,
   "id": "59a8c61e",
   "metadata": {},
   "outputs": [
    {
     "data": {
      "text/plain": [
       "2.5451774444795623"
      ]
     },
     "execution_count": 15,
     "metadata": {},
     "output_type": "execute_result"
    }
   ],
   "source": [
    "-2 * (poisson_loglikelihood(2, 0.5) - poisson_loglikelihood(2,2))"
   ]
  },
  {
   "cell_type": "markdown",
   "id": "0e873e9e",
   "metadata": {},
   "source": [
    "In summary, we now know how deviance is calculated, either from scratch with the likelihood or with a formula, yields the same results. "
   ]
  },
  {
   "cell_type": "markdown",
   "id": "a6c642be",
   "metadata": {},
   "source": [
    "# Generate Data"
   ]
  },
  {
   "cell_type": "code",
   "execution_count": 16,
   "id": "013eca36",
   "metadata": {},
   "outputs": [],
   "source": [
    "# variables\n",
    "lambda1 = 0.85\n",
    "n1 = 100000"
   ]
  },
  {
   "cell_type": "code",
   "execution_count": 17,
   "id": "5713cfdb",
   "metadata": {},
   "outputs": [],
   "source": [
    "# df1: simple simulated Poisson\n",
    "df1 = pd.DataFrame.from_dict({'target': np.random.poisson(lambda1, n1)})"
   ]
  },
  {
   "cell_type": "code",
   "execution_count": 18,
   "id": "d56eb825",
   "metadata": {},
   "outputs": [],
   "source": [
    "# df2: probabilities (likelihoods)\n",
    "df2 = pd.DataFrame.from_dict({'target' : range(10)})\n",
    "df2['likelihood'] = poisson_likelihood(df2['target'], lambda1)"
   ]
  },
  {
   "cell_type": "markdown",
   "id": "601e6eef",
   "metadata": {},
   "source": [
    "# Visualisations"
   ]
  },
  {
   "cell_type": "markdown",
   "id": "d0ffe896",
   "metadata": {},
   "source": [
    "## Simulation"
   ]
  },
  {
   "cell_type": "code",
   "execution_count": 19,
   "id": "e18bb0d1",
   "metadata": {},
   "outputs": [
    {
     "data": {
      "image/png": "[encoded data removed]",
      "text/plain": [
       "<Figure size 360x360 with 1 Axes>"
      ]
     },
     "metadata": {
      "needs_background": "light"
     },
     "output_type": "display_data"
    }
   ],
   "source": [
    "sns.displot(df1['target'])\n",
    "plt.show()"
   ]
  },
  {
   "cell_type": "markdown",
   "id": "25c6a933",
   "metadata": {},
   "source": [
    "## Likelihood"
   ]
  },
  {
   "cell_type": "code",
   "execution_count": 20,
   "id": "dcd9edaa",
   "metadata": {},
   "outputs": [
    {
     "data": {
      "image/png": "[encoded data removed]",
      "text/plain": [
       "<Figure size 432x288 with 1 Axes>"
      ]
     },
     "metadata": {
      "needs_background": "light"
     },
     "output_type": "display_data"
    }
   ],
   "source": [
    "sns.barplot(x = df2['target'], y = df2['likelihood'])\n",
    "plt.show()"
   ]
  },
  {
   "cell_type": "markdown",
   "id": "ccf79af2",
   "metadata": {},
   "source": [
    "# Maximum Likelihood Demonstration"
   ]
  },
  {
   "cell_type": "markdown",
   "id": "511c779f",
   "metadata": {},
   "source": [
    "Goal here: demonstrate that the highest likelihood is achieved with simply taking the average of observations. Meaning the maximum likelihood estimation is also the method of moments for a Poisson distribution. \n",
    "\n",
    "Of course, not proving anything, this is just a demonstration. Although the proof is not complicated either. "
   ]
  },
  {
   "cell_type": "markdown",
   "id": "82df74f0",
   "metadata": {},
   "source": [
    "__Poisson MLE__: $\\hat{\\lambda}_{n} = \\displaystyle \\frac{1} {n} \n",
    "\\sum \\limits _{j=1} ^{n} X_{n}   $"
   ]
  },
  {
   "cell_type": "code",
   "execution_count": 21,
   "id": "6c82ac0c",
   "metadata": {},
   "outputs": [
    {
     "data": {
      "text/html": [
       "<div>\n",
       "<style scoped>\n",
       "    .dataframe tbody tr th:only-of-type {\n",
       "        vertical-align: middle;\n",
       "    }\n",
       "\n",
       "    .dataframe tbody tr th {\n",
       "        vertical-align: top;\n",
       "    }\n",
       "\n",
       "    .dataframe thead th {\n",
       "        text-align: right;\n",
       "    }\n",
       "</style>\n",
       "<table border=\"1\" class=\"dataframe\">\n",
       "  <thead>\n",
       "    <tr style=\"text-align: right;\">\n",
       "      <th></th>\n",
       "      <th>lambda</th>\n",
       "      <th>poisson_loglikelihood</th>\n",
       "    </tr>\n",
       "  </thead>\n",
       "  <tbody>\n",
       "    <tr>\n",
       "      <th>0</th>\n",
       "      <td>0.01</td>\n",
       "      <td>-4.158359</td>\n",
       "    </tr>\n",
       "    <tr>\n",
       "      <th>1</th>\n",
       "      <td>0.02</td>\n",
       "      <td>-3.577701</td>\n",
       "    </tr>\n",
       "    <tr>\n",
       "      <th>2</th>\n",
       "      <td>0.03</td>\n",
       "      <td>-3.242188</td>\n",
       "    </tr>\n",
       "    <tr>\n",
       "      <th>3</th>\n",
       "      <td>0.04</td>\n",
       "      <td>-3.007043</td>\n",
       "    </tr>\n",
       "    <tr>\n",
       "      <th>4</th>\n",
       "      <td>0.05</td>\n",
       "      <td>-2.826893</td>\n",
       "    </tr>\n",
       "    <tr>\n",
       "      <th>...</th>\n",
       "      <td>...</td>\n",
       "      <td>...</td>\n",
       "    </tr>\n",
       "    <tr>\n",
       "      <th>82</th>\n",
       "      <td>0.83</td>\n",
       "      <td>-1.212889</td>\n",
       "    </tr>\n",
       "    <tr>\n",
       "      <th>86</th>\n",
       "      <td>0.87</td>\n",
       "      <td>-1.212781</td>\n",
       "    </tr>\n",
       "    <tr>\n",
       "      <th>83</th>\n",
       "      <td>0.84</td>\n",
       "      <td>-1.212683</td>\n",
       "    </tr>\n",
       "    <tr>\n",
       "      <th>85</th>\n",
       "      <td>0.86</td>\n",
       "      <td>-1.212632</td>\n",
       "    </tr>\n",
       "    <tr>\n",
       "      <th>84</th>\n",
       "      <td>0.85</td>\n",
       "      <td>-1.212599</td>\n",
       "    </tr>\n",
       "  </tbody>\n",
       "</table>\n",
       "<p>150 rows × 2 columns</p>\n",
       "</div>"
      ],
      "text/plain": [
       "    lambda  poisson_loglikelihood\n",
       "0     0.01              -4.158359\n",
       "1     0.02              -3.577701\n",
       "2     0.03              -3.242188\n",
       "3     0.04              -3.007043\n",
       "4     0.05              -2.826893\n",
       "..     ...                    ...\n",
       "82    0.83              -1.212889\n",
       "86    0.87              -1.212781\n",
       "83    0.84              -1.212683\n",
       "85    0.86              -1.212632\n",
       "84    0.85              -1.212599\n",
       "\n",
       "[150 rows x 2 columns]"
      ]
     },
     "execution_count": 21,
     "metadata": {},
     "output_type": "execute_result"
    }
   ],
   "source": [
    "# we use ml1 to calculate the likelihood of different lambdas in the previous dataframe\n",
    "ml1 = pd.DataFrame({'lambda':np.linspace(0.01,1.5,150)})\n",
    "\n",
    "ml1['poisson_loglikelihood'] = ml1['lambda'].apply(lambda x: np.mean(poisson_loglikelihood(df1['target'], x)))\n",
    "\n",
    "ml1.sort_values('poisson_loglikelihood')"
   ]
  },
  {
   "cell_type": "code",
   "execution_count": 22,
   "id": "2c54d7bf",
   "metadata": {},
   "outputs": [
    {
     "data": {
      "text/plain": [
       "0.85"
      ]
     },
     "execution_count": 22,
     "metadata": {},
     "output_type": "execute_result"
    }
   ],
   "source": [
    "np.round(np.mean(df1['target']),2)"
   ]
  },
  {
   "cell_type": "code",
   "execution_count": 23,
   "id": "a0b0eea5",
   "metadata": {},
   "outputs": [
    {
     "data": {
      "image/png": "[encoded data removed]",
      "text/plain": [
       "<Figure size 432x288 with 1 Axes>"
      ]
     },
     "metadata": {
      "needs_background": "light"
     },
     "output_type": "display_data"
    }
   ],
   "source": [
    "sns.lineplot(x = ml1['lambda'], y = ml1['poisson_loglikelihood'])\n",
    "plt.show()"
   ]
  },
  {
   "cell_type": "code",
   "execution_count": null,
   "id": "7ce065cf",
   "metadata": {},
   "outputs": [],
   "source": []
  },
  {
   "cell_type": "code",
   "execution_count": null,
   "id": "08a3ce74",
   "metadata": {},
   "outputs": [],
   "source": []
  },
  {
   "cell_type": "markdown",
   "id": "e2d40730",
   "metadata": {},
   "source": [
    "# Claim Occurence Table is not Poisson"
   ]
  },
  {
   "cell_type": "markdown",
   "id": "05babd49",
   "metadata": {},
   "source": [
    "If you look at the realised outcomes of a population with differing Poisson lambdas, the overall table is not going to be Poisson itself. \n",
    "\n",
    "Real-life example: in an insurance setting, we can assume that each individual policyholder's claim amount in a year is going to be Poisson-distributed, and it's the modelling phase's goal to estimate the value. If you look at one row, it will have a number, e.g. 0 claim, or 1 claim, etc, and we assume that to be Poisson. However, if we look at how many 0, 1, 2, ... claims we had overall, we don't expect that to be a Poisson. \n",
    "\n",
    "Confusion comes from the fact that sum of different Poissons is going to be a Poisson in itself, with lambda the sum of all the lambdas. But that's different. "
   ]
  },
  {
   "cell_type": "markdown",
   "id": "35f4fd26",
   "metadata": {},
   "source": [
    "## Proof"
   ]
  },
  {
   "cell_type": "markdown",
   "id": "7da706ca",
   "metadata": {},
   "source": [
    "Let's try to prove it mathematically. I mean, kinda mathematically, I reckon this is quite sloppy. "
   ]
  },
  {
   "cell_type": "markdown",
   "id": "764dfe35",
   "metadata": {},
   "source": [
    "Let's assume we have a random variable, X, which is $X _{1}$ ~ Poisson($\\lambda_{1}$) with probability a, and $X _{2}$ ~ Poisson($\\lambda_{2}$) with probability (1-a). X is meant to represent the whole population, which comes from different Poissons. The key thing is that this is not the same as a weighted average of Poissons. So X is __not the same__ as $a X_{1} + (1-a) X_{2}$.\n",
    "\n",
    "We can define X as a discrete distribution where $Pr(X = k) = a Pr(X_{1} = k) + (1-a) Pr(X_{2} = k)$ for $k = 0,1,...$ (And let's observe how this is basically the claim frequency table, which will come from different Poissons. \n",
    "\n",
    "Let's assume that the above defined X is a Poisson with lambda parameter $\\lambda$. We know that X's expected value is going to be \n",
    "\n",
    "$a \\lambda_{1} + (1-a) \\lambda_{2}$\n",
    "\n",
    "Now, if X was of a Poisson distribution, its lambda parameter would equal its expected value. \n",
    "\n",
    "It is also true that:\n",
    "\n",
    "$Pr(X = k) = a Pr(X_{1} = k) + (1-a) Pr(X_{2} = k)$\n",
    "\n",
    "This holds for all k's. Let's assume that X is a Poisson with the lambda above, and use the Poisson probability function formula. \n",
    "\n",
    "$\\displaystyle \\frac{\\lambda ^ {k} e ^ {- \\lambda}} {k!} = a \\displaystyle \\frac{\\lambda_{1} ^ {k} e ^ {- \\lambda_{1}}} {k!} + (1-a) \\displaystyle \\frac{\\lambda_{2} ^ {k} e ^ {- \\lambda_{2}}} {k!}$\n"
   ]
  },
  {
   "cell_type": "markdown",
   "id": "b73abca0",
   "metadata": {},
   "source": [
    "Using the expected value to calculate the lambda of the common assumed Poisson distribution: \n",
    "\n",
    "$\\lambda = a \\lambda_{1} + (1-a) \\lambda_{2}$\n",
    "\n",
    "in the above equation yields: \n",
    "\n",
    "$\\displaystyle \\frac{(a \\lambda_{1} + (1-a) \\lambda_{2}) ^ {k} e ^ {- (a \\lambda_{1} + (1-a) \\lambda_{2})}} {k!} = a \\displaystyle \\frac{\\lambda_{1} ^ {k} e ^ {- \\lambda_{1}}} {k!} + (1-a) \\displaystyle \\frac{\\lambda_{2} ^ {k} e ^ {- \\lambda_{2}}} {k!}$\n",
    "\n",
    "This must be true for all values of k, let's see k = 0: "
   ]
  },
  {
   "cell_type": "markdown",
   "id": "c56e475a",
   "metadata": {},
   "source": [
    "$e ^ {- (a \\lambda_{1} + (1-a) \\lambda_{2})} = a e ^ {-\\lambda_{1}} + (1-a) e ^ {-\\lambda_{2}}$\n",
    "\n",
    "which is not going to generally hold. It does hold of course if $\\lambda_{1} = \\lambda_{2}$, but that's hardly an interesting scenario, that would just mean that X1, X2, and X are all the exact same distribution. "
   ]
  },
  {
   "cell_type": "markdown",
   "id": "0afccf3b",
   "metadata": {},
   "source": [
    "## Demonstration Through Example"
   ]
  },
  {
   "cell_type": "markdown",
   "id": "09da2962",
   "metadata": {},
   "source": [
    "Once again, simple case: we have a population with two different Poisson lambdas (think of it as a simple model with 1 binary variable). Can we find one specific Poisson lambda that is going to generate the same probabilities? "
   ]
  },
  {
   "cell_type": "code",
   "execution_count": 24,
   "id": "c0148a1e",
   "metadata": {},
   "outputs": [],
   "source": [
    "a = 0.3 # ratio of population 1 in the database\n",
    "lambda_1 = 0.05\n",
    "lambda_2 = 0.5 # would be more obvious with larger differences but I wanted to keep it applicable to real life\n",
    "n = 10000000"
   ]
  },
  {
   "cell_type": "code",
   "execution_count": 25,
   "id": "5b8808af",
   "metadata": {},
   "outputs": [],
   "source": [
    "df = pd.DataFrame.from_dict({'lambda': np.random.choice(\n",
    "    a = [lambda_1, lambda_2], size = n, p = [a, 1-a])})\n",
    "\n",
    "df['target'] = np.random.poisson(df['lambda'])"
   ]
  },
  {
   "cell_type": "code",
   "execution_count": 26,
   "id": "b3eeb257",
   "metadata": {},
   "outputs": [
    {
     "data": {
      "text/plain": [
       "0    7099380\n",
       "1    2266790\n",
       "2     533522\n",
       "3      87996\n",
       "4      11152\n",
       "5       1069\n",
       "6         85\n",
       "7          6\n",
       "Name: target, dtype: int64"
      ]
     },
     "execution_count": 26,
     "metadata": {},
     "output_type": "execute_result"
    }
   ],
   "source": [
    "df['target'].value_counts()"
   ]
  },
  {
   "cell_type": "code",
   "execution_count": 27,
   "id": "ef07f89a",
   "metadata": {},
   "outputs": [
    {
     "data": {
      "text/plain": [
       "0.3648327"
      ]
     },
     "execution_count": 27,
     "metadata": {},
     "output_type": "execute_result"
    }
   ],
   "source": [
    "df['target'].mean()"
   ]
  },
  {
   "cell_type": "code",
   "execution_count": 28,
   "id": "df0ffdef",
   "metadata": {},
   "outputs": [
    {
     "data": {
      "text/plain": [
       "0.365"
      ]
     },
     "execution_count": 28,
     "metadata": {},
     "output_type": "execute_result"
    }
   ],
   "source": [
    "a * lambda_1 + (1-a) * lambda_2"
   ]
  },
  {
   "cell_type": "code",
   "execution_count": 29,
   "id": "2dbe2612",
   "metadata": {},
   "outputs": [
    {
     "data": {
      "text/plain": [
       "0.2265541722669324"
      ]
     },
     "execution_count": 29,
     "metadata": {},
     "output_type": "execute_result"
    }
   ],
   "source": [
    "a * poisson_likelihood(1, lambda_1) + (1-a) * poisson_likelihood(1, lambda_2)"
   ]
  },
  {
   "cell_type": "code",
   "execution_count": 30,
   "id": "152baedc",
   "metadata": {},
   "outputs": [
    {
     "data": {
      "text/plain": [
       "0.226679"
      ]
     },
     "execution_count": 30,
     "metadata": {},
     "output_type": "execute_result"
    }
   ],
   "source": [
    "len(df[df['target'] == 1]) / len(df)"
   ]
  },
  {
   "cell_type": "markdown",
   "id": "b54d9a35",
   "metadata": {},
   "source": [
    "OK, so far I just wanted to demonstrate what the probability of a randomly selected row being equal to k is. It's a weighted average of two Poisson probabilities. "
   ]
  },
  {
   "cell_type": "markdown",
   "id": "96ac3156",
   "metadata": {},
   "source": [
    "Now, let's try to find one specific lambda_3 that solves for all k's. We need a solver function for that. "
   ]
  },
  {
   "cell_type": "code",
   "execution_count": 31,
   "id": "5a9a55ea",
   "metadata": {},
   "outputs": [],
   "source": [
    "from scipy.optimize import minimize"
   ]
  },
  {
   "cell_type": "code",
   "execution_count": 32,
   "id": "3e038412",
   "metadata": {},
   "outputs": [],
   "source": [
    "k = 0"
   ]
  },
  {
   "cell_type": "code",
   "execution_count": 33,
   "id": "becd3b04",
   "metadata": {},
   "outputs": [],
   "source": [
    "def obj(arguments, a, k, lambda_1, lambda_2):\n",
    "    \"\"\"objective function, to be solved.\"\"\"\n",
    "    lambda_3 = arguments[0]\n",
    "    diff = poisson_likelihood(k, lambda_3) - \\\n",
    "        (a * poisson_likelihood(k, lambda_1) + (1-a) * poisson_likelihood(k, lambda_2))\n",
    "    return abs(diff)"
   ]
  },
  {
   "cell_type": "code",
   "execution_count": 34,
   "id": "b17adffd",
   "metadata": {},
   "outputs": [
    {
     "data": {
      "text/plain": [
       "0.34257440503011105"
      ]
     },
     "execution_count": 34,
     "metadata": {},
     "output_type": "execute_result"
    }
   ],
   "source": [
    "estimated_lambda_3 = minimize(obj, x0 = (a*lambda_1 + (1-a)*lambda_2), args = (a, k, lambda_1, lambda_2))\n",
    "estimated_lambda_3.x[0]"
   ]
  },
  {
   "cell_type": "markdown",
   "id": "68ae6e6a",
   "metadata": {},
   "source": [
    "Now that we have the function, let's summarise - what is the optimal lambda_3 for different k's? "
   ]
  },
  {
   "cell_type": "code",
   "execution_count": 35,
   "id": "d3205864",
   "metadata": {},
   "outputs": [],
   "source": [
    "estimated_lambda_3s = []\n",
    "\n",
    "start_k = 0\n",
    "end_k = 6\n",
    "\n",
    "for i in range(start_k,end_k):\n",
    "    curr_estimated_lambda_3 = minimize(obj, x0 = 0.5, args = (a, i, lambda_1, lambda_2), bounds = [(0,1)]).x[0]\n",
    "    estimated_lambda_3s.append(curr_estimated_lambda_3)\n",
    "    "
   ]
  },
  {
   "cell_type": "code",
   "execution_count": 36,
   "id": "09b567f3",
   "metadata": {},
   "outputs": [],
   "source": [
    "result_summary = df.from_dict({'k': range(start_k,end_k), 'lambda_3': estimated_lambda_3s})"
   ]
  },
  {
   "cell_type": "code",
   "execution_count": 37,
   "id": "9ef189f8",
   "metadata": {},
   "outputs": [
    {
     "data": {
      "text/html": [
       "<div>\n",
       "<style scoped>\n",
       "    .dataframe tbody tr th:only-of-type {\n",
       "        vertical-align: middle;\n",
       "    }\n",
       "\n",
       "    .dataframe tbody tr th {\n",
       "        vertical-align: top;\n",
       "    }\n",
       "\n",
       "    .dataframe thead th {\n",
       "        text-align: right;\n",
       "    }\n",
       "</style>\n",
       "<table border=\"1\" class=\"dataframe\">\n",
       "  <thead>\n",
       "    <tr style=\"text-align: right;\">\n",
       "      <th></th>\n",
       "      <th>k</th>\n",
       "      <th>lambda_3</th>\n",
       "    </tr>\n",
       "  </thead>\n",
       "  <tbody>\n",
       "    <tr>\n",
       "      <th>0</th>\n",
       "      <td>0</td>\n",
       "      <td>0.342574</td>\n",
       "    </tr>\n",
       "    <tr>\n",
       "      <th>1</th>\n",
       "      <td>1</td>\n",
       "      <td>0.308394</td>\n",
       "    </tr>\n",
       "    <tr>\n",
       "      <th>2</th>\n",
       "      <td>2</td>\n",
       "      <td>0.399079</td>\n",
       "    </tr>\n",
       "    <tr>\n",
       "      <th>3</th>\n",
       "      <td>3</td>\n",
       "      <td>0.434455</td>\n",
       "    </tr>\n",
       "    <tr>\n",
       "      <th>4</th>\n",
       "      <td>4</td>\n",
       "      <td>0.451885</td>\n",
       "    </tr>\n",
       "    <tr>\n",
       "      <th>5</th>\n",
       "      <td>5</td>\n",
       "      <td>0.462056</td>\n",
       "    </tr>\n",
       "  </tbody>\n",
       "</table>\n",
       "</div>"
      ],
      "text/plain": [
       "   k  lambda_3\n",
       "0  0  0.342574\n",
       "1  1  0.308394\n",
       "2  2  0.399079\n",
       "3  3  0.434455\n",
       "4  4  0.451885\n",
       "5  5  0.462056"
      ]
     },
     "execution_count": 37,
     "metadata": {},
     "output_type": "execute_result"
    }
   ],
   "source": [
    "result_summary"
   ]
  },
  {
   "cell_type": "markdown",
   "id": "2f0121c0",
   "metadata": {},
   "source": [
    "There is a bit of funny business with the optimizations in higher k's. But the gist is quite straightforward: the singular lambda that would result in the corresponding probability will differ by k. "
   ]
  },
  {
   "cell_type": "code",
   "execution_count": 40,
   "id": "fbb580b9",
   "metadata": {},
   "outputs": [],
   "source": [
    "# let's check that probabilities match with the given lambda"
   ]
  },
  {
   "cell_type": "code",
   "execution_count": null,
   "id": "9bbd1dbc",
   "metadata": {},
   "outputs": [],
   "source": [
    "result_summary[' ']"
   ]
  },
  {
   "cell_type": "markdown",
   "id": "82543815",
   "metadata": {},
   "source": [
    "## Should it Differ Significantly in Real Life Though?"
   ]
  },
  {
   "cell_type": "markdown",
   "id": "7fcd7b4a",
   "metadata": {},
   "source": [
    "Let's try to investigate lambda's that are in a more realistic range."
   ]
  },
  {
   "cell_type": "code",
   "execution_count": 39,
   "id": "dc1ea92f",
   "metadata": {},
   "outputs": [
    {
     "data": {
      "text/html": [
       "<div>\n",
       "<style scoped>\n",
       "    .dataframe tbody tr th:only-of-type {\n",
       "        vertical-align: middle;\n",
       "    }\n",
       "\n",
       "    .dataframe tbody tr th {\n",
       "        vertical-align: top;\n",
       "    }\n",
       "\n",
       "    .dataframe thead th {\n",
       "        text-align: right;\n",
       "    }\n",
       "</style>\n",
       "<table border=\"1\" class=\"dataframe\">\n",
       "  <thead>\n",
       "    <tr style=\"text-align: right;\">\n",
       "      <th></th>\n",
       "      <th>k</th>\n",
       "      <th>lambda_3</th>\n",
       "    </tr>\n",
       "  </thead>\n",
       "  <tbody>\n",
       "    <tr>\n",
       "      <th>0</th>\n",
       "      <td>0</td>\n",
       "      <td>0.053988</td>\n",
       "    </tr>\n",
       "    <tr>\n",
       "      <th>1</th>\n",
       "      <td>1</td>\n",
       "      <td>0.052920</td>\n",
       "    </tr>\n",
       "    <tr>\n",
       "      <th>2</th>\n",
       "      <td>2</td>\n",
       "      <td>0.070039</td>\n",
       "    </tr>\n",
       "    <tr>\n",
       "      <th>3</th>\n",
       "      <td>3</td>\n",
       "      <td>0.078841</td>\n",
       "    </tr>\n",
       "  </tbody>\n",
       "</table>\n",
       "</div>"
      ],
      "text/plain": [
       "   k  lambda_3\n",
       "0  0  0.053988\n",
       "1  1  0.052920\n",
       "2  2  0.070039\n",
       "3  3  0.078841"
      ]
     },
     "execution_count": 39,
     "metadata": {},
     "output_type": "execute_result"
    }
   ],
   "source": [
    "a = 0.5\n",
    "lambda_1 = 0.01\n",
    "lambda_2 = 0.1\n",
    "\n",
    "estimated_lambda_3s = []\n",
    "\n",
    "start_k = 0\n",
    "end_k = 4\n",
    "\n",
    "for i in range(start_k,end_k):\n",
    "    curr_estimated_lambda_3 = minimize(obj, x0 = 0.1, args = (a, i, lambda_1, lambda_2), bounds = [(0,1)]).x[0]\n",
    "    estimated_lambda_3s.append(curr_estimated_lambda_3)\n",
    "\n",
    "    \n",
    "result_summary = df.from_dict({'k': range(start_k,end_k), 'lambda_3': estimated_lambda_3s})\n",
    "result_summary"
   ]
  },
  {
   "cell_type": "markdown",
   "id": "9635bb1c",
   "metadata": {},
   "source": [
    "TODO:\n",
    "- extend function so you can define a list of lambdas and portions\n",
    "- check minimize function manually at least a few times\n",
    "- demonstrate real distribution vs estimated ones - so we have a baseline actual probability of 0s and 1s, and then depending on which lambda_common we use, the distribution will match for the corresponding k, but not the rest"
   ]
  },
  {
   "cell_type": "markdown",
   "id": "d0c7b7ac",
   "metadata": {},
   "source": [
    "# Log-link Calculations"
   ]
  },
  {
   "cell_type": "markdown",
   "id": "f7e071c6",
   "metadata": {},
   "source": [
    "The canonical link function for a Poisson regression (regardless of whether GLM or GBM) is the logarithm. \n",
    "\n",
    "This means that rather than predicting lambda itself, the model estimates a _raw_score_ in a linear fashion from the features, and then the final prediction is the exponential of this _raw_score_. \n",
    "\n",
    "This doesn't change the fact that we are maximising the sum of the log-likelihood, just by another format of the same variable. "
   ]
  },
  {
   "cell_type": "markdown",
   "id": "05e9e60c",
   "metadata": {},
   "source": [
    "## Gradient and Hessian"
   ]
  },
  {
   "cell_type": "markdown",
   "id": "26d6417c",
   "metadata": {},
   "source": [
    "The gradient and hessian used in the gradient descent methods is the first and second order derivative of the log-likelihood function with respect to the predicted value. The important tweak is that this is the predicted raw score, not the final predicted value. \n",
    "\n",
    "First, we have to re-work the log-likelihood function. "
   ]
  },
  {
   "cell_type": "markdown",
   "id": "80022895",
   "metadata": {},
   "source": [
    "if $\\lambda _{raw} = log(\\lambda) $, then $\\lambda = e ^{\\lambda _{raw}}$, and we can re-write the log-likelihood formula: \n",
    "\n",
    "$l(\\lambda, k) = log(L(\\lambda, k)) = k * log(\\lambda) -\\lambda - log(k!) = k * log(e ^{\\lambda _{raw}}) -e ^{\\lambda _{raw}} - log(k!) = k * \\lambda _{raw} - e ^{\\lambda _{raw}} - log(k!)$\n",
    "<br>\n",
    "<br>\n",
    "The gradient is going to be the derivative by $\\lambda _{raw}$\n",
    "<br>\n",
    "$G(\\lambda _{raw}, k) = \\displaystyle \\frac {d(l(\\lambda _{raw}, k))} {d \\lambda _{raw}} = k - e ^{\\lambda _{raw}} = k - \\lambda$\n",
    "<br>\n",
    "This is the usual actu - pred result. \n",
    "Hessian is one additional derivation, which is going to be simply $\\lambda$, so pred. Need to be careful with the signs though!"
   ]
  },
  {
   "cell_type": "markdown",
   "id": "c338949c",
   "metadata": {},
   "source": [
    "## Deviance"
   ]
  },
  {
   "cell_type": "markdown",
   "id": "2634893f",
   "metadata": {},
   "source": [
    "(Note: 0's are ignored, the log should be always separated for them. But this is the gist.)"
   ]
  },
  {
   "cell_type": "markdown",
   "id": "b707e1ce",
   "metadata": {},
   "source": [
    "Excerpt from sklearn GLM [HalfPoissonLoss](https://github.com/scikit-learn/scikit-learn/blob/14995509a996ff5575c032fb7aead25bf6bb595c/sklearn/_loss/loss.py#L700):\n",
    "\n",
    "    For a given sample x_i, half the Poisson deviance is defined as::\n",
    "\n",
    "        loss(x_i) = y_true_i * log(y_true_i/exp(raw_prediction_i))\n",
    "                    - y_true_i + exp(raw_prediction_i)\n",
    "                    \n",
    "    Half the Poisson deviance is actually the negative log-likelihood up to\n",
    "    constant terms (not involving raw_prediction) and simplifies the\n",
    "    computation of the gradients.\n",
    "    We also skip the constant term `y_true_i * log(y_true_i) - y_true_i`."
   ]
  },
  {
   "cell_type": "markdown",
   "id": "cd551e75",
   "metadata": {},
   "source": [
    "Another (probably better documented) example from sklearn [regression metrics](https://github.com/scikit-learn/scikit-learn/blob/7f9bad99d/sklearn/metrics/_regression.py#L1184):\n",
    "\n",
    "        # Poisson distribution\n",
    "        dev = 2 * (xlogy(y_true, y_true / y_pred) - y_true + y_pred)\n",
    "\n"
   ]
  },
  {
   "cell_type": "markdown",
   "id": "5abb4fe3",
   "metadata": {},
   "source": [
    "deviance = - 2 * (log-likelihood of fitted model - log-likelihood of saturated model)\n",
    "\n",
    "in the saturated model, we can simply use $log(k)$ instead of $\\lambda _{raw}$"
   ]
  },
  {
   "cell_type": "markdown",
   "id": "ac7e17a8",
   "metadata": {},
   "source": [
    "log-likelihood of model: $\\sum \\limits _k k  \\lambda _{raw} - e ^{\\lambda _{raw}} - log(k!)$"
   ]
  },
  {
   "cell_type": "markdown",
   "id": "f5b1c539",
   "metadata": {},
   "source": [
    "$D = -2(\\sum \\limits _k k  \\lambda _{raw} - e ^{\\lambda _{raw}} - log(k!) - \\sum \\limits _k k  log(k) - k - log(k!)) = $"
   ]
  },
  {
   "cell_type": "markdown",
   "id": "27b5d089",
   "metadata": {},
   "source": [
    "$-2(\\sum \\limits _k k  \\lambda _{raw} - e ^{\\lambda _{raw}} - log(k!) - k  log(k) + k + log(k!)) = $"
   ]
  },
  {
   "cell_type": "markdown",
   "id": "12bc6719",
   "metadata": {},
   "source": [
    "$-2(\\sum \\limits _k k  \\lambda _{raw} - e ^{\\lambda _{raw}} - k  log(k) + k ) = $"
   ]
  },
  {
   "cell_type": "markdown",
   "id": "bcb7a3a2",
   "metadata": {},
   "source": [
    "$2(\\sum \\limits _k k  (log(k) -\\lambda _{raw}) - k + e ^{\\lambda _{raw}}) = $"
   ]
  },
  {
   "cell_type": "markdown",
   "id": "1b591f5f",
   "metadata": {},
   "source": [
    "$2(\\sum \\limits _k k  (log(k) -log(\\lambda)) - k + \\lambda) = $"
   ]
  },
  {
   "cell_type": "markdown",
   "id": "de27482d",
   "metadata": {},
   "source": [
    "$2(\\sum \\limits _k k  (log(k / \\lambda)) - k + \\lambda)$"
   ]
  },
  {
   "cell_type": "code",
   "execution_count": null,
   "id": "f846f04c",
   "metadata": {},
   "outputs": [],
   "source": []
  }
 ],
 "metadata": {
  "kernelspec": {
   "display_name": "Python 3 (ipykernel)",
   "language": "python",
   "name": "python3"
  },
  "language_info": {
   "codemirror_mode": {
    "name": "ipython",
    "version": 3
   },
   "file_extension": ".py",
   "mimetype": "text/x-python",
   "name": "python",
   "nbconvert_exporter": "python",
   "pygments_lexer": "ipython3",
   "version": "3.9.12"
  },
  "toc": {
   "base_numbering": 1,
   "nav_menu": {},
   "number_sections": true,
   "sideBar": true,
   "skip_h1_title": false,
   "title_cell": "Table of Contents",
   "title_sidebar": "Contents",
   "toc_cell": false,
   "toc_position": {},
   "toc_section_display": true,
   "toc_window_display": true
  },
  "varInspector": {
   "cols": {
    "lenName": 16,
    "lenType": 16,
    "lenVar": 40
   },
   "kernels_config": {
    "python": {
     "delete_cmd_postfix": "",
     "delete_cmd_prefix": "del ",
     "library": "var_list.py",
     "varRefreshCmd": "print(var_dic_list())"
    },
    "r": {
     "delete_cmd_postfix": ") ",
     "delete_cmd_prefix": "rm(",
     "library": "var_list.r",
     "varRefreshCmd": "cat(var_dic_list()) "
    }
   },
   "types_to_exclude": [
    "module",
    "function",
    "builtin_function_or_method",
    "instance",
    "_Feature"
   ],
   "window_display": false
  }
 },
 "nbformat": 4,
 "nbformat_minor": 5
}
