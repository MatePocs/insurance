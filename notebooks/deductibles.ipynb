{
 "cells": [
  {
   "cell_type": "markdown",
   "id": "ca828829",
   "metadata": {},
   "source": [
    "Goal: regressions that work with deductibles (which might be overly amibtious). \n",
    "\n",
    "Basically, we have a claim count, which is a Poisson model. Every claim will come from a gamma distribtuion. However, if it is under a certain deductible, we do not code it in. \n",
    "\n",
    "Couple of imagined steps: \n",
    "- do a Poisson, where claim count is generated randomly, but every claim is ignored with X% probability (this is probably super easy)\n",
    "- same as above, but make the X% probability depend on a variable, e.g., for every 1k increase, the chance of observing decreas\n",
    "- make a Gamma with deductible\n",
    "- combine everything, features determine baseline frequency, then the severity is clipped by a deductible amount, which then might impact frequency"
   ]
  },
  {
   "cell_type": "markdown",
   "id": "a37f1f4d",
   "metadata": {},
   "source": [
    "Found some stuff like this one: https://www.stata.com/stata14/censored-poisson/ but it's not the type of censored I am looking for. \n",
    "\n",
    "Maybe censored is the wrong word..."
   ]
  },
  {
   "cell_type": "code",
   "execution_count": 39,
   "id": "54a229d2",
   "metadata": {},
   "outputs": [],
   "source": [
    "import numpy as np\n",
    "import pandas as pd\n",
    "\n",
    "from sklearn.linear_model import PoissonRegressor, GammaRegressor\n",
    "\n",
    "from scipy.special import factorial # for elementwise factorial calc of array\n",
    "\n",
    "from functions import poisson_likelihood"
   ]
  },
  {
   "cell_type": "code",
   "execution_count": 3,
   "id": "2524123c",
   "metadata": {},
   "outputs": [],
   "source": [
    "%load_ext autoreload\n",
    "%autoreload 2"
   ]
  },
  {
   "cell_type": "markdown",
   "id": "79f279c6",
   "metadata": {},
   "source": [
    "# Frequency with Fixed Random Claim Cancel"
   ]
  },
  {
   "cell_type": "markdown",
   "id": "2316aad3",
   "metadata": {},
   "source": [
    "One binary categorical feature, and each claim is cancelled by a fix percentage. The cancelled ones we don't observe. \n",
    "\n",
    "My theory is that this is simply going to be another Poisson where we multiply the lambda with the prob of cancel. Or 1 - prob of cancel..."
   ]
  },
  {
   "cell_type": "code",
   "execution_count": 3,
   "id": "d7a333b2",
   "metadata": {},
   "outputs": [],
   "source": [
    "# parameters\n",
    "cancel_prob = 0.3 # each claim has a chance to not materialise"
   ]
  },
  {
   "cell_type": "code",
   "execution_count": 4,
   "id": "cac96c72",
   "metadata": {},
   "outputs": [],
   "source": [
    "df = pd.DataFrame.from_dict({'cat_feature' : np.repeat([0,1],100000)})\n",
    "df['poisson_lambda'] = df.apply(lambda x: 0.2 if x['cat_feature'] == 0 else 0.7, axis = 1)\n",
    "df['raw_claim_number'] = np.random.poisson(df['poisson_lambda'])"
   ]
  },
  {
   "cell_type": "markdown",
   "id": "45138708",
   "metadata": {},
   "source": [
    "Every raw_claim_number can be cancelled with the same chance. I think I want to generate this from scratch... If a row has a positive raw_claim_number, we want to generate that many random uniform variables, and put them in a list. And those lists will be in the next column. "
   ]
  },
  {
   "cell_type": "code",
   "execution_count": 5,
   "id": "9903e89b",
   "metadata": {},
   "outputs": [],
   "source": [
    "df['claim_cancellation'] = df.apply(lambda x: list(np.random.uniform(0,1,int(x['raw_claim_number']))), axis = 1)\n",
    "df['claim_number'] = df.apply(lambda x: np.sum(cancel_prob <= np.array(x['claim_cancellation'])), axis = 1)"
   ]
  },
  {
   "cell_type": "markdown",
   "id": "d3ee1089",
   "metadata": {},
   "source": [
    "## Empirical Analysis"
   ]
  },
  {
   "cell_type": "markdown",
   "id": "d9f5e583",
   "metadata": {},
   "source": [
    "Did the censored claim count become Poisson with lambda that is original * chance of not canceling? "
   ]
  },
  {
   "cell_type": "code",
   "execution_count": 5,
   "id": "8f4ae922",
   "metadata": {},
   "outputs": [],
   "source": [
    "empirical = pd.DataFrame(df[df['cat_feature'] == 1]['claim_number'].value_counts()).reset_index()\n",
    "empirical['claim_number'] = empirical['claim_number'] / sum(empirical['claim_number'])\n",
    "empirical.columns = [\"value\", \"prob\"]"
   ]
  },
  {
   "cell_type": "code",
   "execution_count": 14,
   "id": "6063dab7",
   "metadata": {},
   "outputs": [],
   "source": [
    "empirical['theoretical_prob'] = empirical.apply(\n",
    "    lambda x: poisson_likelihood(x[\"value\"], 0.7 * (1-cancel_prob)), axis = 1)"
   ]
  },
  {
   "cell_type": "code",
   "execution_count": 15,
   "id": "b0790845",
   "metadata": {},
   "outputs": [
    {
     "data": {
      "text/html": [
       "<div>\n",
       "<style scoped>\n",
       "    .dataframe tbody tr th:only-of-type {\n",
       "        vertical-align: middle;\n",
       "    }\n",
       "\n",
       "    .dataframe tbody tr th {\n",
       "        vertical-align: top;\n",
       "    }\n",
       "\n",
       "    .dataframe thead th {\n",
       "        text-align: right;\n",
       "    }\n",
       "</style>\n",
       "<table border=\"1\" class=\"dataframe\">\n",
       "  <thead>\n",
       "    <tr style=\"text-align: right;\">\n",
       "      <th></th>\n",
       "      <th>value</th>\n",
       "      <th>prob</th>\n",
       "      <th>theoretical_prob</th>\n",
       "    </tr>\n",
       "  </thead>\n",
       "  <tbody>\n",
       "    <tr>\n",
       "      <th>0</th>\n",
       "      <td>0</td>\n",
       "      <td>0.61557</td>\n",
       "      <td>0.612626</td>\n",
       "    </tr>\n",
       "    <tr>\n",
       "      <th>1</th>\n",
       "      <td>1</td>\n",
       "      <td>0.29879</td>\n",
       "      <td>0.300187</td>\n",
       "    </tr>\n",
       "    <tr>\n",
       "      <th>2</th>\n",
       "      <td>2</td>\n",
       "      <td>0.07267</td>\n",
       "      <td>0.073546</td>\n",
       "    </tr>\n",
       "    <tr>\n",
       "      <th>3</th>\n",
       "      <td>3</td>\n",
       "      <td>0.01143</td>\n",
       "      <td>0.012012</td>\n",
       "    </tr>\n",
       "    <tr>\n",
       "      <th>4</th>\n",
       "      <td>4</td>\n",
       "      <td>0.00143</td>\n",
       "      <td>0.001472</td>\n",
       "    </tr>\n",
       "    <tr>\n",
       "      <th>5</th>\n",
       "      <td>5</td>\n",
       "      <td>0.00010</td>\n",
       "      <td>0.000144</td>\n",
       "    </tr>\n",
       "    <tr>\n",
       "      <th>6</th>\n",
       "      <td>6</td>\n",
       "      <td>0.00001</td>\n",
       "      <td>0.000012</td>\n",
       "    </tr>\n",
       "  </tbody>\n",
       "</table>\n",
       "</div>"
      ],
      "text/plain": [
       "   value     prob  theoretical_prob\n",
       "0      0  0.61557          0.612626\n",
       "1      1  0.29879          0.300187\n",
       "2      2  0.07267          0.073546\n",
       "3      3  0.01143          0.012012\n",
       "4      4  0.00143          0.001472\n",
       "5      5  0.00010          0.000144\n",
       "6      6  0.00001          0.000012"
      ]
     },
     "execution_count": 15,
     "metadata": {},
     "output_type": "execute_result"
    }
   ],
   "source": [
    "empirical"
   ]
  },
  {
   "cell_type": "markdown",
   "id": "485b7ae4",
   "metadata": {},
   "source": [
    "It doesn't look wildly off..."
   ]
  },
  {
   "cell_type": "markdown",
   "id": "38351952",
   "metadata": {},
   "source": [
    "## Math"
   ]
  },
  {
   "cell_type": "markdown",
   "id": "be7097cb",
   "metadata": {},
   "source": [
    "Proving the above formulaically."
   ]
  },
  {
   "cell_type": "markdown",
   "id": "051e4bac",
   "metadata": {},
   "source": [
    "Make things a bit more formal. Let $X$ be our original random Poisson variable with parameter $\\lambda$. $X$ represents the underlying number of incidents, the total ones, even the ones not reported as claims. Then $Y$ is generated from $X$ by randomly cancelling each incident with probability $p _{c}$, so $Y$ represent the materialised claim numbers. \n",
    "\n",
    "There are a number of important assumptions here: \n",
    "- each incident is 'cancelled' with exactly the same probability\n",
    "- the cancellations are independent of each other\n",
    "- probably others I can't think of now...\n",
    "\n",
    "With these notations, what we are trying to prove here is that $Y$ is also a Poisson distribution. Let's start!"
   ]
  },
  {
   "cell_type": "markdown",
   "id": "90c9380e",
   "metadata": {},
   "source": [
    "$Pr(Y = k) = Pr$(there remained exactly $k$ uncannelled incidents)"
   ]
  },
  {
   "cell_type": "markdown",
   "id": "4ff94ac3",
   "metadata": {},
   "source": [
    "Let's think about the right side. In order for $k$ incidents to remain, the original $X$ variable had to be at least $k$. Then the cancellations follow a neg binomial distribution with parameter $p _{c}$. "
   ]
  },
  {
   "cell_type": "markdown",
   "id": "5b6f4eab",
   "metadata": {},
   "source": [
    "$Pr(Y = k) = $"
   ]
  },
  {
   "cell_type": "markdown",
   "id": "01bf7298",
   "metadata": {},
   "source": [
    "$\\sum \\limits _{i=k} ^{\\infty} \\displaystyle \\frac{\\lambda ^ {i} e ^ {- \\lambda}} {i!} \\displaystyle \\frac {i!}{k! (i - k)!} p _{c} ^{(i - k)} (1 - p _{c})^{k} = $"
   ]
  },
  {
   "cell_type": "markdown",
   "id": "b79f5175",
   "metadata": {},
   "source": [
    "$\\displaystyle \\frac {e ^ {-\\lambda} (1 - p _{c}) ^{k}}  {k!} \\sum \\limits _{i = k} ^{\\infty} \\displaystyle \\frac {\\lambda ^ {k} p _{c} ^ {(i - k)}} {(i - k)!} = $"
   ]
  },
  {
   "cell_type": "markdown",
   "id": "29177506",
   "metadata": {},
   "source": [
    "$\\displaystyle \\frac {e ^ {-\\lambda} (1 - p _{c}) ^{k}}  {k!} \\lambda ^{k} \\sum \\limits _{i = 0} ^{\\infty} \\displaystyle \\frac {\\lambda ^{i} p_{c} ^{i}} {i!} = $"
   ]
  },
  {
   "cell_type": "markdown",
   "id": "36ca9686",
   "metadata": {},
   "source": [
    "(using the sum form of $e^{x}$)"
   ]
  },
  {
   "cell_type": "markdown",
   "id": "cea07cb3",
   "metadata": {},
   "source": [
    "$\\displaystyle \\frac {e ^ {-\\lambda} (\\lambda(1 - p _{c})) ^{k}}  {k!} e ^{\\lambda p _{c}} = $"
   ]
  },
  {
   "cell_type": "markdown",
   "id": "e44a3e87",
   "metadata": {},
   "source": [
    "$\\displaystyle \\frac {e ^ {-\\lambda (1 - p _{c})} (\\lambda (1 - p _{c}) ^{k}} {k!}  $"
   ]
  },
  {
   "cell_type": "markdown",
   "id": "4ef84cb9",
   "metadata": {},
   "source": [
    "This is true for all $k$, (might not be derived from the formula, but it also works with 0), which means that $Y$ must be from a Poisson distribution with parameter $\\lambda (1 - p _{c})$."
   ]
  },
  {
   "cell_type": "markdown",
   "id": "63547e91",
   "metadata": {},
   "source": [
    "## GLM"
   ]
  },
  {
   "cell_type": "markdown",
   "id": "3ced24bd",
   "metadata": {},
   "source": [
    "Question: can we fit a GLM based on that feature? The Poisson lambda is linear by the $p _{c}$, so we can either set it as an offset or put in the logarithm as a feature. "
   ]
  },
  {
   "cell_type": "markdown",
   "id": "ecca526c",
   "metadata": {},
   "source": [
    "### Offset Method"
   ]
  },
  {
   "cell_type": "code",
   "execution_count": 15,
   "id": "b7a93c1a",
   "metadata": {},
   "outputs": [],
   "source": [
    "df['cancel_prob'] = cancel_prob"
   ]
  },
  {
   "cell_type": "code",
   "execution_count": 24,
   "id": "9a55ebf0",
   "metadata": {},
   "outputs": [],
   "source": [
    "mdl = PoissonRegressor(alpha = 0, max_iter = 10000)\n",
    "X = df[['cat_feature']]\n",
    "y = df['claim_number'] / (1 - df['cancel_prob'])\n",
    "mdl.fit(X = X, y = y, sample_weight = (1-df['cancel_prob']))\n",
    "df['pred_claim_number_v1'] = mdl.predict(X) * (1 - df['cancel_prob'])"
   ]
  },
  {
   "cell_type": "code",
   "execution_count": 25,
   "id": "ab742d35",
   "metadata": {},
   "outputs": [
    {
     "data": {
      "text/html": [
       "<div>\n",
       "<style scoped>\n",
       "    .dataframe tbody tr th:only-of-type {\n",
       "        vertical-align: middle;\n",
       "    }\n",
       "\n",
       "    .dataframe tbody tr th {\n",
       "        vertical-align: top;\n",
       "    }\n",
       "\n",
       "    .dataframe thead th {\n",
       "        text-align: right;\n",
       "    }\n",
       "</style>\n",
       "<table border=\"1\" class=\"dataframe\">\n",
       "  <thead>\n",
       "    <tr style=\"text-align: right;\">\n",
       "      <th></th>\n",
       "      <th>cat_feature</th>\n",
       "      <th>poisson_lambda</th>\n",
       "      <th>raw_claim_number</th>\n",
       "      <th>claim_cancellation</th>\n",
       "      <th>claim_number</th>\n",
       "      <th>pred_claim_number_v1</th>\n",
       "      <th>cancel_prob</th>\n",
       "    </tr>\n",
       "  </thead>\n",
       "  <tbody>\n",
       "    <tr>\n",
       "      <th>113905</th>\n",
       "      <td>1</td>\n",
       "      <td>0.7</td>\n",
       "      <td>0</td>\n",
       "      <td>[]</td>\n",
       "      <td>0</td>\n",
       "      <td>0.48859</td>\n",
       "      <td>0.3</td>\n",
       "    </tr>\n",
       "    <tr>\n",
       "      <th>48927</th>\n",
       "      <td>0</td>\n",
       "      <td>0.2</td>\n",
       "      <td>0</td>\n",
       "      <td>[]</td>\n",
       "      <td>0</td>\n",
       "      <td>0.14027</td>\n",
       "      <td>0.3</td>\n",
       "    </tr>\n",
       "    <tr>\n",
       "      <th>48383</th>\n",
       "      <td>0</td>\n",
       "      <td>0.2</td>\n",
       "      <td>0</td>\n",
       "      <td>[]</td>\n",
       "      <td>0</td>\n",
       "      <td>0.14027</td>\n",
       "      <td>0.3</td>\n",
       "    </tr>\n",
       "    <tr>\n",
       "      <th>193399</th>\n",
       "      <td>1</td>\n",
       "      <td>0.7</td>\n",
       "      <td>2</td>\n",
       "      <td>[0.3313033847599537, 0.7846054377887441]</td>\n",
       "      <td>2</td>\n",
       "      <td>0.48859</td>\n",
       "      <td>0.3</td>\n",
       "    </tr>\n",
       "    <tr>\n",
       "      <th>194020</th>\n",
       "      <td>1</td>\n",
       "      <td>0.7</td>\n",
       "      <td>0</td>\n",
       "      <td>[]</td>\n",
       "      <td>0</td>\n",
       "      <td>0.48859</td>\n",
       "      <td>0.3</td>\n",
       "    </tr>\n",
       "  </tbody>\n",
       "</table>\n",
       "</div>"
      ],
      "text/plain": [
       "        cat_feature  poisson_lambda  raw_claim_number  \\\n",
       "113905            1             0.7                 0   \n",
       "48927             0             0.2                 0   \n",
       "48383             0             0.2                 0   \n",
       "193399            1             0.7                 2   \n",
       "194020            1             0.7                 0   \n",
       "\n",
       "                              claim_cancellation  claim_number  \\\n",
       "113905                                        []             0   \n",
       "48927                                         []             0   \n",
       "48383                                         []             0   \n",
       "193399  [0.3313033847599537, 0.7846054377887441]             2   \n",
       "194020                                        []             0   \n",
       "\n",
       "        pred_claim_number_v1  cancel_prob  \n",
       "113905               0.48859          0.3  \n",
       "48927                0.14027          0.3  \n",
       "48383                0.14027          0.3  \n",
       "193399               0.48859          0.3  \n",
       "194020               0.48859          0.3  "
      ]
     },
     "execution_count": 25,
     "metadata": {},
     "output_type": "execute_result"
    }
   ],
   "source": [
    "df.sample(5)"
   ]
  },
  {
   "cell_type": "markdown",
   "id": "51ce28f1",
   "metadata": {},
   "source": [
    "OK, that's waht we wanted. (The two new predictions should be original poisson_lambda * (1 - prob cancel)). "
   ]
  },
  {
   "cell_type": "markdown",
   "id": "07220ff1",
   "metadata": {},
   "source": [
    "### Cancellation Prob as Feature"
   ]
  },
  {
   "cell_type": "code",
   "execution_count": 28,
   "id": "c2f25731",
   "metadata": {},
   "outputs": [],
   "source": [
    "df['remains_prob'] = 1 - df['cancel_prob']\n",
    "df['log_remains_prob'] = np.log(df['remains_prob'])"
   ]
  },
  {
   "cell_type": "code",
   "execution_count": 29,
   "id": "517000c3",
   "metadata": {},
   "outputs": [],
   "source": [
    "mdl = PoissonRegressor(alpha = 0, max_iter = 10000)\n",
    "X = df[['cat_feature', 'log_remains_prob']]\n",
    "y = df['claim_number']\n",
    "mdl.fit(X = X, y = y)\n",
    "df['pred_claim_number_v2'] = mdl.predict(X)"
   ]
  },
  {
   "cell_type": "code",
   "execution_count": 30,
   "id": "47171e0d",
   "metadata": {},
   "outputs": [
    {
     "data": {
      "text/html": [
       "<div>\n",
       "<style scoped>\n",
       "    .dataframe tbody tr th:only-of-type {\n",
       "        vertical-align: middle;\n",
       "    }\n",
       "\n",
       "    .dataframe tbody tr th {\n",
       "        vertical-align: top;\n",
       "    }\n",
       "\n",
       "    .dataframe thead th {\n",
       "        text-align: right;\n",
       "    }\n",
       "</style>\n",
       "<table border=\"1\" class=\"dataframe\">\n",
       "  <thead>\n",
       "    <tr style=\"text-align: right;\">\n",
       "      <th></th>\n",
       "      <th>cat_feature</th>\n",
       "      <th>poisson_lambda</th>\n",
       "      <th>raw_claim_number</th>\n",
       "      <th>claim_cancellation</th>\n",
       "      <th>claim_number</th>\n",
       "      <th>pred_claim_number_v1</th>\n",
       "      <th>cancel_prob</th>\n",
       "      <th>remains_prob</th>\n",
       "      <th>log_remains_prob</th>\n",
       "      <th>pred_claim_number_v2</th>\n",
       "    </tr>\n",
       "  </thead>\n",
       "  <tbody>\n",
       "    <tr>\n",
       "      <th>44109</th>\n",
       "      <td>0</td>\n",
       "      <td>0.2</td>\n",
       "      <td>1</td>\n",
       "      <td>[0.7239890745792845]</td>\n",
       "      <td>1</td>\n",
       "      <td>0.14027</td>\n",
       "      <td>0.3</td>\n",
       "      <td>0.7</td>\n",
       "      <td>-0.356675</td>\n",
       "      <td>0.140247</td>\n",
       "    </tr>\n",
       "    <tr>\n",
       "      <th>73169</th>\n",
       "      <td>0</td>\n",
       "      <td>0.2</td>\n",
       "      <td>0</td>\n",
       "      <td>[]</td>\n",
       "      <td>0</td>\n",
       "      <td>0.14027</td>\n",
       "      <td>0.3</td>\n",
       "      <td>0.7</td>\n",
       "      <td>-0.356675</td>\n",
       "      <td>0.140247</td>\n",
       "    </tr>\n",
       "    <tr>\n",
       "      <th>157635</th>\n",
       "      <td>1</td>\n",
       "      <td>0.7</td>\n",
       "      <td>3</td>\n",
       "      <td>[0.9531545247371701, 0.7912971045459187, 0.261...</td>\n",
       "      <td>2</td>\n",
       "      <td>0.48859</td>\n",
       "      <td>0.3</td>\n",
       "      <td>0.7</td>\n",
       "      <td>-0.356675</td>\n",
       "      <td>0.488767</td>\n",
       "    </tr>\n",
       "    <tr>\n",
       "      <th>131717</th>\n",
       "      <td>1</td>\n",
       "      <td>0.7</td>\n",
       "      <td>0</td>\n",
       "      <td>[]</td>\n",
       "      <td>0</td>\n",
       "      <td>0.48859</td>\n",
       "      <td>0.3</td>\n",
       "      <td>0.7</td>\n",
       "      <td>-0.356675</td>\n",
       "      <td>0.488767</td>\n",
       "    </tr>\n",
       "    <tr>\n",
       "      <th>62524</th>\n",
       "      <td>0</td>\n",
       "      <td>0.2</td>\n",
       "      <td>1</td>\n",
       "      <td>[0.020591402671246817]</td>\n",
       "      <td>0</td>\n",
       "      <td>0.14027</td>\n",
       "      <td>0.3</td>\n",
       "      <td>0.7</td>\n",
       "      <td>-0.356675</td>\n",
       "      <td>0.140247</td>\n",
       "    </tr>\n",
       "  </tbody>\n",
       "</table>\n",
       "</div>"
      ],
      "text/plain": [
       "        cat_feature  poisson_lambda  raw_claim_number  \\\n",
       "44109             0             0.2                 1   \n",
       "73169             0             0.2                 0   \n",
       "157635            1             0.7                 3   \n",
       "131717            1             0.7                 0   \n",
       "62524             0             0.2                 1   \n",
       "\n",
       "                                       claim_cancellation  claim_number  \\\n",
       "44109                                [0.7239890745792845]             1   \n",
       "73169                                                  []             0   \n",
       "157635  [0.9531545247371701, 0.7912971045459187, 0.261...             2   \n",
       "131717                                                 []             0   \n",
       "62524                              [0.020591402671246817]             0   \n",
       "\n",
       "        pred_claim_number_v1  cancel_prob  remains_prob  log_remains_prob  \\\n",
       "44109                0.14027          0.3           0.7         -0.356675   \n",
       "73169                0.14027          0.3           0.7         -0.356675   \n",
       "157635               0.48859          0.3           0.7         -0.356675   \n",
       "131717               0.48859          0.3           0.7         -0.356675   \n",
       "62524                0.14027          0.3           0.7         -0.356675   \n",
       "\n",
       "        pred_claim_number_v2  \n",
       "44109               0.140247  \n",
       "73169               0.140247  \n",
       "157635              0.488767  \n",
       "131717              0.488767  \n",
       "62524               0.140247  "
      ]
     },
     "execution_count": 30,
     "metadata": {},
     "output_type": "execute_result"
    }
   ],
   "source": [
    "df.sample(5)"
   ]
  },
  {
   "cell_type": "code",
   "execution_count": 31,
   "id": "03e8db53",
   "metadata": {},
   "outputs": [
    {
     "data": {
      "text/plain": [
       "array([1.2484801 , 0.25546392])"
      ]
     },
     "execution_count": 31,
     "metadata": {},
     "output_type": "execute_result"
    }
   ],
   "source": [
    "mdl.coef_"
   ]
  },
  {
   "cell_type": "code",
   "execution_count": 32,
   "id": "6a24ddc9",
   "metadata": {},
   "outputs": [
    {
     "data": {
      "text/plain": [
       "-1.873231173251297"
      ]
     },
     "execution_count": 32,
     "metadata": {},
     "output_type": "execute_result"
    }
   ],
   "source": [
    "mdl.intercept_"
   ]
  },
  {
   "cell_type": "code",
   "execution_count": 36,
   "id": "9ba7cf40",
   "metadata": {},
   "outputs": [
    {
     "data": {
      "text/plain": [
       "0.48876735894841045"
      ]
     },
     "execution_count": 36,
     "metadata": {},
     "output_type": "execute_result"
    }
   ],
   "source": [
    "np.exp(mdl.intercept_ + mdl.coef_[0] + np.log(1-cancel_prob) * mdl.coef_[1])"
   ]
  },
  {
   "cell_type": "markdown",
   "id": "c0596daf",
   "metadata": {},
   "source": [
    "OK, I think there are perfectly correlated features, like the cancel_prob with intercept, so the coefs are kinda meaningless now. "
   ]
  },
  {
   "cell_type": "markdown",
   "id": "0697da0f",
   "metadata": {},
   "source": [
    "# Frequency with Changing Claim Cancel Prob"
   ]
  },
  {
   "cell_type": "markdown",
   "id": "f421e70c",
   "metadata": {},
   "source": [
    "This should be quick, basically want to make $p _{c}$ a random variable between 0 and 1 and see if the methods above work. Going to keep everything else unchanged from previous section data. "
   ]
  },
  {
   "cell_type": "code",
   "execution_count": 38,
   "id": "fc895ed8",
   "metadata": {},
   "outputs": [],
   "source": [
    "n_size = 200000"
   ]
  },
  {
   "cell_type": "code",
   "execution_count": 41,
   "id": "fb2d9e10",
   "metadata": {},
   "outputs": [],
   "source": [
    "df = pd.DataFrame.from_dict({'cat_feature' : np.repeat([0,1],n_size / 2)})\n",
    "df['poisson_lambda'] = df.apply(lambda x: 0.2 if x['cat_feature'] == 0 else 0.7, axis = 1)\n",
    "df['raw_claim_number'] = np.random.poisson(df['poisson_lambda'])"
   ]
  },
  {
   "cell_type": "code",
   "execution_count": 42,
   "id": "6d3a8699",
   "metadata": {},
   "outputs": [],
   "source": [
    "df['cancel_prob'] = np.random.uniform(0.01, 0.99, n_size)"
   ]
  },
  {
   "cell_type": "code",
   "execution_count": 43,
   "id": "e4e1caab",
   "metadata": {},
   "outputs": [],
   "source": [
    "df['claim_cancellation'] = df.apply(lambda x: list(np.random.uniform(0,1,int(x['raw_claim_number']))), axis = 1)\n",
    "df['claim_number'] = df.apply(lambda x: np.sum(np.array(x['cancel_prob']) <= np.array(x['claim_cancellation'])), axis = 1)"
   ]
  },
  {
   "cell_type": "code",
   "execution_count": 47,
   "id": "dfa331ad",
   "metadata": {},
   "outputs": [],
   "source": [
    "df['remains_prob'] = 1 - df['cancel_prob']\n",
    "df['log_remains_prob'] = np.log(df['remains_prob'])"
   ]
  },
  {
   "cell_type": "code",
   "execution_count": 50,
   "id": "02dfc7e6",
   "metadata": {},
   "outputs": [],
   "source": [
    "mdl = PoissonRegressor(alpha = 0, max_iter = 10000)\n",
    "X = df[['cat_feature', 'log_remains_prob']]\n",
    "y = df['claim_number']\n",
    "mdl.fit(X = X, y = y)\n",
    "df['pred_claim_number'] = mdl.predict(X)"
   ]
  },
  {
   "cell_type": "code",
   "execution_count": 51,
   "id": "7f737a1d",
   "metadata": {},
   "outputs": [],
   "source": [
    "df['theoretical_new_poisson_lambda'] = df['poisson_lambda'] * df['remains_prob']"
   ]
  },
  {
   "cell_type": "code",
   "execution_count": 52,
   "id": "741b6e4c",
   "metadata": {},
   "outputs": [
    {
     "data": {
      "text/html": [
       "<div>\n",
       "<style scoped>\n",
       "    .dataframe tbody tr th:only-of-type {\n",
       "        vertical-align: middle;\n",
       "    }\n",
       "\n",
       "    .dataframe tbody tr th {\n",
       "        vertical-align: top;\n",
       "    }\n",
       "\n",
       "    .dataframe thead th {\n",
       "        text-align: right;\n",
       "    }\n",
       "</style>\n",
       "<table border=\"1\" class=\"dataframe\">\n",
       "  <thead>\n",
       "    <tr style=\"text-align: right;\">\n",
       "      <th></th>\n",
       "      <th>cat_feature</th>\n",
       "      <th>poisson_lambda</th>\n",
       "      <th>raw_claim_number</th>\n",
       "      <th>cancel_prob</th>\n",
       "      <th>claim_cancellation</th>\n",
       "      <th>claim_number</th>\n",
       "      <th>remains_prob</th>\n",
       "      <th>log_remains_prob</th>\n",
       "      <th>pred_claim_number_v2</th>\n",
       "      <th>pred_claim_number</th>\n",
       "      <th>theoretical_new_poisson_lambda</th>\n",
       "    </tr>\n",
       "  </thead>\n",
       "  <tbody>\n",
       "    <tr>\n",
       "      <th>43914</th>\n",
       "      <td>0</td>\n",
       "      <td>0.2</td>\n",
       "      <td>0</td>\n",
       "      <td>0.571715</td>\n",
       "      <td>[]</td>\n",
       "      <td>0</td>\n",
       "      <td>0.428285</td>\n",
       "      <td>-0.847966</td>\n",
       "      <td>0.084932</td>\n",
       "      <td>0.084932</td>\n",
       "      <td>0.085657</td>\n",
       "    </tr>\n",
       "    <tr>\n",
       "      <th>38650</th>\n",
       "      <td>0</td>\n",
       "      <td>0.2</td>\n",
       "      <td>0</td>\n",
       "      <td>0.270350</td>\n",
       "      <td>[]</td>\n",
       "      <td>0</td>\n",
       "      <td>0.729650</td>\n",
       "      <td>-0.315190</td>\n",
       "      <td>0.144845</td>\n",
       "      <td>0.144845</td>\n",
       "      <td>0.145930</td>\n",
       "    </tr>\n",
       "    <tr>\n",
       "      <th>68555</th>\n",
       "      <td>1</td>\n",
       "      <td>0.7</td>\n",
       "      <td>1</td>\n",
       "      <td>0.465824</td>\n",
       "      <td>[0.597074164227756]</td>\n",
       "      <td>1</td>\n",
       "      <td>0.534176</td>\n",
       "      <td>-0.627029</td>\n",
       "      <td>0.372939</td>\n",
       "      <td>0.372939</td>\n",
       "      <td>0.373923</td>\n",
       "    </tr>\n",
       "    <tr>\n",
       "      <th>6933</th>\n",
       "      <td>0</td>\n",
       "      <td>0.2</td>\n",
       "      <td>1</td>\n",
       "      <td>0.306143</td>\n",
       "      <td>[0.483508064549653]</td>\n",
       "      <td>1</td>\n",
       "      <td>0.693857</td>\n",
       "      <td>-0.365490</td>\n",
       "      <td>0.137726</td>\n",
       "      <td>0.137726</td>\n",
       "      <td>0.138771</td>\n",
       "    </tr>\n",
       "    <tr>\n",
       "      <th>74283</th>\n",
       "      <td>1</td>\n",
       "      <td>0.7</td>\n",
       "      <td>1</td>\n",
       "      <td>0.195319</td>\n",
       "      <td>[0.48901693794181345]</td>\n",
       "      <td>1</td>\n",
       "      <td>0.804681</td>\n",
       "      <td>-0.217310</td>\n",
       "      <td>0.562242</td>\n",
       "      <td>0.562242</td>\n",
       "      <td>0.563277</td>\n",
       "    </tr>\n",
       "  </tbody>\n",
       "</table>\n",
       "</div>"
      ],
      "text/plain": [
       "       cat_feature  poisson_lambda  raw_claim_number  cancel_prob  \\\n",
       "43914            0             0.2                 0     0.571715   \n",
       "38650            0             0.2                 0     0.270350   \n",
       "68555            1             0.7                 1     0.465824   \n",
       "6933             0             0.2                 1     0.306143   \n",
       "74283            1             0.7                 1     0.195319   \n",
       "\n",
       "          claim_cancellation  claim_number  remains_prob  log_remains_prob  \\\n",
       "43914                     []             0      0.428285         -0.847966   \n",
       "38650                     []             0      0.729650         -0.315190   \n",
       "68555    [0.597074164227756]             1      0.534176         -0.627029   \n",
       "6933     [0.483508064549653]             1      0.693857         -0.365490   \n",
       "74283  [0.48901693794181345]             1      0.804681         -0.217310   \n",
       "\n",
       "       pred_claim_number_v2  pred_claim_number  theoretical_new_poisson_lambda  \n",
       "43914              0.084932           0.084932                        0.085657  \n",
       "38650              0.144845           0.144845                        0.145930  \n",
       "68555              0.372939           0.372939                        0.373923  \n",
       "6933               0.137726           0.137726                        0.138771  \n",
       "74283              0.562242           0.562242                        0.563277  "
      ]
     },
     "execution_count": 52,
     "metadata": {},
     "output_type": "execute_result"
    }
   ],
   "source": [
    "df.sample(5)"
   ]
  },
  {
   "cell_type": "markdown",
   "id": "0c198010",
   "metadata": {},
   "source": [
    "OK, seems to work. "
   ]
  },
  {
   "cell_type": "code",
   "execution_count": null,
   "id": "b1e400a6",
   "metadata": {},
   "outputs": [],
   "source": []
  },
  {
   "cell_type": "markdown",
   "id": "570f7739",
   "metadata": {},
   "source": [
    "# Severity"
   ]
  },
  {
   "cell_type": "code",
   "execution_count": 44,
   "id": "83977302",
   "metadata": {},
   "outputs": [],
   "source": [
    "df = pd.DataFrame.from_dict({'feature_1' : np.random.choice(2,10000)})\n",
    "\n",
    "df['shape'] = 120 + df['feature_1'] * 20\n",
    "df['scale'] = 120\n",
    "df['gross_claim_amount'] = np.random.gamma(shape = df['shape'], scale = df['scale'])\n",
    "\n",
    "df['deductible'] = 15000\n",
    "df['net_claim_amount'] = (df['gross_claim_amount'] - df['deductible']).clip(0,None)\n",
    "df['claim_observed'] = df['net_claim_amount'] > 0"
   ]
  },
  {
   "cell_type": "code",
   "execution_count": 45,
   "id": "957f3202",
   "metadata": {},
   "outputs": [
    {
     "data": {
      "text/html": [
       "<div>\n",
       "<style scoped>\n",
       "    .dataframe tbody tr th:only-of-type {\n",
       "        vertical-align: middle;\n",
       "    }\n",
       "\n",
       "    .dataframe tbody tr th {\n",
       "        vertical-align: top;\n",
       "    }\n",
       "\n",
       "    .dataframe thead th {\n",
       "        text-align: right;\n",
       "    }\n",
       "</style>\n",
       "<table border=\"1\" class=\"dataframe\">\n",
       "  <thead>\n",
       "    <tr style=\"text-align: right;\">\n",
       "      <th></th>\n",
       "      <th></th>\n",
       "      <th>number_of_policies</th>\n",
       "    </tr>\n",
       "    <tr>\n",
       "      <th>feature_1</th>\n",
       "      <th>claim_observed</th>\n",
       "      <th></th>\n",
       "    </tr>\n",
       "  </thead>\n",
       "  <tbody>\n",
       "    <tr>\n",
       "      <th rowspan=\"2\" valign=\"top\">0</th>\n",
       "      <th>False</th>\n",
       "      <td>3422</td>\n",
       "    </tr>\n",
       "    <tr>\n",
       "      <th>True</th>\n",
       "      <td>1559</td>\n",
       "    </tr>\n",
       "    <tr>\n",
       "      <th rowspan=\"2\" valign=\"top\">1</th>\n",
       "      <th>False</th>\n",
       "      <td>494</td>\n",
       "    </tr>\n",
       "    <tr>\n",
       "      <th>True</th>\n",
       "      <td>4525</td>\n",
       "    </tr>\n",
       "  </tbody>\n",
       "</table>\n",
       "</div>"
      ],
      "text/plain": [
       "                          number_of_policies\n",
       "feature_1 claim_observed                    \n",
       "0         False                         3422\n",
       "          True                          1559\n",
       "1         False                          494\n",
       "          True                          4525"
      ]
     },
     "execution_count": 45,
     "metadata": {},
     "output_type": "execute_result"
    }
   ],
   "source": [
    "df.groupby([\"feature_1\", \"claim_observed\"]).agg(\n",
    "    number_of_policies = (\"gross_claim_amount\", \"size\"))"
   ]
  },
  {
   "cell_type": "code",
   "execution_count": 54,
   "id": "69b8f976",
   "metadata": {},
   "outputs": [],
   "source": [
    "df_observed = df[df['claim_observed'] == True].copy()"
   ]
  },
  {
   "cell_type": "markdown",
   "id": "a9e81566",
   "metadata": {},
   "source": [
    "## Ground Truth"
   ]
  },
  {
   "cell_type": "markdown",
   "id": "ef00c601",
   "metadata": {},
   "source": [
    "This is the theoretical result we would ideally have, the model on gross_claim_amount. "
   ]
  },
  {
   "cell_type": "code",
   "execution_count": 46,
   "id": "d736503e",
   "metadata": {},
   "outputs": [],
   "source": [
    "mdl = GammaRegressor(alpha = 0)\n",
    "X = df[['feature_1']]\n",
    "y = df['gross_claim_amount']\n",
    "mdl.fit(X, y)\n",
    "df['pred_gross_claim_amount_method_01'] = mdl.predict(X)"
   ]
  },
  {
   "cell_type": "markdown",
   "id": "c8afa6f5",
   "metadata": {},
   "source": [
    "Gets it right, as expected."
   ]
  },
  {
   "cell_type": "markdown",
   "id": "b27fdb4b",
   "metadata": {},
   "source": [
    "## Fitting on Net Claims"
   ]
  },
  {
   "cell_type": "markdown",
   "id": "e2232840",
   "metadata": {},
   "source": [
    "What happens if we simply fit on the observed parts of the claims? And then add the gross values back later? "
   ]
  },
  {
   "cell_type": "code",
   "execution_count": 57,
   "id": "d3fc5303",
   "metadata": {},
   "outputs": [],
   "source": [
    "mdl = GammaRegressor(alpha = 0)\n",
    "X = df_observed[['feature_1']]\n",
    "y = df_observed['net_claim_amount']\n",
    "mdl.fit(X, y)\n",
    "df_observed['pred_net_claim_amount_method_02'] = mdl.predict(X)\n",
    "df_observed['pred_gross_claim_amount_method_02'] = \\\n",
    "    df_observed['pred_net_claim_amount_method_02'] + df_observed['deductible']"
   ]
  },
  {
   "cell_type": "code",
   "execution_count": 58,
   "id": "f945ef52",
   "metadata": {},
   "outputs": [
    {
     "data": {
      "text/html": [
       "<div>\n",
       "<style scoped>\n",
       "    .dataframe tbody tr th:only-of-type {\n",
       "        vertical-align: middle;\n",
       "    }\n",
       "\n",
       "    .dataframe tbody tr th {\n",
       "        vertical-align: top;\n",
       "    }\n",
       "\n",
       "    .dataframe thead th {\n",
       "        text-align: right;\n",
       "    }\n",
       "</style>\n",
       "<table border=\"1\" class=\"dataframe\">\n",
       "  <thead>\n",
       "    <tr style=\"text-align: right;\">\n",
       "      <th></th>\n",
       "      <th>feature_1</th>\n",
       "      <th>shape</th>\n",
       "      <th>scale</th>\n",
       "      <th>gross_claim_amount</th>\n",
       "      <th>deductible</th>\n",
       "      <th>net_claim_amount</th>\n",
       "      <th>claim_observed</th>\n",
       "      <th>pred_gross_claim_amount_method_01</th>\n",
       "      <th>pred_gross_claim_amount_method_02</th>\n",
       "      <th>pred_net_claim_amount_method_02</th>\n",
       "    </tr>\n",
       "  </thead>\n",
       "  <tbody>\n",
       "    <tr>\n",
       "      <th>1</th>\n",
       "      <td>1</td>\n",
       "      <td>140</td>\n",
       "      <td>120</td>\n",
       "      <td>18518.833070</td>\n",
       "      <td>15000</td>\n",
       "      <td>3518.833070</td>\n",
       "      <td>True</td>\n",
       "      <td>16819.197653</td>\n",
       "      <td>17081.157222</td>\n",
       "      <td>2081.157222</td>\n",
       "    </tr>\n",
       "    <tr>\n",
       "      <th>4</th>\n",
       "      <td>1</td>\n",
       "      <td>140</td>\n",
       "      <td>120</td>\n",
       "      <td>16516.413406</td>\n",
       "      <td>15000</td>\n",
       "      <td>1516.413406</td>\n",
       "      <td>True</td>\n",
       "      <td>16819.197653</td>\n",
       "      <td>17081.157222</td>\n",
       "      <td>2081.157222</td>\n",
       "    </tr>\n",
       "    <tr>\n",
       "      <th>5</th>\n",
       "      <td>1</td>\n",
       "      <td>140</td>\n",
       "      <td>120</td>\n",
       "      <td>18233.237507</td>\n",
       "      <td>15000</td>\n",
       "      <td>3233.237507</td>\n",
       "      <td>True</td>\n",
       "      <td>16819.197653</td>\n",
       "      <td>17081.157222</td>\n",
       "      <td>2081.157222</td>\n",
       "    </tr>\n",
       "    <tr>\n",
       "      <th>6</th>\n",
       "      <td>1</td>\n",
       "      <td>140</td>\n",
       "      <td>120</td>\n",
       "      <td>16869.515462</td>\n",
       "      <td>15000</td>\n",
       "      <td>1869.515462</td>\n",
       "      <td>True</td>\n",
       "      <td>16819.197653</td>\n",
       "      <td>17081.157222</td>\n",
       "      <td>2081.157222</td>\n",
       "    </tr>\n",
       "    <tr>\n",
       "      <th>7</th>\n",
       "      <td>1</td>\n",
       "      <td>140</td>\n",
       "      <td>120</td>\n",
       "      <td>17505.533092</td>\n",
       "      <td>15000</td>\n",
       "      <td>2505.533092</td>\n",
       "      <td>True</td>\n",
       "      <td>16819.197653</td>\n",
       "      <td>17081.157222</td>\n",
       "      <td>2081.157222</td>\n",
       "    </tr>\n",
       "    <tr>\n",
       "      <th>...</th>\n",
       "      <td>...</td>\n",
       "      <td>...</td>\n",
       "      <td>...</td>\n",
       "      <td>...</td>\n",
       "      <td>...</td>\n",
       "      <td>...</td>\n",
       "      <td>...</td>\n",
       "      <td>...</td>\n",
       "      <td>...</td>\n",
       "      <td>...</td>\n",
       "    </tr>\n",
       "    <tr>\n",
       "      <th>9992</th>\n",
       "      <td>0</td>\n",
       "      <td>120</td>\n",
       "      <td>120</td>\n",
       "      <td>15485.289389</td>\n",
       "      <td>15000</td>\n",
       "      <td>485.289389</td>\n",
       "      <td>True</td>\n",
       "      <td>14391.687267</td>\n",
       "      <td>15907.746628</td>\n",
       "      <td>907.746628</td>\n",
       "    </tr>\n",
       "    <tr>\n",
       "      <th>9993</th>\n",
       "      <td>1</td>\n",
       "      <td>140</td>\n",
       "      <td>120</td>\n",
       "      <td>16279.253473</td>\n",
       "      <td>15000</td>\n",
       "      <td>1279.253473</td>\n",
       "      <td>True</td>\n",
       "      <td>16819.197653</td>\n",
       "      <td>17081.157222</td>\n",
       "      <td>2081.157222</td>\n",
       "    </tr>\n",
       "    <tr>\n",
       "      <th>9996</th>\n",
       "      <td>1</td>\n",
       "      <td>140</td>\n",
       "      <td>120</td>\n",
       "      <td>17312.543758</td>\n",
       "      <td>15000</td>\n",
       "      <td>2312.543758</td>\n",
       "      <td>True</td>\n",
       "      <td>16819.197653</td>\n",
       "      <td>17081.157222</td>\n",
       "      <td>2081.157222</td>\n",
       "    </tr>\n",
       "    <tr>\n",
       "      <th>9998</th>\n",
       "      <td>1</td>\n",
       "      <td>140</td>\n",
       "      <td>120</td>\n",
       "      <td>21556.973427</td>\n",
       "      <td>15000</td>\n",
       "      <td>6556.973427</td>\n",
       "      <td>True</td>\n",
       "      <td>16819.197653</td>\n",
       "      <td>17081.157222</td>\n",
       "      <td>2081.157222</td>\n",
       "    </tr>\n",
       "    <tr>\n",
       "      <th>9999</th>\n",
       "      <td>1</td>\n",
       "      <td>140</td>\n",
       "      <td>120</td>\n",
       "      <td>18007.273198</td>\n",
       "      <td>15000</td>\n",
       "      <td>3007.273198</td>\n",
       "      <td>True</td>\n",
       "      <td>16819.197653</td>\n",
       "      <td>17081.157222</td>\n",
       "      <td>2081.157222</td>\n",
       "    </tr>\n",
       "  </tbody>\n",
       "</table>\n",
       "<p>6084 rows × 10 columns</p>\n",
       "</div>"
      ],
      "text/plain": [
       "      feature_1  shape  scale  gross_claim_amount  deductible  \\\n",
       "1             1    140    120        18518.833070       15000   \n",
       "4             1    140    120        16516.413406       15000   \n",
       "5             1    140    120        18233.237507       15000   \n",
       "6             1    140    120        16869.515462       15000   \n",
       "7             1    140    120        17505.533092       15000   \n",
       "...         ...    ...    ...                 ...         ...   \n",
       "9992          0    120    120        15485.289389       15000   \n",
       "9993          1    140    120        16279.253473       15000   \n",
       "9996          1    140    120        17312.543758       15000   \n",
       "9998          1    140    120        21556.973427       15000   \n",
       "9999          1    140    120        18007.273198       15000   \n",
       "\n",
       "      net_claim_amount  claim_observed  pred_gross_claim_amount_method_01  \\\n",
       "1          3518.833070            True                       16819.197653   \n",
       "4          1516.413406            True                       16819.197653   \n",
       "5          3233.237507            True                       16819.197653   \n",
       "6          1869.515462            True                       16819.197653   \n",
       "7          2505.533092            True                       16819.197653   \n",
       "...                ...             ...                                ...   \n",
       "9992        485.289389            True                       14391.687267   \n",
       "9993       1279.253473            True                       16819.197653   \n",
       "9996       2312.543758            True                       16819.197653   \n",
       "9998       6556.973427            True                       16819.197653   \n",
       "9999       3007.273198            True                       16819.197653   \n",
       "\n",
       "      pred_gross_claim_amount_method_02  pred_net_claim_amount_method_02  \n",
       "1                          17081.157222                      2081.157222  \n",
       "4                          17081.157222                      2081.157222  \n",
       "5                          17081.157222                      2081.157222  \n",
       "6                          17081.157222                      2081.157222  \n",
       "7                          17081.157222                      2081.157222  \n",
       "...                                 ...                              ...  \n",
       "9992                       15907.746628                       907.746628  \n",
       "9993                       17081.157222                      2081.157222  \n",
       "9996                       17081.157222                      2081.157222  \n",
       "9998                       17081.157222                      2081.157222  \n",
       "9999                       17081.157222                      2081.157222  \n",
       "\n",
       "[6084 rows x 10 columns]"
      ]
     },
     "execution_count": 58,
     "metadata": {},
     "output_type": "execute_result"
    }
   ],
   "source": [
    "df_observed"
   ]
  },
  {
   "cell_type": "markdown",
   "id": "7fcb36a1",
   "metadata": {},
   "source": [
    "## Fitting on Gross Claims"
   ]
  },
  {
   "cell_type": "markdown",
   "id": "e6257525",
   "metadata": {},
   "source": [
    "I actually wonder which is going to be closer. "
   ]
  },
  {
   "cell_type": "code",
   "execution_count": 59,
   "id": "e9f71ef5",
   "metadata": {},
   "outputs": [],
   "source": [
    "mdl = GammaRegressor(alpha = 0)\n",
    "X = df_observed[['feature_1']]\n",
    "y = df_observed['gross_claim_amount']\n",
    "mdl.fit(X, y)\n",
    "df_observed['pred_net_claim_amount_method_03'] = mdl.predict(X)"
   ]
  },
  {
   "cell_type": "code",
   "execution_count": 60,
   "id": "1a6a396d",
   "metadata": {},
   "outputs": [
    {
     "data": {
      "text/html": [
       "<div>\n",
       "<style scoped>\n",
       "    .dataframe tbody tr th:only-of-type {\n",
       "        vertical-align: middle;\n",
       "    }\n",
       "\n",
       "    .dataframe tbody tr th {\n",
       "        vertical-align: top;\n",
       "    }\n",
       "\n",
       "    .dataframe thead th {\n",
       "        text-align: right;\n",
       "    }\n",
       "</style>\n",
       "<table border=\"1\" class=\"dataframe\">\n",
       "  <thead>\n",
       "    <tr style=\"text-align: right;\">\n",
       "      <th></th>\n",
       "      <th>feature_1</th>\n",
       "      <th>shape</th>\n",
       "      <th>scale</th>\n",
       "      <th>gross_claim_amount</th>\n",
       "      <th>deductible</th>\n",
       "      <th>net_claim_amount</th>\n",
       "      <th>claim_observed</th>\n",
       "      <th>pred_gross_claim_amount_method_01</th>\n",
       "      <th>pred_gross_claim_amount_method_02</th>\n",
       "      <th>pred_net_claim_amount_method_02</th>\n",
       "      <th>pred_net_claim_amount_method_03</th>\n",
       "    </tr>\n",
       "  </thead>\n",
       "  <tbody>\n",
       "    <tr>\n",
       "      <th>1</th>\n",
       "      <td>1</td>\n",
       "      <td>140</td>\n",
       "      <td>120</td>\n",
       "      <td>18518.833070</td>\n",
       "      <td>15000</td>\n",
       "      <td>3518.833070</td>\n",
       "      <td>True</td>\n",
       "      <td>16819.197653</td>\n",
       "      <td>17081.157222</td>\n",
       "      <td>2081.157222</td>\n",
       "      <td>17081.142284</td>\n",
       "    </tr>\n",
       "    <tr>\n",
       "      <th>4</th>\n",
       "      <td>1</td>\n",
       "      <td>140</td>\n",
       "      <td>120</td>\n",
       "      <td>16516.413406</td>\n",
       "      <td>15000</td>\n",
       "      <td>1516.413406</td>\n",
       "      <td>True</td>\n",
       "      <td>16819.197653</td>\n",
       "      <td>17081.157222</td>\n",
       "      <td>2081.157222</td>\n",
       "      <td>17081.142284</td>\n",
       "    </tr>\n",
       "    <tr>\n",
       "      <th>5</th>\n",
       "      <td>1</td>\n",
       "      <td>140</td>\n",
       "      <td>120</td>\n",
       "      <td>18233.237507</td>\n",
       "      <td>15000</td>\n",
       "      <td>3233.237507</td>\n",
       "      <td>True</td>\n",
       "      <td>16819.197653</td>\n",
       "      <td>17081.157222</td>\n",
       "      <td>2081.157222</td>\n",
       "      <td>17081.142284</td>\n",
       "    </tr>\n",
       "    <tr>\n",
       "      <th>6</th>\n",
       "      <td>1</td>\n",
       "      <td>140</td>\n",
       "      <td>120</td>\n",
       "      <td>16869.515462</td>\n",
       "      <td>15000</td>\n",
       "      <td>1869.515462</td>\n",
       "      <td>True</td>\n",
       "      <td>16819.197653</td>\n",
       "      <td>17081.157222</td>\n",
       "      <td>2081.157222</td>\n",
       "      <td>17081.142284</td>\n",
       "    </tr>\n",
       "    <tr>\n",
       "      <th>7</th>\n",
       "      <td>1</td>\n",
       "      <td>140</td>\n",
       "      <td>120</td>\n",
       "      <td>17505.533092</td>\n",
       "      <td>15000</td>\n",
       "      <td>2505.533092</td>\n",
       "      <td>True</td>\n",
       "      <td>16819.197653</td>\n",
       "      <td>17081.157222</td>\n",
       "      <td>2081.157222</td>\n",
       "      <td>17081.142284</td>\n",
       "    </tr>\n",
       "    <tr>\n",
       "      <th>...</th>\n",
       "      <td>...</td>\n",
       "      <td>...</td>\n",
       "      <td>...</td>\n",
       "      <td>...</td>\n",
       "      <td>...</td>\n",
       "      <td>...</td>\n",
       "      <td>...</td>\n",
       "      <td>...</td>\n",
       "      <td>...</td>\n",
       "      <td>...</td>\n",
       "      <td>...</td>\n",
       "    </tr>\n",
       "    <tr>\n",
       "      <th>9992</th>\n",
       "      <td>0</td>\n",
       "      <td>120</td>\n",
       "      <td>120</td>\n",
       "      <td>15485.289389</td>\n",
       "      <td>15000</td>\n",
       "      <td>485.289389</td>\n",
       "      <td>True</td>\n",
       "      <td>14391.687267</td>\n",
       "      <td>15907.746628</td>\n",
       "      <td>907.746628</td>\n",
       "      <td>15908.168252</td>\n",
       "    </tr>\n",
       "    <tr>\n",
       "      <th>9993</th>\n",
       "      <td>1</td>\n",
       "      <td>140</td>\n",
       "      <td>120</td>\n",
       "      <td>16279.253473</td>\n",
       "      <td>15000</td>\n",
       "      <td>1279.253473</td>\n",
       "      <td>True</td>\n",
       "      <td>16819.197653</td>\n",
       "      <td>17081.157222</td>\n",
       "      <td>2081.157222</td>\n",
       "      <td>17081.142284</td>\n",
       "    </tr>\n",
       "    <tr>\n",
       "      <th>9996</th>\n",
       "      <td>1</td>\n",
       "      <td>140</td>\n",
       "      <td>120</td>\n",
       "      <td>17312.543758</td>\n",
       "      <td>15000</td>\n",
       "      <td>2312.543758</td>\n",
       "      <td>True</td>\n",
       "      <td>16819.197653</td>\n",
       "      <td>17081.157222</td>\n",
       "      <td>2081.157222</td>\n",
       "      <td>17081.142284</td>\n",
       "    </tr>\n",
       "    <tr>\n",
       "      <th>9998</th>\n",
       "      <td>1</td>\n",
       "      <td>140</td>\n",
       "      <td>120</td>\n",
       "      <td>21556.973427</td>\n",
       "      <td>15000</td>\n",
       "      <td>6556.973427</td>\n",
       "      <td>True</td>\n",
       "      <td>16819.197653</td>\n",
       "      <td>17081.157222</td>\n",
       "      <td>2081.157222</td>\n",
       "      <td>17081.142284</td>\n",
       "    </tr>\n",
       "    <tr>\n",
       "      <th>9999</th>\n",
       "      <td>1</td>\n",
       "      <td>140</td>\n",
       "      <td>120</td>\n",
       "      <td>18007.273198</td>\n",
       "      <td>15000</td>\n",
       "      <td>3007.273198</td>\n",
       "      <td>True</td>\n",
       "      <td>16819.197653</td>\n",
       "      <td>17081.157222</td>\n",
       "      <td>2081.157222</td>\n",
       "      <td>17081.142284</td>\n",
       "    </tr>\n",
       "  </tbody>\n",
       "</table>\n",
       "<p>6084 rows × 11 columns</p>\n",
       "</div>"
      ],
      "text/plain": [
       "      feature_1  shape  scale  gross_claim_amount  deductible  \\\n",
       "1             1    140    120        18518.833070       15000   \n",
       "4             1    140    120        16516.413406       15000   \n",
       "5             1    140    120        18233.237507       15000   \n",
       "6             1    140    120        16869.515462       15000   \n",
       "7             1    140    120        17505.533092       15000   \n",
       "...         ...    ...    ...                 ...         ...   \n",
       "9992          0    120    120        15485.289389       15000   \n",
       "9993          1    140    120        16279.253473       15000   \n",
       "9996          1    140    120        17312.543758       15000   \n",
       "9998          1    140    120        21556.973427       15000   \n",
       "9999          1    140    120        18007.273198       15000   \n",
       "\n",
       "      net_claim_amount  claim_observed  pred_gross_claim_amount_method_01  \\\n",
       "1          3518.833070            True                       16819.197653   \n",
       "4          1516.413406            True                       16819.197653   \n",
       "5          3233.237507            True                       16819.197653   \n",
       "6          1869.515462            True                       16819.197653   \n",
       "7          2505.533092            True                       16819.197653   \n",
       "...                ...             ...                                ...   \n",
       "9992        485.289389            True                       14391.687267   \n",
       "9993       1279.253473            True                       16819.197653   \n",
       "9996       2312.543758            True                       16819.197653   \n",
       "9998       6556.973427            True                       16819.197653   \n",
       "9999       3007.273198            True                       16819.197653   \n",
       "\n",
       "      pred_gross_claim_amount_method_02  pred_net_claim_amount_method_02  \\\n",
       "1                          17081.157222                      2081.157222   \n",
       "4                          17081.157222                      2081.157222   \n",
       "5                          17081.157222                      2081.157222   \n",
       "6                          17081.157222                      2081.157222   \n",
       "7                          17081.157222                      2081.157222   \n",
       "...                                 ...                              ...   \n",
       "9992                       15907.746628                       907.746628   \n",
       "9993                       17081.157222                      2081.157222   \n",
       "9996                       17081.157222                      2081.157222   \n",
       "9998                       17081.157222                      2081.157222   \n",
       "9999                       17081.157222                      2081.157222   \n",
       "\n",
       "      pred_net_claim_amount_method_03  \n",
       "1                        17081.142284  \n",
       "4                        17081.142284  \n",
       "5                        17081.142284  \n",
       "6                        17081.142284  \n",
       "7                        17081.142284  \n",
       "...                               ...  \n",
       "9992                     15908.168252  \n",
       "9993                     17081.142284  \n",
       "9996                     17081.142284  \n",
       "9998                     17081.142284  \n",
       "9999                     17081.142284  \n",
       "\n",
       "[6084 rows x 11 columns]"
      ]
     },
     "execution_count": 60,
     "metadata": {},
     "output_type": "execute_result"
    }
   ],
   "source": [
    "df_observed"
   ]
  },
  {
   "cell_type": "markdown",
   "id": "6ae57dc4",
   "metadata": {},
   "source": [
    "OK, actually, that makes sense, it will be basically the expected value I think. "
   ]
  },
  {
   "cell_type": "code",
   "execution_count": 63,
   "id": "10489944",
   "metadata": {},
   "outputs": [
    {
     "data": {
      "text/html": [
       "<div>\n",
       "<style scoped>\n",
       "    .dataframe tbody tr th:only-of-type {\n",
       "        vertical-align: middle;\n",
       "    }\n",
       "\n",
       "    .dataframe tbody tr th {\n",
       "        vertical-align: top;\n",
       "    }\n",
       "\n",
       "    .dataframe thead th {\n",
       "        text-align: right;\n",
       "    }\n",
       "</style>\n",
       "<table border=\"1\" class=\"dataframe\">\n",
       "  <thead>\n",
       "    <tr style=\"text-align: right;\">\n",
       "      <th></th>\n",
       "      <th>average_gross_claim_amount</th>\n",
       "    </tr>\n",
       "    <tr>\n",
       "      <th>feature_1</th>\n",
       "      <th></th>\n",
       "    </tr>\n",
       "  </thead>\n",
       "  <tbody>\n",
       "    <tr>\n",
       "      <th>0</th>\n",
       "      <td>15907.753206</td>\n",
       "    </tr>\n",
       "    <tr>\n",
       "      <th>1</th>\n",
       "      <td>17081.162503</td>\n",
       "    </tr>\n",
       "  </tbody>\n",
       "</table>\n",
       "</div>"
      ],
      "text/plain": [
       "           average_gross_claim_amount\n",
       "feature_1                            \n",
       "0                        15907.753206\n",
       "1                        17081.162503"
      ]
     },
     "execution_count": 63,
     "metadata": {},
     "output_type": "execute_result"
    }
   ],
   "source": [
    "df_observed.groupby([\"feature_1\"]).agg(\n",
    "    average_gross_claim_amount = (\"gross_claim_amount\", np.mean))"
   ]
  },
  {
   "cell_type": "markdown",
   "id": "973264c7",
   "metadata": {},
   "source": [
    "Yeah, it's going to be quite off. \n",
    "\n",
    "I guess it's an intersting result that it doesn't matter if we simply fit on the gross or the net and then add it back. At least in this case. "
   ]
  },
  {
   "cell_type": "code",
   "execution_count": null,
   "id": "03469b85",
   "metadata": {},
   "outputs": [],
   "source": []
  },
  {
   "cell_type": "code",
   "execution_count": null,
   "id": "ae504351",
   "metadata": {},
   "outputs": [],
   "source": []
  }
 ],
 "metadata": {
  "kernelspec": {
   "display_name": "Python 3 (ipykernel)",
   "language": "python",
   "name": "python3"
  },
  "language_info": {
   "codemirror_mode": {
    "name": "ipython",
    "version": 3
   },
   "file_extension": ".py",
   "mimetype": "text/x-python",
   "name": "python",
   "nbconvert_exporter": "python",
   "pygments_lexer": "ipython3",
   "version": "3.9.12"
  },
  "toc": {
   "base_numbering": 1,
   "nav_menu": {},
   "number_sections": true,
   "sideBar": true,
   "skip_h1_title": false,
   "title_cell": "Table of Contents",
   "title_sidebar": "Contents",
   "toc_cell": false,
   "toc_position": {},
   "toc_section_display": true,
   "toc_window_display": true
  },
  "varInspector": {
   "cols": {
    "lenName": 16,
    "lenType": 16,
    "lenVar": 40
   },
   "kernels_config": {
    "python": {
     "delete_cmd_postfix": "",
     "delete_cmd_prefix": "del ",
     "library": "var_list.py",
     "varRefreshCmd": "print(var_dic_list())"
    },
    "r": {
     "delete_cmd_postfix": ") ",
     "delete_cmd_prefix": "rm(",
     "library": "var_list.r",
     "varRefreshCmd": "cat(var_dic_list()) "
    }
   },
   "types_to_exclude": [
    "module",
    "function",
    "builtin_function_or_method",
    "instance",
    "_Feature"
   ],
   "window_display": false
  }
 },
 "nbformat": 4,
 "nbformat_minor": 5
}
