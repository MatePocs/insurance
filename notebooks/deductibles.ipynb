{
 "cells": [
  {
   "cell_type": "markdown",
   "id": "ca828829",
   "metadata": {},
   "source": [
    "Goal: regressions that work with deductibles (which might be overly amibtious). \n",
    "\n",
    "Basically, we have a claim count, which is a Poisson model. Every claim will come from a gamma distribtuion. However, if it is under a certain deductible, we do not code it in. \n",
    "\n",
    "Couple of imagined steps: \n",
    "- do a Poisson, where claim count is generated randomly, but every claim is ignored with X% probability (this is probably super easy)\n",
    "- same as above, but make the X% probability depend on a variable, e.g., for every 1k increase, the chance of observing decreas\n",
    "- make a Gamma with deductible\n",
    "- combine everything, features determine baseline frequency, then the severity is clipped by a deductible amount, which then might impact frequency"
   ]
  },
  {
   "cell_type": "markdown",
   "id": "a37f1f4d",
   "metadata": {},
   "source": [
    "Found some stuff like this one: https://www.stata.com/stata14/censored-poisson/ but it's not the type of censored I am looking for. \n",
    "\n",
    "Maybe censored is the wrong word..."
   ]
  },
  {
   "cell_type": "code",
   "execution_count": 1,
   "id": "54a229d2",
   "metadata": {},
   "outputs": [],
   "source": [
    "import numpy as np\n",
    "import pandas as pd"
   ]
  },
  {
   "cell_type": "code",
   "execution_count": 10,
   "id": "2524123c",
   "metadata": {},
   "outputs": [],
   "source": [
    "%load_ext autoreload\n",
    "%autoreload 2"
   ]
  },
  {
   "cell_type": "markdown",
   "id": "79f279c6",
   "metadata": {},
   "source": [
    "# Frequency with Fixed Random Claim Cancel"
   ]
  },
  {
   "cell_type": "markdown",
   "id": "2316aad3",
   "metadata": {},
   "source": [
    "One binary categorical feature, and each claim is cancelled by a fix percentage. The cancelled ones we don't observe. \n",
    "\n",
    "My theory is that this is simply going to be another Poisson where we multiply the lambda with the prob of cancel. Or 1 - prob of cancel..."
   ]
  },
  {
   "cell_type": "code",
   "execution_count": 2,
   "id": "d7a333b2",
   "metadata": {},
   "outputs": [],
   "source": [
    "# parameters\n",
    "cancel_prob = 0.3 # each claim has a chance to not materialise"
   ]
  },
  {
   "cell_type": "code",
   "execution_count": 3,
   "id": "cac96c72",
   "metadata": {},
   "outputs": [],
   "source": [
    "df = pd.DataFrame.from_dict({'cat_feature' : np.repeat([0,1],100000)})\n",
    "df['poisson_lambda'] = df.apply(lambda x: 0.2 if x['cat_feature'] == 0 else 0.7, axis = 1)\n",
    "df['raw_claim_number'] = np.random.poisson(df['poisson_lambda'])"
   ]
  },
  {
   "cell_type": "markdown",
   "id": "45138708",
   "metadata": {},
   "source": [
    "Every raw_claim_number can be cancelled with the same chance. I think I want to generate this from scratch... If a row has a positive raw_claim_number, we want to generate that many random uniform variables, and put them in a list. And those lists will be in the next column. "
   ]
  },
  {
   "cell_type": "code",
   "execution_count": 4,
   "id": "9903e89b",
   "metadata": {},
   "outputs": [],
   "source": [
    "df['claim_cancellation'] = df.apply(lambda x: list(np.random.uniform(0,1,int(x['raw_claim_number']))), axis = 1)\n",
    "df['claim_number'] = df.apply(lambda x: np.sum(cancel_prob <= np.array(x['claim_cancellation'])), axis = 1)"
   ]
  },
  {
   "cell_type": "markdown",
   "id": "d3ee1089",
   "metadata": {},
   "source": [
    "## Empirical Analysis"
   ]
  },
  {
   "cell_type": "markdown",
   "id": "d9f5e583",
   "metadata": {},
   "source": [
    "Did the censored claim count become Poisson with lambda that is original * chance of not canceling? "
   ]
  },
  {
   "cell_type": "code",
   "execution_count": 5,
   "id": "8f4ae922",
   "metadata": {},
   "outputs": [],
   "source": [
    "empirical = pd.DataFrame(df[df['cat_feature'] == 1]['claim_number'].value_counts()).reset_index()\n",
    "empirical['claim_number'] = empirical['claim_number'] / sum(empirical['claim_number'])\n",
    "empirical.columns = [\"value\", \"prob\"]"
   ]
  },
  {
   "cell_type": "code",
   "execution_count": 11,
   "id": "b8f0a3b3",
   "metadata": {},
   "outputs": [],
   "source": [
    "from scipy.special import factorial # for elementwise factorial calc of array\n",
    "\n",
    "from functions import poisson_likelihood"
   ]
  },
  {
   "cell_type": "code",
   "execution_count": 14,
   "id": "6063dab7",
   "metadata": {},
   "outputs": [],
   "source": [
    "empirical['theoretical_prob'] = empirical.apply(\n",
    "    lambda x: poisson_likelihood(x[\"value\"], 0.7 * (1-cancel_prob)), axis = 1)"
   ]
  },
  {
   "cell_type": "code",
   "execution_count": 15,
   "id": "b0790845",
   "metadata": {},
   "outputs": [
    {
     "data": {
      "text/html": [
       "<div>\n",
       "<style scoped>\n",
       "    .dataframe tbody tr th:only-of-type {\n",
       "        vertical-align: middle;\n",
       "    }\n",
       "\n",
       "    .dataframe tbody tr th {\n",
       "        vertical-align: top;\n",
       "    }\n",
       "\n",
       "    .dataframe thead th {\n",
       "        text-align: right;\n",
       "    }\n",
       "</style>\n",
       "<table border=\"1\" class=\"dataframe\">\n",
       "  <thead>\n",
       "    <tr style=\"text-align: right;\">\n",
       "      <th></th>\n",
       "      <th>value</th>\n",
       "      <th>prob</th>\n",
       "      <th>theoretical_prob</th>\n",
       "    </tr>\n",
       "  </thead>\n",
       "  <tbody>\n",
       "    <tr>\n",
       "      <th>0</th>\n",
       "      <td>0</td>\n",
       "      <td>0.61557</td>\n",
       "      <td>0.612626</td>\n",
       "    </tr>\n",
       "    <tr>\n",
       "      <th>1</th>\n",
       "      <td>1</td>\n",
       "      <td>0.29879</td>\n",
       "      <td>0.300187</td>\n",
       "    </tr>\n",
       "    <tr>\n",
       "      <th>2</th>\n",
       "      <td>2</td>\n",
       "      <td>0.07267</td>\n",
       "      <td>0.073546</td>\n",
       "    </tr>\n",
       "    <tr>\n",
       "      <th>3</th>\n",
       "      <td>3</td>\n",
       "      <td>0.01143</td>\n",
       "      <td>0.012012</td>\n",
       "    </tr>\n",
       "    <tr>\n",
       "      <th>4</th>\n",
       "      <td>4</td>\n",
       "      <td>0.00143</td>\n",
       "      <td>0.001472</td>\n",
       "    </tr>\n",
       "    <tr>\n",
       "      <th>5</th>\n",
       "      <td>5</td>\n",
       "      <td>0.00010</td>\n",
       "      <td>0.000144</td>\n",
       "    </tr>\n",
       "    <tr>\n",
       "      <th>6</th>\n",
       "      <td>6</td>\n",
       "      <td>0.00001</td>\n",
       "      <td>0.000012</td>\n",
       "    </tr>\n",
       "  </tbody>\n",
       "</table>\n",
       "</div>"
      ],
      "text/plain": [
       "   value     prob  theoretical_prob\n",
       "0      0  0.61557          0.612626\n",
       "1      1  0.29879          0.300187\n",
       "2      2  0.07267          0.073546\n",
       "3      3  0.01143          0.012012\n",
       "4      4  0.00143          0.001472\n",
       "5      5  0.00010          0.000144\n",
       "6      6  0.00001          0.000012"
      ]
     },
     "execution_count": 15,
     "metadata": {},
     "output_type": "execute_result"
    }
   ],
   "source": [
    "empirical"
   ]
  },
  {
   "cell_type": "markdown",
   "id": "485b7ae4",
   "metadata": {},
   "source": [
    "It doesn't look wildly off..."
   ]
  },
  {
   "cell_type": "markdown",
   "id": "38351952",
   "metadata": {},
   "source": [
    "## Math"
   ]
  },
  {
   "cell_type": "markdown",
   "id": "be7097cb",
   "metadata": {},
   "source": [
    "Proving the above formulaically. "
   ]
  },
  {
   "cell_type": "code",
   "execution_count": null,
   "id": "115d4271",
   "metadata": {},
   "outputs": [],
   "source": []
  },
  {
   "cell_type": "code",
   "execution_count": null,
   "id": "2c0f8e70",
   "metadata": {},
   "outputs": [],
   "source": []
  },
  {
   "cell_type": "code",
   "execution_count": null,
   "id": "d02f753f",
   "metadata": {},
   "outputs": [],
   "source": []
  },
  {
   "cell_type": "markdown",
   "id": "63547e91",
   "metadata": {},
   "source": [
    "## GLM"
   ]
  },
  {
   "cell_type": "markdown",
   "id": "3ced24bd",
   "metadata": {},
   "source": [
    "Question: can we fit a GLM based on that feature? We want to start with an offset. "
   ]
  },
  {
   "cell_type": "code",
   "execution_count": null,
   "id": "20b17d58",
   "metadata": {},
   "outputs": [],
   "source": []
  },
  {
   "cell_type": "code",
   "execution_count": null,
   "id": "9a55ebf0",
   "metadata": {},
   "outputs": [],
   "source": []
  },
  {
   "cell_type": "code",
   "execution_count": null,
   "id": "517000c3",
   "metadata": {},
   "outputs": [],
   "source": []
  }
 ],
 "metadata": {
  "kernelspec": {
   "display_name": "Python 3 (ipykernel)",
   "language": "python",
   "name": "python3"
  },
  "language_info": {
   "codemirror_mode": {
    "name": "ipython",
    "version": 3
   },
   "file_extension": ".py",
   "mimetype": "text/x-python",
   "name": "python",
   "nbconvert_exporter": "python",
   "pygments_lexer": "ipython3",
   "version": "3.9.12"
  },
  "toc": {
   "base_numbering": 1,
   "nav_menu": {},
   "number_sections": true,
   "sideBar": true,
   "skip_h1_title": false,
   "title_cell": "Table of Contents",
   "title_sidebar": "Contents",
   "toc_cell": false,
   "toc_position": {},
   "toc_section_display": true,
   "toc_window_display": false
  },
  "varInspector": {
   "cols": {
    "lenName": 16,
    "lenType": 16,
    "lenVar": 40
   },
   "kernels_config": {
    "python": {
     "delete_cmd_postfix": "",
     "delete_cmd_prefix": "del ",
     "library": "var_list.py",
     "varRefreshCmd": "print(var_dic_list())"
    },
    "r": {
     "delete_cmd_postfix": ") ",
     "delete_cmd_prefix": "rm(",
     "library": "var_list.r",
     "varRefreshCmd": "cat(var_dic_list()) "
    }
   },
   "types_to_exclude": [
    "module",
    "function",
    "builtin_function_or_method",
    "instance",
    "_Feature"
   ],
   "window_display": false
  }
 },
 "nbformat": 4,
 "nbformat_minor": 5
}
