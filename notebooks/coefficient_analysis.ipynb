{
 "cells": [
  {
   "cell_type": "markdown",
   "id": "bd608eb9",
   "metadata": {},
   "source": [
    "Assumption: we already have a model fitted. We want to take the coefficients (or SHAP values, same principle) and plot them against the raw averages of the data. \n",
    "\n",
    "The challenge is going to be multiple scales (which unlike ggplot should be possible in matplotlib I think...)\n",
    "\n",
    "Categorical is more straightforward, let's start with that. "
   ]
  },
  {
   "cell_type": "code",
   "execution_count": 1,
   "id": "d8433e91",
   "metadata": {},
   "outputs": [],
   "source": [
    "import numpy as np\n",
    "import matplotlib.pyplot as plt\n",
    "import pandas as pd\n",
    "\n",
    "from functions import load_mtpl2"
   ]
  },
  {
   "cell_type": "markdown",
   "id": "8e8f74f7",
   "metadata": {},
   "source": [
    "# Generate Data"
   ]
  },
  {
   "cell_type": "code",
   "execution_count": 2,
   "id": "3c87baa5",
   "metadata": {},
   "outputs": [],
   "source": [
    "df = load_mtpl2()"
   ]
  },
  {
   "cell_type": "code",
   "execution_count": 3,
   "id": "2464ea80",
   "metadata": {},
   "outputs": [
    {
     "data": {
      "text/html": [
       "<div>\n",
       "<style scoped>\n",
       "    .dataframe tbody tr th:only-of-type {\n",
       "        vertical-align: middle;\n",
       "    }\n",
       "\n",
       "    .dataframe tbody tr th {\n",
       "        vertical-align: top;\n",
       "    }\n",
       "\n",
       "    .dataframe thead th {\n",
       "        text-align: right;\n",
       "    }\n",
       "</style>\n",
       "<table border=\"1\" class=\"dataframe\">\n",
       "  <thead>\n",
       "    <tr style=\"text-align: right;\">\n",
       "      <th></th>\n",
       "      <th>ClaimNb</th>\n",
       "      <th>Exposure</th>\n",
       "      <th>Area</th>\n",
       "      <th>VehPower</th>\n",
       "      <th>VehAge</th>\n",
       "      <th>DrivAge</th>\n",
       "      <th>BonusMalus</th>\n",
       "      <th>VehBrand</th>\n",
       "      <th>VehGas</th>\n",
       "      <th>Density</th>\n",
       "      <th>Region</th>\n",
       "      <th>ClaimAmount</th>\n",
       "    </tr>\n",
       "    <tr>\n",
       "      <th>IDpol</th>\n",
       "      <th></th>\n",
       "      <th></th>\n",
       "      <th></th>\n",
       "      <th></th>\n",
       "      <th></th>\n",
       "      <th></th>\n",
       "      <th></th>\n",
       "      <th></th>\n",
       "      <th></th>\n",
       "      <th></th>\n",
       "      <th></th>\n",
       "      <th></th>\n",
       "    </tr>\n",
       "  </thead>\n",
       "  <tbody>\n",
       "    <tr>\n",
       "      <th>2280509</th>\n",
       "      <td>0</td>\n",
       "      <td>0.97</td>\n",
       "      <td>E</td>\n",
       "      <td>8</td>\n",
       "      <td>18</td>\n",
       "      <td>39</td>\n",
       "      <td>66</td>\n",
       "      <td>B1</td>\n",
       "      <td>Diesel</td>\n",
       "      <td>5460</td>\n",
       "      <td>R11</td>\n",
       "      <td>0.0</td>\n",
       "    </tr>\n",
       "    <tr>\n",
       "      <th>4011438</th>\n",
       "      <td>0</td>\n",
       "      <td>0.20</td>\n",
       "      <td>E</td>\n",
       "      <td>6</td>\n",
       "      <td>3</td>\n",
       "      <td>55</td>\n",
       "      <td>51</td>\n",
       "      <td>B12</td>\n",
       "      <td>Regular</td>\n",
       "      <td>4646</td>\n",
       "      <td>R82</td>\n",
       "      <td>0.0</td>\n",
       "    </tr>\n",
       "    <tr>\n",
       "      <th>1197672</th>\n",
       "      <td>0</td>\n",
       "      <td>0.39</td>\n",
       "      <td>E</td>\n",
       "      <td>7</td>\n",
       "      <td>0</td>\n",
       "      <td>62</td>\n",
       "      <td>52</td>\n",
       "      <td>B2</td>\n",
       "      <td>Regular</td>\n",
       "      <td>3963</td>\n",
       "      <td>R91</td>\n",
       "      <td>0.0</td>\n",
       "    </tr>\n",
       "  </tbody>\n",
       "</table>\n",
       "</div>"
      ],
      "text/plain": [
       "         ClaimNb  Exposure Area  VehPower  VehAge  DrivAge  BonusMalus  \\\n",
       "IDpol                                                                    \n",
       "2280509        0      0.97    E         8      18       39          66   \n",
       "4011438        0      0.20    E         6       3       55          51   \n",
       "1197672        0      0.39    E         7       0       62          52   \n",
       "\n",
       "        VehBrand   VehGas  Density Region  ClaimAmount  \n",
       "IDpol                                                   \n",
       "2280509       B1   Diesel     5460    R11          0.0  \n",
       "4011438      B12  Regular     4646    R82          0.0  \n",
       "1197672       B2  Regular     3963    R91          0.0  "
      ]
     },
     "execution_count": 3,
     "metadata": {},
     "output_type": "execute_result"
    }
   ],
   "source": [
    "df.sample(3)"
   ]
  },
  {
   "cell_type": "code",
   "execution_count": 4,
   "id": "4711222b",
   "metadata": {},
   "outputs": [
    {
     "data": {
      "text/plain": [
       "C    191880\n",
       "D    151596\n",
       "E    137167\n",
       "A    103957\n",
       "B     75459\n",
       "F     17954\n",
       "Name: Area, dtype: int64"
      ]
     },
     "execution_count": 4,
     "metadata": {},
     "output_type": "execute_result"
    }
   ],
   "source": [
    "df.Area.value_counts()"
   ]
  },
  {
   "cell_type": "code",
   "execution_count": 5,
   "id": "bacd82d3",
   "metadata": {},
   "outputs": [],
   "source": [
    "coef_df_cat = pd.DataFrame.from_dict({\n",
    "    \"Area\": list(set(df.Area)),\n",
    "    \"coef\": [1,1.2,0.8,1.15,2,0.75]\n",
    "})"
   ]
  },
  {
   "cell_type": "code",
   "execution_count": 11,
   "id": "1ed17c2b",
   "metadata": {},
   "outputs": [],
   "source": [
    "# for the function, coefs need to be already merged on...\n",
    "\n",
    "df = df.merge(coef_df_cat, on = \"Area\", how = \"left\")"
   ]
  },
  {
   "cell_type": "markdown",
   "id": "8850ce2b",
   "metadata": {},
   "source": [
    "# Prototyping Plot Data - Categorical"
   ]
  },
  {
   "cell_type": "code",
   "execution_count": 6,
   "id": "8123da38",
   "metadata": {},
   "outputs": [],
   "source": [
    "df2 = df.groupby(\"Area\").agg(\n",
    "    raw_average = (\"ClaimAmount\", np.mean), \n",
    "    exposure = (\"ClaimNb\", \"count\"))"
   ]
  },
  {
   "cell_type": "code",
   "execution_count": 7,
   "id": "1cfd2e15",
   "metadata": {},
   "outputs": [],
   "source": [
    "plot_df = coef_df_cat.copy()\n",
    "plot_df.sort_values(\"Area\", inplace = True)\n",
    "plot_df = plot_df.merge(df2, on = \"Area\", how = \"left\")"
   ]
  },
  {
   "cell_type": "code",
   "execution_count": 8,
   "id": "cbac83bc",
   "metadata": {},
   "outputs": [],
   "source": [
    "# need to recode exposure, we can't put on a third scale\n",
    "# going to put it on the ax2\n",
    "# exposures start from the lowest ax2 point, i.e. the lowest average claimamount point\n",
    "# and they should go up till maybe 70% of the max\n",
    "\n",
    "# re-scale it somehow..\n",
    "\n",
    "min_on_scale = np.min(plot_df.raw_average)\n",
    "max_on_scale = np.max(plot_df.raw_average)\n",
    "max_exposure = np.max(plot_df.exposure)\n",
    "\n",
    "plot_df[\"exposure\"] = min_on_scale + (max_on_scale - min_on_scale) * plot_df[\"exposure\"] / max_exposure\n"
   ]
  },
  {
   "cell_type": "code",
   "execution_count": 9,
   "id": "5bdf3b01",
   "metadata": {},
   "outputs": [
    {
     "data": {
      "image/png": "[encoded data removed]",
      "text/plain": [
       "<Figure size 432x288 with 2 Axes>"
      ]
     },
     "metadata": {
      "needs_background": "light"
     },
     "output_type": "display_data"
    }
   ],
   "source": [
    "fig, ax1 = plt.subplots()\n",
    "\n",
    "color = 'tab:red'\n",
    "ax1.set_xlabel(\"Area\")\n",
    "ax1.set_ylabel('coef', color=color)\n",
    "ax1.scatter(plot_df.Area,plot_df.coef, color = color)\n",
    "ax1.plot(plot_df.Area,plot_df.coef, color = color, linestyle = \":\")\n",
    "ax1.tick_params(axis='y', labelcolor=color)\n",
    "\n",
    "ax2 = ax1.twinx()\n",
    "\n",
    "ax2.set_ylim(min_on_scale * 0.95, max_on_scale * 1.05)\n",
    "\n",
    "color = 'tab:blue'\n",
    "ax2.set_ylabel('raw_average', color=color)\n",
    "ax2.scatter(plot_df.Area,plot_df.raw_average, color = color)\n",
    "ax2.plot(plot_df.Area,plot_df.raw_average, color = color, linestyle = \":\")\n",
    "ax2.tick_params(axis='y', labelcolor=color)\n",
    "\n",
    "ax2.bar(plot_df.Area,plot_df.exposure, color = \"grey\", alpha = 0.2)\n",
    "\n",
    "fig.tight_layout()  # otherwise the right y-label is slightly clipped\n",
    "\n",
    "plt.show()"
   ]
  },
  {
   "cell_type": "markdown",
   "id": "bb2b468f",
   "metadata": {},
   "source": [
    "# Categorical Function"
   ]
  },
  {
   "cell_type": "markdown",
   "id": "7773ca6c",
   "metadata": {},
   "source": [
    "We want a table first, then we can do the plotting. "
   ]
  },
  {
   "cell_type": "code",
   "execution_count": 34,
   "id": "cba6cbc8",
   "metadata": {},
   "outputs": [],
   "source": [
    "def get_coefficient_analysis_plot_table_categorical(\n",
    "    cat_feature, target, exposure, coef, cat_feature_name, target_name):\n",
    "    \"\"\"\n",
    "    Bit of a weird structure. These are all assumed to be vectors of the same size. \n",
    "    So coef is already merged on the cat feature, meaning there is going to be some repetition. \n",
    "    The alternative would be to request two dataframes of different sizes, but I think that would be \n",
    "    confusing... This way, we can get everything we want with one aggregation. \n",
    "    \"\"\"\n",
    "    \n",
    "    df = pd.DataFrame.from_dict({\n",
    "        \"cat_feature\": cat_feature,\n",
    "        \"target\": target,\n",
    "        \"exposure\" : exposure, \n",
    "        \"coef\": coef\n",
    "    })\n",
    "    \n",
    "    # group by the cat feature, that is what we want to plot\n",
    "    df = df.groupby(\"cat_feature\").agg(\n",
    "        target_average = (\"target\", np.mean), \n",
    "        exposure = (\"exposure\", np.sum),\n",
    "        coef = (\"coef\", lambda x: x.iloc[0]))\n",
    "    \n",
    "    # re-code exposure so it fits the chart\n",
    "    # # exposures start from the lowest ax2 point, i.e. the lowest average claimamount point\n",
    "    # and they should go up till maybe 70% of the max\n",
    "\n",
    "    min_on_scale = np.min(df.target_average)\n",
    "    max_on_scale = np.max(df.target_average)\n",
    "    max_exposure = np.max(df.exposure)\n",
    "\n",
    "    df[\"exposure\"] = min_on_scale + (max_on_scale - min_on_scale) * df[\"exposure\"] / max_exposure\n",
    "    \n",
    "    df.reset_index(inplace = True)\n",
    "    \n",
    "    df.rename(columns = {\"cat_feature\": cat_feature_name, \n",
    "                         \"target_average\": target_name + \"_average\"}, \n",
    "              inplace = True)\n",
    "    \n",
    "    return df"
   ]
  },
  {
   "cell_type": "code",
   "execution_count": 35,
   "id": "ca7cca57",
   "metadata": {},
   "outputs": [
    {
     "data": {
      "text/html": [
       "<div>\n",
       "<style scoped>\n",
       "    .dataframe tbody tr th:only-of-type {\n",
       "        vertical-align: middle;\n",
       "    }\n",
       "\n",
       "    .dataframe tbody tr th {\n",
       "        vertical-align: top;\n",
       "    }\n",
       "\n",
       "    .dataframe thead th {\n",
       "        text-align: right;\n",
       "    }\n",
       "</style>\n",
       "<table border=\"1\" class=\"dataframe\">\n",
       "  <thead>\n",
       "    <tr style=\"text-align: right;\">\n",
       "      <th></th>\n",
       "      <th>area</th>\n",
       "      <th>total_claim_amount_average</th>\n",
       "      <th>exposure</th>\n",
       "      <th>coef</th>\n",
       "    </tr>\n",
       "  </thead>\n",
       "  <tbody>\n",
       "    <tr>\n",
       "      <th>0</th>\n",
       "      <td>A</td>\n",
       "      <td>74.450308</td>\n",
       "      <td>93.819189</td>\n",
       "      <td>1.15</td>\n",
       "    </tr>\n",
       "    <tr>\n",
       "      <th>1</th>\n",
       "      <td>B</td>\n",
       "      <td>117.600015</td>\n",
       "      <td>86.111240</td>\n",
       "      <td>0.75</td>\n",
       "    </tr>\n",
       "    <tr>\n",
       "      <th>2</th>\n",
       "      <td>C</td>\n",
       "      <td>76.152139</td>\n",
       "      <td>117.600015</td>\n",
       "      <td>2.00</td>\n",
       "    </tr>\n",
       "    <tr>\n",
       "      <th>3</th>\n",
       "      <td>D</td>\n",
       "      <td>95.559917</td>\n",
       "      <td>106.704268</td>\n",
       "      <td>1.20</td>\n",
       "    </tr>\n",
       "    <tr>\n",
       "      <th>4</th>\n",
       "      <td>E</td>\n",
       "      <td>94.902027</td>\n",
       "      <td>102.801608</td>\n",
       "      <td>1.00</td>\n",
       "    </tr>\n",
       "    <tr>\n",
       "      <th>5</th>\n",
       "      <td>F</td>\n",
       "      <td>65.701594</td>\n",
       "      <td>70.557672</td>\n",
       "      <td>0.80</td>\n",
       "    </tr>\n",
       "  </tbody>\n",
       "</table>\n",
       "</div>"
      ],
      "text/plain": [
       "  area  total_claim_amount_average    exposure  coef\n",
       "0    A                   74.450308   93.819189  1.15\n",
       "1    B                  117.600015   86.111240  0.75\n",
       "2    C                   76.152139  117.600015  2.00\n",
       "3    D                   95.559917  106.704268  1.20\n",
       "4    E                   94.902027  102.801608  1.00\n",
       "5    F                   65.701594   70.557672  0.80"
      ]
     },
     "execution_count": 35,
     "metadata": {},
     "output_type": "execute_result"
    }
   ],
   "source": [
    "temp = get_coefficient_analysis_plot_table_categorical(df.Area, df.ClaimAmount, 1, df.coef, \n",
    "                                                      \"area\", \"total_claim_amount\")\n",
    "temp"
   ]
  },
  {
   "cell_type": "code",
   "execution_count": 40,
   "id": "433f6eb3",
   "metadata": {},
   "outputs": [],
   "source": [
    "def get_coefficient_analysis_plot_categorical(plot_df, cat_feature_name, target_name):\n",
    "    \"\"\"\n",
    "    Creates the plot based on the previous function. \n",
    "    \"\"\"\n",
    "    \n",
    "    target_name = target_name + \"_average\" # this solution does not scream stabiity to me... \n",
    "    \n",
    "    fig = plt.figure()\n",
    "    \n",
    "    ax1 = fig.add_subplot(1,1,1)\n",
    "\n",
    "    color = 'tab:red'\n",
    "    ax1.set_xlabel(cat_feature_name)\n",
    "    ax1.set_ylabel('coef', color=color)\n",
    "    ax1.scatter(plot_df[cat_feature_name],plot_df[\"coef\"], color = color)\n",
    "    ax1.plot(plot_df[cat_feature_name],plot_df[\"coef\"], color = color, linestyle = \":\")\n",
    "    ax1.tick_params(axis='y', labelcolor=color)\n",
    "\n",
    "    ax2 = ax1.twinx()\n",
    "\n",
    "    ax2.set_ylim(min_on_scale * 0.95, max_on_scale * 1.05)\n",
    "\n",
    "    color = 'tab:blue'\n",
    "    ax2.set_ylabel(target_name, color=color)\n",
    "    ax2.scatter(plot_df[cat_feature_name],plot_df[target_name], color = color)\n",
    "    ax2.plot(plot_df[cat_feature_name],plot_df[target_name], color = color, linestyle = \":\")\n",
    "    ax2.tick_params(axis='y', labelcolor=color)\n",
    "\n",
    "    ax2.bar(plot_df[cat_feature_name],plot_df[\"exposure\"], color = \"grey\", alpha = 0.2)\n",
    "\n",
    "    fig.tight_layout()  # otherwise the right y-label is slightly clipped\n",
    "    \n",
    "    return fig"
   ]
  },
  {
   "cell_type": "code",
   "execution_count": 41,
   "id": "4c78b13d",
   "metadata": {},
   "outputs": [
    {
     "data": {
      "image/png": "[encoded data removed]",
      "text/plain": [
       "<Figure size 432x288 with 2 Axes>"
      ]
     },
     "metadata": {
      "needs_background": "light"
     },
     "output_type": "display_data"
    }
   ],
   "source": [
    "fig = get_coefficient_analysis_plot_categorical(temp, \"area\", \"total_claim_amount\")"
   ]
  },
  {
   "cell_type": "markdown",
   "id": "6b159962",
   "metadata": {},
   "source": [
    "# Continuous Features"
   ]
  },
  {
   "cell_type": "markdown",
   "id": "582ff2bc",
   "metadata": {},
   "source": [
    "Based on the above, there should be an automatic solution for cont. features. We can bin them, calculate average as if they were a categorical variable, and for the coef,... maybe do the coef of the middle? Or do an avearage of the calculated coefs in the bin... If it's the latter, need to be careful, make it a geometric mean. "
   ]
  },
  {
   "cell_type": "code",
   "execution_count": null,
   "id": "3eeb2274",
   "metadata": {},
   "outputs": [],
   "source": []
  }
 ],
 "metadata": {
  "kernelspec": {
   "display_name": "Python 3 (ipykernel)",
   "language": "python",
   "name": "python3"
  },
  "language_info": {
   "codemirror_mode": {
    "name": "ipython",
    "version": 3
   },
   "file_extension": ".py",
   "mimetype": "text/x-python",
   "name": "python",
   "nbconvert_exporter": "python",
   "pygments_lexer": "ipython3",
   "version": "3.9.12"
  },
  "toc": {
   "base_numbering": 1,
   "nav_menu": {},
   "number_sections": true,
   "sideBar": true,
   "skip_h1_title": false,
   "title_cell": "Table of Contents",
   "title_sidebar": "Contents",
   "toc_cell": false,
   "toc_position": {},
   "toc_section_display": true,
   "toc_window_display": false
  },
  "varInspector": {
   "cols": {
    "lenName": 16,
    "lenType": 16,
    "lenVar": 40
   },
   "kernels_config": {
    "python": {
     "delete_cmd_postfix": "",
     "delete_cmd_prefix": "del ",
     "library": "var_list.py",
     "varRefreshCmd": "print(var_dic_list())"
    },
    "r": {
     "delete_cmd_postfix": ") ",
     "delete_cmd_prefix": "rm(",
     "library": "var_list.r",
     "varRefreshCmd": "cat(var_dic_list()) "
    }
   },
   "types_to_exclude": [
    "module",
    "function",
    "builtin_function_or_method",
    "instance",
    "_Feature"
   ],
   "window_display": false
  }
 },
 "nbformat": 4,
 "nbformat_minor": 5
}
