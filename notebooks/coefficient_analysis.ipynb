{
 "cells": [
  {
   "cell_type": "markdown",
   "id": "bd608eb9",
   "metadata": {},
   "source": [
    "Assumption: we already have a model fitted. We want to take the coefficients (or SHAP values, same principle) and plot them against the raw averages of the data. \n",
    "\n",
    "The challenge is going to be multiple scales (which unlike ggplot should be possible in matplotlib I think...)\n",
    "\n",
    "Categorical is more straightforward, let's start with that. "
   ]
  },
  {
   "cell_type": "code",
   "execution_count": 1,
   "id": "d8433e91",
   "metadata": {},
   "outputs": [],
   "source": [
    "import numpy as np\n",
    "import matplotlib.pyplot as plt\n",
    "import pandas as pd\n",
    "\n",
    "from functions import load_mtpl2"
   ]
  },
  {
   "cell_type": "markdown",
   "id": "8e8f74f7",
   "metadata": {},
   "source": [
    "# Generate Data"
   ]
  },
  {
   "cell_type": "code",
   "execution_count": 2,
   "id": "3c87baa5",
   "metadata": {},
   "outputs": [],
   "source": [
    "df = load_mtpl2()"
   ]
  },
  {
   "cell_type": "code",
   "execution_count": 3,
   "id": "2464ea80",
   "metadata": {},
   "outputs": [
    {
     "data": {
      "text/html": [
       "<div>\n",
       "<style scoped>\n",
       "    .dataframe tbody tr th:only-of-type {\n",
       "        vertical-align: middle;\n",
       "    }\n",
       "\n",
       "    .dataframe tbody tr th {\n",
       "        vertical-align: top;\n",
       "    }\n",
       "\n",
       "    .dataframe thead th {\n",
       "        text-align: right;\n",
       "    }\n",
       "</style>\n",
       "<table border=\"1\" class=\"dataframe\">\n",
       "  <thead>\n",
       "    <tr style=\"text-align: right;\">\n",
       "      <th></th>\n",
       "      <th>ClaimNb</th>\n",
       "      <th>Exposure</th>\n",
       "      <th>Area</th>\n",
       "      <th>VehPower</th>\n",
       "      <th>VehAge</th>\n",
       "      <th>DrivAge</th>\n",
       "      <th>BonusMalus</th>\n",
       "      <th>VehBrand</th>\n",
       "      <th>VehGas</th>\n",
       "      <th>Density</th>\n",
       "      <th>Region</th>\n",
       "      <th>ClaimAmount</th>\n",
       "    </tr>\n",
       "    <tr>\n",
       "      <th>IDpol</th>\n",
       "      <th></th>\n",
       "      <th></th>\n",
       "      <th></th>\n",
       "      <th></th>\n",
       "      <th></th>\n",
       "      <th></th>\n",
       "      <th></th>\n",
       "      <th></th>\n",
       "      <th></th>\n",
       "      <th></th>\n",
       "      <th></th>\n",
       "      <th></th>\n",
       "    </tr>\n",
       "  </thead>\n",
       "  <tbody>\n",
       "    <tr>\n",
       "      <th>4165161</th>\n",
       "      <td>0</td>\n",
       "      <td>0.15</td>\n",
       "      <td>C</td>\n",
       "      <td>7</td>\n",
       "      <td>6</td>\n",
       "      <td>32</td>\n",
       "      <td>57</td>\n",
       "      <td>B5</td>\n",
       "      <td>Regular</td>\n",
       "      <td>169</td>\n",
       "      <td>R52</td>\n",
       "      <td>0.0</td>\n",
       "    </tr>\n",
       "    <tr>\n",
       "      <th>1164959</th>\n",
       "      <td>0</td>\n",
       "      <td>0.22</td>\n",
       "      <td>B</td>\n",
       "      <td>5</td>\n",
       "      <td>3</td>\n",
       "      <td>42</td>\n",
       "      <td>50</td>\n",
       "      <td>B1</td>\n",
       "      <td>Diesel</td>\n",
       "      <td>64</td>\n",
       "      <td>R24</td>\n",
       "      <td>0.0</td>\n",
       "    </tr>\n",
       "    <tr>\n",
       "      <th>2069022</th>\n",
       "      <td>0</td>\n",
       "      <td>0.13</td>\n",
       "      <td>B</td>\n",
       "      <td>9</td>\n",
       "      <td>7</td>\n",
       "      <td>43</td>\n",
       "      <td>50</td>\n",
       "      <td>B10</td>\n",
       "      <td>Diesel</td>\n",
       "      <td>53</td>\n",
       "      <td>R24</td>\n",
       "      <td>0.0</td>\n",
       "    </tr>\n",
       "  </tbody>\n",
       "</table>\n",
       "</div>"
      ],
      "text/plain": [
       "         ClaimNb  Exposure Area  VehPower  VehAge  DrivAge  BonusMalus  \\\n",
       "IDpol                                                                    \n",
       "4165161        0      0.15    C         7       6       32          57   \n",
       "1164959        0      0.22    B         5       3       42          50   \n",
       "2069022        0      0.13    B         9       7       43          50   \n",
       "\n",
       "        VehBrand   VehGas  Density Region  ClaimAmount  \n",
       "IDpol                                                   \n",
       "4165161       B5  Regular      169    R52          0.0  \n",
       "1164959       B1   Diesel       64    R24          0.0  \n",
       "2069022      B10   Diesel       53    R24          0.0  "
      ]
     },
     "execution_count": 3,
     "metadata": {},
     "output_type": "execute_result"
    }
   ],
   "source": [
    "df.sample(3)"
   ]
  },
  {
   "cell_type": "code",
   "execution_count": 5,
   "id": "4711222b",
   "metadata": {},
   "outputs": [
    {
     "data": {
      "text/plain": [
       "C    191880\n",
       "D    151596\n",
       "E    137167\n",
       "A    103957\n",
       "B     75459\n",
       "F     17954\n",
       "Name: Area, dtype: int64"
      ]
     },
     "execution_count": 5,
     "metadata": {},
     "output_type": "execute_result"
    }
   ],
   "source": [
    "df.Area.value_counts()"
   ]
  },
  {
   "cell_type": "code",
   "execution_count": 68,
   "id": "bacd82d3",
   "metadata": {},
   "outputs": [],
   "source": [
    "coef_df_cat = pd.DataFrame.from_dict({\n",
    "    \"Area\": list(set(df.Area)),\n",
    "    \"coef\": [1,1.2,0.8,1.15,2,0.75]\n",
    "})"
   ]
  },
  {
   "cell_type": "code",
   "execution_count": null,
   "id": "1ed17c2b",
   "metadata": {},
   "outputs": [],
   "source": []
  },
  {
   "cell_type": "markdown",
   "id": "8850ce2b",
   "metadata": {},
   "source": [
    "# Plot Data - Categorical"
   ]
  },
  {
   "cell_type": "code",
   "execution_count": 69,
   "id": "8123da38",
   "metadata": {},
   "outputs": [],
   "source": [
    "df2 = df.groupby(\"Area\").agg(\n",
    "    raw_average = (\"ClaimAmount\", np.mean), \n",
    "    exposure = (\"ClaimNb\", \"count\"))"
   ]
  },
  {
   "cell_type": "code",
   "execution_count": 70,
   "id": "1cfd2e15",
   "metadata": {},
   "outputs": [],
   "source": [
    "plot_df = coef_df_cat.copy()\n",
    "plot_df.sort_values(\"Area\", inplace = True)\n",
    "plot_df = plot_df.merge(df2, on = \"Area\", how = \"left\")"
   ]
  },
  {
   "cell_type": "code",
   "execution_count": 71,
   "id": "cbac83bc",
   "metadata": {},
   "outputs": [],
   "source": [
    "# need to recode exposure, we can't put on a third scale\n",
    "# going to put it on the ax2\n",
    "# exposures start from the lowest ax2 point, i.e. the lowest average claimamount point\n",
    "# and they should go up till maybe 70% of the max\n",
    "\n",
    "# re-scale it somehow..\n",
    "\n",
    "min_on_scale = np.min(plot_df.raw_average)\n",
    "max_on_scale = np.max(plot_df.raw_average)\n",
    "max_exposure = np.max(plot_df.exposure)\n",
    "\n",
    "plot_df[\"exposure\"] = min_on_scale + (max_on_scale - min_on_scale) * plot_df[\"exposure\"] / max_exposure\n"
   ]
  },
  {
   "cell_type": "code",
   "execution_count": 79,
   "id": "5bdf3b01",
   "metadata": {},
   "outputs": [
    {
     "data": {
      "image/png": "[encoded data removed]",
      "text/plain": [
       "<Figure size 432x288 with 2 Axes>"
      ]
     },
     "metadata": {
      "needs_background": "light"
     },
     "output_type": "display_data"
    }
   ],
   "source": [
    "fig, ax1 = plt.subplots()\n",
    "\n",
    "color = 'tab:red'\n",
    "ax1.set_xlabel(\"Area\")\n",
    "ax1.set_ylabel('coef', color=color)\n",
    "ax1.scatter(plot_df.Area,plot_df.coef, color = color)\n",
    "ax1.plot(plot_df.Area,plot_df.coef, color = color, linestyle = \":\")\n",
    "ax1.tick_params(axis='y', labelcolor=color)\n",
    "\n",
    "ax2 = ax1.twinx()\n",
    "\n",
    "ax2.set_ylim(min_on_scale * 0.95, max_on_scale * 1.05)\n",
    "\n",
    "color = 'tab:blue'\n",
    "ax2.set_ylabel('raw_average', color=color)\n",
    "ax2.scatter(plot_df.Area,plot_df.raw_average, color = color)\n",
    "ax2.plot(plot_df.Area,plot_df.raw_average, color = color, linestyle = \":\")\n",
    "ax2.tick_params(axis='y', labelcolor=color)\n",
    "\n",
    "ax2.bar(plot_df.Area,plot_df.exposure, color = \"grey\", alpha = 0.2)\n",
    "\n",
    "fig.tight_layout()  # otherwise the right y-label is slightly clipped\n",
    "\n",
    "plt.show()"
   ]
  },
  {
   "cell_type": "code",
   "execution_count": null,
   "id": "3467a863",
   "metadata": {},
   "outputs": [],
   "source": []
  }
 ],
 "metadata": {
  "kernelspec": {
   "display_name": "Python 3 (ipykernel)",
   "language": "python",
   "name": "python3"
  },
  "language_info": {
   "codemirror_mode": {
    "name": "ipython",
    "version": 3
   },
   "file_extension": ".py",
   "mimetype": "text/x-python",
   "name": "python",
   "nbconvert_exporter": "python",
   "pygments_lexer": "ipython3",
   "version": "3.9.12"
  },
  "toc": {
   "base_numbering": 1,
   "nav_menu": {},
   "number_sections": true,
   "sideBar": true,
   "skip_h1_title": false,
   "title_cell": "Table of Contents",
   "title_sidebar": "Contents",
   "toc_cell": false,
   "toc_position": {},
   "toc_section_display": true,
   "toc_window_display": false
  },
  "varInspector": {
   "cols": {
    "lenName": 16,
    "lenType": 16,
    "lenVar": 40
   },
   "kernels_config": {
    "python": {
     "delete_cmd_postfix": "",
     "delete_cmd_prefix": "del ",
     "library": "var_list.py",
     "varRefreshCmd": "print(var_dic_list())"
    },
    "r": {
     "delete_cmd_postfix": ") ",
     "delete_cmd_prefix": "rm(",
     "library": "var_list.r",
     "varRefreshCmd": "cat(var_dic_list()) "
    }
   },
   "types_to_exclude": [
    "module",
    "function",
    "builtin_function_or_method",
    "instance",
    "_Feature"
   ],
   "window_display": false
  }
 },
 "nbformat": 4,
 "nbformat_minor": 5
}
