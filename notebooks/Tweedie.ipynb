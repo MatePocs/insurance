{
 "cells": [
  {
   "cell_type": "markdown",
   "id": "e674835b",
   "metadata": {},
   "source": [
    "Basic Tweedie stuff, relationship with Poisson and Gamma, how the parameters work, how you can move from one set to the other. \n",
    "\n",
    "What we usually mean by Tweedie is the compound Poisson-gamma version."
   ]
  },
  {
   "cell_type": "code",
   "execution_count": 26,
   "id": "f1162c4c",
   "metadata": {},
   "outputs": [],
   "source": [
    "import numpy as np\n",
    "import pandas as pd\n",
    "\n",
    "import tweedie\n",
    "\n",
    "import seaborn as sns\n",
    "from matplotlib import pyplot as plt\n",
    "\n",
    "from sklearn.linear_model import TweedieRegressor"
   ]
  },
  {
   "cell_type": "markdown",
   "id": "b00d9a7e",
   "metadata": {},
   "source": [
    "# Generate Sample"
   ]
  },
  {
   "cell_type": "markdown",
   "id": "b3ae3644",
   "metadata": {},
   "source": [
    "This is not as straightforward as it sounds. Going to use the tweedie package. https://github.com/thequackdaddy/tweedie"
   ]
  },
  {
   "cell_type": "code",
   "execution_count": 2,
   "id": "d859acc5",
   "metadata": {},
   "outputs": [],
   "source": [
    "my_mu = 1000\n",
    "my_sigma_sq = 20\n",
    "my_p = 1.5\n",
    "\n",
    "sample_num = 10000"
   ]
  },
  {
   "cell_type": "code",
   "execution_count": 3,
   "id": "33542d38",
   "metadata": {},
   "outputs": [],
   "source": [
    "tvs = tweedie.tweedie(mu=my_mu, phi=my_sigma_sq, p=my_p).rvs(sample_num)"
   ]
  },
  {
   "cell_type": "code",
   "execution_count": 4,
   "id": "66ca9d10",
   "metadata": {},
   "outputs": [
    {
     "data": {
      "image/png": "[encoded data removed]",
      "text/plain": [
       "<Figure size 432x288 with 1 Axes>"
      ]
     },
     "metadata": {
      "needs_background": "light"
     },
     "output_type": "display_data"
    }
   ],
   "source": [
    "sns.histplot(tvs)\n",
    "plt.show()"
   ]
  },
  {
   "cell_type": "markdown",
   "id": "f5441586",
   "metadata": {},
   "source": [
    "Let's check if the moments are OK. Expected value is mu, variance is sigma_sq * mu ^ p."
   ]
  },
  {
   "cell_type": "code",
   "execution_count": 5,
   "id": "d86921ed",
   "metadata": {},
   "outputs": [
    {
     "data": {
      "text/plain": [
       "1007.6913833980872"
      ]
     },
     "execution_count": 5,
     "metadata": {},
     "output_type": "execute_result"
    }
   ],
   "source": [
    "np.mean(tvs)"
   ]
  },
  {
   "cell_type": "code",
   "execution_count": 6,
   "id": "00460dbb",
   "metadata": {},
   "outputs": [
    {
     "data": {
      "text/plain": [
       "645419.2476733369"
      ]
     },
     "execution_count": 6,
     "metadata": {},
     "output_type": "execute_result"
    }
   ],
   "source": [
    "np.math.pow(np.std(tvs),2)"
   ]
  },
  {
   "cell_type": "code",
   "execution_count": 7,
   "id": "52960c4b",
   "metadata": {},
   "outputs": [
    {
     "data": {
      "text/plain": [
       "632455.5320336758"
      ]
     },
     "execution_count": 7,
     "metadata": {},
     "output_type": "execute_result"
    }
   ],
   "source": [
    "my_sigma_sq * np.math.pow(my_mu, my_p)"
   ]
  },
  {
   "cell_type": "markdown",
   "id": "1bfee43f",
   "metadata": {},
   "source": [
    "OK, seems to be matching, roughly. "
   ]
  },
  {
   "cell_type": "markdown",
   "id": "e537694d",
   "metadata": {},
   "source": [
    "# Connection w. Poisson and Gamma"
   ]
  },
  {
   "cell_type": "markdown",
   "id": "5d9685c9",
   "metadata": {},
   "source": [
    "Let's try and work out how these refer to the underlying Poisson and Gamma parameters. Using formulas here: \n",
    "https://en.wikipedia.org/wiki/Compound_Poisson_distribution"
   ]
  },
  {
   "cell_type": "code",
   "execution_count": 8,
   "id": "c8cb84db",
   "metadata": {},
   "outputs": [],
   "source": [
    "def calculate_poisson_lambda_from_tweedie(mu, sigma_sq, p):\n",
    "    \"\"\"\n",
    "    Returns the lambda parameter of the underlying Poisson from a 1<p<2 Tweedie.\n",
    "    \"\"\"\n",
    "    poisson_lambda = (np.math.pow(mu, (2-p))) / ((2-p) * sigma_sq)\n",
    "    \n",
    "    return poisson_lambda"
   ]
  },
  {
   "cell_type": "code",
   "execution_count": 9,
   "id": "adb12dde",
   "metadata": {},
   "outputs": [],
   "source": [
    "poisson_lambda = calculate_poisson_lambda_from_tweedie(my_mu, my_sigma_sq, my_p)"
   ]
  },
  {
   "cell_type": "code",
   "execution_count": 10,
   "id": "6797d370",
   "metadata": {},
   "outputs": [
    {
     "data": {
      "text/plain": [
       "3.162277660168379"
      ]
     },
     "execution_count": 10,
     "metadata": {},
     "output_type": "execute_result"
    }
   ],
   "source": [
    "poisson_lambda"
   ]
  },
  {
   "cell_type": "markdown",
   "id": "32eca326",
   "metadata": {},
   "source": [
    "We can test the Poisson lambda with 0's of original Tweedie. "
   ]
  },
  {
   "cell_type": "code",
   "execution_count": 11,
   "id": "9cb7dd9c",
   "metadata": {},
   "outputs": [
    {
     "data": {
      "text/plain": [
       "0.041"
      ]
     },
     "execution_count": 11,
     "metadata": {},
     "output_type": "execute_result"
    }
   ],
   "source": [
    "len(tvs[tvs==0]) / len(tvs)"
   ]
  },
  {
   "cell_type": "code",
   "execution_count": 12,
   "id": "ccb35c4b",
   "metadata": {},
   "outputs": [
    {
     "data": {
      "text/plain": [
       "0.04232921962320501"
      ]
     },
     "execution_count": 12,
     "metadata": {},
     "output_type": "execute_result"
    }
   ],
   "source": [
    "np.math.pow(poisson_lambda, 0) * np.exp(-poisson_lambda) / 1"
   ]
  },
  {
   "cell_type": "markdown",
   "id": "fd324420",
   "metadata": {},
   "source": [
    "Looks promising, I am not sure if we would expect a full match though..."
   ]
  },
  {
   "cell_type": "code",
   "execution_count": 13,
   "id": "c5961f67",
   "metadata": {},
   "outputs": [],
   "source": [
    "def calculate_gamma_alpha_from_tweedie(p):\n",
    "    \"\"\"\n",
    "    We only need the p parameter for this.\n",
    "    \"\"\"\n",
    "    gamma_alpha = (2 - p) / (p - 1)\n",
    "    \n",
    "    return gamma_alpha"
   ]
  },
  {
   "cell_type": "code",
   "execution_count": 14,
   "id": "37eed069",
   "metadata": {},
   "outputs": [
    {
     "data": {
      "text/plain": [
       "1.0"
      ]
     },
     "execution_count": 14,
     "metadata": {},
     "output_type": "execute_result"
    }
   ],
   "source": [
    "gamma_alpha = calculate_gamma_alpha_from_tweedie(my_p)\n",
    "gamma_alpha"
   ]
  },
  {
   "cell_type": "code",
   "execution_count": 15,
   "id": "a9348eba",
   "metadata": {},
   "outputs": [],
   "source": [
    "def calculate_gamma_beta_from_tweedie(mu, sigma_sq, p):\n",
    "\n",
    "    gamma_beta = (np.math.pow(mu, (1-p))) / ((p-1) * sigma_sq)\n",
    "    \n",
    "    return gamma_beta"
   ]
  },
  {
   "cell_type": "code",
   "execution_count": 16,
   "id": "29682d32",
   "metadata": {},
   "outputs": [
    {
     "data": {
      "text/plain": [
       "0.003162277660168379"
      ]
     },
     "execution_count": 16,
     "metadata": {},
     "output_type": "execute_result"
    }
   ],
   "source": [
    "gamma_beta = calculate_gamma_beta_from_tweedie(my_mu, my_sigma_sq, my_p)\n",
    "gamma_beta"
   ]
  },
  {
   "cell_type": "markdown",
   "id": "5b81c2ac",
   "metadata": {},
   "source": [
    "Note: this is the opposite parametrisation of Gamma. Basically, alpha is same as k, while beta is the reciprocal of theta in the other version. beta is the so-called rate parameter, while theta is called the scale. "
   ]
  },
  {
   "cell_type": "markdown",
   "id": "dc417feb",
   "metadata": {},
   "source": [
    "Let's see if we can do the formulas backwards. "
   ]
  },
  {
   "cell_type": "code",
   "execution_count": 17,
   "id": "dca05675",
   "metadata": {},
   "outputs": [],
   "source": [
    "def calculate_tweedie_p_from_cpg(gamma_alpha):\n",
    "    \n",
    "    p = (gamma_alpha + 2) / (gamma_alpha + 1)\n",
    "    \n",
    "    return p"
   ]
  },
  {
   "cell_type": "code",
   "execution_count": 18,
   "id": "1012c3bd",
   "metadata": {},
   "outputs": [
    {
     "data": {
      "text/plain": [
       "1.5"
      ]
     },
     "execution_count": 18,
     "metadata": {},
     "output_type": "execute_result"
    }
   ],
   "source": [
    "tweedie_p = calculate_tweedie_p_from_cpg(gamma_alpha)\n",
    "tweedie_p"
   ]
  },
  {
   "cell_type": "code",
   "execution_count": 19,
   "id": "a7c0ff35",
   "metadata": {},
   "outputs": [],
   "source": [
    "def calculate_tweedie_mu_from_cpg(poisson_lambda, gamma_alpha, gamma_beta):\n",
    "    \n",
    "    tweedie_p = calculate_tweedie_p_from_cpg(gamma_alpha)\n",
    "    \n",
    "    tweedie_mu = ((2 - tweedie_p) * poisson_lambda) / ((tweedie_p - 1) * gamma_beta)\n",
    "    \n",
    "    return tweedie_mu"
   ]
  },
  {
   "cell_type": "code",
   "execution_count": 20,
   "id": "b677e04b",
   "metadata": {},
   "outputs": [
    {
     "data": {
      "text/plain": [
       "1000.0"
      ]
     },
     "execution_count": 20,
     "metadata": {},
     "output_type": "execute_result"
    }
   ],
   "source": [
    "tweedie_mu = calculate_tweedie_mu_from_cpg(poisson_lambda, gamma_alpha, gamma_beta)\n",
    "tweedie_mu"
   ]
  },
  {
   "cell_type": "code",
   "execution_count": 21,
   "id": "47a4e4ea",
   "metadata": {},
   "outputs": [],
   "source": [
    "def calculate_tweedie_sigma_sq_from_cpg(poisson_lambda, gamma_alpha, gamma_beta):\n",
    "    \n",
    "    tweedie_p = calculate_tweedie_p_from_cpg(gamma_alpha)\n",
    "    \n",
    "    tweedie_mu = calculate_tweedie_mu_from_cpg(poisson_lambda, gamma_alpha, gamma_beta)\n",
    "    \n",
    "    tweedie_sigma_sq = (np.math.pow(tweedie_mu, (2 - tweedie_p))) / ((2 - tweedie_p) * poisson_lambda)\n",
    "    \n",
    "    return tweedie_sigma_sq"
   ]
  },
  {
   "cell_type": "code",
   "execution_count": 22,
   "id": "48dcb9ba",
   "metadata": {},
   "outputs": [
    {
     "data": {
      "text/plain": [
       "20.0"
      ]
     },
     "execution_count": 22,
     "metadata": {},
     "output_type": "execute_result"
    }
   ],
   "source": [
    "tweedie_sigma_sq = calculate_tweedie_sigma_sq_from_cpg(poisson_lambda, gamma_alpha, gamma_beta)\n",
    "tweedie_sigma_sq"
   ]
  },
  {
   "cell_type": "markdown",
   "id": "03713f36",
   "metadata": {},
   "source": [
    "OK, I think we can calculate it back and forwards. \n",
    "\n",
    "A key result is that p depends only on the gamma distribution's shape parameter. "
   ]
  },
  {
   "cell_type": "markdown",
   "id": "3092ec34",
   "metadata": {},
   "source": [
    "__TODO__:\n",
    "- get a more elegant formula here"
   ]
  },
  {
   "cell_type": "markdown",
   "id": "6f0d8315",
   "metadata": {},
   "source": [
    "# GLM"
   ]
  },
  {
   "cell_type": "markdown",
   "id": "cf5cc8a2",
   "metadata": {},
   "source": [
    "## Baseline"
   ]
  },
  {
   "cell_type": "code",
   "execution_count": 25,
   "id": "321cde7b",
   "metadata": {},
   "outputs": [],
   "source": [
    "df = pd.DataFrame.from_dict({'target': tvs})\n",
    "\n",
    "df['dummy_feature'] = 1"
   ]
  },
  {
   "cell_type": "code",
   "execution_count": 28,
   "id": "5073b63f",
   "metadata": {},
   "outputs": [],
   "source": [
    "mdl = TweedieRegressor(power = my_p, alpha = 0)"
   ]
  },
  {
   "cell_type": "code",
   "execution_count": 32,
   "id": "5be5da52",
   "metadata": {},
   "outputs": [
    {
     "data": {
      "text/html": [
       "<style>#sk-container-id-1 {color: black;background-color: white;}#sk-container-id-1 pre{padding: 0;}#sk-container-id-1 div.sk-toggleable {background-color: white;}#sk-container-id-1 label.sk-toggleable__label {cursor: pointer;display: block;width: 100%;margin-bottom: 0;padding: 0.3em;box-sizing: border-box;text-align: center;}#sk-container-id-1 label.sk-toggleable__label-arrow:before {content: \"▸\";float: left;margin-right: 0.25em;color: #696969;}#sk-container-id-1 label.sk-toggleable__label-arrow:hover:before {color: black;}#sk-container-id-1 div.sk-estimator:hover label.sk-toggleable__label-arrow:before {color: black;}#sk-container-id-1 div.sk-toggleable__content {max-height: 0;max-width: 0;overflow: hidden;text-align: left;background-color: #f0f8ff;}#sk-container-id-1 div.sk-toggleable__content pre {margin: 0.2em;color: black;border-radius: 0.25em;background-color: #f0f8ff;}#sk-container-id-1 input.sk-toggleable__control:checked~div.sk-toggleable__content {max-height: 200px;max-width: 100%;overflow: auto;}#sk-container-id-1 input.sk-toggleable__control:checked~label.sk-toggleable__label-arrow:before {content: \"▾\";}#sk-container-id-1 div.sk-estimator input.sk-toggleable__control:checked~label.sk-toggleable__label {background-color: #d4ebff;}#sk-container-id-1 div.sk-label input.sk-toggleable__control:checked~label.sk-toggleable__label {background-color: #d4ebff;}#sk-container-id-1 input.sk-hidden--visually {border: 0;clip: rect(1px 1px 1px 1px);clip: rect(1px, 1px, 1px, 1px);height: 1px;margin: -1px;overflow: hidden;padding: 0;position: absolute;width: 1px;}#sk-container-id-1 div.sk-estimator {font-family: monospace;background-color: #f0f8ff;border: 1px dotted black;border-radius: 0.25em;box-sizing: border-box;margin-bottom: 0.5em;}#sk-container-id-1 div.sk-estimator:hover {background-color: #d4ebff;}#sk-container-id-1 div.sk-parallel-item::after {content: \"\";width: 100%;border-bottom: 1px solid gray;flex-grow: 1;}#sk-container-id-1 div.sk-label:hover label.sk-toggleable__label {background-color: #d4ebff;}#sk-container-id-1 div.sk-serial::before {content: \"\";position: absolute;border-left: 1px solid gray;box-sizing: border-box;top: 0;bottom: 0;left: 50%;z-index: 0;}#sk-container-id-1 div.sk-serial {display: flex;flex-direction: column;align-items: center;background-color: white;padding-right: 0.2em;padding-left: 0.2em;position: relative;}#sk-container-id-1 div.sk-item {position: relative;z-index: 1;}#sk-container-id-1 div.sk-parallel {display: flex;align-items: stretch;justify-content: center;background-color: white;position: relative;}#sk-container-id-1 div.sk-item::before, #sk-container-id-1 div.sk-parallel-item::before {content: \"\";position: absolute;border-left: 1px solid gray;box-sizing: border-box;top: 0;bottom: 0;left: 50%;z-index: -1;}#sk-container-id-1 div.sk-parallel-item {display: flex;flex-direction: column;z-index: 1;position: relative;background-color: white;}#sk-container-id-1 div.sk-parallel-item:first-child::after {align-self: flex-end;width: 50%;}#sk-container-id-1 div.sk-parallel-item:last-child::after {align-self: flex-start;width: 50%;}#sk-container-id-1 div.sk-parallel-item:only-child::after {width: 0;}#sk-container-id-1 div.sk-dashed-wrapped {border: 1px dashed gray;margin: 0 0.4em 0.5em 0.4em;box-sizing: border-box;padding-bottom: 0.4em;background-color: white;}#sk-container-id-1 div.sk-label label {font-family: monospace;font-weight: bold;display: inline-block;line-height: 1.2em;}#sk-container-id-1 div.sk-label-container {text-align: center;}#sk-container-id-1 div.sk-container {/* jupyter's `normalize.less` sets `[hidden] { display: none; }` but bootstrap.min.css set `[hidden] { display: none !important; }` so we also need the `!important` here to be able to override the default hidden behavior on the sphinx rendered scikit-learn.org. See: https://github.com/scikit-learn/scikit-learn/issues/21755 */display: inline-block !important;position: relative;}#sk-container-id-1 div.sk-text-repr-fallback {display: none;}</style><div id=\"sk-container-id-1\" class=\"sk-top-container\"><div class=\"sk-text-repr-fallback\"><pre>TweedieRegressor(alpha=0, power=1.5)</pre><b>In a Jupyter environment, please rerun this cell to show the HTML representation or trust the notebook. <br />On GitHub, the HTML representation is unable to render, please try loading this page with nbviewer.org.</b></div><div class=\"sk-container\" hidden><div class=\"sk-item\"><div class=\"sk-estimator sk-toggleable\"><input class=\"sk-toggleable__control sk-hidden--visually\" id=\"sk-estimator-id-1\" type=\"checkbox\" checked><label for=\"sk-estimator-id-1\" class=\"sk-toggleable__label sk-toggleable__label-arrow\">TweedieRegressor</label><div class=\"sk-toggleable__content\"><pre>TweedieRegressor(alpha=0, power=1.5)</pre></div></div></div></div></div>"
      ],
      "text/plain": [
       "TweedieRegressor(alpha=0, power=1.5)"
      ]
     },
     "execution_count": 32,
     "metadata": {},
     "output_type": "execute_result"
    }
   ],
   "source": [
    "mdl.fit(df[['dummy_feature']], df['target'])"
   ]
  },
  {
   "cell_type": "code",
   "execution_count": 33,
   "id": "2bbd705a",
   "metadata": {},
   "outputs": [],
   "source": [
    "df['pred'] = mdl.predict(df[['dummy_feature']])"
   ]
  },
  {
   "cell_type": "code",
   "execution_count": 35,
   "id": "da987012",
   "metadata": {},
   "outputs": [
    {
     "data": {
      "text/plain": [
       "1007.6913833980866"
      ]
     },
     "execution_count": 35,
     "metadata": {},
     "output_type": "execute_result"
    }
   ],
   "source": [
    "df.pred[0]"
   ]
  },
  {
   "cell_type": "markdown",
   "id": "c06de28f",
   "metadata": {},
   "source": [
    "OK, it got the mu right. "
   ]
  },
  {
   "cell_type": "code",
   "execution_count": 36,
   "id": "ccd081a0",
   "metadata": {},
   "outputs": [
    {
     "data": {
      "text/plain": [
       "1007.6913833980872"
      ]
     },
     "execution_count": 36,
     "metadata": {},
     "output_type": "execute_result"
    }
   ],
   "source": [
    "np.mean(tvs)"
   ]
  },
  {
   "cell_type": "markdown",
   "id": "bbdc96be",
   "metadata": {},
   "source": [
    "Question: what if we mess up the power function? "
   ]
  },
  {
   "cell_type": "code",
   "execution_count": 37,
   "id": "355d8a0b",
   "metadata": {},
   "outputs": [
    {
     "data": {
      "text/plain": [
       "1007.6913833980866"
      ]
     },
     "execution_count": 37,
     "metadata": {},
     "output_type": "execute_result"
    }
   ],
   "source": [
    "mdl = TweedieRegressor(power = 1.1, alpha = 0)\n",
    "mdl.fit(df[['dummy_feature']], df['target'])\n",
    "df['pred'] = mdl.predict(df[['dummy_feature']])\n",
    "df.pred[0]"
   ]
  },
  {
   "cell_type": "code",
   "execution_count": 38,
   "id": "81a6cc96",
   "metadata": {},
   "outputs": [
    {
     "data": {
      "text/plain": [
       "1007.6913833980866"
      ]
     },
     "execution_count": 38,
     "metadata": {},
     "output_type": "execute_result"
    }
   ],
   "source": [
    "mdl = TweedieRegressor(power = 1.9, alpha = 0)\n",
    "mdl.fit(df[['dummy_feature']], df['target'])\n",
    "df['pred'] = mdl.predict(df[['dummy_feature']])\n",
    "df.pred[0]"
   ]
  },
  {
   "cell_type": "markdown",
   "id": "f7bf9089",
   "metadata": {},
   "source": [
    "Yup, power parameter does not matter here!"
   ]
  },
  {
   "cell_type": "markdown",
   "id": "07f4a102",
   "metadata": {},
   "source": [
    "## Linear Increase in Mu"
   ]
  },
  {
   "cell_type": "markdown",
   "id": "2f7a836a",
   "metadata": {},
   "source": [
    "First off, we need to find a way to generate one that depends on a continuous feature. "
   ]
  },
  {
   "cell_type": "code",
   "execution_count": 87,
   "id": "a16fe176",
   "metadata": {},
   "outputs": [],
   "source": [
    "df_mdl = pd.DataFrame.from_dict({'feature_1' : np.random.uniform(100,1000,10000)})\n",
    "\n",
    "df_mdl['mu'] = df_mdl['feature_1']\n",
    "df_mdl['sigma_sq'] = 20\n",
    "df_mdl['p'] = 1.5"
   ]
  },
  {
   "cell_type": "code",
   "execution_count": 88,
   "id": "ecde2af4",
   "metadata": {},
   "outputs": [],
   "source": [
    "# this takes a while to run\n",
    "df_mdl['total_claim_amount'] = df_mdl.apply(lambda x: tweedie.tweedie(mu=x['mu'], \n",
    "                                               phi=x['sigma_sq'], \n",
    "                                               p=x['p']).rvs(1)[0], axis = 1)"
   ]
  },
  {
   "cell_type": "code",
   "execution_count": 89,
   "id": "dcc12700",
   "metadata": {},
   "outputs": [],
   "source": [
    "df_mdl['log_feature_1'] = np.log(df_mdl['feature_1'])"
   ]
  },
  {
   "cell_type": "code",
   "execution_count": 90,
   "id": "da3d4447",
   "metadata": {},
   "outputs": [],
   "source": [
    "mdl = TweedieRegressor(power = 1.5, alpha = 0)\n",
    "X = df_mdl[['log_feature_1']]\n",
    "y = df_mdl['total_claim_amount']\n",
    "mdl.fit(X, y)\n",
    "df_mdl['pred_total_claim_amount'] = mdl.predict(X)"
   ]
  },
  {
   "cell_type": "code",
   "execution_count": 91,
   "id": "9006caae",
   "metadata": {},
   "outputs": [
    {
     "data": {
      "text/plain": [
       "array([0.98321279])"
      ]
     },
     "execution_count": 91,
     "metadata": {},
     "output_type": "execute_result"
    }
   ],
   "source": [
    "mdl.coef_"
   ]
  },
  {
   "cell_type": "markdown",
   "id": "29166af2",
   "metadata": {},
   "source": [
    "Once again, what happens if we mess up the variance power? "
   ]
  },
  {
   "cell_type": "code",
   "execution_count": 92,
   "id": "1736b2e0",
   "metadata": {},
   "outputs": [],
   "source": [
    "mdl = TweedieRegressor(power = 1.9, alpha = 0)\n",
    "X = df_mdl[['log_feature_1']]\n",
    "y = df_mdl['total_claim_amount']\n",
    "mdl.fit(X, y)\n",
    "df_mdl['pred_total_claim_amount_wrong_p'] = mdl.predict(X)"
   ]
  },
  {
   "cell_type": "code",
   "execution_count": 93,
   "id": "61dc377f",
   "metadata": {},
   "outputs": [
    {
     "data": {
      "text/plain": [
       "array([0.98447209])"
      ]
     },
     "execution_count": 93,
     "metadata": {},
     "output_type": "execute_result"
    }
   ],
   "source": [
    "mdl.coef_"
   ]
  },
  {
   "cell_type": "code",
   "execution_count": 94,
   "id": "6d504414",
   "metadata": {},
   "outputs": [
    {
     "data": {
      "text/html": [
       "<div>\n",
       "<style scoped>\n",
       "    .dataframe tbody tr th:only-of-type {\n",
       "        vertical-align: middle;\n",
       "    }\n",
       "\n",
       "    .dataframe tbody tr th {\n",
       "        vertical-align: top;\n",
       "    }\n",
       "\n",
       "    .dataframe thead th {\n",
       "        text-align: right;\n",
       "    }\n",
       "</style>\n",
       "<table border=\"1\" class=\"dataframe\">\n",
       "  <thead>\n",
       "    <tr style=\"text-align: right;\">\n",
       "      <th></th>\n",
       "      <th>feature_1</th>\n",
       "      <th>mu</th>\n",
       "      <th>sigma_sq</th>\n",
       "      <th>p</th>\n",
       "      <th>total_claim_amount</th>\n",
       "      <th>log_feature_1</th>\n",
       "      <th>pred_total_claim_amount</th>\n",
       "      <th>pred_total_claim_amount_wrong_p</th>\n",
       "    </tr>\n",
       "  </thead>\n",
       "  <tbody>\n",
       "    <tr>\n",
       "      <th>0</th>\n",
       "      <td>194.463693</td>\n",
       "      <td>194.463693</td>\n",
       "      <td>20</td>\n",
       "      <td>1.5</td>\n",
       "      <td>447.104651</td>\n",
       "      <td>5.270245</td>\n",
       "      <td>197.501784</td>\n",
       "      <td>197.257261</td>\n",
       "    </tr>\n",
       "    <tr>\n",
       "      <th>1</th>\n",
       "      <td>499.551348</td>\n",
       "      <td>499.551348</td>\n",
       "      <td>20</td>\n",
       "      <td>1.5</td>\n",
       "      <td>385.871859</td>\n",
       "      <td>6.213710</td>\n",
       "      <td>499.383524</td>\n",
       "      <td>499.358186</td>\n",
       "    </tr>\n",
       "    <tr>\n",
       "      <th>2</th>\n",
       "      <td>455.940204</td>\n",
       "      <td>455.940204</td>\n",
       "      <td>20</td>\n",
       "      <td>1.5</td>\n",
       "      <td>243.061351</td>\n",
       "      <td>6.122362</td>\n",
       "      <td>456.486513</td>\n",
       "      <td>456.410844</td>\n",
       "    </tr>\n",
       "    <tr>\n",
       "      <th>3</th>\n",
       "      <td>251.078184</td>\n",
       "      <td>251.078184</td>\n",
       "      <td>20</td>\n",
       "      <td>1.5</td>\n",
       "      <td>84.131650</td>\n",
       "      <td>5.525764</td>\n",
       "      <td>253.909289</td>\n",
       "      <td>253.676542</td>\n",
       "    </tr>\n",
       "    <tr>\n",
       "      <th>4</th>\n",
       "      <td>422.556645</td>\n",
       "      <td>422.556645</td>\n",
       "      <td>20</td>\n",
       "      <td>1.5</td>\n",
       "      <td>396.830739</td>\n",
       "      <td>6.046324</td>\n",
       "      <td>423.603325</td>\n",
       "      <td>423.492554</td>\n",
       "    </tr>\n",
       "  </tbody>\n",
       "</table>\n",
       "</div>"
      ],
      "text/plain": [
       "    feature_1          mu  sigma_sq    p  total_claim_amount  log_feature_1  \\\n",
       "0  194.463693  194.463693        20  1.5          447.104651       5.270245   \n",
       "1  499.551348  499.551348        20  1.5          385.871859       6.213710   \n",
       "2  455.940204  455.940204        20  1.5          243.061351       6.122362   \n",
       "3  251.078184  251.078184        20  1.5           84.131650       5.525764   \n",
       "4  422.556645  422.556645        20  1.5          396.830739       6.046324   \n",
       "\n",
       "   pred_total_claim_amount  pred_total_claim_amount_wrong_p  \n",
       "0               197.501784                       197.257261  \n",
       "1               499.383524                       499.358186  \n",
       "2               456.486513                       456.410844  \n",
       "3               253.909289                       253.676542  \n",
       "4               423.603325                       423.492554  "
      ]
     },
     "execution_count": 94,
     "metadata": {},
     "output_type": "execute_result"
    }
   ],
   "source": [
    "df_mdl.head(5)"
   ]
  },
  {
   "cell_type": "markdown",
   "id": "2a202e92",
   "metadata": {},
   "source": [
    "Haha! OK, interesting, it does change the predictions. "
   ]
  },
  {
   "cell_type": "code",
   "execution_count": 95,
   "id": "8e965f7d",
   "metadata": {},
   "outputs": [
    {
     "data": {
      "text/plain": [
       "544.5190902904887"
      ]
     },
     "execution_count": 95,
     "metadata": {},
     "output_type": "execute_result"
    }
   ],
   "source": [
    "np.mean(df_mdl['total_claim_amount'])"
   ]
  },
  {
   "cell_type": "code",
   "execution_count": 96,
   "id": "d8f644ee",
   "metadata": {},
   "outputs": [
    {
     "data": {
      "text/plain": [
       "544.5750699991881"
      ]
     },
     "execution_count": 96,
     "metadata": {},
     "output_type": "execute_result"
    }
   ],
   "source": [
    "np.mean(df_mdl['pred_total_claim_amount'])"
   ]
  },
  {
   "cell_type": "code",
   "execution_count": 97,
   "id": "5049f1a5",
   "metadata": {},
   "outputs": [
    {
     "data": {
      "text/plain": [
       "544.6906777916271"
      ]
     },
     "execution_count": 97,
     "metadata": {},
     "output_type": "execute_result"
    }
   ],
   "source": [
    "np.mean(df_mdl['pred_total_claim_amount_wrong_p'])"
   ]
  },
  {
   "cell_type": "markdown",
   "id": "4a467f8b",
   "metadata": {},
   "source": [
    "## Linear Increase in P"
   ]
  },
  {
   "cell_type": "code",
   "execution_count": 98,
   "id": "71031482",
   "metadata": {},
   "outputs": [],
   "source": [
    "df_mdl = pd.DataFrame.from_dict({'feature_1' : np.random.uniform(1.01, 1.99,10000)})\n",
    "\n",
    "df_mdl['mu'] = 1000\n",
    "df_mdl['sigma_sq'] = 20\n",
    "df_mdl['p'] =  df_mdl['feature_1']"
   ]
  },
  {
   "cell_type": "code",
   "execution_count": 99,
   "id": "bbad4058",
   "metadata": {},
   "outputs": [],
   "source": [
    "# this takes a while to run\n",
    "df_mdl['total_claim_amount'] = df_mdl.apply(lambda x: tweedie.tweedie(mu=x['mu'], \n",
    "                                               phi=x['sigma_sq'], \n",
    "                                               p=x['p']).rvs(1)[0], axis = 1)"
   ]
  },
  {
   "cell_type": "code",
   "execution_count": 100,
   "id": "09b083c0",
   "metadata": {},
   "outputs": [],
   "source": [
    "df_mdl['log_feature_1'] = np.log(df_mdl['feature_1'])"
   ]
  },
  {
   "cell_type": "code",
   "execution_count": 101,
   "id": "123c7812",
   "metadata": {},
   "outputs": [],
   "source": [
    "mdl = TweedieRegressor(power = 1.5, alpha = 0)\n",
    "X = df_mdl[['log_feature_1']]\n",
    "y = df_mdl['total_claim_amount']\n",
    "mdl.fit(X, y)\n",
    "df_mdl['pred_total_claim_amount'] = mdl.predict(X)"
   ]
  },
  {
   "cell_type": "code",
   "execution_count": 102,
   "id": "2bfcb2c1",
   "metadata": {},
   "outputs": [
    {
     "data": {
      "text/plain": [
       "array([-0.14049549])"
      ]
     },
     "execution_count": 102,
     "metadata": {},
     "output_type": "execute_result"
    }
   ],
   "source": [
    "mdl.coef_"
   ]
  },
  {
   "cell_type": "code",
   "execution_count": 104,
   "id": "8518055f",
   "metadata": {},
   "outputs": [
    {
     "data": {
      "text/html": [
       "<div>\n",
       "<style scoped>\n",
       "    .dataframe tbody tr th:only-of-type {\n",
       "        vertical-align: middle;\n",
       "    }\n",
       "\n",
       "    .dataframe tbody tr th {\n",
       "        vertical-align: top;\n",
       "    }\n",
       "\n",
       "    .dataframe thead th {\n",
       "        text-align: right;\n",
       "    }\n",
       "</style>\n",
       "<table border=\"1\" class=\"dataframe\">\n",
       "  <thead>\n",
       "    <tr style=\"text-align: right;\">\n",
       "      <th></th>\n",
       "      <th>feature_1</th>\n",
       "      <th>mu</th>\n",
       "      <th>sigma_sq</th>\n",
       "      <th>p</th>\n",
       "      <th>total_claim_amount</th>\n",
       "      <th>log_feature_1</th>\n",
       "      <th>pred_total_claim_amount</th>\n",
       "    </tr>\n",
       "  </thead>\n",
       "  <tbody>\n",
       "    <tr>\n",
       "      <th>0</th>\n",
       "      <td>1.535445</td>\n",
       "      <td>1000</td>\n",
       "      <td>20</td>\n",
       "      <td>1.535445</td>\n",
       "      <td>441.225595</td>\n",
       "      <td>0.428820</td>\n",
       "      <td>981.412763</td>\n",
       "    </tr>\n",
       "    <tr>\n",
       "      <th>1</th>\n",
       "      <td>1.194578</td>\n",
       "      <td>1000</td>\n",
       "      <td>20</td>\n",
       "      <td>1.194578</td>\n",
       "      <td>718.411364</td>\n",
       "      <td>0.177793</td>\n",
       "      <td>1016.643045</td>\n",
       "    </tr>\n",
       "    <tr>\n",
       "      <th>2</th>\n",
       "      <td>1.552355</td>\n",
       "      <td>1000</td>\n",
       "      <td>20</td>\n",
       "      <td>1.552355</td>\n",
       "      <td>838.059466</td>\n",
       "      <td>0.439773</td>\n",
       "      <td>979.903686</td>\n",
       "    </tr>\n",
       "    <tr>\n",
       "      <th>3</th>\n",
       "      <td>1.058246</td>\n",
       "      <td>1000</td>\n",
       "      <td>20</td>\n",
       "      <td>1.058246</td>\n",
       "      <td>946.195624</td>\n",
       "      <td>0.056613</td>\n",
       "      <td>1034.099766</td>\n",
       "    </tr>\n",
       "    <tr>\n",
       "      <th>4</th>\n",
       "      <td>1.692153</td>\n",
       "      <td>1000</td>\n",
       "      <td>20</td>\n",
       "      <td>1.692153</td>\n",
       "      <td>698.421832</td>\n",
       "      <td>0.526002</td>\n",
       "      <td>968.104022</td>\n",
       "    </tr>\n",
       "  </tbody>\n",
       "</table>\n",
       "</div>"
      ],
      "text/plain": [
       "   feature_1    mu  sigma_sq         p  total_claim_amount  log_feature_1  \\\n",
       "0   1.535445  1000        20  1.535445          441.225595       0.428820   \n",
       "1   1.194578  1000        20  1.194578          718.411364       0.177793   \n",
       "2   1.552355  1000        20  1.552355          838.059466       0.439773   \n",
       "3   1.058246  1000        20  1.058246          946.195624       0.056613   \n",
       "4   1.692153  1000        20  1.692153          698.421832       0.526002   \n",
       "\n",
       "   pred_total_claim_amount  \n",
       "0               981.412763  \n",
       "1              1016.643045  \n",
       "2               979.903686  \n",
       "3              1034.099766  \n",
       "4               968.104022  "
      ]
     },
     "execution_count": 104,
     "metadata": {},
     "output_type": "execute_result"
    }
   ],
   "source": [
    "df_mdl.head(5)"
   ]
  },
  {
   "cell_type": "code",
   "execution_count": 105,
   "id": "4ce5f6c7",
   "metadata": {},
   "outputs": [
    {
     "data": {
      "text/plain": [
       "987.382983319981"
      ]
     },
     "execution_count": 105,
     "metadata": {},
     "output_type": "execute_result"
    }
   ],
   "source": [
    "np.mean(df_mdl['total_claim_amount'])"
   ]
  },
  {
   "cell_type": "code",
   "execution_count": 106,
   "id": "4964fa18",
   "metadata": {},
   "outputs": [
    {
     "data": {
      "text/plain": [
       "987.3854885632887"
      ]
     },
     "execution_count": 106,
     "metadata": {},
     "output_type": "execute_result"
    }
   ],
   "source": [
    "np.mean(df_mdl['pred_total_claim_amount'])"
   ]
  },
  {
   "cell_type": "markdown",
   "id": "ff466f52",
   "metadata": {},
   "source": [
    "OK, that's good, so it does find stuff where there's nothing. "
   ]
  },
  {
   "cell_type": "code",
   "execution_count": 116,
   "id": "cd4905b2",
   "metadata": {},
   "outputs": [],
   "source": [
    "mdl = TweedieRegressor(power = 1.5, alpha = 0)\n",
    "X = df_mdl[['log_feature_1']]\n",
    "y = df_mdl['total_claim_amount']\n",
    "mdl.fit(X, y)\n",
    "df_mdl['pred_total_claim_amount'] = mdl.predict(X)"
   ]
  },
  {
   "cell_type": "code",
   "execution_count": 117,
   "id": "7ea5a5d6",
   "metadata": {},
   "outputs": [
    {
     "data": {
      "text/plain": [
       "array([-0.14049549])"
      ]
     },
     "execution_count": 117,
     "metadata": {},
     "output_type": "execute_result"
    }
   ],
   "source": [
    "mdl.coef_"
   ]
  },
  {
   "cell_type": "code",
   "execution_count": 118,
   "id": "e035eee4",
   "metadata": {},
   "outputs": [
    {
     "data": {
      "text/html": [
       "<div>\n",
       "<style scoped>\n",
       "    .dataframe tbody tr th:only-of-type {\n",
       "        vertical-align: middle;\n",
       "    }\n",
       "\n",
       "    .dataframe tbody tr th {\n",
       "        vertical-align: top;\n",
       "    }\n",
       "\n",
       "    .dataframe thead th {\n",
       "        text-align: right;\n",
       "    }\n",
       "</style>\n",
       "<table border=\"1\" class=\"dataframe\">\n",
       "  <thead>\n",
       "    <tr style=\"text-align: right;\">\n",
       "      <th></th>\n",
       "      <th>feature_1</th>\n",
       "      <th>mu</th>\n",
       "      <th>sigma_sq</th>\n",
       "      <th>p</th>\n",
       "      <th>total_claim_amount</th>\n",
       "      <th>log_feature_1</th>\n",
       "      <th>pred_total_claim_amount</th>\n",
       "    </tr>\n",
       "  </thead>\n",
       "  <tbody>\n",
       "    <tr>\n",
       "      <th>0</th>\n",
       "      <td>1.535445</td>\n",
       "      <td>1000</td>\n",
       "      <td>20</td>\n",
       "      <td>1.535445</td>\n",
       "      <td>441.225595</td>\n",
       "      <td>0.428820</td>\n",
       "      <td>981.412763</td>\n",
       "    </tr>\n",
       "    <tr>\n",
       "      <th>1</th>\n",
       "      <td>1.194578</td>\n",
       "      <td>1000</td>\n",
       "      <td>20</td>\n",
       "      <td>1.194578</td>\n",
       "      <td>718.411364</td>\n",
       "      <td>0.177793</td>\n",
       "      <td>1016.643045</td>\n",
       "    </tr>\n",
       "    <tr>\n",
       "      <th>2</th>\n",
       "      <td>1.552355</td>\n",
       "      <td>1000</td>\n",
       "      <td>20</td>\n",
       "      <td>1.552355</td>\n",
       "      <td>838.059466</td>\n",
       "      <td>0.439773</td>\n",
       "      <td>979.903686</td>\n",
       "    </tr>\n",
       "    <tr>\n",
       "      <th>3</th>\n",
       "      <td>1.058246</td>\n",
       "      <td>1000</td>\n",
       "      <td>20</td>\n",
       "      <td>1.058246</td>\n",
       "      <td>946.195624</td>\n",
       "      <td>0.056613</td>\n",
       "      <td>1034.099766</td>\n",
       "    </tr>\n",
       "    <tr>\n",
       "      <th>4</th>\n",
       "      <td>1.692153</td>\n",
       "      <td>1000</td>\n",
       "      <td>20</td>\n",
       "      <td>1.692153</td>\n",
       "      <td>698.421832</td>\n",
       "      <td>0.526002</td>\n",
       "      <td>968.104022</td>\n",
       "    </tr>\n",
       "  </tbody>\n",
       "</table>\n",
       "</div>"
      ],
      "text/plain": [
       "   feature_1    mu  sigma_sq         p  total_claim_amount  log_feature_1  \\\n",
       "0   1.535445  1000        20  1.535445          441.225595       0.428820   \n",
       "1   1.194578  1000        20  1.194578          718.411364       0.177793   \n",
       "2   1.552355  1000        20  1.552355          838.059466       0.439773   \n",
       "3   1.058246  1000        20  1.058246          946.195624       0.056613   \n",
       "4   1.692153  1000        20  1.692153          698.421832       0.526002   \n",
       "\n",
       "   pred_total_claim_amount  \n",
       "0               981.412763  \n",
       "1              1016.643045  \n",
       "2               979.903686  \n",
       "3              1034.099766  \n",
       "4               968.104022  "
      ]
     },
     "execution_count": 118,
     "metadata": {},
     "output_type": "execute_result"
    }
   ],
   "source": [
    "df_mdl.head(5)"
   ]
  },
  {
   "cell_type": "code",
   "execution_count": null,
   "id": "8c97a2ef",
   "metadata": {},
   "outputs": [],
   "source": []
  }
 ],
 "metadata": {
  "kernelspec": {
   "display_name": "Python 3 (ipykernel)",
   "language": "python",
   "name": "python3"
  },
  "language_info": {
   "codemirror_mode": {
    "name": "ipython",
    "version": 3
   },
   "file_extension": ".py",
   "mimetype": "text/x-python",
   "name": "python",
   "nbconvert_exporter": "python",
   "pygments_lexer": "ipython3",
   "version": "3.9.12"
  },
  "toc": {
   "base_numbering": 1,
   "nav_menu": {},
   "number_sections": true,
   "sideBar": true,
   "skip_h1_title": false,
   "title_cell": "Table of Contents",
   "title_sidebar": "Contents",
   "toc_cell": false,
   "toc_position": {},
   "toc_section_display": true,
   "toc_window_display": false
  },
  "varInspector": {
   "cols": {
    "lenName": 16,
    "lenType": 16,
    "lenVar": 40
   },
   "kernels_config": {
    "python": {
     "delete_cmd_postfix": "",
     "delete_cmd_prefix": "del ",
     "library": "var_list.py",
     "varRefreshCmd": "print(var_dic_list())"
    },
    "r": {
     "delete_cmd_postfix": ") ",
     "delete_cmd_prefix": "rm(",
     "library": "var_list.r",
     "varRefreshCmd": "cat(var_dic_list()) "
    }
   },
   "types_to_exclude": [
    "module",
    "function",
    "builtin_function_or_method",
    "instance",
    "_Feature"
   ],
   "window_display": false
  }
 },
 "nbformat": 4,
 "nbformat_minor": 5
}
