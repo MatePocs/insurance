{
 "cells": [
  {
   "cell_type": "markdown",
   "id": "e674835b",
   "metadata": {},
   "source": [
    "Basic Tweedie stuff, relationship with Poisson and Gamma, how the parameters work, how you can move from one set to the other. \n",
    "\n",
    "What we usually mean by Tweedie is the compound Poisson-gamma version."
   ]
  },
  {
   "cell_type": "code",
   "execution_count": 15,
   "id": "f1162c4c",
   "metadata": {},
   "outputs": [],
   "source": [
    "import numpy as np\n",
    "\n",
    "import tweedie\n",
    "\n",
    "import seaborn as sns\n",
    "from matplotlib import pyplot as plt"
   ]
  },
  {
   "cell_type": "markdown",
   "id": "b00d9a7e",
   "metadata": {},
   "source": [
    "# Generate Sample"
   ]
  },
  {
   "cell_type": "markdown",
   "id": "b3ae3644",
   "metadata": {},
   "source": [
    "This is not as straightforward as it sounds. Going to use the tweedie package. https://github.com/thequackdaddy/tweedie"
   ]
  },
  {
   "cell_type": "code",
   "execution_count": 58,
   "id": "d859acc5",
   "metadata": {},
   "outputs": [],
   "source": [
    "my_mu = 1000\n",
    "my_sigma_sq = 20\n",
    "my_p = 1.5\n",
    "\n",
    "sample_num = 10000"
   ]
  },
  {
   "cell_type": "code",
   "execution_count": 59,
   "id": "33542d38",
   "metadata": {},
   "outputs": [],
   "source": [
    "tvs = tweedie.tweedie(mu=my_mu, phi=my_sigma_sq, p=my_p).rvs(sample_num)"
   ]
  },
  {
   "cell_type": "code",
   "execution_count": 74,
   "id": "66ca9d10",
   "metadata": {},
   "outputs": [
    {
     "data": {
      "image/png": "[encoded data removed]",
      "text/plain": [
       "<Figure size 432x288 with 1 Axes>"
      ]
     },
     "metadata": {
      "needs_background": "light"
     },
     "output_type": "display_data"
    }
   ],
   "source": [
    "sns.histplot(tvs)\n",
    "plt.show()"
   ]
  },
  {
   "cell_type": "markdown",
   "id": "f5441586",
   "metadata": {},
   "source": [
    "Let's check if the moments are OK. Expected value is mu, variance is sigma_sq * mu ^ p."
   ]
  },
  {
   "cell_type": "code",
   "execution_count": 61,
   "id": "d86921ed",
   "metadata": {},
   "outputs": [
    {
     "data": {
      "text/plain": [
       "1001.4042800552528"
      ]
     },
     "execution_count": 61,
     "metadata": {},
     "output_type": "execute_result"
    }
   ],
   "source": [
    "np.mean(tvs)"
   ]
  },
  {
   "cell_type": "code",
   "execution_count": 62,
   "id": "00460dbb",
   "metadata": {},
   "outputs": [
    {
     "data": {
      "text/plain": [
       "620125.8273359262"
      ]
     },
     "execution_count": 62,
     "metadata": {},
     "output_type": "execute_result"
    }
   ],
   "source": [
    "np.math.pow(np.std(tvs),2)"
   ]
  },
  {
   "cell_type": "code",
   "execution_count": 63,
   "id": "52960c4b",
   "metadata": {},
   "outputs": [
    {
     "data": {
      "text/plain": [
       "632455.5320336758"
      ]
     },
     "execution_count": 63,
     "metadata": {},
     "output_type": "execute_result"
    }
   ],
   "source": [
    "my_sigma_sq * np.math.pow(my_mu, my_p)"
   ]
  },
  {
   "cell_type": "markdown",
   "id": "1bfee43f",
   "metadata": {},
   "source": [
    "OK, seems to be matching, roughly. "
   ]
  },
  {
   "cell_type": "markdown",
   "id": "e537694d",
   "metadata": {},
   "source": [
    "# Connection w. Poisson and Gamma"
   ]
  },
  {
   "cell_type": "markdown",
   "id": "5d9685c9",
   "metadata": {},
   "source": [
    "Let's try and work out how these refer to the underlying Poisson and Gamma parameters. Using formulas here: \n",
    "https://en.wikipedia.org/wiki/Compound_Poisson_distribution"
   ]
  },
  {
   "cell_type": "code",
   "execution_count": 64,
   "id": "c8cb84db",
   "metadata": {},
   "outputs": [],
   "source": [
    "def calculate_poisson_lambda_from_tweedie(mu, sigma_sq, p):\n",
    "    \"\"\"\n",
    "    Returns the lambda parameter of the underlying Poisson from a 1<p<2 Tweedie.\n",
    "    \"\"\"\n",
    "    poisson_lambda = (np.math.pow(mu, (2-p))) / ((2-p) * sigma_sq)\n",
    "    \n",
    "    return poisson_lambda"
   ]
  },
  {
   "cell_type": "code",
   "execution_count": 65,
   "id": "adb12dde",
   "metadata": {},
   "outputs": [],
   "source": [
    "poisson_lambda = calculate_poisson_lambda_from_tweedie(my_mu, my_sigma_sq, my_p)"
   ]
  },
  {
   "cell_type": "code",
   "execution_count": 66,
   "id": "6797d370",
   "metadata": {},
   "outputs": [
    {
     "data": {
      "text/plain": [
       "3.162277660168379"
      ]
     },
     "execution_count": 66,
     "metadata": {},
     "output_type": "execute_result"
    }
   ],
   "source": [
    "poisson_lambda"
   ]
  },
  {
   "cell_type": "markdown",
   "id": "32eca326",
   "metadata": {},
   "source": [
    "We can test the Poisson lambda with 0's of original Tweedie. "
   ]
  },
  {
   "cell_type": "code",
   "execution_count": 67,
   "id": "9cb7dd9c",
   "metadata": {},
   "outputs": [
    {
     "data": {
      "text/plain": [
       "0.0421"
      ]
     },
     "execution_count": 67,
     "metadata": {},
     "output_type": "execute_result"
    }
   ],
   "source": [
    "len(tvs[tvs==0]) / len(tvs)"
   ]
  },
  {
   "cell_type": "code",
   "execution_count": 68,
   "id": "ccb35c4b",
   "metadata": {},
   "outputs": [
    {
     "data": {
      "text/plain": [
       "0.04232921962320501"
      ]
     },
     "execution_count": 68,
     "metadata": {},
     "output_type": "execute_result"
    }
   ],
   "source": [
    "np.math.pow(poisson_lambda, 0) * np.exp(-poisson_lambda) / 1"
   ]
  },
  {
   "cell_type": "markdown",
   "id": "fd324420",
   "metadata": {},
   "source": [
    "Looks promising, I am not sure if we would expect a full match though..."
   ]
  },
  {
   "cell_type": "code",
   "execution_count": 69,
   "id": "c5961f67",
   "metadata": {},
   "outputs": [],
   "source": [
    "def calculate_gamma_alpha_from_tweedie(p):\n",
    "    \"\"\"\n",
    "    We only need the p parameter for this.\n",
    "    \"\"\"\n",
    "    gamma_alpha = (2 - p) / (p - 1)\n",
    "    \n",
    "    return gamma_alpha"
   ]
  },
  {
   "cell_type": "code",
   "execution_count": 70,
   "id": "37eed069",
   "metadata": {},
   "outputs": [
    {
     "data": {
      "text/plain": [
       "1.0"
      ]
     },
     "execution_count": 70,
     "metadata": {},
     "output_type": "execute_result"
    }
   ],
   "source": [
    "gamma_alpha = calculate_gamma_alpha_from_tweedie(my_p)\n",
    "gamma_alpha"
   ]
  },
  {
   "cell_type": "code",
   "execution_count": 71,
   "id": "a9348eba",
   "metadata": {},
   "outputs": [],
   "source": [
    "def calculate_gamma_beta_from_tweedie(mu, sigma_sq, p):\n",
    "\n",
    "    gamma_beta = (np.math.pow(mu, (1-p))) / ((p-1) * sigma_sq)\n",
    "    \n",
    "    return gamma_beta"
   ]
  },
  {
   "cell_type": "code",
   "execution_count": 72,
   "id": "29682d32",
   "metadata": {},
   "outputs": [
    {
     "data": {
      "text/plain": [
       "0.003162277660168379"
      ]
     },
     "execution_count": 72,
     "metadata": {},
     "output_type": "execute_result"
    }
   ],
   "source": [
    "gamma_beta = calculate_gamma_beta_from_tweedie(my_mu, my_sigma_sq, my_p)\n",
    "gamma_beta"
   ]
  },
  {
   "cell_type": "markdown",
   "id": "5b81c2ac",
   "metadata": {},
   "source": [
    "Note: this is the opposite parametrisation of Gamma. Basically, alpha is same as k, while beta is the reciprocal of theta in the other version. beta is the so-called rate parameter, while theta is called the scale. "
   ]
  },
  {
   "cell_type": "markdown",
   "id": "dc417feb",
   "metadata": {},
   "source": [
    "Let's see if we can do the formulas backwards. "
   ]
  },
  {
   "cell_type": "code",
   "execution_count": 78,
   "id": "dca05675",
   "metadata": {},
   "outputs": [],
   "source": [
    "def calculate_tweedie_p_from_cpg(gamma_alpha):\n",
    "    \n",
    "    p = (gamma_alpha + 2) / (gamma_alpha + 1)\n",
    "    \n",
    "    return p"
   ]
  },
  {
   "cell_type": "code",
   "execution_count": 76,
   "id": "1012c3bd",
   "metadata": {},
   "outputs": [
    {
     "data": {
      "text/plain": [
       "1.5"
      ]
     },
     "execution_count": 76,
     "metadata": {},
     "output_type": "execute_result"
    }
   ],
   "source": [
    "tweedie_p = calculate_tweedie_p_from_cpg(gamma_alpha)\n",
    "tweedie_p"
   ]
  },
  {
   "cell_type": "code",
   "execution_count": 77,
   "id": "a7c0ff35",
   "metadata": {},
   "outputs": [],
   "source": [
    "def calculate_tweedie_mu_from_cpg(poisson_lambda, gamma_alpha, gamma_beta):\n",
    "    \n",
    "    tweedie_p = calculate_tweedie_p_from_cpg(gamma_alpha)\n",
    "    \n",
    "    tweedie_mu = ((2 - tweedie_p) * poisson_lambda) / ((tweedie_p - 1) * gamma_beta)\n",
    "    \n",
    "    return tweedie_mu"
   ]
  },
  {
   "cell_type": "code",
   "execution_count": 79,
   "id": "b677e04b",
   "metadata": {},
   "outputs": [
    {
     "data": {
      "text/plain": [
       "1000.0"
      ]
     },
     "execution_count": 79,
     "metadata": {},
     "output_type": "execute_result"
    }
   ],
   "source": [
    "tweedie_mu = calculate_tweedie_mu_from_cpg(poisson_lambda, gamma_alpha, gamma_beta)\n",
    "tweedie_mu"
   ]
  },
  {
   "cell_type": "code",
   "execution_count": 82,
   "id": "47a4e4ea",
   "metadata": {},
   "outputs": [],
   "source": [
    "def calculate_tweedie_sigma_sq_from_cpg(poisson_lambda, gamma_alpha, gamma_beta):\n",
    "    \n",
    "    tweedie_p = calculate_tweedie_p_from_cpg(gamma_alpha)\n",
    "    \n",
    "    tweedie_mu = calculate_tweedie_mu_from_cpg(poisson_lambda, gamma_alpha, gamma_beta)\n",
    "    \n",
    "    tweedie_sigma_sq = (np.math.pow(tweedie_mu, (2 - tweedie_p))) / ((2 - tweedie_p) * poisson_lambda)\n",
    "    \n",
    "    return tweedie_sigma_sq"
   ]
  },
  {
   "cell_type": "code",
   "execution_count": 83,
   "id": "48dcb9ba",
   "metadata": {},
   "outputs": [
    {
     "data": {
      "text/plain": [
       "20.0"
      ]
     },
     "execution_count": 83,
     "metadata": {},
     "output_type": "execute_result"
    }
   ],
   "source": [
    "tweedie_sigma_sq = calculate_tweedie_sigma_sq_from_cpg(poisson_lambda, gamma_alpha, gamma_beta)\n",
    "tweedie_sigma_sq"
   ]
  },
  {
   "cell_type": "markdown",
   "id": "03713f36",
   "metadata": {},
   "source": [
    "OK, I think we can calculate it back and forwards. \n",
    "\n",
    "A key result is that p depends only on the gamma distribution's shape parameter. "
   ]
  },
  {
   "cell_type": "code",
   "execution_count": null,
   "id": "da3d4447",
   "metadata": {},
   "outputs": [],
   "source": []
  }
 ],
 "metadata": {
  "kernelspec": {
   "display_name": "Python 3 (ipykernel)",
   "language": "python",
   "name": "python3"
  },
  "language_info": {
   "codemirror_mode": {
    "name": "ipython",
    "version": 3
   },
   "file_extension": ".py",
   "mimetype": "text/x-python",
   "name": "python",
   "nbconvert_exporter": "python",
   "pygments_lexer": "ipython3",
   "version": "3.9.12"
  },
  "toc": {
   "base_numbering": 1,
   "nav_menu": {},
   "number_sections": true,
   "sideBar": true,
   "skip_h1_title": false,
   "title_cell": "Table of Contents",
   "title_sidebar": "Contents",
   "toc_cell": false,
   "toc_position": {},
   "toc_section_display": true,
   "toc_window_display": false
  },
  "varInspector": {
   "cols": {
    "lenName": 16,
    "lenType": 16,
    "lenVar": 40
   },
   "kernels_config": {
    "python": {
     "delete_cmd_postfix": "",
     "delete_cmd_prefix": "del ",
     "library": "var_list.py",
     "varRefreshCmd": "print(var_dic_list())"
    },
    "r": {
     "delete_cmd_postfix": ") ",
     "delete_cmd_prefix": "rm(",
     "library": "var_list.r",
     "varRefreshCmd": "cat(var_dic_list()) "
    }
   },
   "types_to_exclude": [
    "module",
    "function",
    "builtin_function_or_method",
    "instance",
    "_Feature"
   ],
   "window_display": false
  }
 },
 "nbformat": 4,
 "nbformat_minor": 5
}
