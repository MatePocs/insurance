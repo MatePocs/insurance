{
 "cells": [
  {
   "cell_type": "markdown",
   "id": "eb06a7fe",
   "metadata": {},
   "source": [
    "Summary: \n",
    "\n",
    "The goal is to create a method that correctly calculates the insurance gini score and also does the plot. \n",
    "\n",
    "I think we will need three items: \n",
    "- get a function that takes in an actual, prediction, and years_at_risk, and creates the table with the points\n",
    "- a function that does the plot from this (which should be simple)\n",
    "- and a function that calculates the score, which is handled with the auc function in sklearn, but I'd like to recalculate myself\n",
    "\n",
    "On the __years_at_risk__ parameter: have to be careful with this. A concrete example I can think of is time exposure. We should obviously arrange things by an annualised prediction. However, I'm not sure if the percentages should be by row or by exposure. For example, if we have 3 predictions, 0.5 yr, 0.5 yr, 1 yr, then does the first point represent 1/3rd of the policies or 1/4th? I think this should be a factor. \n",
    "\n",
    "As of now, I'll simply create an annualised version first, and do everything by those fields. \n",
    "\n",
    "Just to reiterate, the actu and pred are assumed to be non-annualised now!!! "
   ]
  },
  {
   "cell_type": "markdown",
   "id": "05697c37",
   "metadata": {},
   "source": [
    "# Data"
   ]
  },
  {
   "cell_type": "code",
   "execution_count": 3,
   "id": "205e9811",
   "metadata": {},
   "outputs": [],
   "source": [
    "import pandas as pd"
   ]
  },
  {
   "cell_type": "code",
   "execution_count": 4,
   "id": "7e62d007",
   "metadata": {},
   "outputs": [],
   "source": [
    "df_input = pd.DataFrame.from_dict({'actual': [0,0,0,0,0,0,0,100,100,100],\n",
    "                            'prediction': [10,10,10,10,50,50,20,50, 60, 10],\n",
    "                            'years_at_risk': [1,1,1,1,1,1,1,1,1,1]})"
   ]
  },
  {
   "cell_type": "markdown",
   "id": "f9a099a8",
   "metadata": {},
   "source": [
    "# Gini Table"
   ]
  },
  {
   "cell_type": "code",
   "execution_count": 5,
   "id": "accd3a50",
   "metadata": {},
   "outputs": [],
   "source": [
    "def get_gini_table(pred, actu, years_at_risk):\n",
    "    df = pd.DataFrame()\n",
    "    df['pred'] = pred\n",
    "    df['actu'] = actu\n",
    "    df['years_at_risk'] = years_at_risk\n",
    "    df['pred'] = df['pred'] / df['years_at_risk']\n",
    "    \n",
    "    # the next line is debatable. you can make an argument for not annualising the actual claims\n",
    "    # which would mean getting them wrong would not be as big a deal as with other claims...\n",
    "    # it's difficult\n",
    "    df['actu'] = df['actu'] / df['years_at_risk']\n",
    "    \n",
    "    df.drop('years_at_risk', axis = 1, inplace = True)\n",
    "    df.sort_values('pred', inplace = True)\n",
    "    \n",
    "    # change pred and actu so they represent percentages of the total\n",
    "    # pred is simply the order now... although now that I think of it, this also could be by the value\n",
    "    \n",
    "    df['pred'] = np.arange(1, len(df) + 1) / len(df)\n",
    "    df['actu'] = df['actu'].cumsum() / df['actu'].sum()\n",
    "    \n",
    "    # also add a 0-0 point pair, we will need that for the score and the plot as well\n",
    "    \n",
    "    df = pd.concat([pd.DataFrame.from_dict({'pred': [0], 'actu': [0]}), df])\n",
    "    \n",
    "    return df"
   ]
  },
  {
   "cell_type": "code",
   "execution_count": 6,
   "id": "7138c086",
   "metadata": {},
   "outputs": [],
   "source": [
    "df = get_gini_table(df_input['prediction'], df_input['actual'], df_input['years_at_risk'])"
   ]
  },
  {
   "cell_type": "code",
   "execution_count": 7,
   "id": "11481f55",
   "metadata": {},
   "outputs": [
    {
     "data": {
      "text/html": [
       "<div>\n",
       "<style scoped>\n",
       "    .dataframe tbody tr th:only-of-type {\n",
       "        vertical-align: middle;\n",
       "    }\n",
       "\n",
       "    .dataframe tbody tr th {\n",
       "        vertical-align: top;\n",
       "    }\n",
       "\n",
       "    .dataframe thead th {\n",
       "        text-align: right;\n",
       "    }\n",
       "</style>\n",
       "<table border=\"1\" class=\"dataframe\">\n",
       "  <thead>\n",
       "    <tr style=\"text-align: right;\">\n",
       "      <th></th>\n",
       "      <th>pred</th>\n",
       "      <th>actu</th>\n",
       "    </tr>\n",
       "  </thead>\n",
       "  <tbody>\n",
       "    <tr>\n",
       "      <th>0</th>\n",
       "      <td>0.0</td>\n",
       "      <td>0.000000</td>\n",
       "    </tr>\n",
       "    <tr>\n",
       "      <th>0</th>\n",
       "      <td>0.1</td>\n",
       "      <td>0.000000</td>\n",
       "    </tr>\n",
       "    <tr>\n",
       "      <th>1</th>\n",
       "      <td>0.2</td>\n",
       "      <td>0.000000</td>\n",
       "    </tr>\n",
       "    <tr>\n",
       "      <th>2</th>\n",
       "      <td>0.3</td>\n",
       "      <td>0.000000</td>\n",
       "    </tr>\n",
       "    <tr>\n",
       "      <th>3</th>\n",
       "      <td>0.4</td>\n",
       "      <td>0.000000</td>\n",
       "    </tr>\n",
       "    <tr>\n",
       "      <th>9</th>\n",
       "      <td>0.5</td>\n",
       "      <td>0.333333</td>\n",
       "    </tr>\n",
       "    <tr>\n",
       "      <th>6</th>\n",
       "      <td>0.6</td>\n",
       "      <td>0.333333</td>\n",
       "    </tr>\n",
       "    <tr>\n",
       "      <th>4</th>\n",
       "      <td>0.7</td>\n",
       "      <td>0.333333</td>\n",
       "    </tr>\n",
       "    <tr>\n",
       "      <th>5</th>\n",
       "      <td>0.8</td>\n",
       "      <td>0.333333</td>\n",
       "    </tr>\n",
       "    <tr>\n",
       "      <th>7</th>\n",
       "      <td>0.9</td>\n",
       "      <td>0.666667</td>\n",
       "    </tr>\n",
       "    <tr>\n",
       "      <th>8</th>\n",
       "      <td>1.0</td>\n",
       "      <td>1.000000</td>\n",
       "    </tr>\n",
       "  </tbody>\n",
       "</table>\n",
       "</div>"
      ],
      "text/plain": [
       "   pred      actu\n",
       "0   0.0  0.000000\n",
       "0   0.1  0.000000\n",
       "1   0.2  0.000000\n",
       "2   0.3  0.000000\n",
       "3   0.4  0.000000\n",
       "9   0.5  0.333333\n",
       "6   0.6  0.333333\n",
       "4   0.7  0.333333\n",
       "5   0.8  0.333333\n",
       "7   0.9  0.666667\n",
       "8   1.0  1.000000"
      ]
     },
     "execution_count": 7,
     "metadata": {},
     "output_type": "execute_result"
    }
   ],
   "source": [
    "df"
   ]
  },
  {
   "cell_type": "code",
   "execution_count": null,
   "id": "6150ba21",
   "metadata": {},
   "outputs": [],
   "source": []
  },
  {
   "cell_type": "markdown",
   "id": "6e32d6cb",
   "metadata": {},
   "source": [
    "# Score"
   ]
  },
  {
   "cell_type": "markdown",
   "id": "c6e3cfc5",
   "metadata": {},
   "source": [
    "Assuming we have a Gini table in the proper format, what we need is the area under the curve. And then maybe something like 1 - 2 * area. "
   ]
  },
  {
   "cell_type": "code",
   "execution_count": 8,
   "id": "a4fbd40a",
   "metadata": {},
   "outputs": [],
   "source": [
    "def get_area_under_curve(x, y):\n",
    "    # x is the prediction, y is the actual\n",
    "    df = pd.DataFrame.from_dict({'x': x, 'y': y})\n",
    "    df['x_incr'] = df['x'].diff()\n",
    "    df['y_incr'] = df['y'].diff()\n",
    "    df['area_under_curve'] = (df['x_incr'] * df['y_incr'] / 2) + \\\n",
    "    (df['y'] - df['y_incr']) * df['x_incr']\n",
    "    \n",
    "    return np.sum(df['area_under_curve'])"
   ]
  },
  {
   "cell_type": "code",
   "execution_count": 9,
   "id": "108bfc95",
   "metadata": {},
   "outputs": [
    {
     "data": {
      "text/plain": [
       "0.24999999999999997"
      ]
     },
     "execution_count": 9,
     "metadata": {},
     "output_type": "execute_result"
    }
   ],
   "source": [
    "get_area_under_curve(df['pred'], df['actu'])"
   ]
  },
  {
   "cell_type": "code",
   "execution_count": 10,
   "id": "f2b69ee1",
   "metadata": {},
   "outputs": [
    {
     "data": {
      "text/plain": [
       "0.24999999999999994"
      ]
     },
     "execution_count": 10,
     "metadata": {},
     "output_type": "execute_result"
    }
   ],
   "source": [
    "# let's check against sklearn score...\n",
    "from sklearn.metrics import auc\n",
    "auc(df['pred'], df['actu'])"
   ]
  },
  {
   "cell_type": "markdown",
   "id": "f1c001dd",
   "metadata": {},
   "source": [
    "With the gini score, what we need is basically the portion this area under the curve takes against the lower half of a chart, the size of which is 0.5. \n",
    "\n",
    "I am going to keep the getting table bit separate, because we will need that for the plot as well..."
   ]
  },
  {
   "cell_type": "code",
   "execution_count": 11,
   "id": "5e617891",
   "metadata": {},
   "outputs": [],
   "source": [
    "def get_gini_score(gini_table):\n",
    "    \n",
    "    area_under_curve = get_area_under_curve(gini_table['pred'], gini_table['actu'])\n",
    "    \n",
    "    return 1 - area_under_curve / 0.5"
   ]
  },
  {
   "cell_type": "code",
   "execution_count": 12,
   "id": "572c0481",
   "metadata": {},
   "outputs": [
    {
     "data": {
      "text/plain": [
       "0.5"
      ]
     },
     "execution_count": 12,
     "metadata": {},
     "output_type": "execute_result"
    }
   ],
   "source": [
    "get_gini_score(df)"
   ]
  },
  {
   "cell_type": "code",
   "execution_count": null,
   "id": "e52c3e4d",
   "metadata": {},
   "outputs": [],
   "source": []
  }
 ],
 "metadata": {
  "kernelspec": {
   "display_name": "Python 3 (ipykernel)",
   "language": "python",
   "name": "python3"
  },
  "language_info": {
   "codemirror_mode": {
    "name": "ipython",
    "version": 3
   },
   "file_extension": ".py",
   "mimetype": "text/x-python",
   "name": "python",
   "nbconvert_exporter": "python",
   "pygments_lexer": "ipython3",
   "version": "3.9.12"
  },
  "toc": {
   "base_numbering": 1,
   "nav_menu": {},
   "number_sections": true,
   "sideBar": true,
   "skip_h1_title": false,
   "title_cell": "Table of Contents",
   "title_sidebar": "Contents",
   "toc_cell": false,
   "toc_position": {},
   "toc_section_display": true,
   "toc_window_display": false
  },
  "varInspector": {
   "cols": {
    "lenName": 16,
    "lenType": 16,
    "lenVar": 40
   },
   "kernels_config": {
    "python": {
     "delete_cmd_postfix": "",
     "delete_cmd_prefix": "del ",
     "library": "var_list.py",
     "varRefreshCmd": "print(var_dic_list())"
    },
    "r": {
     "delete_cmd_postfix": ") ",
     "delete_cmd_prefix": "rm(",
     "library": "var_list.r",
     "varRefreshCmd": "cat(var_dic_list()) "
    }
   },
   "types_to_exclude": [
    "module",
    "function",
    "builtin_function_or_method",
    "instance",
    "_Feature"
   ],
   "window_display": false
  }
 },
 "nbformat": 4,
 "nbformat_minor": 5
}
